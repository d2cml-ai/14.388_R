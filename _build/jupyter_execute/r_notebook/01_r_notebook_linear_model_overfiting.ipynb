{
 "cells": [
  {
   "cell_type": "markdown",
   "metadata": {
    "_execution_state": "idle",
    "_uuid": "051d70d956493feee0c6d64651c6a088724dca2a",
    "id": "7ARwcCl1-XMk",
    "papermill": {
     "duration": 0.005457,
     "end_time": "2021-02-10T13:42:51.332609",
     "exception": false,
     "start_time": "2021-02-10T13:42:51.327152",
     "status": "completed"
    },
    "tags": []
   },
   "source": [
    "# Linear Model Overfiting"
   ]
  },
  {
   "cell_type": "markdown",
   "metadata": {
    "id": "Ay2b-qcn-XMn",
    "papermill": {
     "duration": 0.004206,
     "end_time": "2021-02-10T13:42:51.341392",
     "exception": false,
     "start_time": "2021-02-10T13:42:51.337186",
     "status": "completed"
    },
    "tags": []
   },
   "source": [
    "## First set p=n"
   ]
  },
  {
   "cell_type": "code",
   "execution_count": 1,
   "metadata": {
    "colab": {
     "base_uri": "https://localhost:8080/"
    },
    "executionInfo": {
     "elapsed": 4467,
     "status": "ok",
     "timestamp": 1658243769316,
     "user": {
      "displayName": "Jhon Kevin Flores Rojas",
      "userId": "10267608749788811245"
     },
     "user_tz": 300
    },
    "id": "Z2v8MGOa-XMp",
    "outputId": "e48b3209-9e59-4278-c91d-b3cb3091a152",
    "papermill": {
     "duration": 0.998738,
     "end_time": "2021-02-10T13:42:52.344388",
     "exception": false,
     "start_time": "2021-02-10T13:42:51.345650",
     "status": "completed"
    },
    "tags": [],
    "vscode": {
     "languageId": "r"
    }
   },
   "outputs": [
    {
     "name": "stdout",
     "output_type": "stream",
     "text": [
      "- p/n is:  1 \n",
      "- R2 is:  1 \n",
      "- Adjusted r2 is:  NaN"
     ]
    }
   ],
   "source": [
    "install.packages(\n",
    "    \"librarian\"\n",
    "    , quiet = T) # package installation and management\n",
    "librarian::shelf(\n",
    "    tidyverse, broom, glue\n",
    "    , quiet = T)\n",
    "set.seed(123)\n",
    "n = 1000\n",
    "\n",
    "p = n\n",
    "X <- matrix(rnorm(n*p), n, p)\n",
    "Y <- rnorm(n)\n",
    "\n",
    "mdl_0 <- lm(Y ~ X)\n",
    "\n",
    "\n",
    "cat(\n",
    "  \"- p/n is: \" , p/n\n",
    "  , \"\\n- R2 is: \", summary(mdl_0)$r.squared\n",
    "  , \"\\n- Adjusted r2 is: \", summary(mdl_0)$adj.r.squared\n",
    ")"
   ]
  },
  {
   "cell_type": "code",
   "execution_count": 2,
   "metadata": {
    "colab": {
     "base_uri": "https://localhost:8080/",
     "height": 443
    },
    "executionInfo": {
     "elapsed": 19,
     "status": "ok",
     "timestamp": 1658243476731,
     "user": {
      "displayName": "Jhon Kevin Flores Rojas",
      "userId": "10267608749788811245"
     },
     "user_tz": 300
    },
    "id": "7eyfKQGx-XMu",
    "outputId": "654f0d69-62e7-40fe-8183-681b15419905",
    "vscode": {
     "languageId": "r"
    }
   },
   "outputs": [
    {
     "data": {
      "text/html": [
       "<table class=\"dataframe\">\n",
       "<caption>A tibble: 11 × 5</caption>\n",
       "<thead>\n",
       "\t<tr><th scope=col>term</th><th scope=col>estimate</th><th scope=col>std.error</th><th scope=col>statistic</th><th scope=col>p.value</th></tr>\n",
       "\t<tr><th scope=col>&lt;chr&gt;</th><th scope=col>&lt;dbl&gt;</th><th scope=col>&lt;dbl&gt;</th><th scope=col>&lt;dbl&gt;</th><th scope=col>&lt;dbl&gt;</th></tr>\n",
       "</thead>\n",
       "<tbody>\n",
       "\t<tr><td>(Intercept)</td><td> 0.008655314</td><td>NaN</td><td>NaN</td><td>NaN</td></tr>\n",
       "\t<tr><td>X1         </td><td> 0.209114583</td><td>NaN</td><td>NaN</td><td>NaN</td></tr>\n",
       "\t<tr><td>X2         </td><td> 1.132843246</td><td>NaN</td><td>NaN</td><td>NaN</td></tr>\n",
       "\t<tr><td>X3         </td><td>-0.165922653</td><td>NaN</td><td>NaN</td><td>NaN</td></tr>\n",
       "\t<tr><td>X4         </td><td> 0.342487380</td><td>NaN</td><td>NaN</td><td>NaN</td></tr>\n",
       "\t<tr><td>X994       </td><td>-1.015520198</td><td>NaN</td><td>NaN</td><td>NaN</td></tr>\n",
       "\t<tr><td>X995       </td><td>-1.709652513</td><td>NaN</td><td>NaN</td><td>NaN</td></tr>\n",
       "\t<tr><td>X996       </td><td> 2.107076237</td><td>NaN</td><td>NaN</td><td>NaN</td></tr>\n",
       "\t<tr><td>X997       </td><td> 1.250854062</td><td>NaN</td><td>NaN</td><td>NaN</td></tr>\n",
       "\t<tr><td>X998       </td><td> 1.513957764</td><td>NaN</td><td>NaN</td><td>NaN</td></tr>\n",
       "\t<tr><td>X999       </td><td> 0.800422182</td><td>NaN</td><td>NaN</td><td>NaN</td></tr>\n",
       "</tbody>\n",
       "</table>\n"
      ],
      "text/latex": [
       "A tibble: 11 × 5\n",
       "\\begin{tabular}{lllll}\n",
       " term & estimate & std.error & statistic & p.value\\\\\n",
       " <chr> & <dbl> & <dbl> & <dbl> & <dbl>\\\\\n",
       "\\hline\n",
       "\t (Intercept) &  0.008655314 & NaN & NaN & NaN\\\\\n",
       "\t X1          &  0.209114583 & NaN & NaN & NaN\\\\\n",
       "\t X2          &  1.132843246 & NaN & NaN & NaN\\\\\n",
       "\t X3          & -0.165922653 & NaN & NaN & NaN\\\\\n",
       "\t X4          &  0.342487380 & NaN & NaN & NaN\\\\\n",
       "\t X994        & -1.015520198 & NaN & NaN & NaN\\\\\n",
       "\t X995        & -1.709652513 & NaN & NaN & NaN\\\\\n",
       "\t X996        &  2.107076237 & NaN & NaN & NaN\\\\\n",
       "\t X997        &  1.250854062 & NaN & NaN & NaN\\\\\n",
       "\t X998        &  1.513957764 & NaN & NaN & NaN\\\\\n",
       "\t X999        &  0.800422182 & NaN & NaN & NaN\\\\\n",
       "\\end{tabular}\n"
      ],
      "text/markdown": [
       "\n",
       "A tibble: 11 × 5\n",
       "\n",
       "| term &lt;chr&gt; | estimate &lt;dbl&gt; | std.error &lt;dbl&gt; | statistic &lt;dbl&gt; | p.value &lt;dbl&gt; |\n",
       "|---|---|---|---|---|\n",
       "| (Intercept) |  0.008655314 | NaN | NaN | NaN |\n",
       "| X1          |  0.209114583 | NaN | NaN | NaN |\n",
       "| X2          |  1.132843246 | NaN | NaN | NaN |\n",
       "| X3          | -0.165922653 | NaN | NaN | NaN |\n",
       "| X4          |  0.342487380 | NaN | NaN | NaN |\n",
       "| X994        | -1.015520198 | NaN | NaN | NaN |\n",
       "| X995        | -1.709652513 | NaN | NaN | NaN |\n",
       "| X996        |  2.107076237 | NaN | NaN | NaN |\n",
       "| X997        |  1.250854062 | NaN | NaN | NaN |\n",
       "| X998        |  1.513957764 | NaN | NaN | NaN |\n",
       "| X999        |  0.800422182 | NaN | NaN | NaN |\n",
       "\n"
      ],
      "text/plain": [
       "   term        estimate     std.error statistic p.value\n",
       "1  (Intercept)  0.008655314 NaN       NaN       NaN    \n",
       "2  X1           0.209114583 NaN       NaN       NaN    \n",
       "3  X2           1.132843246 NaN       NaN       NaN    \n",
       "4  X3          -0.165922653 NaN       NaN       NaN    \n",
       "5  X4           0.342487380 NaN       NaN       NaN    \n",
       "6  X994        -1.015520198 NaN       NaN       NaN    \n",
       "7  X995        -1.709652513 NaN       NaN       NaN    \n",
       "8  X996         2.107076237 NaN       NaN       NaN    \n",
       "9  X997         1.250854062 NaN       NaN       NaN    \n",
       "10 X998         1.513957764 NaN       NaN       NaN    \n",
       "11 X999         0.800422182 NaN       NaN       NaN    "
      ]
     },
     "metadata": {},
     "output_type": "display_data"
    }
   ],
   "source": [
    "broom::tidy(mdl_0) |> \n",
    "  slice(1:5, 995:1000)"
   ]
  },
  {
   "cell_type": "markdown",
   "metadata": {
    "id": "Hu5hT1n1-XMv",
    "papermill": {
     "duration": 0.01172,
     "end_time": "2021-02-10T13:42:52.368270",
     "exception": false,
     "start_time": "2021-02-10T13:42:52.356550",
     "status": "completed"
    },
    "tags": []
   },
   "source": [
    "## Second, set p=n/2."
   ]
  },
  {
   "cell_type": "code",
   "execution_count": 3,
   "metadata": {
    "colab": {
     "base_uri": "https://localhost:8080/"
    },
    "executionInfo": {
     "elapsed": 266,
     "status": "ok",
     "timestamp": 1658243321264,
     "user": {
      "displayName": "Jhon Kevin Flores Rojas",
      "userId": "10267608749788811245"
     },
     "user_tz": 300
    },
    "id": "Gf3GSAFG-XMw",
    "lines_to_next_cell": 2,
    "outputId": "7823063d-d5c5-47eb-83f1-7fac7c0860ec",
    "papermill": {
     "duration": 0.44549,
     "end_time": "2021-02-10T13:42:52.825350",
     "exception": false,
     "start_time": "2021-02-10T13:42:52.379860",
     "status": "completed"
    },
    "tags": [],
    "vscode": {
     "languageId": "r"
    }
   },
   "outputs": [
    {
     "name": "stdout",
     "output_type": "stream",
     "text": [
      "- p/n is:  0.5 \n",
      "- R2 is:  0.4922339 \n",
      "- Adjusted r2 is:  -0.01654975"
     ]
    }
   ],
   "source": [
    "\n",
    "set.seed(123)\n",
    "n = 1000\n",
    "\n",
    "p = n/2\n",
    "X <- matrix(rnorm(n*p), n, p)\n",
    "Y <- rnorm(n)\n",
    "\n",
    "mdl_1 <- lm(Y ~ X)\n",
    "\n",
    "\n",
    "cat(\n",
    "  \"- p/n is: \" , p/n\n",
    "  , \"\\n- R2 is: \", summary(mdl_1)$r.squared\n",
    "  , \"\\n- Adjusted r2 is: \", summary(mdl_1)$adj.r.squared\n",
    ")"
   ]
  },
  {
   "cell_type": "markdown",
   "metadata": {
    "id": "oDwHtIKr-XM0",
    "papermill": {
     "duration": 0.014033,
     "end_time": "2021-02-10T13:42:52.853906",
     "exception": false,
     "start_time": "2021-02-10T13:42:52.839873",
     "status": "completed"
    },
    "tags": []
   },
   "source": [
    "## Third, set p/n =.05"
   ]
  },
  {
   "cell_type": "code",
   "execution_count": 4,
   "metadata": {
    "colab": {
     "base_uri": "https://localhost:8080/"
    },
    "executionInfo": {
     "elapsed": 5,
     "status": "ok",
     "timestamp": 1658243367308,
     "user": {
      "displayName": "Jhon Kevin Flores Rojas",
      "userId": "10267608749788811245"
     },
     "user_tz": 300
    },
    "id": "7lIdSiO6-XM2",
    "outputId": "f3494f8b-9a37-4573-bc14-fbcba42ee1df",
    "papermill": {
     "duration": 0.103451,
     "end_time": "2021-02-10T13:42:52.971828",
     "exception": false,
     "start_time": "2021-02-10T13:42:52.868377",
     "status": "completed"
    },
    "tags": [],
    "vscode": {
     "languageId": "r"
    }
   },
   "outputs": [
    {
     "name": "stdout",
     "output_type": "stream",
     "text": [
      "- p/n is:  0.05 \n",
      "- R2 is:  0.4922339 \n",
      "- Adjusted r2 is:  -0.01654975"
     ]
    }
   ],
   "source": [
    "\n",
    "set.seed(123)\n",
    "n = 1000\n",
    "\n",
    "p = .05*n\n",
    "X <- matrix(rnorm(n*p), n, p)\n",
    "Y <- rnorm(n)\n",
    "\n",
    "mld_2 <- lm(Y ~ X)\n",
    "\n",
    "cat(\n",
    "  \"- p/n is: \" , p/n\n",
    "  , \"\\n- R2 is: \", summary(mdl_1)$r.squared\n",
    "  , \"\\n- Adjusted r2 is: \", summary(mdl_1)$adj.r.squared\n",
    ")\n"
   ]
  }
 ],
 "metadata": {
  "colab": {
   "collapsed_sections": [],
   "name": "01_r-notebook-linear-model-overfiting.ipynb",
   "provenance": []
  },
  "jupytext": {
   "formats": "ipynb,R:light"
  },
  "kernelspec": {
   "display_name": "R",
   "language": "R",
   "name": "ir"
  },
  "language_info": {
   "codemirror_mode": "r",
   "file_extension": ".r",
   "mimetype": "text/x-r-source",
   "name": "R",
   "pygments_lexer": "r",
   "version": "4.2.0"
  },
  "papermill": {
   "default_parameters": {},
   "duration": 4.940504,
   "end_time": "2021-02-10T13:42:53.102123",
   "environment_variables": {},
   "exception": null,
   "input_path": "__notebook__.ipynb",
   "output_path": "__notebook__.ipynb",
   "parameters": {},
   "start_time": "2021-02-10T13:42:48.161619",
   "version": "2.2.2"
  }
 },
 "nbformat": 4,
 "nbformat_minor": 4
}