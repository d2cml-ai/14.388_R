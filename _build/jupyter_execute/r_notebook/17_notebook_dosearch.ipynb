{
 "cells": [
  {
   "cell_type": "markdown",
   "metadata": {
    "id": "hFgK8myje3KQ",
    "papermill": {
     "duration": 0.012399,
     "end_time": "2021-04-05T17:55:52.635137",
     "exception": false,
     "start_time": "2021-04-05T17:55:52.622738",
     "status": "completed"
    },
    "tags": []
   },
   "source": [
    "# Notebook-Dosearch\n",
    "\n",
    "\n",
    "This a simple notebook for teaching that illustrates capabilites of the \"dosearch\" package, which is a great tool. \n",
    "\n",
    "NB. In my experience, the commands are sensitive to syntax ( e.g. spacing when -> are used), so be careful when changing to other examples."
   ]
  },
  {
   "cell_type": "code",
   "execution_count": 1,
   "metadata": {
    "_cell_guid": "b1076dfc-b9ad-4769-8c92-a6c4dae69d19",
    "_uuid": "8f2839f25d086af736a60e9eeb907d3b93b6e0e5",
    "colab": {
     "base_uri": "https://localhost:8080/"
    },
    "execution": {
     "iopub.execute_input": "2021-04-05T17:55:52.692660Z",
     "iopub.status.busy": "2021-04-05T17:55:52.690318Z",
     "iopub.status.idle": "2021-04-05T17:56:54.163526Z",
     "shell.execute_reply": "2021-04-05T17:56:54.162493Z"
    },
    "executionInfo": {
     "elapsed": 66161,
     "status": "ok",
     "timestamp": 1658251494164,
     "user": {
      "displayName": "Jhon Kevin Flores Rojas",
      "userId": "10267608749788811245"
     },
     "user_tz": 300
    },
    "id": "NBoAp0Ewe3KY",
    "outputId": "46e59fd8-9bbd-422b-e4a0-932e63312417",
    "papermill": {
     "duration": 61.517411,
     "end_time": "2021-04-05T17:56:54.163802",
     "exception": false,
     "start_time": "2021-04-05T17:55:52.646391",
     "status": "completed"
    },
    "tags": [],
    "vscode": {
     "languageId": "r"
    }
   },
   "outputs": [
    {
     "name": "stderr",
     "output_type": "stream",
     "text": [
      "\n",
      "  These packages will be installed:\n",
      "\n",
      "  'dosearch'\n",
      "\n",
      "  It may take some time.\n",
      "\n"
     ]
    }
   ],
   "source": [
    "install.packages(\"librarian\", quiet = T)\n",
    "\n",
    "librarian::shelf(\n",
    "  dosearch, \n",
    "  quiet = T\n",
    ")"
   ]
  },
  {
   "cell_type": "markdown",
   "metadata": {
    "id": "GEMv6OYDe3Ke",
    "papermill": {
     "duration": 0.012155,
     "end_time": "2021-04-05T17:56:54.189437",
     "exception": false,
     "start_time": "2021-04-05T17:56:54.177282",
     "status": "completed"
    },
    "tags": []
   },
   "source": [
    "We start with the simplest graph, with the simplest example\n",
    "where $D$ is policy, $Y$ is outcomes, $X$ is a confounder:\n",
    "\n",
    "$$\n",
    "D\\to Y, \\quad X \\to (D,Y)\n",
    "$$\n"
   ]
  },
  {
   "cell_type": "markdown",
   "metadata": {
    "id": "8zeAgUQWe3Kg",
    "papermill": {
     "duration": 0.013694,
     "end_time": "2021-04-05T17:56:54.215310",
     "exception": false,
     "start_time": "2021-04-05T17:56:54.201616",
     "status": "completed"
    },
    "tags": []
   },
   "source": [
    "Now suppose we want conditional average policy effect."
   ]
  },
  {
   "cell_type": "code",
   "execution_count": 2,
   "metadata": {
    "colab": {
     "base_uri": "https://localhost:8080/",
     "height": 34
    },
    "execution": {
     "iopub.execute_input": "2021-04-05T17:56:54.401112Z",
     "iopub.status.busy": "2021-04-05T17:56:54.243199Z",
     "iopub.status.idle": "2021-04-05T17:56:54.428953Z",
     "shell.execute_reply": "2021-04-05T17:56:54.427222Z"
    },
    "executionInfo": {
     "elapsed": 44,
     "status": "ok",
     "timestamp": 1658251494167,
     "user": {
      "displayName": "Jhon Kevin Flores Rojas",
      "userId": "10267608749788811245"
     },
     "user_tz": 300
    },
    "id": "VaFPSvQoe3Ki",
    "outputId": "7f0e6904-d1f3-4e3a-d000-fdc4d4350b64",
    "papermill": {
     "duration": 0.202016,
     "end_time": "2021-04-05T17:56:54.429124",
     "exception": false,
     "start_time": "2021-04-05T17:56:54.227108",
     "status": "completed"
    },
    "tags": [],
    "vscode": {
     "languageId": "r"
    }
   },
   "outputs": [
    {
     "data": {
      "text/plain": [
       "p(y|d,x) "
      ]
     },
     "metadata": {},
     "output_type": "display_data"
    }
   ],
   "source": [
    "data <- \"p(y,d,x)\"  #data structure\n",
    "\n",
    "query <- \"p(y | do(d),x)\" #query -- target parameter\n",
    "\n",
    "graph <- \"x -> y\n",
    "  x -> d \n",
    "  d -> y\"\n",
    "\n",
    "dosearch(data, query, graph)"
   ]
  },
  {
   "cell_type": "markdown",
   "metadata": {
    "id": "e8nMKpa7e3Kk",
    "papermill": {
     "duration": 0.012715,
     "end_time": "2021-04-05T17:56:54.454351",
     "exception": false,
     "start_time": "2021-04-05T17:56:54.441636",
     "status": "completed"
    },
    "tags": []
   },
   "source": [
    "This recovers the correct identification formula for law of the counterfactual $Y(d)$ induced by $do(D=d)$:\n",
    "\n",
    "$$\n",
    "p_{Y(d)|X}(y|x) := p(y|do(d),x) = p(y|d,x).\n",
    "$$"
   ]
  },
  {
   "cell_type": "code",
   "execution_count": 3,
   "metadata": {
    "colab": {
     "base_uri": "https://localhost:8080/",
     "height": 34
    },
    "execution": {
     "iopub.execute_input": "2021-04-05T17:56:54.485787Z",
     "iopub.status.busy": "2021-04-05T17:56:54.483933Z",
     "iopub.status.idle": "2021-04-05T17:56:54.510122Z",
     "shell.execute_reply": "2021-04-05T17:56:54.508719Z"
    },
    "executionInfo": {
     "elapsed": 45,
     "status": "ok",
     "timestamp": 1658251494171,
     "user": {
      "displayName": "Jhon Kevin Flores Rojas",
      "userId": "10267608749788811245"
     },
     "user_tz": 300
    },
    "id": "vdLIMPHNe3Km",
    "outputId": "e334a59c-9889-4192-dcf7-fd1701649c1c",
    "papermill": {
     "duration": 0.043133,
     "end_time": "2021-04-05T17:56:54.510274",
     "exception": false,
     "start_time": "2021-04-05T17:56:54.467141",
     "status": "completed"
    },
    "tags": [],
    "vscode": {
     "languageId": "r"
    }
   },
   "outputs": [
    {
     "data": {
      "text/plain": [
       "\\sum_{x}\\left(p(x)p(y|d,x)\\right) "
      ]
     },
     "metadata": {},
     "output_type": "display_data"
    }
   ],
   "source": [
    "data <- \"p(y,d,x)\"\n",
    "\n",
    "query <- \"p(y | do(d))\"\n",
    "\n",
    "graph <- \"x -> y\n",
    "  x -> d \n",
    "  d -> y\"\n",
    "\n",
    "\n",
    "dosearch(data, query, graph)\n"
   ]
  },
  {
   "cell_type": "markdown",
   "metadata": {
    "id": "pcgnl69me3Ko",
    "papermill": {
     "duration": 0.01273,
     "end_time": "2021-04-05T17:56:54.535701",
     "exception": false,
     "start_time": "2021-04-05T17:56:54.522971",
     "status": "completed"
    },
    "tags": []
   },
   "source": [
    "This recovers the correct identification formula:\n",
    "\n",
    "$$\n",
    "p_{Y(d)}(y) := p(y: do(d)) = \\sum_{x}\\left(p(x)p(y|d,x)\\right) \n",
    "$$\n",
    "\n",
    "We integreate out $x$ in the previous formula.\n"
   ]
  },
  {
   "cell_type": "markdown",
   "metadata": {
    "id": "-8ohSmKve3Ko",
    "papermill": {
     "duration": 0.013627,
     "end_time": "2021-04-05T17:56:54.562271",
     "exception": false,
     "start_time": "2021-04-05T17:56:54.548644",
     "status": "completed"
    },
    "tags": []
   },
   "source": [
    "Suppose we don't observe the confounder. The effect is generally not identified.\n"
   ]
  },
  {
   "cell_type": "code",
   "execution_count": 4,
   "metadata": {
    "colab": {
     "base_uri": "https://localhost:8080/",
     "height": 34
    },
    "execution": {
     "iopub.execute_input": "2021-04-05T17:56:54.594434Z",
     "iopub.status.busy": "2021-04-05T17:56:54.592595Z",
     "iopub.status.idle": "2021-04-05T17:56:54.621399Z",
     "shell.execute_reply": "2021-04-05T17:56:54.619629Z"
    },
    "executionInfo": {
     "elapsed": 43,
     "status": "ok",
     "timestamp": 1658251494173,
     "user": {
      "displayName": "Jhon Kevin Flores Rojas",
      "userId": "10267608749788811245"
     },
     "user_tz": 300
    },
    "id": "AoAD7ofXe3Kq",
    "outputId": "b576918f-a699-4d16-c46e-e7f8a63d4a58",
    "papermill": {
     "duration": 0.046266,
     "end_time": "2021-04-05T17:56:54.621562",
     "exception": false,
     "start_time": "2021-04-05T17:56:54.575296",
     "status": "completed"
    },
    "tags": [],
    "vscode": {
     "languageId": "r"
    }
   },
   "outputs": [
    {
     "data": {
      "text/plain": [
       "The query p(y | do(d)) is non-identifiable. "
      ]
     },
     "metadata": {},
     "output_type": "display_data"
    }
   ],
   "source": [
    "\n",
    "data <- \"p(y,d)\"\n",
    "\n",
    "query <- \"p(y | do(d))\"\n",
    "\n",
    "graph <- \"x -> y\n",
    "  x -> d \n",
    "  d -> y\"\n",
    "\n",
    "dosearch(data, query, graph)\n"
   ]
  },
  {
   "cell_type": "markdown",
   "metadata": {
    "id": "zD0bwa9Ye3Kr",
    "papermill": {
     "duration": 0.013931,
     "end_time": "2021-04-05T17:56:54.649609",
     "exception": false,
     "start_time": "2021-04-05T17:56:54.635678",
     "status": "completed"
    },
    "tags": []
   },
   "source": [
    "The next graph is an example of J. Pearl (different notation), where the graph is considerably more complicated. We are interested in $D \\to Y$.\n",
    "\n",
    "\n",
    "\n",
    "Here we try conditioning on $X_2$. This would block one backdoor path from $D$ to $Y$, but would open another path on which $X_2$ is a collider, so this shouldn't work. The application below gave a correct answer (after I put the spacings carefully).\n"
   ]
  },
  {
   "cell_type": "code",
   "execution_count": 5,
   "metadata": {
    "colab": {
     "base_uri": "https://localhost:8080/",
     "height": 34
    },
    "execution": {
     "iopub.execute_input": "2021-04-05T17:56:54.683908Z",
     "iopub.status.busy": "2021-04-05T17:56:54.681818Z",
     "iopub.status.idle": "2021-04-05T17:56:54.800030Z",
     "shell.execute_reply": "2021-04-05T17:56:54.798354Z"
    },
    "executionInfo": {
     "elapsed": 43,
     "status": "ok",
     "timestamp": 1658251494175,
     "user": {
      "displayName": "Jhon Kevin Flores Rojas",
      "userId": "10267608749788811245"
     },
     "user_tz": 300
    },
    "id": "PYJExTUbe3Kt",
    "outputId": "be22a062-1cef-4a83-e6d9-3179d0a74aa3",
    "papermill": {
     "duration": 0.136442,
     "end_time": "2021-04-05T17:56:54.800269",
     "exception": false,
     "start_time": "2021-04-05T17:56:54.663827",
     "status": "completed"
    },
    "tags": [],
    "vscode": {
     "languageId": "r"
    }
   },
   "outputs": [
    {
     "data": {
      "text/plain": [
       "The query p(y|do(d)) is non-identifiable. "
      ]
     },
     "metadata": {},
     "output_type": "display_data"
    }
   ],
   "source": [
    "\n",
    "data <- \"p(y,d,x2)\"   #observed only (Y, D, X_2)\n",
    "\n",
    "query<- \"p(y|do(d))\"   #target parameter\n",
    "\n",
    "graph<- \"z1 -> x1\n",
    "z1 -> x2\n",
    "z2 -> x2\n",
    "z2 -> x3\n",
    "x2 -> d\n",
    "x2 -> y\n",
    "x3 -> y\n",
    "x1 -> d\n",
    "d -> m\n",
    "m -> y\n",
    "\"\n",
    "\n",
    "dosearch(data, query, graph)\n"
   ]
  },
  {
   "cell_type": "markdown",
   "metadata": {
    "id": "0v8ON2lTe3Kw",
    "papermill": {
     "duration": 0.013831,
     "end_time": "2021-04-05T17:56:54.828405",
     "exception": false,
     "start_time": "2021-04-05T17:56:54.814574",
     "status": "completed"
    },
    "tags": []
   },
   "source": [
    "Intuitively, we should add more common causes. For example, adding $X_3$ and using $S = (X_2, X_3)$ should work."
   ]
  },
  {
   "cell_type": "code",
   "execution_count": 6,
   "metadata": {
    "colab": {
     "base_uri": "https://localhost:8080/"
    },
    "execution": {
     "iopub.execute_input": "2021-04-05T17:56:54.862541Z",
     "iopub.status.busy": "2021-04-05T17:56:54.860637Z",
     "iopub.status.idle": "2021-04-05T17:56:55.081561Z",
     "shell.execute_reply": "2021-04-05T17:56:55.079917Z"
    },
    "executionInfo": {
     "elapsed": 360,
     "status": "ok",
     "timestamp": 1658251494494,
     "user": {
      "displayName": "Jhon Kevin Flores Rojas",
      "userId": "10267608749788811245"
     },
     "user_tz": 300
    },
    "id": "XDVgCaXUe3Kx",
    "outputId": "1d992661-38cc-4de4-e0dd-c54ec12db9de",
    "papermill": {
     "duration": 0.239136,
     "end_time": "2021-04-05T17:56:55.081723",
     "exception": false,
     "start_time": "2021-04-05T17:56:54.842587",
     "status": "completed"
    },
    "tags": [],
    "vscode": {
     "languageId": "r"
    }
   },
   "outputs": [
    {
     "name": "stdout",
     "output_type": "stream",
     "text": [
      "p(y|x2,x3,d) \n",
      "\\sum_{x2,x3}\\left(p(x2,x3)p(y|x2,x3,d)\\right) \n"
     ]
    }
   ],
   "source": [
    "\n",
    "data <- \"p(y,d,x2,x3)\"\n",
    "\n",
    "conditional.query<- \"p(y|do(d),x2, x3)\"  #can ID conditional average effect?\n",
    "query<- \"p(y|do(d))\"  #can ID unconditional effect?\n",
    "\n",
    "graph<- \"z1 -> x1\n",
    "z1 -> x2\n",
    "z2 -> x2\n",
    "z2 -> x3\n",
    "x2 -> d\n",
    "x2 -> y\n",
    "x3 -> y\n",
    "x1 -> d\n",
    "d -> m\n",
    "m -> y\n",
    "\"\n",
    "\n",
    "print(dosearch(data, conditional.query, graph))\n",
    "print(dosearch(data, query, graph))\n"
   ]
  },
  {
   "cell_type": "markdown",
   "metadata": {
    "id": "AmxYLhR0e3Kz",
    "papermill": {
     "duration": 0.014749,
     "end_time": "2021-04-05T17:56:55.112369",
     "exception": false,
     "start_time": "2021-04-05T17:56:55.097620",
     "status": "completed"
    },
    "tags": []
   },
   "source": [
    "This retrives correct formulas for counterfactual distributions of $Y(d)$ induced by $Do(D=d)$:\n",
    "\n",
    "The conditional distribution is identified by:\n",
    "\n",
    "$$\n",
    "p_{Y(d) \\mid X_2, X_3}(y) := p(y |x_2, x_3: do(d)) = p(y|x_2,x_3,d).\n",
    "$$\n",
    "\n",
    "The unconditional distribution is obtained by integration out $x_2$ and $x_3$:\n",
    "\n",
    "$$\n",
    "p_{Y(d) }(y) :=  p(y do(d)) = \\sum_{x2,x3}\\left(p(x_2,x_3)p(y|x_2,x_3,d)\\right).\n",
    "$$\n",
    "\n",
    "\n"
   ]
  },
  {
   "cell_type": "markdown",
   "metadata": {
    "id": "zBRzF6lTe3K1",
    "papermill": {
     "duration": 0.014567,
     "end_time": "2021-04-05T17:56:55.141601",
     "exception": false,
     "start_time": "2021-04-05T17:56:55.127034",
     "status": "completed"
    },
    "tags": []
   },
   "source": [
    "Next we suppose that we observe only $(Y,D, M)$. Can we identify the effect $D \\to Y$?  Can we use back-door-criterion twice to get $D \\to M$ and $M \\to Y$ affect? Yes, that's called front-door criterion -- so we just need to remember only the back-door and the fact that we can use it iteratively."
   ]
  },
  {
   "cell_type": "code",
   "execution_count": 7,
   "metadata": {
    "colab": {
     "base_uri": "https://localhost:8080/"
    },
    "execution": {
     "iopub.execute_input": "2021-04-05T17:56:55.184354Z",
     "iopub.status.busy": "2021-04-05T17:56:55.182674Z",
     "iopub.status.idle": "2021-04-05T17:56:55.438646Z",
     "shell.execute_reply": "2021-04-05T17:56:55.436975Z"
    },
    "executionInfo": {
     "elapsed": 14,
     "status": "ok",
     "timestamp": 1658251494495,
     "user": {
      "displayName": "Jhon Kevin Flores Rojas",
      "userId": "10267608749788811245"
     },
     "user_tz": 300
    },
    "id": "-GzGX7Dne3K1",
    "outputId": "86fa5cdb-3e94-4492-c7a7-6b433fdca7e2",
    "papermill": {
     "duration": 0.281619,
     "end_time": "2021-04-05T17:56:55.438852",
     "exception": false,
     "start_time": "2021-04-05T17:56:55.157233",
     "status": "completed"
    },
    "tags": [],
    "vscode": {
     "languageId": "r"
    }
   },
   "outputs": [
    {
     "name": "stdout",
     "output_type": "stream",
     "text": [
      "p(m|d) \n",
      "\\sum_{d}\\left(p(d)p(y|d,m)\\right) \n",
      "\\sum_{m}\\left(p(m|d)\\sum_{d}\\left(p(d)p(y|d,m)\\right)\\right) \n"
     ]
    }
   ],
   "source": [
    "data <- \"p(y,d, m)\" \n",
    "\n",
    "query.dm<- \"p(m|do(d))\" \n",
    "query.md<- \"p(y|do(m))\" \n",
    "query<- \"p(y|do(d))\"\n",
    "\n",
    "graph<- \"z1 -> x1\n",
    "z1 -> x2\n",
    "z2 -> x2\n",
    "z2 -> x3\n",
    "x2 -> d\n",
    "x2 -> y\n",
    "x3 -> y\n",
    "x1 -> d\n",
    "d -> m\n",
    "m -> y\n",
    "\"\n",
    "print(dosearch(data, query.dm, graph))\n",
    "print(dosearch(data, query.md, graph))\n",
    "print(dosearch(data, query, graph))"
   ]
  },
  {
   "cell_type": "markdown",
   "metadata": {
    "id": "I8i3xAC5e3K3",
    "papermill": {
     "duration": 0.016414,
     "end_time": "2021-04-05T17:56:55.472018",
     "exception": false,
     "start_time": "2021-04-05T17:56:55.455604",
     "status": "completed"
    },
    "tags": []
   },
   "source": [
    "So we get identification results:\n",
    "First,\n",
    "\n",
    "$$\n",
    "p_{M(d)}(m)  := p(m|do(d)) = p(m|d).\n",
    "$$\n",
    "\n",
    "Second,\n",
    "\n",
    "$$\n",
    "p_{Y(m)}(y) := p(y|do(m)) = \\sum_{d}\\left(p(d)p(y|d,m)\\right), \n",
    "$$\n",
    "\n",
    "and the last by integrating the product of these two formulas:\n",
    "\n",
    "$$\n",
    "p_{Y(d)}(y) := p(y|do(d)) = \\sum_{m}\\left(p(m|d)\\sum_{d}\\left(p(d)p(y|d,m)\\right)\\right) \n",
    "$$"
   ]
  },
  {
   "cell_type": "markdown",
   "metadata": {
    "id": "4NHwo7Dve3K3",
    "papermill": {
     "duration": 0.015846,
     "end_time": "2021-04-05T17:56:55.503891",
     "exception": false,
     "start_time": "2021-04-05T17:56:55.488045",
     "status": "completed"
    },
    "tags": []
   },
   "source": [
    "The package is very rich and allows identification analysis, when the data comes from multiple sources. Suppose we observe marginal distributions $(Y,D)$  and $(D,M)$ only. Can we identify the effect of $D \\to Y$. The answer is (guess) and the package correctly recovers it."
   ]
  },
  {
   "cell_type": "code",
   "execution_count": 8,
   "metadata": {
    "colab": {
     "base_uri": "https://localhost:8080/"
    },
    "execution": {
     "iopub.execute_input": "2021-04-05T17:56:55.541312Z",
     "iopub.status.busy": "2021-04-05T17:56:55.539967Z",
     "iopub.status.idle": "2021-04-05T17:56:56.112448Z",
     "shell.execute_reply": "2021-04-05T17:56:56.111646Z"
    },
    "executionInfo": {
     "elapsed": 707,
     "status": "ok",
     "timestamp": 1658251495196,
     "user": {
      "displayName": "Jhon Kevin Flores Rojas",
      "userId": "10267608749788811245"
     },
     "user_tz": 300
    },
    "id": "Dj0aOHRpe3K4",
    "outputId": "348e4e8d-c0a6-45cb-90dc-abb35f8a9e34",
    "papermill": {
     "duration": 0.592959,
     "end_time": "2021-04-05T17:56:56.112631",
     "exception": false,
     "start_time": "2021-04-05T17:56:55.519672",
     "status": "completed"
    },
    "tags": [],
    "vscode": {
     "languageId": "r"
    }
   },
   "outputs": [
    {
     "name": "stdout",
     "output_type": "stream",
     "text": [
      "p(m|d) \n",
      "The query p(y|do(m)) is non-identifiable. \n",
      "The query p(y|do(d)) is non-identifiable. \n"
     ]
    }
   ],
   "source": [
    "data <- \"p(y,m)\n",
    "         p(m,d)\" \n",
    "\n",
    "query.dm<- \"p(m|do(d))\" \n",
    "query.md<- \"p(y|do(m))\" \n",
    "query<- \"p(y|do(d))\"\n",
    "\n",
    "graph<- \"z1 -> x1\n",
    "z1 -> x2\n",
    "z2 -> x2\n",
    "z2 -> x3\n",
    "x2 -> d\n",
    "x2 -> y\n",
    "x3 -> y\n",
    "x1 -> d\n",
    "d -> m\n",
    "m -> y\n",
    "\"\n",
    "print(dosearch(data, query.dm, graph))\n",
    "print(dosearch(data, query.md, graph))\n",
    "print(dosearch(data, query, graph))"
   ]
  }
 ],
 "metadata": {
  "colab": {
   "collapsed_sections": [],
   "name": "18_notebook-dosearch.ipynb",
   "provenance": []
  },
  "kernelspec": {
   "display_name": "R",
   "language": "R",
   "name": "ir"
  },
  "language_info": {
   "codemirror_mode": "r",
   "file_extension": ".r",
   "mimetype": "text/x-r-source",
   "name": "R",
   "pygments_lexer": "r",
   "version": "4.2.0"
  },
  "papermill": {
   "default_parameters": {},
   "duration": 68.035072,
   "end_time": "2021-04-05T17:56:57.154022",
   "environment_variables": {},
   "exception": null,
   "input_path": "__notebook__.ipynb",
   "output_path": "__notebook__.ipynb",
   "parameters": {},
   "start_time": "2021-04-05T17:55:49.118950",
   "version": "2.2.2"
  }
 },
 "nbformat": 4,
 "nbformat_minor": 4
}