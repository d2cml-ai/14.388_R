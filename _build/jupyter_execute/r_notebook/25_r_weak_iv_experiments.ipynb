{
 "cells": [
  {
   "cell_type": "markdown",
   "id": "strategic-timer",
   "metadata": {
    "id": "strategic-timer",
    "papermill": {
     "duration": 0.008041,
     "end_time": "2021-04-19T19:43:17.398618",
     "exception": false,
     "start_time": "2021-04-19T19:43:17.390577",
     "status": "completed"
    },
    "tags": []
   },
   "source": [
    "# Weak IV Experiments"
   ]
  },
  {
   "cell_type": "markdown",
   "id": "unknown-envelope",
   "metadata": {
    "id": "unknown-envelope",
    "papermill": {
     "duration": 0.007071,
     "end_time": "2021-04-19T19:43:17.412999",
     "exception": false,
     "start_time": "2021-04-19T19:43:17.405928",
     "status": "completed"
    },
    "tags": []
   },
   "source": [
    "Simulation Design"
   ]
  },
  {
   "cell_type": "code",
   "execution_count": 1,
   "id": "wanted-validation",
   "metadata": {
    "colab": {
     "base_uri": "https://localhost:8080/",
     "height": 746
    },
    "execution": {
     "iopub.execute_input": "2021-04-19T19:43:17.434244Z",
     "iopub.status.busy": "2021-04-19T19:43:17.431597Z",
     "iopub.status.idle": "2021-04-19T19:43:17.689566Z",
     "shell.execute_reply": "2021-04-19T19:43:17.684866Z"
    },
    "executionInfo": {
     "elapsed": 191797,
     "status": "ok",
     "timestamp": 1658254241472,
     "user": {
      "displayName": "Jhon Kevin Flores Rojas",
      "userId": "10267608749788811245"
     },
     "user_tz": 300
    },
    "id": "wanted-validation",
    "outputId": "1eae7035-58c6-4835-dc3a-7e1d6189f117",
    "papermill": {
     "duration": 0.269527,
     "end_time": "2021-04-19T19:43:17.689888",
     "exception": false,
     "start_time": "2021-04-19T19:43:17.420361",
     "status": "completed"
    },
    "tags": [],
    "vscode": {
     "languageId": "r"
    }
   },
   "outputs": [
    {
     "name": "stderr",
     "output_type": "stream",
     "text": [
      "Installing package into ‘/home/runner/work/_temp/Library’\n",
      "(as ‘lib’ is unspecified)\n",
      "\n"
     ]
    },
    {
     "data": {
      "text/plain": [
       "\n",
       "Call:\n",
       "lm(formula = D ~ Z)\n",
       "\n",
       "Residuals:\n",
       "     Min       1Q   Median       3Q      Max \n",
       "-2.32416 -0.60361  0.00536  0.58305  2.29316 \n",
       "\n",
       "Coefficients:\n",
       "            Estimate Std. Error t value Pr(>|t|)   \n",
       "(Intercept)  0.10885    0.09035   1.205  0.23118   \n",
       "Z            0.24907    0.09472   2.629  0.00993 **\n",
       "---\n",
       "Signif. codes:  0 ‘***’ 0.001 ‘**’ 0.01 ‘*’ 0.05 ‘.’ 0.1 ‘ ’ 1\n",
       "\n",
       "Residual standard error: 0.9028 on 98 degrees of freedom\n",
       "Multiple R-squared:  0.0659,\tAdjusted R-squared:  0.05637 \n",
       "F-statistic: 6.914 on 1 and 98 DF,  p-value: 0.009931\n"
      ]
     },
     "metadata": {},
     "output_type": "display_data"
    },
    {
     "name": "stdout",
     "output_type": "stream",
     "text": [
      "[1] \"Estimates and Significance Testing from from tsls\"\n",
      "            Estimate Std. Error t value p value   \n",
      "d1           0.99626    0.38173   2.610 0.00906 **\n",
      "(Intercept)  0.10926    0.09824   1.112 0.26608   \n",
      "---\n",
      "Signif. codes:  0 ‘***’ 0.001 ‘**’ 0.01 ‘*’ 0.05 ‘.’ 0.1 ‘ ’ 1\n",
      "\n",
      "\n"
     ]
    }
   ],
   "source": [
    "# Simulation Design\n",
    "install.packages(\"librarian\")\n",
    "librarian::shelf(hdm)\n",
    "\n",
    "set.seed(1)\n",
    "B= 10000 # trials\n",
    "IVEst = rep(0, B)\n",
    "n=100\n",
    "beta = .25   # .2 weak IV\n",
    "#beta = 1   #   1 strong IV\n",
    "\n",
    "\n",
    "U =  rnorm(n)  \n",
    "Z = rnorm(n)  #generate instrument\n",
    "D = beta*Z + U  #generate endogenougs variable\n",
    "Y =  D+ U  # the true causal effect is 1\n",
    "\n",
    "\n",
    "summary(lm(D~Z))  # first stage is very weak here\n",
    "\n",
    "summary(tsls(x=NULL, d=D, y=Y, z=Z))  #\n"
   ]
  },
  {
   "cell_type": "markdown",
   "id": "inner-peninsula",
   "metadata": {
    "id": "inner-peninsula",
    "papermill": {
     "duration": 0.01419,
     "end_time": "2021-04-19T19:43:17.719759",
     "exception": false,
     "start_time": "2021-04-19T19:43:17.705569",
     "status": "completed"
    },
    "tags": []
   },
   "source": [
    "Note that the instrument is weak here (contolled by $\\beta$) -- the t-stat is less than 4."
   ]
  },
  {
   "cell_type": "markdown",
   "id": "productive-configuration",
   "metadata": {
    "id": "productive-configuration",
    "papermill": {
     "duration": 0.014297,
     "end_time": "2021-04-19T19:43:17.748125",
     "exception": false,
     "start_time": "2021-04-19T19:43:17.733828",
     "status": "completed"
    },
    "tags": []
   },
   "source": [
    "## Run 1000 trials to evaluate distribution of the IV estimator"
   ]
  },
  {
   "cell_type": "code",
   "execution_count": 2,
   "id": "narrow-boxing",
   "metadata": {
    "execution": {
     "iopub.execute_input": "2021-04-19T19:43:17.814212Z",
     "iopub.status.busy": "2021-04-19T19:43:17.784404Z",
     "iopub.status.idle": "2021-04-19T19:43:20.690896Z",
     "shell.execute_reply": "2021-04-19T19:43:20.689603Z"
    },
    "executionInfo": {
     "elapsed": 2558,
     "status": "ok",
     "timestamp": 1658254244010,
     "user": {
      "displayName": "Jhon Kevin Flores Rojas",
      "userId": "10267608749788811245"
     },
     "user_tz": 300
    },
    "id": "narrow-boxing",
    "papermill": {
     "duration": 2.929023,
     "end_time": "2021-04-19T19:43:20.691148",
     "exception": false,
     "start_time": "2021-04-19T19:43:17.762125",
     "status": "completed"
    },
    "tags": [],
    "vscode": {
     "languageId": "r"
    }
   },
   "outputs": [],
   "source": [
    "# Simulation Design\n",
    "\n",
    "set.seed(1)\n",
    "B= 10000 # trials\n",
    "IVEst = rep(0, B)\n",
    "\n",
    "for(i in 1:B){\n",
    "U =  rnorm(n)  \n",
    "Z = rnorm(n)  #generate instrument\n",
    "D = beta*Z + U  #generate endogenougs variable\n",
    "Y =  D+ U  # the true causal effect is 1\n",
    "IVEst[i] = coef(tsls(x=NULL, d=D, y=Y, z=Z))[1,1]\n",
    "}\n",
    "\n"
   ]
  },
  {
   "cell_type": "markdown",
   "id": "functional-connecticut",
   "metadata": {
    "id": "functional-connecticut",
    "papermill": {
     "duration": 0.008622,
     "end_time": "2021-04-19T19:43:20.714062",
     "exception": false,
     "start_time": "2021-04-19T19:43:20.705440",
     "status": "completed"
    },
    "tags": []
   },
   "source": [
    "## Plot the Actual Distribution against the Normal Approximation (based on Strong Instrument Assumption)"
   ]
  },
  {
   "cell_type": "code",
   "execution_count": 3,
   "id": "desperate-standing",
   "metadata": {
    "colab": {
     "base_uri": "https://localhost:8080/",
     "height": 454
    },
    "execution": {
     "iopub.execute_input": "2021-04-19T19:43:20.736442Z",
     "iopub.status.busy": "2021-04-19T19:43:20.734539Z",
     "iopub.status.idle": "2021-04-19T19:43:21.132133Z",
     "shell.execute_reply": "2021-04-19T19:43:21.130887Z"
    },
    "executionInfo": {
     "elapsed": 28,
     "status": "ok",
     "timestamp": 1658254244012,
     "user": {
      "displayName": "Jhon Kevin Flores Rojas",
      "userId": "10267608749788811245"
     },
     "user_tz": 300
    },
    "id": "desperate-standing",
    "outputId": "a5b81715-764d-4d7b-a213-69cd3d004b57",
    "papermill": {
     "duration": 0.41022,
     "end_time": "2021-04-19T19:43:21.132378",
     "exception": false,
     "start_time": "2021-04-19T19:43:20.722158",
     "status": "completed"
    },
    "tags": [],
    "vscode": {
     "languageId": "r"
    }
   },
   "outputs": [
    {
     "name": "stdout",
     "output_type": "stream",
     "text": [
      "Rejection Frequency is  0.1401  while we expect it to be .05"
     ]
    },
    {
     "data": {
      "image/png": "[encoded data removed]",
      "text/plain": [
       "Plot with title “Actual Distribution vs Gaussian”"
      ]
     },
     "metadata": {
      "filenames": {
       "image/png": "/home/runner/work/14.388_r/14.388_r/_build/jupyter_execute/r_notebook/25_r_weak_iv_experiments_7_1.png"
      },
      "image/png": {
       "height": 420,
       "width": 420
      }
     },
     "output_type": "display_data"
    }
   ],
   "source": [
    "plot(density(IVEst-1, n=1000, from=-5, to=5),col=4, xlim= c(-5, 5),  \n",
    "     xlab= \"IV Estimator -True Effect\", main=\"Actual Distribution vs Gaussian\")\n",
    "\n",
    "val=seq(-5, 5, by=.05)\n",
    "var = (1/beta^2)*(1/100) # theoretical variance of IV\n",
    "sd = sqrt(var)\n",
    "lines(val, dnorm(val, sd=sd), col=2, lty=2)\n",
    "\n",
    "rejection.frequency = sum(( abs(IVEst-1)/sd > 1.96))/B\n",
    "\n",
    "cat(c(\"Rejection Frequency is \", rejection.frequency, \" while we expect it to be .05\"))\n"
   ]
  },
  {
   "cell_type": "markdown",
   "id": "different-sampling",
   "metadata": {
    "id": "different-sampling",
    "papermill": {
     "duration": 0.010583,
     "end_time": "2021-04-19T19:43:21.154861",
     "exception": false,
     "start_time": "2021-04-19T19:43:21.144278",
     "status": "completed"
    },
    "tags": []
   },
   "source": [
    "### Some Help Functions"
   ]
  },
  {
   "cell_type": "code",
   "execution_count": 4,
   "id": "78746544-9e8f-40f4-abf5-cdb75c1af14e",
   "metadata": {
    "execution": {
     "iopub.execute_input": "2021-04-19T19:43:21.431391Z",
     "iopub.status.busy": "2021-04-19T19:43:21.429999Z",
     "iopub.status.idle": "2021-04-19T19:43:21.599376Z",
     "shell.execute_reply": "2021-04-19T19:43:21.598580Z"
    },
    "executionInfo": {
     "elapsed": 21,
     "status": "ok",
     "timestamp": 1658254244017,
     "user": {
      "displayName": "Jhon Kevin Flores Rojas",
      "userId": "10267608749788811245"
     },
     "user_tz": 300
    },
    "id": "hearing-tutorial",
    "papermill": {
     "duration": 0.184318,
     "end_time": "2021-04-19T19:43:21.599524",
     "exception": false,
     "start_time": "2021-04-19T19:43:21.415206",
     "status": "completed"
    },
    "tags": [],
    "vscode": {
     "languageId": "r"
    }
   },
   "outputs": [],
   "source": [
    "# help(tsls)\n",
    "\n",
    "# help(density)"
   ]
  }
 ],
 "metadata": {
  "colab": {
   "collapsed_sections": [],
   "name": "27_r-weak-iv-experiments.ipynb",
   "provenance": []
  },
  "kernelspec": {
   "display_name": "R",
   "language": "R",
   "name": "ir"
  },
  "language_info": {
   "codemirror_mode": "r",
   "file_extension": ".r",
   "mimetype": "text/x-r-source",
   "name": "R",
   "pygments_lexer": "r",
   "version": "4.2.1"
  },
  "papermill": {
   "default_parameters": {},
   "duration": 7.855737,
   "end_time": "2021-04-19T19:43:21.720299",
   "environment_variables": {},
   "exception": null,
   "input_path": "__notebook__.ipynb",
   "output_path": "__notebook__.ipynb",
   "parameters": {},
   "start_time": "2021-04-19T19:43:13.864562",
   "version": "2.3.2"
  }
 },
 "nbformat": 4,
 "nbformat_minor": 5
}