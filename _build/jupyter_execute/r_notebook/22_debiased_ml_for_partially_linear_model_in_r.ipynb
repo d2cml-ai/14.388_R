{
 "cells": [
  {
   "cell_type": "markdown",
   "metadata": {
    "id": "Y3uB9vR5kROK",
    "papermill": {
     "duration": 0.005873,
     "end_time": "2021-02-13T17:32:35.332473",
     "exception": false,
     "start_time": "2021-02-13T17:32:35.326600",
     "status": "completed"
    },
    "tags": []
   },
   "source": [
    "# Debiased ML for Partially Linear Model in R\n",
    "\n",
    "This is a simple implementation of Debiased Machine Learning for the Partially Linear Regression Model.\n",
    "\n",
    "Reference: \n",
    "\n",
    "https://arxiv.org/abs/1608.00060\n",
    "\n",
    "\n",
    "https://www.amazon.com/Business-Data-Science-Combining-Accelerate/dp/1260452778\n",
    "\n",
    "The code is based on the book."
   ]
  },
  {
   "cell_type": "markdown",
   "metadata": {
    "id": "ykRbZbKUkROR",
    "papermill": {
     "duration": 0.003613,
     "end_time": "2021-02-13T17:32:35.340781",
     "exception": false,
     "start_time": "2021-02-13T17:32:35.337168",
     "status": "completed"
    },
    "tags": []
   },
   "source": [
    "## DML algorithm\n",
    "\n",
    "Here we perform estimation and inference of predictive coefficient $\\alpha$ in the partially linear statistical model, \n",
    "\n",
    "$$\n",
    "Y = D\\alpha + g(X) + U, \\quad E (U | D, X) = 0. \n",
    "$$\n",
    "\n",
    "For $\\tilde Y = Y- E(Y|X)$ and $\\tilde D= D- E(D|X)$, we can write\n",
    "\n",
    "$$\n",
    "\\tilde Y = \\alpha \\tilde D + U, \\quad E (U |\\tilde D) =0.\n",
    "$$\n",
    "\n",
    "Parameter $\\alpha$ is then estimated using cross-fitting approach to obtain the residuals $\\tilde D$ and $\\tilde Y$.\n",
    "\n",
    "The algorithm comsumes $Y, D, X$, and machine learning methods for learning the residuals $\\tilde Y$ and $\\tilde D$, where the residuals are obtained by cross-validation (cross-fitting).\n",
    "\n",
    "The statistical parameter $\\alpha$ has a causal intertpreation of being the effect of $D$ on $Y$ in the causal DAG \n",
    "\n",
    "$$\n",
    "D\\to Y, \\quad X\\to (D,Y)\n",
    "$$ \n",
    "\n",
    "or the counterfactual outcome model with conditionally exogenous (conditionally random) assignment of treatment $D$ given $X$:\n",
    "\n",
    "\n",
    "$$\n",
    "Y(d) = d\\alpha + g(X) + U(d),\\quad  U(d) \\text{ indep } D |X, \\quad Y = Y(D), \\quad U = U(D).\n",
    "$$\n"
   ]
  },
  {
   "cell_type": "code",
   "execution_count": 1,
   "metadata": {
    "colab": {
     "base_uri": "https://localhost:8080/"
    },
    "collapsed": true,
    "execution": {
     "iopub.execute_input": "2021-02-13T17:32:35.378544Z",
     "iopub.status.busy": "2021-02-13T17:32:35.375857Z",
     "iopub.status.idle": "2021-02-13T17:33:08.345196Z",
     "shell.execute_reply": "2021-02-13T17:33:08.343218Z"
    },
    "executionInfo": {
     "elapsed": 453245,
     "status": "ok",
     "timestamp": 1658253266220,
     "user": {
      "displayName": "Jhon Kevin Flores Rojas",
      "userId": "10267608749788811245"
     },
     "user_tz": 300
    },
    "id": "uDtRZ4MLkROT",
    "jupyter": {
     "outputs_hidden": true
    },
    "outputId": "9f909e90-c14c-48c5-bbbd-ebbb4001ca15",
    "papermill": {
     "duration": 33.00131,
     "end_time": "2021-02-13T17:33:08.345470",
     "exception": false,
     "start_time": "2021-02-13T17:32:35.344160",
     "status": "completed"
    },
    "tags": [],
    "vscode": {
     "languageId": "r"
    }
   },
   "outputs": [
    {
     "name": "stderr",
     "output_type": "stream",
     "text": [
      "Installing package into ‘/home/runner/work/_temp/Library’\n",
      "(as ‘lib’ is unspecified)\n",
      "\n"
     ]
    }
   ],
   "source": [
    "install.packages(\"librarian\")\n",
    "librarian::shelf(\n",
    "  AER, randomForest, hdm, glmnet\n",
    ")\n"
   ]
  },
  {
   "cell_type": "code",
   "execution_count": 2,
   "metadata": {
    "execution": {
     "iopub.execute_input": "2021-02-13T17:33:08.406107Z",
     "iopub.status.busy": "2021-02-13T17:33:08.360037Z",
     "iopub.status.idle": "2021-02-13T17:33:08.423732Z",
     "shell.execute_reply": "2021-02-13T17:33:08.422038Z"
    },
    "executionInfo": {
     "elapsed": 18,
     "status": "ok",
     "timestamp": 1658253266223,
     "user": {
      "displayName": "Jhon Kevin Flores Rojas",
      "userId": "10267608749788811245"
     },
     "user_tz": 300
    },
    "id": "iDqrJbGBkROX",
    "papermill": {
     "duration": 0.07299,
     "end_time": "2021-02-13T17:33:08.423882",
     "exception": false,
     "start_time": "2021-02-13T17:33:08.350892",
     "status": "completed"
    },
    "tags": [],
    "vscode": {
     "languageId": "r"
    }
   },
   "outputs": [],
   "source": [
    "DML2.for.PLM <- function(x, d, y, dreg, yreg, nfold=2) {\n",
    "  nobs <- nrow(x) #number of observations\n",
    "  foldid <- rep.int(1:nfold,times = ceiling(nobs/nfold))[sample.int(nobs)] #define folds indices\n",
    "  I <- split(1:nobs, foldid)  #split observation indices into folds  \n",
    "  ytil <- dtil <- rep(NA, nobs)\n",
    "  cat(\"fold: \")\n",
    "  for(b in 1:length(I)){\n",
    "    dfit <- dreg(x[-I[[b]],], d[-I[[b]]]) #take a fold out\n",
    "    yfit <- yreg(x[-I[[b]],], y[-I[[b]]]) # take a foldt out\n",
    "    dhat <- predict(dfit, x[I[[b]],], type=\"response\") #predict the left-out fold \n",
    "    yhat <- predict(yfit, x[I[[b]],], type=\"response\") #predict the left-out fold \n",
    "    dtil[I[[b]]] <- (d[I[[b]]] - dhat) #record residual for the left-out fold\n",
    "    ytil[I[[b]]] <- (y[I[[b]]] - yhat) #record residial for the left-out fold\n",
    "    cat(b,\" \")\n",
    "        }\n",
    "  rfit <- lm(ytil ~ dtil)    #estimate the main parameter by regressing one residual on the other\n",
    "  coef.est <- coef(rfit)[2]  #extract coefficient\n",
    "  se <- sqrt(vcovHC(rfit)[2,2]) #record robust standard error\n",
    "  cat(sprintf(\"\\ncoef (se) = %g (%g)\\n\", coef.est , se))  #printing output\n",
    "  return( list(coef.est =coef.est , se=se, dtil=dtil, ytil=ytil) ) #save output and residuals \n",
    "}\n"
   ]
  },
  {
   "cell_type": "code",
   "execution_count": 3,
   "metadata": {
    "colab": {
     "base_uri": "https://localhost:8080/"
    },
    "execution": {
     "iopub.execute_input": "2021-02-13T17:33:08.438648Z",
     "iopub.status.busy": "2021-02-13T17:33:08.436622Z",
     "iopub.status.idle": "2021-02-13T17:33:27.087838Z",
     "shell.execute_reply": "2021-02-13T17:33:27.086924Z"
    },
    "executionInfo": {
     "elapsed": 17322,
     "status": "ok",
     "timestamp": 1658253283528,
     "user": {
      "displayName": "Jhon Kevin Flores Rojas",
      "userId": "10267608749788811245"
     },
     "user_tz": 300
    },
    "id": "vhd1Tq0TkROZ",
    "outputId": "f445df8f-37e7-43e4-e2cc-2c8980597766",
    "papermill": {
     "duration": 18.659748,
     "end_time": "2021-02-13T17:33:27.088051",
     "exception": false,
     "start_time": "2021-02-13T17:33:08.428303",
     "status": "completed"
    },
    "tags": [],
    "vscode": {
     "languageId": "r"
    }
   },
   "outputs": [
    {
     "name": "stdout",
     "output_type": "stream",
     "text": [
      "\n",
      " length of y is 90 \n"
     ]
    },
    {
     "name": "stdout",
     "output_type": "stream",
     "text": [
      "\n",
      " num features x is 60 \n"
     ]
    },
    {
     "name": "stdout",
     "output_type": "stream",
     "text": [
      "\n",
      " Naive OLS that uses all features w/o cross-fitting \n"
     ]
    },
    {
     "name": "stdout",
     "output_type": "stream",
     "text": [
      "\n",
      "coef (se) = -0.00937799 (0.0298877)\n"
     ]
    },
    {
     "name": "stdout",
     "output_type": "stream",
     "text": [
      "\n",
      " DML with OLS w/o feature selection \n"
     ]
    },
    {
     "name": "stdout",
     "output_type": "stream",
     "text": [
      "fold: 1  2  3  4  5  6  7  8  9  10  \n",
      "coef (se) = 0.01013 (0.0167061)\n"
     ]
    },
    {
     "name": "stdout",
     "output_type": "stream",
     "text": [
      "\n",
      " DML with Lasso \n"
     ]
    },
    {
     "name": "stdout",
     "output_type": "stream",
     "text": [
      "fold: 1  2  3  4  5  6  7  8  9  10  \n",
      "coef (se) = -0.0352021 (0.0161357)\n"
     ]
    },
    {
     "name": "stdout",
     "output_type": "stream",
     "text": [
      "\n",
      " DML with Random Forest \n"
     ]
    },
    {
     "name": "stdout",
     "output_type": "stream",
     "text": [
      "fold: 1  2  3  4  5  6  7  8  9  10  \n",
      "coef (se) = -0.0365831 (0.0151539)\n"
     ]
    },
    {
     "name": "stdout",
     "output_type": "stream",
     "text": [
      "\n",
      " DML with Lasso/Random Forest \n"
     ]
    },
    {
     "name": "stdout",
     "output_type": "stream",
     "text": [
      "fold: 1  2  3  4  5  6  7  8  9  10  \n",
      "coef (se) = -0.0375019 (0.0135088)\n"
     ]
    }
   ],
   "source": [
    "# library(AER)  #applied econometrics library\n",
    "# library(randomForest)  #random Forest library\n",
    "# library(hdm) #high-dimensional econometrics library\n",
    "# library(glmnet) #glm net\n",
    "\n",
    "data(GrowthData)                     # Barro-Lee growth data\n",
    "y= as.matrix(GrowthData[,1])         # outcome: growth rate\n",
    "d= as.matrix(GrowthData[,3])         # treatment: initial wealth\n",
    "x= as.matrix(GrowthData[,-c(1,2,3)]) # controls: country characteristics\n",
    "\n",
    "cat(sprintf(\"\\n length of y is %g \\n\", length(y) ))\n",
    "cat(sprintf(\"\\n num features x is %g \\n\", dim(x)[2] ))\n",
    "\n",
    "\n",
    "#summary(y)\n",
    "#summary(d)\n",
    "#summary(x)\n",
    "\n",
    "cat(sprintf(\"\\n Naive OLS that uses all features w/o cross-fitting \\n\"))\n",
    "lres=summary(lm(y~d +x))$coef[2,1:2]\n",
    "\n",
    "cat(sprintf(\"\\ncoef (se) = %g (%g)\\n\", lres[1] , lres[2]))\n",
    "\n",
    "\n",
    "\n",
    "#DML with OLS\n",
    "\n",
    "\n",
    "cat(sprintf(\"\\n DML with OLS w/o feature selection \\n\"))\n",
    "\n",
    "set.seed(1)\n",
    "dreg <- function(x,d){ glmnet(x, d, lambda = 0) } #ML method= OLS using glmnet; using lm gives bugs\n",
    "yreg <- function(x,y){ glmnet(x, y, lambda = 0) } #ML method = OLS\n",
    "\n",
    "DML2.OLS = DML2.for.PLM(x, d, y, dreg, yreg, nfold=10)\n",
    "\n",
    "\n",
    "#DML with Lasso:\n",
    "\n",
    "cat(sprintf(\"\\n DML with Lasso \\n\"))\n",
    "\n",
    "set.seed(1)\n",
    "dreg <- function(x,d){ rlasso(x,d, post=FALSE) } #ML method= lasso from hdm \n",
    "yreg <- function(x,y){ rlasso(x,y, post=FALSE) } #ML method = lasso from hdm\n",
    "DML2.lasso = DML2.for.PLM(x, d, y, dreg, yreg, nfold=10)\n",
    "\n",
    "cat(sprintf(\"\\n DML with Random Forest \\n\"))\n",
    "\n",
    "#DML with Random Forest:\n",
    "dreg <- function(x,d){ randomForest(x, d) } #ML method=Forest \n",
    "yreg <- function(x,y){ randomForest(x, y) } #ML method=Forest\n",
    "set.seed(1)\n",
    "DML2.RF = DML2.for.PLM(x, d, y, dreg, yreg, nfold=10)\n",
    "\n",
    "\n",
    "cat(sprintf(\"\\n DML with Lasso/Random Forest \\n\"))\n",
    "\n",
    "#DML MIX:\n",
    "dreg <- function(x,d){ rlasso(x,d, post=FALSE) } #ML method=Forest \n",
    "yreg <- function(x,y){ randomForest(x, y) } #ML method=Forest\n",
    "set.seed(1)\n",
    "DML2.RF = DML2.for.PLM(x, d, y, dreg, yreg, nfold=10)\n"
   ]
  },
  {
   "cell_type": "code",
   "execution_count": 4,
   "metadata": {
    "colab": {
     "base_uri": "https://localhost:8080/"
    },
    "execution": {
     "iopub.execute_input": "2021-02-13T17:33:27.115049Z",
     "iopub.status.busy": "2021-02-13T17:33:27.113322Z",
     "iopub.status.idle": "2021-02-13T17:33:27.269334Z",
     "shell.execute_reply": "2021-02-13T17:33:27.268359Z"
    },
    "executionInfo": {
     "elapsed": 23,
     "status": "ok",
     "timestamp": 1658253283531,
     "user": {
      "displayName": "Jhon Kevin Flores Rojas",
      "userId": "10267608749788811245"
     },
     "user_tz": 300
    },
    "id": "BpwluuzjkROe",
    "outputId": "3ec6e479-79e5-477e-be7b-80a5bbff712b",
    "papermill": {
     "duration": 0.169839,
     "end_time": "2021-02-13T17:33:27.269543",
     "exception": false,
     "start_time": "2021-02-13T17:33:27.099704",
     "status": "completed"
    },
    "tags": [],
    "vscode": {
     "languageId": "r"
    }
   },
   "outputs": [
    {
     "name": "stdout",
     "output_type": "stream",
     "text": [
      "         OLS Lasso    RF\n",
      "RMSE D 0.467 0.372 0.372\n",
      "RMSE Y 0.054 0.052 0.046\n"
     ]
    }
   ],
   "source": [
    "prRes.D<- c( mean((DML2.OLS$dtil)^2), mean((DML2.lasso$dtil)^2), mean((DML2.RF$dtil)^2));\n",
    "prRes.Y<- c(mean((DML2.OLS$ytil)^2), mean((DML2.lasso$ytil)^2),mean((DML2.RF$ytil)^2));\n",
    "prRes<- rbind(sqrt(prRes.D), sqrt(prRes.Y)); \n",
    "rownames(prRes)<- c(\"RMSE D\", \"RMSE Y\");\n",
    "colnames(prRes)<- c(\"OLS\", \"Lasso\", \"RF\")\n",
    "print(prRes,digit=2)\n"
   ]
  }
 ],
 "metadata": {
  "colab": {
   "name": "23_debiased-ml-for-partially-linear-model-in-r.ipynb",
   "provenance": []
  },
  "kernelspec": {
   "display_name": "R",
   "language": "R",
   "name": "ir"
  },
  "language_info": {
   "codemirror_mode": "r",
   "file_extension": ".r",
   "mimetype": "text/x-r-source",
   "name": "R",
   "pygments_lexer": "r",
   "version": "4.2.0"
  },
  "papermill": {
   "duration": 55.808166,
   "end_time": "2021-02-13T17:33:28.352086",
   "environment_variables": {},
   "exception": null,
   "input_path": "__notebook__.ipynb",
   "output_path": "__notebook__.ipynb",
   "parameters": {},
   "start_time": "2021-02-13T17:32:32.543920",
   "version": "2.1.3"
  }
 },
 "nbformat": 4,
 "nbformat_minor": 4
}