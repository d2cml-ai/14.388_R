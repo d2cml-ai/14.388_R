{
 "cells": [
  {
   "cell_type": "markdown",
   "metadata": {
    "id": "SL4yShpvA67_",
    "papermill": {
     "duration": 0.016306,
     "end_time": "2021-07-23T14:59:58.483263",
     "exception": false,
     "start_time": "2021-07-23T14:59:58.466957",
     "status": "completed"
    },
    "tags": []
   },
   "source": [
    "# OLS and lasso for wage prediction"
   ]
  },
  {
   "cell_type": "markdown",
   "metadata": {
    "id": "acYZpXjuA68C",
    "papermill": {
     "duration": 0.015957,
     "end_time": "2021-07-23T14:59:58.515118",
     "exception": false,
     "start_time": "2021-07-23T14:59:58.499161",
     "status": "completed"
    },
    "tags": []
   },
   "source": [
    "An important question in labour economics is what determines the wage of workers. This is a causal question, but we can begin to investigate it from a predictive perspective.\n",
    "\n",
    "In the following wage example, $Y$ is the hourly wage of a worker and $X$ is a vector of worker's characteristics, e.g., education, experience, gender. Two main questions here are:\n",
    "\n",
    "* How can we use job-relevant characteristics, such as education and experience, to best predict wages?\n",
    "\n",
    "* What is the difference in predicted wages between men and women with the same job-relevant characteristics?\n",
    "\n",
    "In this lab, we focus on the prediction question first."
   ]
  },
  {
   "cell_type": "markdown",
   "metadata": {
    "id": "jh9DRemBA68D",
    "papermill": {
     "duration": 0.015966,
     "end_time": "2021-07-23T14:59:58.547057",
     "exception": false,
     "start_time": "2021-07-23T14:59:58.531091",
     "status": "completed"
    },
    "tags": []
   },
   "source": [
    "## Data\n"
   ]
  },
  {
   "cell_type": "markdown",
   "metadata": {
    "id": "cgoTP3xdA68E",
    "papermill": {
     "duration": 0.016792,
     "end_time": "2021-07-23T14:59:58.579904",
     "exception": false,
     "start_time": "2021-07-23T14:59:58.563112",
     "status": "completed"
    },
    "tags": []
   },
   "source": [
    "The data set we consider is from the 2015 March Supplement of the U.S. Current Population Survey.  We select white non-hispanic individuals, aged 25 to 64 years, and working more than 35 hours per week for at least 50 weeks of the year. We exclude self-employed workers; individuals living in group quarters; individuals in the military, agricultural or private household sectors;  individuals with inconsistent reports on earnings and employment status; individuals with allocated or missing information in any of the variables used in the analysis; and individuals with hourly wage below $3$. \n",
    "\n",
    "The variable of interest $Y$ is the hourly wage rate constructed as the ratio of the annual earnings to the total number of hours worked, which is constructed in turn as the product of number of weeks worked and the usual number of hours worked per week. In our analysis, we also focus on single (never married) workers. The final sample is of size $n=5150$."
   ]
  },
  {
   "cell_type": "markdown",
   "metadata": {
    "id": "PxklE6cfA68F",
    "papermill": {
     "duration": 0.016095,
     "end_time": "2021-07-23T14:59:58.611758",
     "exception": false,
     "start_time": "2021-07-23T14:59:58.595663",
     "status": "completed"
    },
    "tags": []
   },
   "source": [
    "## Data analysis"
   ]
  },
  {
   "cell_type": "markdown",
   "metadata": {
    "id": "3zTn9iqKA68H",
    "papermill": {
     "duration": 0.016181,
     "end_time": "2021-07-23T14:59:58.645039",
     "exception": false,
     "start_time": "2021-07-23T14:59:58.628858",
     "status": "completed"
    },
    "tags": []
   },
   "source": [
    "We start by loading the data set."
   ]
  },
  {
   "cell_type": "code",
   "execution_count": 1,
   "metadata": {
    "colab": {
     "base_uri": "https://localhost:8080/",
     "height": 208
    },
    "executionInfo": {
     "elapsed": 188474,
     "status": "ok",
     "timestamp": 1658245408820,
     "user": {
      "displayName": "Jhon Kevin Flores Rojas",
      "userId": "10267608749788811245"
     },
     "user_tz": 300
    },
    "id": "8m_u84mJA68M",
    "outputId": "9f25bda7-e5bf-4684-80eb-305e2553b393",
    "papermill": {
     "duration": 0.220945,
     "end_time": "2021-07-23T14:59:58.881830",
     "exception": false,
     "start_time": "2021-07-23T14:59:58.660885",
     "status": "completed"
    },
    "tags": [],
    "vscode": {
     "languageId": "r"
    }
   },
   "outputs": [
    {
     "name": "stdout",
     "output_type": "stream",
     "text": [
      "package 'librarian' successfully unpacked and MD5 sums checked\n"
     ]
    },
    {
     "data": {
      "text/html": [
       "<style>\n",
       ".list-inline {list-style: none; margin:0; padding: 0}\n",
       ".list-inline>li {display: inline-block}\n",
       ".list-inline>li:not(:last-child)::after {content: \"\\00b7\"; padding: 0 .5ex}\n",
       "</style>\n",
       "<ol class=list-inline><li>5150</li><li>21</li></ol>\n"
      ],
      "text/latex": [
       "\\begin{enumerate*}\n",
       "\\item 5150\n",
       "\\item 21\n",
       "\\end{enumerate*}\n"
      ],
      "text/markdown": [
       "1. 5150\n",
       "2. 21\n",
       "\n",
       "\n"
      ],
      "text/plain": [
       "[1] 5150   21"
      ]
     },
     "metadata": {},
     "output_type": "display_data"
    }
   ],
   "source": [
    "install.packages(\"librarian\", quiet = T)\n",
    "librarian::shelf(tidyverse, broom, hdm, quiet = T)\n",
    "data <- read_csv(\n",
    "    \"https://github.com/d2cml-ai/14.388_R/raw/main/Data/wage2015_subsample_inference.csv\"\n",
    "    , show_col_types = F) |> \n",
    "        rename(socl = scl, sohs = shs, sout = so)\n",
    "dim(data)"
   ]
  },
  {
   "cell_type": "markdown",
   "metadata": {
    "id": "ZckjCxtbA68Q",
    "papermill": {
     "duration": 0.016423,
     "end_time": "2021-07-23T14:59:58.914953",
     "exception": false,
     "start_time": "2021-07-23T14:59:58.898530",
     "status": "completed"
    },
    "tags": []
   },
   "source": [
    "Let's have a look at the structure of the data."
   ]
  },
  {
   "cell_type": "code",
   "execution_count": 2,
   "metadata": {
    "colab": {
     "base_uri": "https://localhost:8080/"
    },
    "executionInfo": {
     "elapsed": 321,
     "status": "ok",
     "timestamp": 1658244801901,
     "user": {
      "displayName": "Jhon Kevin Flores Rojas",
      "userId": "10267608749788811245"
     },
     "user_tz": 300
    },
    "id": "iYEbbW_9A68S",
    "outputId": "db4fa4a4-fb40-40d5-8414-60d5600f6b56",
    "papermill": {
     "duration": 0.074051,
     "end_time": "2021-07-23T14:59:59.005312",
     "exception": false,
     "start_time": "2021-07-23T14:59:58.931261",
     "status": "completed"
    },
    "tags": [],
    "vscode": {
     "languageId": "r"
    }
   },
   "outputs": [
    {
     "name": "stdout",
     "output_type": "stream",
     "text": [
      "Rows: 5,150\n",
      "Columns: 21\n",
      "$ rownames \u001b[3m\u001b[90m<dbl>\u001b[39m\u001b[23m 10, 12, 15, 18, 19, 30, 43, 44, 47, 71, 73, 77, 84, 89, 96, 1…\n",
      "$ wage     \u001b[3m\u001b[90m<dbl>\u001b[39m\u001b[23m 9.615385, 48.076923, 11.057692, 13.942308, 28.846154, 11.7307…\n",
      "$ lwage    \u001b[3m\u001b[90m<dbl>\u001b[39m\u001b[23m 2.263364, 3.872802, 2.403126, 2.634928, 3.361977, 2.462215, 2…\n",
      "$ sex      \u001b[3m\u001b[90m<dbl>\u001b[39m\u001b[23m 1, 0, 0, 1, 1, 1, 1, 0, 1, 1, 1, 0, 1, 1, 1, 0, 0, 0, 0, 0, 1…\n",
      "$ sohs     \u001b[3m\u001b[90m<dbl>\u001b[39m\u001b[23m 0, 0, 0, 0, 0, 0, 0, 0, 0, 0, 0, 0, 0, 0, 0, 0, 0, 0, 0, 0, 0…\n",
      "$ hsg      \u001b[3m\u001b[90m<dbl>\u001b[39m\u001b[23m 0, 0, 1, 0, 0, 0, 1, 1, 1, 0, 1, 1, 0, 0, 0, 1, 1, 0, 1, 1, 0…\n",
      "$ socl     \u001b[3m\u001b[90m<dbl>\u001b[39m\u001b[23m 0, 0, 0, 0, 0, 0, 0, 0, 0, 0, 0, 0, 1, 1, 0, 0, 0, 1, 0, 0, 1…\n",
      "$ clg      \u001b[3m\u001b[90m<dbl>\u001b[39m\u001b[23m 1, 1, 0, 0, 1, 1, 0, 0, 0, 1, 0, 0, 0, 0, 1, 0, 0, 0, 0, 0, 0…\n",
      "$ ad       \u001b[3m\u001b[90m<dbl>\u001b[39m\u001b[23m 0, 0, 0, 1, 0, 0, 0, 0, 0, 0, 0, 0, 0, 0, 0, 0, 0, 0, 0, 0, 0…\n",
      "$ mw       \u001b[3m\u001b[90m<dbl>\u001b[39m\u001b[23m 0, 0, 0, 0, 0, 0, 0, 0, 0, 0, 0, 0, 0, 0, 0, 0, 0, 0, 0, 0, 0…\n",
      "$ sout     \u001b[3m\u001b[90m<dbl>\u001b[39m\u001b[23m 0, 0, 0, 0, 0, 0, 0, 0, 0, 0, 0, 0, 0, 0, 0, 0, 0, 0, 0, 0, 0…\n",
      "$ we       \u001b[3m\u001b[90m<dbl>\u001b[39m\u001b[23m 0, 0, 0, 0, 0, 0, 0, 0, 0, 0, 0, 0, 0, 0, 0, 0, 0, 0, 0, 0, 0…\n",
      "$ ne       \u001b[3m\u001b[90m<dbl>\u001b[39m\u001b[23m 1, 1, 1, 1, 1, 1, 1, 1, 1, 1, 1, 1, 1, 1, 1, 1, 1, 1, 1, 1, 1…\n",
      "$ exp1     \u001b[3m\u001b[90m<dbl>\u001b[39m\u001b[23m 7.0, 31.0, 18.0, 25.0, 22.0, 1.0, 42.0, 37.0, 31.0, 4.0, 7.0,…\n",
      "$ exp2     \u001b[3m\u001b[90m<dbl>\u001b[39m\u001b[23m 0.4900, 9.6100, 3.2400, 6.2500, 4.8400, 0.0100, 17.6400, 13.6…\n",
      "$ exp3     \u001b[3m\u001b[90m<dbl>\u001b[39m\u001b[23m 0.343000, 29.791000, 5.832000, 15.625000, 10.648000, 0.001000…\n",
      "$ exp4     \u001b[3m\u001b[90m<dbl>\u001b[39m\u001b[23m 0.24010000, 92.35210000, 10.49760000, 39.06250000, 23.4256000…\n",
      "$ occ      \u001b[3m\u001b[90m<dbl>\u001b[39m\u001b[23m 3600, 3050, 6260, 420, 2015, 1650, 5120, 5240, 4040, 3255, 40…\n",
      "$ occ2     \u001b[3m\u001b[90m<dbl>\u001b[39m\u001b[23m 11, 10, 19, 1, 6, 5, 17, 17, 13, 10, 13, 14, 11, 11, 1, 19, 1…\n",
      "$ ind      \u001b[3m\u001b[90m<dbl>\u001b[39m\u001b[23m 8370, 5070, 770, 6990, 9470, 7460, 7280, 5680, 8590, 8190, 82…\n",
      "$ ind2     \u001b[3m\u001b[90m<dbl>\u001b[39m\u001b[23m 18, 9, 4, 12, 22, 14, 14, 9, 19, 18, 18, 18, 18, 18, 17, 4, 4…\n"
     ]
    }
   ],
   "source": [
    "glimpse(data)"
   ]
  },
  {
   "cell_type": "markdown",
   "metadata": {
    "id": "yyM--OiwA68U",
    "papermill": {
     "duration": 0.018327,
     "end_time": "2021-07-23T14:59:59.041260",
     "exception": false,
     "start_time": "2021-07-23T14:59:59.022933",
     "status": "completed"
    },
    "tags": []
   },
   "source": [
    "We construct the output variable $Y$ and the matrix $Z$ which includes the characteristics of workers that are given in the data."
   ]
  },
  {
   "cell_type": "code",
   "execution_count": 3,
   "metadata": {
    "colab": {
     "base_uri": "https://localhost:8080/"
    },
    "executionInfo": {
     "elapsed": 13,
     "status": "ok",
     "timestamp": 1658244040278,
     "user": {
      "displayName": "Jhon Kevin Flores Rojas",
      "userId": "10267608749788811245"
     },
     "user_tz": 300
    },
    "id": "UKYHy08tA68U",
    "outputId": "1fca0226-77a7-4466-d721-baf6aaa26c50",
    "papermill": {
     "duration": 0.04779,
     "end_time": "2021-07-23T14:59:59.106741",
     "exception": false,
     "start_time": "2021-07-23T14:59:59.058951",
     "status": "completed"
    },
    "tags": [],
    "vscode": {
     "languageId": "r"
    }
   },
   "outputs": [
    {
     "name": "stdout",
     "output_type": "stream",
     "text": [
      "Number of observations: 5150 \n",
      " Number of raw regressors: 19"
     ]
    }
   ],
   "source": [
    "# construct matrices for estimation from the data \n",
    "\n",
    "Y <- log(data$wage)\n",
    "n <- length(Y)\n",
    "Z <- data |> select(!c(wage, lwage)) #data[-which(colnames(data) %in% c(\"wage\",\"lwage\"))]\n",
    "p <- dim(Z)[2]\n",
    "\n",
    "cat(\n",
    "  \"Number of observations:\", n, '\\n'\n",
    "   , \"Number of raw regressors:\", p\n",
    "  )\n"
   ]
  },
  {
   "cell_type": "markdown",
   "metadata": {
    "id": "WrSNEz4DA68V",
    "papermill": {
     "duration": 0.017332,
     "end_time": "2021-07-23T14:59:59.142251",
     "exception": false,
     "start_time": "2021-07-23T14:59:59.124919",
     "status": "completed"
    },
    "tags": []
   },
   "source": [
    "For the outcome variable *wage* and a subset of the raw regressors, we calculate the empirical mean to get familiar with the data."
   ]
  },
  {
   "cell_type": "code",
   "execution_count": 15,
   "metadata": {
    "colab": {
     "base_uri": "https://localhost:8080/",
     "height": 475
    },
    "executionInfo": {
     "elapsed": 12,
     "status": "ok",
     "timestamp": 1658244922743,
     "user": {
      "displayName": "Jhon Kevin Flores Rojas",
      "userId": "10267608749788811245"
     },
     "user_tz": 300
    },
    "id": "bsrMHRw8A68X",
    "outputId": "24e15b06-a522-4937-a4fb-e967b502c853",
    "papermill": {
     "duration": 0.083171,
     "end_time": "2021-07-23T14:59:59.243602",
     "exception": false,
     "start_time": "2021-07-23T14:59:59.160431",
     "status": "completed"
    },
    "tags": [],
    "vscode": {
     "languageId": "r"
    }
   },
   "outputs": [
    {
     "data": {
      "text/html": [
       "<table class=\"dataframe\">\n",
       "<caption>A tibble: 12 × 3</caption>\n",
       "<thead>\n",
       "\t<tr><th scope=col>name</th><th scope=col>Sample mean</th><th scope=col>Variable</th></tr>\n",
       "\t<tr><th scope=col>&lt;chr&gt;</th><th scope=col>&lt;dbl&gt;</th><th scope=col>&lt;chr&gt;</th></tr>\n",
       "</thead>\n",
       "<tbody>\n",
       "\t<tr><td>ad   </td><td> 0.14</td><td>Advanced Degree     </td></tr>\n",
       "\t<tr><td>clg  </td><td> 0.32</td><td>College Graduate    </td></tr>\n",
       "\t<tr><td>exp1 </td><td>13.76</td><td>Experience          </td></tr>\n",
       "\t<tr><td>hsg  </td><td> 0.24</td><td>High School Graduate</td></tr>\n",
       "\t<tr><td>lwage</td><td> 2.97</td><td>Log Wage            </td></tr>\n",
       "\t<tr><td>mw   </td><td> 0.26</td><td>Midwest             </td></tr>\n",
       "\t<tr><td>ne   </td><td> 0.23</td><td>Northeast           </td></tr>\n",
       "\t<tr><td>sex  </td><td> 0.44</td><td>Sex                 </td></tr>\n",
       "\t<tr><td>socl </td><td> 0.28</td><td>Some College        </td></tr>\n",
       "\t<tr><td>sohs </td><td> 0.02</td><td>Some High School    </td></tr>\n",
       "\t<tr><td>sout </td><td> 0.30</td><td>South               </td></tr>\n",
       "\t<tr><td>we   </td><td> 0.22</td><td>West                </td></tr>\n",
       "</tbody>\n",
       "</table>\n"
      ],
      "text/latex": [
       "A tibble: 12 × 3\n",
       "\\begin{tabular}{lll}\n",
       " name & Sample mean & Variable\\\\\n",
       " <chr> & <dbl> & <chr>\\\\\n",
       "\\hline\n",
       "\t ad    &  0.14 & Advanced Degree     \\\\\n",
       "\t clg   &  0.32 & College Graduate    \\\\\n",
       "\t exp1  & 13.76 & Experience          \\\\\n",
       "\t hsg   &  0.24 & High School Graduate\\\\\n",
       "\t lwage &  2.97 & Log Wage            \\\\\n",
       "\t mw    &  0.26 & Midwest             \\\\\n",
       "\t ne    &  0.23 & Northeast           \\\\\n",
       "\t sex   &  0.44 & Sex                 \\\\\n",
       "\t socl  &  0.28 & Some College        \\\\\n",
       "\t sohs  &  0.02 & Some High School    \\\\\n",
       "\t sout  &  0.30 & South               \\\\\n",
       "\t we    &  0.22 & West                \\\\\n",
       "\\end{tabular}\n"
      ],
      "text/markdown": [
       "\n",
       "A tibble: 12 × 3\n",
       "\n",
       "| name &lt;chr&gt; | Sample mean &lt;dbl&gt; | Variable &lt;chr&gt; |\n",
       "|---|---|---|\n",
       "| ad    |  0.14 | Advanced Degree      |\n",
       "| clg   |  0.32 | College Graduate     |\n",
       "| exp1  | 13.76 | Experience           |\n",
       "| hsg   |  0.24 | High School Graduate |\n",
       "| lwage |  2.97 | Log Wage             |\n",
       "| mw    |  0.26 | Midwest              |\n",
       "| ne    |  0.23 | Northeast            |\n",
       "| sex   |  0.44 | Sex                  |\n",
       "| socl  |  0.28 | Some College         |\n",
       "| sohs  |  0.02 | Some High School     |\n",
       "| sout  |  0.30 | South                |\n",
       "| we    |  0.22 | West                 |\n",
       "\n"
      ],
      "text/plain": [
       "   name  Sample mean Variable            \n",
       "1  ad     0.14       Advanced Degree     \n",
       "2  clg    0.32       College Graduate    \n",
       "3  exp1  13.76       Experience          \n",
       "4  hsg    0.24       High School Graduate\n",
       "5  lwage  2.97       Log Wage            \n",
       "6  mw     0.26       Midwest             \n",
       "7  ne     0.23       Northeast           \n",
       "8  sex    0.44       Sex                 \n",
       "9  socl   0.28       Some College        \n",
       "10 sohs   0.02       Some High School    \n",
       "11 sout   0.30       South               \n",
       "12 we     0.22       West                "
      ]
     },
     "metadata": {},
     "output_type": "display_data"
    }
   ],
   "source": [
    "# generate a table of means of variables \n",
    "variables <- c(\"lwage\",\"sex\",\"sohs\",\"hsg\",\"socl\",\"clg\",\"ad\",\"mw\",\"sout\",\"we\",\"ne\",\"exp1\")\n",
    "data |> \n",
    "  select(all_of(variables)) |>\n",
    "  relocate(all_of(variables)) |>\n",
    "  pivot_longer(everything()) |>\n",
    "  with_groups(name, summarise, \"Sample mean\" = mean(value)) |>\n",
    "  mutate(\n",
    "    Variable = c(\"Log Wage\",\"Sex\",\"Some High School\",\"High School Graduate\",\"Some College\",\"College Graduate\", \"Advanced Degree\",\"Midwest\",\"South\",\"West\",\"Northeast\",\"Experience\") |> str_sort()\n",
    "    , across(where(is.numeric), round, 2)\n",
    "    )\n"
   ]
  },
  {
   "cell_type": "markdown",
   "metadata": {
    "id": "Wb8ZHuMaA68Y",
    "papermill": {
     "duration": 0.01778,
     "end_time": "2021-07-23T14:59:59.279303",
     "exception": false,
     "start_time": "2021-07-23T14:59:59.261523",
     "status": "completed"
    },
    "tags": []
   },
   "source": [
    "E.g., the share of female workers in our sample is ~44% ($sex=1$ if female)."
   ]
  },
  {
   "cell_type": "markdown",
   "metadata": {
    "id": "j0SvcNVZA68a",
    "papermill": {
     "duration": 0.017915,
     "end_time": "2021-07-23T14:59:59.409851",
     "exception": false,
     "start_time": "2021-07-23T14:59:59.391936",
     "status": "completed"
    },
    "tags": []
   },
   "source": [
    "## Prediction Question"
   ]
  },
  {
   "cell_type": "markdown",
   "metadata": {
    "id": "RVhev4txA68b",
    "papermill": {
     "duration": 0.01766,
     "end_time": "2021-07-23T14:59:59.445528",
     "exception": false,
     "start_time": "2021-07-23T14:59:59.427868",
     "status": "completed"
    },
    "tags": []
   },
   "source": [
    "Now, we will construct a prediction rule for hourly wage $Y$, which depends linearly on job-relevant characteristics $X$:\n",
    "\n",
    "$$\n",
    "\\begin{equation}\\label{decompose}\n",
    "Y = \\beta'X+ \\epsilon.\n",
    "\\end{equation}\n",
    "$$"
   ]
  },
  {
   "cell_type": "markdown",
   "metadata": {
    "id": "RvpeSx3DA68c",
    "papermill": {
     "duration": 0.017819,
     "end_time": "2021-07-23T14:59:59.481315",
     "exception": false,
     "start_time": "2021-07-23T14:59:59.463496",
     "status": "completed"
    },
    "tags": []
   },
   "source": [
    "Our goals are\n",
    "\n",
    "* Predict wages using various characteristics of workers.\n",
    "\n",
    "* Assess the predictive performance of a given model using the (adjusted) sample MSE, the (adjusted) sample $R^2$ and the out-of-sample MSE and $R^2$.\n",
    "\n",
    "\n",
    "We employ two different specifications for prediction:\n",
    "\n",
    "\n",
    "1. Basic Model:   $X$ consists of a set of raw regressors (e.g. gender, experience, education indicators,  occupation and industry indicators and regional indicators).\n",
    "\n",
    "\n",
    "2. Flexible Model:  $X$ consists of all raw regressors from the basic model plus a dictionary of transformations (e.g., ${exp}^2$ and ${exp}^3$) and additional two-way interactions of a polynomial in experience with other regressors. An example of a regressor created through a two-way interaction is *experience* times the indicator of having a *college degree*.\n",
    "\n",
    "Using the **Flexible Model** enables us to approximate the real relationship by a more complex regression model and therefore to reduce the bias. The **Flexible Model** increases the range of potential shapes of the estimated regression function. In general, flexible models often deliver higher prediction accuracy but are harder to interpret."
   ]
  },
  {
   "cell_type": "markdown",
   "metadata": {
    "id": "idQAX9ytA68d",
    "papermill": {
     "duration": 0.017782,
     "end_time": "2021-07-23T14:59:59.517358",
     "exception": false,
     "start_time": "2021-07-23T14:59:59.499576",
     "status": "completed"
    },
    "tags": []
   },
   "source": [
    "Now, let us fit both models to our data by running ordinary least squares (ols):"
   ]
  },
  {
   "cell_type": "code",
   "execution_count": 5,
   "metadata": {
    "colab": {
     "base_uri": "https://localhost:8080/",
     "height": 509
    },
    "executionInfo": {
     "elapsed": 12,
     "status": "ok",
     "timestamp": 1658245012626,
     "user": {
      "displayName": "Jhon Kevin Flores Rojas",
      "userId": "10267608749788811245"
     },
     "user_tz": 300
    },
    "id": "geMM3CYBA68d",
    "outputId": "10dbf586-c272-459f-8572-63a75bd7c962",
    "papermill": {
     "duration": 0.064264,
     "end_time": "2021-07-23T14:59:59.599253",
     "exception": false,
     "start_time": "2021-07-23T14:59:59.534989",
     "status": "completed"
    },
    "tags": [],
    "vscode": {
     "languageId": "r"
    }
   },
   "outputs": [
    {
     "data": {
      "text/html": [
       "<table class=\"dataframe\">\n",
       "<caption>A tibble: 12 × 5</caption>\n",
       "<thead>\n",
       "\t<tr><th scope=col>term</th><th scope=col>estimate</th><th scope=col>std.error</th><th scope=col>statistic</th><th scope=col>p.value</th></tr>\n",
       "\t<tr><th scope=col>&lt;chr&gt;</th><th scope=col>&lt;dbl&gt;</th><th scope=col>&lt;dbl&gt;</th><th scope=col>&lt;dbl&gt;</th><th scope=col>&lt;dbl&gt;</th></tr>\n",
       "</thead>\n",
       "<tbody>\n",
       "\t<tr><td>(Intercept)</td><td> 3.647932377</td><td>0.0345872395</td><td>105.4704692</td><td> 0.000000e+00</td></tr>\n",
       "\t<tr><td>sex        </td><td>-0.105777660</td><td>0.0146410466</td><td> -7.2247335</td><td> 5.756254e-13</td></tr>\n",
       "\t<tr><td>exp1       </td><td> 0.009051432</td><td>0.0006788967</td><td> 13.3325609</td><td> 6.842174e-40</td></tr>\n",
       "\t<tr><td>sohs       </td><td>-0.682481783</td><td>0.0510365863</td><td>-13.3724027</td><td> 4.080049e-40</td></tr>\n",
       "\t<tr><td>hsg        </td><td>-0.572844683</td><td>0.0260153880</td><td>-22.0194557</td><td>9.296656e-103</td></tr>\n",
       "\t<tr><td>socl       </td><td>-0.444913716</td><td>0.0242872639</td><td>-18.3188077</td><td> 1.154449e-72</td></tr>\n",
       "\t<tr><td>clg        </td><td>-0.194620882</td><td>0.0227910017</td><td> -8.5393738</td><td> 1.756029e-17</td></tr>\n",
       "\t<tr><td>mw         </td><td>-0.024366990</td><td>0.0201527227</td><td> -1.2091165</td><td> 2.266737e-01</td></tr>\n",
       "\t<tr><td>sout       </td><td>-0.017340390</td><td>0.0194855874</td><td> -0.8899085</td><td> 3.735567e-01</td></tr>\n",
       "\t<tr><td>we         </td><td> 0.018834057</td><td>0.0209856609</td><td>  0.8974727</td><td> 3.695088e-01</td></tr>\n",
       "\t<tr><td>occ2       </td><td>-0.019209580</td><td>0.0011631856</td><td>-16.5146301</td><td> 9.745732e-60</td></tr>\n",
       "\t<tr><td>ind2       </td><td>-0.013662901</td><td>0.0013242750</td><td>-10.3172692</td><td> 1.024554e-24</td></tr>\n",
       "</tbody>\n",
       "</table>\n"
      ],
      "text/latex": [
       "A tibble: 12 × 5\n",
       "\\begin{tabular}{lllll}\n",
       " term & estimate & std.error & statistic & p.value\\\\\n",
       " <chr> & <dbl> & <dbl> & <dbl> & <dbl>\\\\\n",
       "\\hline\n",
       "\t (Intercept) &  3.647932377 & 0.0345872395 & 105.4704692 &  0.000000e+00\\\\\n",
       "\t sex         & -0.105777660 & 0.0146410466 &  -7.2247335 &  5.756254e-13\\\\\n",
       "\t exp1        &  0.009051432 & 0.0006788967 &  13.3325609 &  6.842174e-40\\\\\n",
       "\t sohs        & -0.682481783 & 0.0510365863 & -13.3724027 &  4.080049e-40\\\\\n",
       "\t hsg         & -0.572844683 & 0.0260153880 & -22.0194557 & 9.296656e-103\\\\\n",
       "\t socl        & -0.444913716 & 0.0242872639 & -18.3188077 &  1.154449e-72\\\\\n",
       "\t clg         & -0.194620882 & 0.0227910017 &  -8.5393738 &  1.756029e-17\\\\\n",
       "\t mw          & -0.024366990 & 0.0201527227 &  -1.2091165 &  2.266737e-01\\\\\n",
       "\t sout        & -0.017340390 & 0.0194855874 &  -0.8899085 &  3.735567e-01\\\\\n",
       "\t we          &  0.018834057 & 0.0209856609 &   0.8974727 &  3.695088e-01\\\\\n",
       "\t occ2        & -0.019209580 & 0.0011631856 & -16.5146301 &  9.745732e-60\\\\\n",
       "\t ind2        & -0.013662901 & 0.0013242750 & -10.3172692 &  1.024554e-24\\\\\n",
       "\\end{tabular}\n"
      ],
      "text/markdown": [
       "\n",
       "A tibble: 12 × 5\n",
       "\n",
       "| term &lt;chr&gt; | estimate &lt;dbl&gt; | std.error &lt;dbl&gt; | statistic &lt;dbl&gt; | p.value &lt;dbl&gt; |\n",
       "|---|---|---|---|---|\n",
       "| (Intercept) |  3.647932377 | 0.0345872395 | 105.4704692 |  0.000000e+00 |\n",
       "| sex         | -0.105777660 | 0.0146410466 |  -7.2247335 |  5.756254e-13 |\n",
       "| exp1        |  0.009051432 | 0.0006788967 |  13.3325609 |  6.842174e-40 |\n",
       "| sohs        | -0.682481783 | 0.0510365863 | -13.3724027 |  4.080049e-40 |\n",
       "| hsg         | -0.572844683 | 0.0260153880 | -22.0194557 | 9.296656e-103 |\n",
       "| socl        | -0.444913716 | 0.0242872639 | -18.3188077 |  1.154449e-72 |\n",
       "| clg         | -0.194620882 | 0.0227910017 |  -8.5393738 |  1.756029e-17 |\n",
       "| mw          | -0.024366990 | 0.0201527227 |  -1.2091165 |  2.266737e-01 |\n",
       "| sout        | -0.017340390 | 0.0194855874 |  -0.8899085 |  3.735567e-01 |\n",
       "| we          |  0.018834057 | 0.0209856609 |   0.8974727 |  3.695088e-01 |\n",
       "| occ2        | -0.019209580 | 0.0011631856 | -16.5146301 |  9.745732e-60 |\n",
       "| ind2        | -0.013662901 | 0.0013242750 | -10.3172692 |  1.024554e-24 |\n",
       "\n"
      ],
      "text/plain": [
       "   term        estimate     std.error    statistic   p.value      \n",
       "1  (Intercept)  3.647932377 0.0345872395 105.4704692  0.000000e+00\n",
       "2  sex         -0.105777660 0.0146410466  -7.2247335  5.756254e-13\n",
       "3  exp1         0.009051432 0.0006788967  13.3325609  6.842174e-40\n",
       "4  sohs        -0.682481783 0.0510365863 -13.3724027  4.080049e-40\n",
       "5  hsg         -0.572844683 0.0260153880 -22.0194557 9.296656e-103\n",
       "6  socl        -0.444913716 0.0242872639 -18.3188077  1.154449e-72\n",
       "7  clg         -0.194620882 0.0227910017  -8.5393738  1.756029e-17\n",
       "8  mw          -0.024366990 0.0201527227  -1.2091165  2.266737e-01\n",
       "9  sout        -0.017340390 0.0194855874  -0.8899085  3.735567e-01\n",
       "10 we           0.018834057 0.0209856609   0.8974727  3.695088e-01\n",
       "11 occ2        -0.019209580 0.0011631856 -16.5146301  9.745732e-60\n",
       "12 ind2        -0.013662901 0.0013242750 -10.3172692  1.024554e-24"
      ]
     },
     "metadata": {},
     "output_type": "display_data"
    },
    {
     "name": "stdout",
     "output_type": "stream",
     "text": [
      "\n",
      "Number of regressors in the basic model: 12 \n"
     ]
    }
   ],
   "source": [
    "# 1. basic model\n",
    "basic <- lwage ~ (sex + exp1 + sohs + hsg+ socl + clg + mw + sout + we + occ2 + ind2)\n",
    "regbasic <- lm(basic, data=data) # perform ols using the defined model\n",
    "tidy(regbasic)\n",
    "cat(\"\\nNumber of regressors in the basic model:\",length(regbasic$coef), '\\n') # number of regressors in the Basic Model\n"
   ]
  },
  {
   "cell_type": "markdown",
   "metadata": {
    "id": "XBAFDr8RA68e",
    "papermill": {
     "duration": 0.018627,
     "end_time": "2021-07-23T14:59:59.637372",
     "exception": false,
     "start_time": "2021-07-23T14:59:59.618745",
     "status": "completed"
    },
    "tags": []
   },
   "source": [
    "Note that the basic model consists of $51$ regressors."
   ]
  },
  {
   "cell_type": "code",
   "execution_count": 6,
   "metadata": {
    "colab": {
     "base_uri": "https://localhost:8080/",
     "height": 1000
    },
    "executionInfo": {
     "elapsed": 342,
     "status": "ok",
     "timestamp": 1658245179723,
     "user": {
      "displayName": "Jhon Kevin Flores Rojas",
      "userId": "10267608749788811245"
     },
     "user_tz": 300
    },
    "id": "SmM7hLi-A68g",
    "outputId": "59d97ff0-f7c7-4603-8379-8cb2a009412f",
    "papermill": {
     "duration": 0.193677,
     "end_time": "2021-07-23T14:59:59.849747",
     "exception": false,
     "start_time": "2021-07-23T14:59:59.656070",
     "status": "completed"
    },
    "tags": [],
    "vscode": {
     "languageId": "r"
    }
   },
   "outputs": [
    {
     "data": {
      "text/html": [
       "<table class=\"dataframe\">\n",
       "<caption>A tibble: 51 × 5</caption>\n",
       "<thead>\n",
       "\t<tr><th scope=col>term</th><th scope=col>estimate</th><th scope=col>std.error</th><th scope=col>statistic</th><th scope=col>p.value</th></tr>\n",
       "\t<tr><th scope=col>&lt;chr&gt;</th><th scope=col>&lt;dbl&gt;</th><th scope=col>&lt;dbl&gt;</th><th scope=col>&lt;dbl&gt;</th><th scope=col>&lt;dbl&gt;</th></tr>\n",
       "</thead>\n",
       "<tbody>\n",
       "\t<tr><td>(Intercept)</td><td> 3.5459817652</td><td>0.1293098800</td><td>27.42235755</td><td>1.498721e-154</td></tr>\n",
       "\t<tr><td>sex        </td><td>-0.1024693096</td><td>0.0146380235</td><td>-7.00021486</td><td> 2.886521e-12</td></tr>\n",
       "\t<tr><td>sohs       </td><td>-0.6909668284</td><td>0.8988056759</td><td>-0.76876109</td><td> 4.420708e-01</td></tr>\n",
       "\t<tr><td>hsg        </td><td>-0.5816130825</td><td>0.1944598339</td><td>-2.99091628</td><td> 2.794718e-03</td></tr>\n",
       "\t<tr><td>socl       </td><td>-0.3297645100</td><td>0.1234560370</td><td>-2.67110883</td><td> 7.584125e-03</td></tr>\n",
       "\t<tr><td>clg        </td><td>-0.0873795348</td><td>0.0668027183</td><td>-1.30802364</td><td> 1.909243e-01</td></tr>\n",
       "\t<tr><td>mw         </td><td> 0.1079622966</td><td>0.0834047742</td><td> 1.29443785</td><td> 1.955728e-01</td></tr>\n",
       "\t<tr><td>sout       </td><td> 0.0385942288</td><td>0.0747084056</td><td> 0.51659821</td><td> 6.054591e-01</td></tr>\n",
       "\t<tr><td>we         </td><td>-0.0035042290</td><td>0.0854161248</td><td>-0.04102538</td><td> 9.672773e-01</td></tr>\n",
       "\t<tr><td>occ2       </td><td>-0.0266616559</td><td>0.0050950699</td><td>-5.23283414</td><td> 1.736165e-07</td></tr>\n",
       "\t<tr><td>ind2       </td><td>-0.0161332883</td><td>0.0062181409</td><td>-2.59455175</td><td> 9.498551e-03</td></tr>\n",
       "\t<tr><td>exp1       </td><td> 0.0395328237</td><td>0.0481219801</td><td> 0.82151282</td><td> 4.113926e-01</td></tr>\n",
       "\t<tr><td>exp2       </td><td>-0.0470983654</td><td>0.5325374987</td><td>-0.08844141</td><td> 9.295293e-01</td></tr>\n",
       "\t<tr><td>exp3       </td><td>-0.0771428872</td><td>0.2154298415</td><td>-0.35808821</td><td> 7.202921e-01</td></tr>\n",
       "\t<tr><td>exp4       </td><td> 0.0192882912</td><td>0.0284494345</td><td> 0.67798505</td><td> 4.978119e-01</td></tr>\n",
       "\t<tr><td>sohs:exp1  </td><td>-0.0727104038</td><td>0.1901282833</td><td>-0.38242813</td><td> 7.021598e-01</td></tr>\n",
       "\t<tr><td>hsg:exp1   </td><td>-0.0250249777</td><td>0.0546884570</td><td>-0.45759159</td><td> 6.472654e-01</td></tr>\n",
       "\t<tr><td>socl:exp1  </td><td>-0.0609705247</td><td>0.0417513801</td><td>-1.46032357</td><td> 1.442628e-01</td></tr>\n",
       "\t<tr><td>clg:exp1   </td><td>-0.0380453251</td><td>0.0300321113</td><td>-1.26682153</td><td> 2.052770e-01</td></tr>\n",
       "\t<tr><td>occ2:exp1  </td><td> 0.0031061274</td><td>0.0017875747</td><td> 1.73762097</td><td> 8.233800e-02</td></tr>\n",
       "\t<tr><td>ind2:exp1  </td><td> 0.0004028696</td><td>0.0020727530</td><td> 0.19436449</td><td> 8.458982e-01</td></tr>\n",
       "\t<tr><td>mw:exp1    </td><td>-0.0270885424</td><td>0.0301188617</td><td>-0.89938798</td><td> 3.684885e-01</td></tr>\n",
       "\t<tr><td>sout:exp1  </td><td>-0.0078718177</td><td>0.0265857631</td><td>-0.29609147</td><td> 7.671723e-01</td></tr>\n",
       "\t<tr><td>we:exp1    </td><td>-0.0024976786</td><td>0.0305114339</td><td>-0.08186041</td><td> 9.347609e-01</td></tr>\n",
       "\t<tr><td>sohs:exp2  </td><td> 0.9029215434</td><td>1.3741164234</td><td> 0.65709246</td><td> 5.111511e-01</td></tr>\n",
       "\t<tr><td>hsg:exp2   </td><td> 0.1877000513</td><td>0.5146825687</td><td> 0.36469090</td><td> 7.153573e-01</td></tr>\n",
       "\t<tr><td>socl:exp2  </td><td> 0.5113091152</td><td>0.4400571846</td><td> 1.16191516</td><td> 2.453243e-01</td></tr>\n",
       "\t<tr><td>clg:exp2   </td><td> 0.2030426932</td><td>0.3705629183</td><td> 0.54793041</td><td> 5.837637e-01</td></tr>\n",
       "\t<tr><td>occ2:exp2  </td><td>-0.0343464030</td><td>0.0186214185</td><td>-1.84445686</td><td> 6.517456e-02</td></tr>\n",
       "\t<tr><td>ind2:exp2  </td><td>-0.0059163027</td><td>0.0210536072</td><td>-0.28101136</td><td> 7.787131e-01</td></tr>\n",
       "\t<tr><td>mw:exp2    </td><td> 0.2042857795</td><td>0.3188136442</td><td> 0.64076862</td><td> 5.217018e-01</td></tr>\n",
       "\t<tr><td>sout:exp2  </td><td> 0.0495460490</td><td>0.2765429344</td><td> 0.17916223</td><td> 8.578174e-01</td></tr>\n",
       "\t<tr><td>we:exp2    </td><td> 0.1190124708</td><td>0.3228730643</td><td> 0.36860452</td><td> 7.124378e-01</td></tr>\n",
       "\t<tr><td>sohs:exp3  </td><td>-0.3393591739</td><td>0.4077661328</td><td>-0.83223972</td><td> 4.053126e-01</td></tr>\n",
       "\t<tr><td>hsg:exp3   </td><td>-0.0373822818</td><td>0.1921294886</td><td>-0.19456816</td><td> 8.457388e-01</td></tr>\n",
       "\t<tr><td>socl:exp3  </td><td>-0.1409624503</td><td>0.1751678330</td><td>-0.80472795</td><td> 4.210142e-01</td></tr>\n",
       "\t<tr><td>clg:exp3   </td><td>-0.0065429757</td><td>0.1607227984</td><td>-0.04070969</td><td> 9.675289e-01</td></tr>\n",
       "\t<tr><td>occ2:exp3  </td><td> 0.0141678190</td><td>0.0071314004</td><td> 1.98668119</td><td> 4.701117e-02</td></tr>\n",
       "\t<tr><td>ind2:exp3  </td><td> 0.0042755765</td><td>0.0079664729</td><td> 0.53669629</td><td> 5.915008e-01</td></tr>\n",
       "\t<tr><td>mw:exp3    </td><td>-0.0669345618</td><td>0.1233227099</td><td>-0.54275941</td><td> 5.873192e-01</td></tr>\n",
       "\t<tr><td>sout:exp3  </td><td>-0.0212879782</td><td>0.1047325848</td><td>-0.20326032</td><td> 8.389397e-01</td></tr>\n",
       "\t<tr><td>we:exp3    </td><td>-0.0616049319</td><td>0.1249833626</td><td>-0.49290506</td><td> 6.221009e-01</td></tr>\n",
       "\t<tr><td>sohs:exp4  </td><td> 0.0390455106</td><td>0.0426584451</td><td> 0.91530553</td><td> 3.600745e-01</td></tr>\n",
       "\t<tr><td>hsg:exp4   </td><td> 0.0016745769</td><td>0.0243824377</td><td> 0.06867963</td><td> 9.452473e-01</td></tr>\n",
       "\t<tr><td>socl:exp4  </td><td> 0.0121324275</td><td>0.0230861018</td><td> 0.52552950</td><td> 5.992380e-01</td></tr>\n",
       "\t<tr><td>clg:exp4   </td><td>-0.0068571596</td><td>0.0222924956</td><td>-0.30759946</td><td> 7.583997e-01</td></tr>\n",
       "\t<tr><td>occ2:exp4  </td><td>-0.0019077024</td><td>0.0008949371</td><td>-2.13166086</td><td> 3.308241e-02</td></tr>\n",
       "\t<tr><td>ind2:exp4  </td><td>-0.0008135041</td><td>0.0009948429</td><td>-0.81772116</td><td> 4.135546e-01</td></tr>\n",
       "\t<tr><td>mw:exp4    </td><td> 0.0069431813</td><td>0.0155865910</td><td> 0.44545862</td><td> 6.560073e-01</td></tr>\n",
       "\t<tr><td>sout:exp4  </td><td> 0.0031200679</td><td>0.0129355024</td><td> 0.24120191</td><td> 8.094083e-01</td></tr>\n",
       "\t<tr><td>we:exp4    </td><td> 0.0080471453</td><td>0.0158007113</td><td> 0.50929006</td><td> 6.105710e-01</td></tr>\n",
       "</tbody>\n",
       "</table>\n"
      ],
      "text/latex": [
       "A tibble: 51 × 5\n",
       "\\begin{tabular}{lllll}\n",
       " term & estimate & std.error & statistic & p.value\\\\\n",
       " <chr> & <dbl> & <dbl> & <dbl> & <dbl>\\\\\n",
       "\\hline\n",
       "\t (Intercept) &  3.5459817652 & 0.1293098800 & 27.42235755 & 1.498721e-154\\\\\n",
       "\t sex         & -0.1024693096 & 0.0146380235 & -7.00021486 &  2.886521e-12\\\\\n",
       "\t sohs        & -0.6909668284 & 0.8988056759 & -0.76876109 &  4.420708e-01\\\\\n",
       "\t hsg         & -0.5816130825 & 0.1944598339 & -2.99091628 &  2.794718e-03\\\\\n",
       "\t socl        & -0.3297645100 & 0.1234560370 & -2.67110883 &  7.584125e-03\\\\\n",
       "\t clg         & -0.0873795348 & 0.0668027183 & -1.30802364 &  1.909243e-01\\\\\n",
       "\t mw          &  0.1079622966 & 0.0834047742 &  1.29443785 &  1.955728e-01\\\\\n",
       "\t sout        &  0.0385942288 & 0.0747084056 &  0.51659821 &  6.054591e-01\\\\\n",
       "\t we          & -0.0035042290 & 0.0854161248 & -0.04102538 &  9.672773e-01\\\\\n",
       "\t occ2        & -0.0266616559 & 0.0050950699 & -5.23283414 &  1.736165e-07\\\\\n",
       "\t ind2        & -0.0161332883 & 0.0062181409 & -2.59455175 &  9.498551e-03\\\\\n",
       "\t exp1        &  0.0395328237 & 0.0481219801 &  0.82151282 &  4.113926e-01\\\\\n",
       "\t exp2        & -0.0470983654 & 0.5325374987 & -0.08844141 &  9.295293e-01\\\\\n",
       "\t exp3        & -0.0771428872 & 0.2154298415 & -0.35808821 &  7.202921e-01\\\\\n",
       "\t exp4        &  0.0192882912 & 0.0284494345 &  0.67798505 &  4.978119e-01\\\\\n",
       "\t sohs:exp1   & -0.0727104038 & 0.1901282833 & -0.38242813 &  7.021598e-01\\\\\n",
       "\t hsg:exp1    & -0.0250249777 & 0.0546884570 & -0.45759159 &  6.472654e-01\\\\\n",
       "\t socl:exp1   & -0.0609705247 & 0.0417513801 & -1.46032357 &  1.442628e-01\\\\\n",
       "\t clg:exp1    & -0.0380453251 & 0.0300321113 & -1.26682153 &  2.052770e-01\\\\\n",
       "\t occ2:exp1   &  0.0031061274 & 0.0017875747 &  1.73762097 &  8.233800e-02\\\\\n",
       "\t ind2:exp1   &  0.0004028696 & 0.0020727530 &  0.19436449 &  8.458982e-01\\\\\n",
       "\t mw:exp1     & -0.0270885424 & 0.0301188617 & -0.89938798 &  3.684885e-01\\\\\n",
       "\t sout:exp1   & -0.0078718177 & 0.0265857631 & -0.29609147 &  7.671723e-01\\\\\n",
       "\t we:exp1     & -0.0024976786 & 0.0305114339 & -0.08186041 &  9.347609e-01\\\\\n",
       "\t sohs:exp2   &  0.9029215434 & 1.3741164234 &  0.65709246 &  5.111511e-01\\\\\n",
       "\t hsg:exp2    &  0.1877000513 & 0.5146825687 &  0.36469090 &  7.153573e-01\\\\\n",
       "\t socl:exp2   &  0.5113091152 & 0.4400571846 &  1.16191516 &  2.453243e-01\\\\\n",
       "\t clg:exp2    &  0.2030426932 & 0.3705629183 &  0.54793041 &  5.837637e-01\\\\\n",
       "\t occ2:exp2   & -0.0343464030 & 0.0186214185 & -1.84445686 &  6.517456e-02\\\\\n",
       "\t ind2:exp2   & -0.0059163027 & 0.0210536072 & -0.28101136 &  7.787131e-01\\\\\n",
       "\t mw:exp2     &  0.2042857795 & 0.3188136442 &  0.64076862 &  5.217018e-01\\\\\n",
       "\t sout:exp2   &  0.0495460490 & 0.2765429344 &  0.17916223 &  8.578174e-01\\\\\n",
       "\t we:exp2     &  0.1190124708 & 0.3228730643 &  0.36860452 &  7.124378e-01\\\\\n",
       "\t sohs:exp3   & -0.3393591739 & 0.4077661328 & -0.83223972 &  4.053126e-01\\\\\n",
       "\t hsg:exp3    & -0.0373822818 & 0.1921294886 & -0.19456816 &  8.457388e-01\\\\\n",
       "\t socl:exp3   & -0.1409624503 & 0.1751678330 & -0.80472795 &  4.210142e-01\\\\\n",
       "\t clg:exp3    & -0.0065429757 & 0.1607227984 & -0.04070969 &  9.675289e-01\\\\\n",
       "\t occ2:exp3   &  0.0141678190 & 0.0071314004 &  1.98668119 &  4.701117e-02\\\\\n",
       "\t ind2:exp3   &  0.0042755765 & 0.0079664729 &  0.53669629 &  5.915008e-01\\\\\n",
       "\t mw:exp3     & -0.0669345618 & 0.1233227099 & -0.54275941 &  5.873192e-01\\\\\n",
       "\t sout:exp3   & -0.0212879782 & 0.1047325848 & -0.20326032 &  8.389397e-01\\\\\n",
       "\t we:exp3     & -0.0616049319 & 0.1249833626 & -0.49290506 &  6.221009e-01\\\\\n",
       "\t sohs:exp4   &  0.0390455106 & 0.0426584451 &  0.91530553 &  3.600745e-01\\\\\n",
       "\t hsg:exp4    &  0.0016745769 & 0.0243824377 &  0.06867963 &  9.452473e-01\\\\\n",
       "\t socl:exp4   &  0.0121324275 & 0.0230861018 &  0.52552950 &  5.992380e-01\\\\\n",
       "\t clg:exp4    & -0.0068571596 & 0.0222924956 & -0.30759946 &  7.583997e-01\\\\\n",
       "\t occ2:exp4   & -0.0019077024 & 0.0008949371 & -2.13166086 &  3.308241e-02\\\\\n",
       "\t ind2:exp4   & -0.0008135041 & 0.0009948429 & -0.81772116 &  4.135546e-01\\\\\n",
       "\t mw:exp4     &  0.0069431813 & 0.0155865910 &  0.44545862 &  6.560073e-01\\\\\n",
       "\t sout:exp4   &  0.0031200679 & 0.0129355024 &  0.24120191 &  8.094083e-01\\\\\n",
       "\t we:exp4     &  0.0080471453 & 0.0158007113 &  0.50929006 &  6.105710e-01\\\\\n",
       "\\end{tabular}\n"
      ],
      "text/markdown": [
       "\n",
       "A tibble: 51 × 5\n",
       "\n",
       "| term &lt;chr&gt; | estimate &lt;dbl&gt; | std.error &lt;dbl&gt; | statistic &lt;dbl&gt; | p.value &lt;dbl&gt; |\n",
       "|---|---|---|---|---|\n",
       "| (Intercept) |  3.5459817652 | 0.1293098800 | 27.42235755 | 1.498721e-154 |\n",
       "| sex         | -0.1024693096 | 0.0146380235 | -7.00021486 |  2.886521e-12 |\n",
       "| sohs        | -0.6909668284 | 0.8988056759 | -0.76876109 |  4.420708e-01 |\n",
       "| hsg         | -0.5816130825 | 0.1944598339 | -2.99091628 |  2.794718e-03 |\n",
       "| socl        | -0.3297645100 | 0.1234560370 | -2.67110883 |  7.584125e-03 |\n",
       "| clg         | -0.0873795348 | 0.0668027183 | -1.30802364 |  1.909243e-01 |\n",
       "| mw          |  0.1079622966 | 0.0834047742 |  1.29443785 |  1.955728e-01 |\n",
       "| sout        |  0.0385942288 | 0.0747084056 |  0.51659821 |  6.054591e-01 |\n",
       "| we          | -0.0035042290 | 0.0854161248 | -0.04102538 |  9.672773e-01 |\n",
       "| occ2        | -0.0266616559 | 0.0050950699 | -5.23283414 |  1.736165e-07 |\n",
       "| ind2        | -0.0161332883 | 0.0062181409 | -2.59455175 |  9.498551e-03 |\n",
       "| exp1        |  0.0395328237 | 0.0481219801 |  0.82151282 |  4.113926e-01 |\n",
       "| exp2        | -0.0470983654 | 0.5325374987 | -0.08844141 |  9.295293e-01 |\n",
       "| exp3        | -0.0771428872 | 0.2154298415 | -0.35808821 |  7.202921e-01 |\n",
       "| exp4        |  0.0192882912 | 0.0284494345 |  0.67798505 |  4.978119e-01 |\n",
       "| sohs:exp1   | -0.0727104038 | 0.1901282833 | -0.38242813 |  7.021598e-01 |\n",
       "| hsg:exp1    | -0.0250249777 | 0.0546884570 | -0.45759159 |  6.472654e-01 |\n",
       "| socl:exp1   | -0.0609705247 | 0.0417513801 | -1.46032357 |  1.442628e-01 |\n",
       "| clg:exp1    | -0.0380453251 | 0.0300321113 | -1.26682153 |  2.052770e-01 |\n",
       "| occ2:exp1   |  0.0031061274 | 0.0017875747 |  1.73762097 |  8.233800e-02 |\n",
       "| ind2:exp1   |  0.0004028696 | 0.0020727530 |  0.19436449 |  8.458982e-01 |\n",
       "| mw:exp1     | -0.0270885424 | 0.0301188617 | -0.89938798 |  3.684885e-01 |\n",
       "| sout:exp1   | -0.0078718177 | 0.0265857631 | -0.29609147 |  7.671723e-01 |\n",
       "| we:exp1     | -0.0024976786 | 0.0305114339 | -0.08186041 |  9.347609e-01 |\n",
       "| sohs:exp2   |  0.9029215434 | 1.3741164234 |  0.65709246 |  5.111511e-01 |\n",
       "| hsg:exp2    |  0.1877000513 | 0.5146825687 |  0.36469090 |  7.153573e-01 |\n",
       "| socl:exp2   |  0.5113091152 | 0.4400571846 |  1.16191516 |  2.453243e-01 |\n",
       "| clg:exp2    |  0.2030426932 | 0.3705629183 |  0.54793041 |  5.837637e-01 |\n",
       "| occ2:exp2   | -0.0343464030 | 0.0186214185 | -1.84445686 |  6.517456e-02 |\n",
       "| ind2:exp2   | -0.0059163027 | 0.0210536072 | -0.28101136 |  7.787131e-01 |\n",
       "| mw:exp2     |  0.2042857795 | 0.3188136442 |  0.64076862 |  5.217018e-01 |\n",
       "| sout:exp2   |  0.0495460490 | 0.2765429344 |  0.17916223 |  8.578174e-01 |\n",
       "| we:exp2     |  0.1190124708 | 0.3228730643 |  0.36860452 |  7.124378e-01 |\n",
       "| sohs:exp3   | -0.3393591739 | 0.4077661328 | -0.83223972 |  4.053126e-01 |\n",
       "| hsg:exp3    | -0.0373822818 | 0.1921294886 | -0.19456816 |  8.457388e-01 |\n",
       "| socl:exp3   | -0.1409624503 | 0.1751678330 | -0.80472795 |  4.210142e-01 |\n",
       "| clg:exp3    | -0.0065429757 | 0.1607227984 | -0.04070969 |  9.675289e-01 |\n",
       "| occ2:exp3   |  0.0141678190 | 0.0071314004 |  1.98668119 |  4.701117e-02 |\n",
       "| ind2:exp3   |  0.0042755765 | 0.0079664729 |  0.53669629 |  5.915008e-01 |\n",
       "| mw:exp3     | -0.0669345618 | 0.1233227099 | -0.54275941 |  5.873192e-01 |\n",
       "| sout:exp3   | -0.0212879782 | 0.1047325848 | -0.20326032 |  8.389397e-01 |\n",
       "| we:exp3     | -0.0616049319 | 0.1249833626 | -0.49290506 |  6.221009e-01 |\n",
       "| sohs:exp4   |  0.0390455106 | 0.0426584451 |  0.91530553 |  3.600745e-01 |\n",
       "| hsg:exp4    |  0.0016745769 | 0.0243824377 |  0.06867963 |  9.452473e-01 |\n",
       "| socl:exp4   |  0.0121324275 | 0.0230861018 |  0.52552950 |  5.992380e-01 |\n",
       "| clg:exp4    | -0.0068571596 | 0.0222924956 | -0.30759946 |  7.583997e-01 |\n",
       "| occ2:exp4   | -0.0019077024 | 0.0008949371 | -2.13166086 |  3.308241e-02 |\n",
       "| ind2:exp4   | -0.0008135041 | 0.0009948429 | -0.81772116 |  4.135546e-01 |\n",
       "| mw:exp4     |  0.0069431813 | 0.0155865910 |  0.44545862 |  6.560073e-01 |\n",
       "| sout:exp4   |  0.0031200679 | 0.0129355024 |  0.24120191 |  8.094083e-01 |\n",
       "| we:exp4     |  0.0080471453 | 0.0158007113 |  0.50929006 |  6.105710e-01 |\n",
       "\n"
      ],
      "text/plain": [
       "   term        estimate      std.error    statistic   p.value      \n",
       "1  (Intercept)  3.5459817652 0.1293098800 27.42235755 1.498721e-154\n",
       "2  sex         -0.1024693096 0.0146380235 -7.00021486  2.886521e-12\n",
       "3  sohs        -0.6909668284 0.8988056759 -0.76876109  4.420708e-01\n",
       "4  hsg         -0.5816130825 0.1944598339 -2.99091628  2.794718e-03\n",
       "5  socl        -0.3297645100 0.1234560370 -2.67110883  7.584125e-03\n",
       "6  clg         -0.0873795348 0.0668027183 -1.30802364  1.909243e-01\n",
       "7  mw           0.1079622966 0.0834047742  1.29443785  1.955728e-01\n",
       "8  sout         0.0385942288 0.0747084056  0.51659821  6.054591e-01\n",
       "9  we          -0.0035042290 0.0854161248 -0.04102538  9.672773e-01\n",
       "10 occ2        -0.0266616559 0.0050950699 -5.23283414  1.736165e-07\n",
       "11 ind2        -0.0161332883 0.0062181409 -2.59455175  9.498551e-03\n",
       "12 exp1         0.0395328237 0.0481219801  0.82151282  4.113926e-01\n",
       "13 exp2        -0.0470983654 0.5325374987 -0.08844141  9.295293e-01\n",
       "14 exp3        -0.0771428872 0.2154298415 -0.35808821  7.202921e-01\n",
       "15 exp4         0.0192882912 0.0284494345  0.67798505  4.978119e-01\n",
       "16 sohs:exp1   -0.0727104038 0.1901282833 -0.38242813  7.021598e-01\n",
       "17 hsg:exp1    -0.0250249777 0.0546884570 -0.45759159  6.472654e-01\n",
       "18 socl:exp1   -0.0609705247 0.0417513801 -1.46032357  1.442628e-01\n",
       "19 clg:exp1    -0.0380453251 0.0300321113 -1.26682153  2.052770e-01\n",
       "20 occ2:exp1    0.0031061274 0.0017875747  1.73762097  8.233800e-02\n",
       "21 ind2:exp1    0.0004028696 0.0020727530  0.19436449  8.458982e-01\n",
       "22 mw:exp1     -0.0270885424 0.0301188617 -0.89938798  3.684885e-01\n",
       "23 sout:exp1   -0.0078718177 0.0265857631 -0.29609147  7.671723e-01\n",
       "24 we:exp1     -0.0024976786 0.0305114339 -0.08186041  9.347609e-01\n",
       "25 sohs:exp2    0.9029215434 1.3741164234  0.65709246  5.111511e-01\n",
       "26 hsg:exp2     0.1877000513 0.5146825687  0.36469090  7.153573e-01\n",
       "27 socl:exp2    0.5113091152 0.4400571846  1.16191516  2.453243e-01\n",
       "28 clg:exp2     0.2030426932 0.3705629183  0.54793041  5.837637e-01\n",
       "29 occ2:exp2   -0.0343464030 0.0186214185 -1.84445686  6.517456e-02\n",
       "30 ind2:exp2   -0.0059163027 0.0210536072 -0.28101136  7.787131e-01\n",
       "31 mw:exp2      0.2042857795 0.3188136442  0.64076862  5.217018e-01\n",
       "32 sout:exp2    0.0495460490 0.2765429344  0.17916223  8.578174e-01\n",
       "33 we:exp2      0.1190124708 0.3228730643  0.36860452  7.124378e-01\n",
       "34 sohs:exp3   -0.3393591739 0.4077661328 -0.83223972  4.053126e-01\n",
       "35 hsg:exp3    -0.0373822818 0.1921294886 -0.19456816  8.457388e-01\n",
       "36 socl:exp3   -0.1409624503 0.1751678330 -0.80472795  4.210142e-01\n",
       "37 clg:exp3    -0.0065429757 0.1607227984 -0.04070969  9.675289e-01\n",
       "38 occ2:exp3    0.0141678190 0.0071314004  1.98668119  4.701117e-02\n",
       "39 ind2:exp3    0.0042755765 0.0079664729  0.53669629  5.915008e-01\n",
       "40 mw:exp3     -0.0669345618 0.1233227099 -0.54275941  5.873192e-01\n",
       "41 sout:exp3   -0.0212879782 0.1047325848 -0.20326032  8.389397e-01\n",
       "42 we:exp3     -0.0616049319 0.1249833626 -0.49290506  6.221009e-01\n",
       "43 sohs:exp4    0.0390455106 0.0426584451  0.91530553  3.600745e-01\n",
       "44 hsg:exp4     0.0016745769 0.0243824377  0.06867963  9.452473e-01\n",
       "45 socl:exp4    0.0121324275 0.0230861018  0.52552950  5.992380e-01\n",
       "46 clg:exp4    -0.0068571596 0.0222924956 -0.30759946  7.583997e-01\n",
       "47 occ2:exp4   -0.0019077024 0.0008949371 -2.13166086  3.308241e-02\n",
       "48 ind2:exp4   -0.0008135041 0.0009948429 -0.81772116  4.135546e-01\n",
       "49 mw:exp4      0.0069431813 0.0155865910  0.44545862  6.560073e-01\n",
       "50 sout:exp4    0.0031200679 0.0129355024  0.24120191  8.094083e-01\n",
       "51 we:exp4      0.0080471453 0.0158007113  0.50929006  6.105710e-01"
      ]
     },
     "metadata": {},
     "output_type": "display_data"
    },
    {
     "name": "stdout",
     "output_type": "stream",
     "text": [
      "\n",
      " Number of regressors in the flexible model: 51"
     ]
    }
   ],
   "source": [
    "# 2. flexible model\n",
    "flex <- lwage ~ sex + sohs + hsg+ socl+ clg+ mw + sout + we + occ2 + ind2 + \n",
    "  (exp1 + exp2 + exp3 + exp4)*(sohs + hsg + socl + clg + occ2 + ind2 + mw + sout + we)\n",
    "regflex <- lm(flex, data=data)\n",
    "tidy(regflex)\n",
    "cat(\"\\n Number of regressors in the flexible model:\",length(regflex$coef)) # number of regressors in the Flexible Model\n"
   ]
  },
  {
   "cell_type": "markdown",
   "metadata": {
    "id": "fvJXN4iQA68g",
    "papermill": {
     "duration": 0.019689,
     "end_time": "2021-07-23T14:59:59.889169",
     "exception": false,
     "start_time": "2021-07-23T14:59:59.869480",
     "status": "completed"
    },
    "tags": []
   },
   "source": [
    "Note that the flexible model consists of $246$ regressors."
   ]
  },
  {
   "cell_type": "markdown",
   "metadata": {
    "id": "j7070T0SA68g",
    "papermill": {
     "duration": 0.019229,
     "end_time": "2021-07-23T14:59:59.927610",
     "exception": false,
     "start_time": "2021-07-23T14:59:59.908381",
     "status": "completed"
    },
    "tags": []
   },
   "source": [
    "#### Re-estimating the flexible model using Lasso\n",
    "We re-estimate the flexible model using Lasso (the least absolute shrinkage and selection operator) rather than ols. Lasso is a penalized regression method that can be used to reduce the complexity of a regression model when the ratio $p/n$ is not small. We will introduce this approach formally later in the course, but for now, we try it out here as a black-box method.  "
   ]
  },
  {
   "cell_type": "code",
   "execution_count": 7,
   "metadata": {
    "colab": {
     "base_uri": "https://localhost:8080/"
    },
    "executionInfo": {
     "elapsed": 1396,
     "status": "ok",
     "timestamp": 1658245410203,
     "user": {
      "displayName": "Jhon Kevin Flores Rojas",
      "userId": "10267608749788811245"
     },
     "user_tz": 300
    },
    "id": "y7p1S4IBA68h",
    "outputId": "556cd0f1-0e6c-4a6b-b043-ad1e2de0a5bd",
    "papermill": {
     "duration": 6.792638,
     "end_time": "2021-07-23T15:00:06.739208",
     "exception": false,
     "start_time": "2021-07-23T14:59:59.946570",
     "status": "completed"
    },
    "tags": [],
    "vscode": {
     "languageId": "r"
    }
   },
   "outputs": [
    {
     "name": "stdout",
     "output_type": "stream",
     "text": [
      "\n",
      "Call:\n",
      "rlasso.formula(formula = flex, data = data)\n",
      "\n",
      "Post-Lasso Estimation:  TRUE \n",
      "\n",
      "Total number of variables: 50\n",
      "Number of selected variables: 7 \n",
      "\n",
      "Residuals: \n",
      "     Min       1Q   Median       3Q      Max \n",
      "-2.06952 -0.30967 -0.01303  0.30262  3.60099 \n",
      "\n",
      "            Estimate\n",
      "(Intercept)    3.493\n",
      "sex           -0.104\n",
      "sohs          -0.539\n",
      "hsg           -0.431\n",
      "socl          -0.306\n",
      "clg            0.000\n",
      "mw             0.000\n",
      "sout           0.000\n",
      "we             0.000\n",
      "occ2          -0.020\n",
      "ind2          -0.013\n",
      "exp1           0.009\n",
      "exp2           0.000\n",
      "exp3           0.000\n",
      "exp4           0.000\n",
      "sohs:exp1      0.000\n",
      "hsg:exp1       0.000\n",
      "socl:exp1      0.000\n",
      "clg:exp1       0.000\n",
      "occ2:exp1      0.000\n",
      "ind2:exp1      0.000\n",
      "mw:exp1        0.000\n",
      "sout:exp1      0.000\n",
      "we:exp1        0.000\n",
      "sohs:exp2      0.000\n",
      "hsg:exp2       0.000\n",
      "socl:exp2      0.000\n",
      "clg:exp2       0.000\n",
      "occ2:exp2      0.000\n",
      "ind2:exp2      0.000\n",
      "mw:exp2        0.000\n",
      "sout:exp2      0.000\n",
      "we:exp2        0.000\n",
      "sohs:exp3      0.000\n",
      "hsg:exp3       0.000\n",
      "socl:exp3      0.000\n",
      "clg:exp3       0.000\n",
      "occ2:exp3      0.000\n",
      "ind2:exp3      0.000\n",
      "mw:exp3        0.000\n",
      "sout:exp3      0.000\n",
      "we:exp3        0.000\n",
      "sohs:exp4      0.000\n",
      "hsg:exp4       0.000\n",
      "socl:exp4      0.000\n",
      "clg:exp4       0.000\n",
      "occ2:exp4      0.000\n",
      "ind2:exp4      0.000\n",
      "mw:exp4        0.000\n",
      "sout:exp4      0.000\n",
      "we:exp4        0.000\n",
      "\n",
      "Residual standard error: 0.5037\n",
      "Multiple R-squared:  0.2203\n",
      "Adjusted R-squared:  0.2192\n",
      "Joint significance test:\n",
      " the sup score statistic for joint significance test is  1180 with a p-value of 0.018\n"
     ]
    }
   ],
   "source": [
    "# Flexible model using Lasso\n",
    "# library(hdm)\n",
    "lassoreg<- rlasso(flex, data=data) \n",
    "sumlasso<- summary(lassoreg)"
   ]
  },
  {
   "cell_type": "markdown",
   "metadata": {
    "id": "iiuUs2cjA68h",
    "papermill": {
     "duration": 0.01983,
     "end_time": "2021-07-23T15:00:06.779753",
     "exception": false,
     "start_time": "2021-07-23T15:00:06.759923",
     "status": "completed"
    },
    "tags": []
   },
   "source": [
    "#### Evaluating the predictive performance of the basic and flexible models\n",
    "Now, we can evaluate the performance of both models based on the (adjusted) $R^2_{sample}$ and the (adjusted) $MSE_{sample}$:"
   ]
  },
  {
   "cell_type": "code",
   "execution_count": 8,
   "metadata": {
    "colab": {
     "base_uri": "https://localhost:8080/"
    },
    "executionInfo": {
     "elapsed": 295,
     "status": "ok",
     "timestamp": 1658245566927,
     "user": {
      "displayName": "Jhon Kevin Flores Rojas",
      "userId": "10267608749788811245"
     },
     "user_tz": 300
    },
    "id": "Jnro9ij4A68h",
    "outputId": "ac06a341-a660-474a-cd83-b2c3939e12af",
    "papermill": {
     "duration": 0.148355,
     "end_time": "2021-07-23T15:00:06.947844",
     "exception": false,
     "start_time": "2021-07-23T15:00:06.799489",
     "status": "completed"
    },
    "tags": [],
    "vscode": {
     "languageId": "r"
    }
   },
   "outputs": [
    {
     "name": "stdout",
     "output_type": "stream",
     "text": [
      "R-squared for the basic model:\t 0.2320083 \n",
      "Adjusted R-squared for the basic model:\t 0.2303641R-squared for the flexible model:\t 0.2452406 \n",
      "Adjusted R-squared for the flexible model:\t 0.2378395\n",
      "R-squared for the lasso with flexible model:\t 0.2202567 \n",
      "Adjusted R-squared for the flexible model:\t 0.2191952\n",
      "MSE for the basic model:  0.249809 \n",
      "Adjusted MSE for the basic model:  0.2503924\n",
      "MSE for the flexible model:  0.2455048 \n",
      "Adjusted MSE for the lasso flexible model:  0.2479604\n",
      "MSE for the lasso flexible model:  0.2536315 \n",
      "Adjusted MSE for the lasso flexible model:  0.2561683"
     ]
    }
   ],
   "source": [
    "# Assess predictive performance\n",
    "sumbasic <- summary(regbasic)\n",
    "sumflex <- summary(regflex)\n",
    "\n",
    "# R-squared and adjusted R-squared\n",
    "R2_1 <- sumbasic$r.squared\n",
    "R2_adj1 <- sumbasic$adj.r.squared\n",
    "cat(\n",
    "    \"R-squared for the basic model:\\t\", R2_1\n",
    "    , \"\\nAdjusted R-squared for the basic model:\\t\", R2_adj1\n",
    "    )\n",
    "\n",
    "R2_2 <- sumflex$r.squared\n",
    "R2_adj2 <- sumflex$adj.r.squared\n",
    "cat(\n",
    "    \"R-squared for the flexible model:\\t\", R2_2\n",
    "    , \"\\nAdjusted R-squared for the flexible model:\\t\", R2_adj2\n",
    "    )\n",
    "\n",
    "R2_3 <- sumlasso$r.squared\n",
    "R2_adj3 <- sumlasso$adj.r.squared\n",
    "cat(\n",
    "    \"\\nR-squared for the lasso with flexible model:\\t\", R2_3\n",
    "    , \"\\nAdjusted R-squared for the flexible model:\\t\", R2_adj3\n",
    "    )\n",
    "\n",
    "# MSE and adjusted MSE\n",
    "MSE1 <- mean(sumbasic$res^2)\n",
    "p1 <- sumbasic$df[1] # number of regressors\n",
    "MSE_adj1 <- (n / (n - p1)) * MSE1\n",
    "\n",
    "cat(\n",
    "    \"\\nMSE for the basic model: \", MSE1\n",
    "    , \"\\nAdjusted MSE for the basic model: \", MSE_adj1\n",
    "    )\n",
    "\n",
    "MSE2 <-mean(sumflex$res^2)\n",
    "p2 <- sumflex$df[1]\n",
    "MSE_adj2 <- (n / (n - p2)) * MSE2\n",
    "\n",
    "cat(\n",
    "    \"\\nMSE for the flexible model: \", MSE2\n",
    "    , \"\\nAdjusted MSE for the lasso flexible model: \", MSE_adj2\n",
    ")\n",
    "\n",
    "MSEL <-mean(sumlasso$res^2)\n",
    "pL <- length(sumlasso$coef)\n",
    "MSE_adj3 <- (n / (n - pL)) * MSEL\n",
    "cat(\n",
    "    \"\\nMSE for the lasso flexible model: \", MSEL\n",
    "    , \"\\nAdjusted MSE for the lasso flexible model: \", MSE_adj3\n",
    ")"
   ]
  },
  {
   "cell_type": "code",
   "execution_count": 9,
   "metadata": {
    "colab": {
     "base_uri": "https://localhost:8080/",
     "height": 192
    },
    "executionInfo": {
     "elapsed": 19,
     "status": "ok",
     "timestamp": 1658246583476,
     "user": {
      "displayName": "Jhon Kevin Flores Rojas",
      "userId": "10267608749788811245"
     },
     "user_tz": 300
    },
    "id": "LntLqoh7A68h",
    "outputId": "8477aa6e-6c7e-444f-b2d4-c5db7fdbab6c",
    "papermill": {
     "duration": 0.065877,
     "end_time": "2021-07-23T15:00:07.050933",
     "exception": false,
     "start_time": "2021-07-23T15:00:06.985056",
     "status": "completed"
    },
    "tags": [],
    "vscode": {
     "languageId": "r"
    }
   },
   "outputs": [
    {
     "data": {
      "text/html": [
       "<table class=\"dataframe\">\n",
       "<caption>A data.frame: 3 × 6</caption>\n",
       "<thead>\n",
       "\t<tr><th scope=col>Model</th><th scope=col>p</th><th scope=col>R^2_sample</th><th scope=col>MSE_sample</th><th scope=col>R^2_adjusted</th><th scope=col>MSE_adjusted</th></tr>\n",
       "\t<tr><th scope=col>&lt;chr&gt;</th><th scope=col>&lt;dbl&gt;</th><th scope=col>&lt;dbl&gt;</th><th scope=col>&lt;dbl&gt;</th><th scope=col>&lt;dbl&gt;</th><th scope=col>&lt;dbl&gt;</th></tr>\n",
       "</thead>\n",
       "<tbody>\n",
       "\t<tr><td>Basic reg   </td><td>12</td><td>0.2320083</td><td>0.2498090</td><td>0.2303641</td><td>0.2503924</td></tr>\n",
       "\t<tr><td>Flexible reg</td><td>51</td><td>0.2452406</td><td>0.2455048</td><td>0.2378395</td><td>0.2479604</td></tr>\n",
       "\t<tr><td>Lasso flex  </td><td>51</td><td>0.2202567</td><td>0.2536315</td><td>0.2191952</td><td>0.2561683</td></tr>\n",
       "</tbody>\n",
       "</table>\n"
      ],
      "text/latex": [
       "A data.frame: 3 × 6\n",
       "\\begin{tabular}{llllll}\n",
       " Model & p & R\\textasciicircum{}2\\_sample & MSE\\_sample & R\\textasciicircum{}2\\_adjusted & MSE\\_adjusted\\\\\n",
       " <chr> & <dbl> & <dbl> & <dbl> & <dbl> & <dbl>\\\\\n",
       "\\hline\n",
       "\t Basic reg    & 12 & 0.2320083 & 0.2498090 & 0.2303641 & 0.2503924\\\\\n",
       "\t Flexible reg & 51 & 0.2452406 & 0.2455048 & 0.2378395 & 0.2479604\\\\\n",
       "\t Lasso flex   & 51 & 0.2202567 & 0.2536315 & 0.2191952 & 0.2561683\\\\\n",
       "\\end{tabular}\n"
      ],
      "text/markdown": [
       "\n",
       "A data.frame: 3 × 6\n",
       "\n",
       "| Model &lt;chr&gt; | p &lt;dbl&gt; | R^2_sample &lt;dbl&gt; | MSE_sample &lt;dbl&gt; | R^2_adjusted &lt;dbl&gt; | MSE_adjusted &lt;dbl&gt; |\n",
       "|---|---|---|---|---|---|\n",
       "| Basic reg    | 12 | 0.2320083 | 0.2498090 | 0.2303641 | 0.2503924 |\n",
       "| Flexible reg | 51 | 0.2452406 | 0.2455048 | 0.2378395 | 0.2479604 |\n",
       "| Lasso flex   | 51 | 0.2202567 | 0.2536315 | 0.2191952 | 0.2561683 |\n",
       "\n"
      ],
      "text/plain": [
       "  Model        p  R^2_sample MSE_sample R^2_adjusted MSE_adjusted\n",
       "1 Basic reg    12 0.2320083  0.2498090  0.2303641    0.2503924   \n",
       "2 Flexible reg 51 0.2452406  0.2455048  0.2378395    0.2479604   \n",
       "3 Lasso flex   51 0.2202567  0.2536315  0.2191952    0.2561683   "
      ]
     },
     "metadata": {},
     "output_type": "display_data"
    }
   ],
   "source": [
    "# Output the table\n",
    "table <- matrix(0, 3, 5)\n",
    "table[1,1:5]   <- c(p1,R2_1,MSE1,R2_adj1,MSE_adj1)\n",
    "table[2,1:5]   <- c(p2,R2_2,MSE2,R2_adj2,MSE_adj2)\n",
    "table[3,1:5]   <- c(pL,R2_3,MSEL,R2_adj3,MSE_adj3)\n",
    "colnames(table)<- c(\"p\",\"R^2_sample\",\"MSE_sample\",\"R^2_adjusted\", \"MSE_adjusted\")\n",
    "rownames(table)<- c(\"Basic reg\",\"Flexible reg\", \"Lasso flex\")\n",
    "table |> as.data.frame() |> rownames_to_column(\"Model\")"
   ]
  },
  {
   "cell_type": "markdown",
   "metadata": {
    "id": "XFUIxCs2A68i",
    "papermill": {
     "duration": 0.02361,
     "end_time": "2021-07-23T15:00:07.098626",
     "exception": false,
     "start_time": "2021-07-23T15:00:07.075016",
     "status": "completed"
    },
    "tags": []
   },
   "source": [
    "Considering the measures above, the flexible model performs slightly better than the basic model. \n",
    "\n",
    "As $p/n$ is not large, the discrepancy between the adjusted and unadjusted measures is not large. However, if it were, we might still like to apply **data splitting** as a more general procedure to deal with potential overfitting if $p/n$. We illustrate the approach in the following."
   ]
  },
  {
   "cell_type": "markdown",
   "metadata": {
    "id": "B2CVeng6A68i",
    "papermill": {
     "duration": 0.023472,
     "end_time": "2021-07-23T15:00:07.145938",
     "exception": false,
     "start_time": "2021-07-23T15:00:07.122466",
     "status": "completed"
    },
    "tags": []
   },
   "source": [
    "## Data Splitting\n",
    "\n",
    "Measure the prediction quality of the two models via data splitting:\n",
    "\n",
    "- Randomly split the data into one training sample and one testing sample. Here we just use a simple method (stratified splitting is a more sophisticated version of splitting that we might consider).\n",
    "- Use the training sample to estimate the parameters of the Basic Model and the Flexible Model.\n",
    "- Use the testing sample for evaluation. Predict the $\\mathtt{wage}$  of every observation in the testing sample based on the estimated parameters in the training sample.\n",
    "- Calculate the Mean Squared Prediction Error $MSE_{test}$ based on the testing sample for both prediction models. "
   ]
  },
  {
   "cell_type": "code",
   "execution_count": 10,
   "metadata": {
    "id": "MRgAlxU6A68i",
    "papermill": {
     "duration": 0.047973,
     "end_time": "2021-07-23T15:00:07.218018",
     "exception": false,
     "start_time": "2021-07-23T15:00:07.170045",
     "status": "completed"
    },
    "tags": [],
    "vscode": {
     "languageId": "r"
    }
   },
   "outputs": [],
   "source": [
    "# splitting the data\n",
    "set.seed(1) # to make the results replicable (we will generate random numbers)\n",
    "random <- sample(1:n, floor(n*4/5))\n",
    "# draw (4/5)*n random numbers from 1 to n without replacing them\n",
    "train <- data[random,] # training sample\n",
    "test <- data[-random,] # testing sample"
   ]
  },
  {
   "cell_type": "code",
   "execution_count": 11,
   "metadata": {
    "colab": {
     "base_uri": "https://localhost:8080/"
    },
    "executionInfo": {
     "elapsed": 18,
     "status": "ok",
     "timestamp": 1658246024620,
     "user": {
      "displayName": "Jhon Kevin Flores Rojas",
      "userId": "10267608749788811245"
     },
     "user_tz": 300
    },
    "id": "Tjj0yMVeA68i",
    "outputId": "ef8631d8-1fa3-481a-ed34-457cde47324f",
    "papermill": {
     "duration": 0.080989,
     "end_time": "2021-07-23T15:00:07.323825",
     "exception": false,
     "start_time": "2021-07-23T15:00:07.242836",
     "status": "completed"
    },
    "tags": [],
    "vscode": {
     "languageId": "r"
    }
   },
   "outputs": [
    {
     "name": "stdout",
     "output_type": "stream",
     "text": [
      "Test MSE for the basic model:  0.2253461 \n",
      "Test R2 for the basic model:  0.2316631"
     ]
    }
   ],
   "source": [
    "# basic model\n",
    "# estimating the parameters in the training sample\n",
    "regbasic <- lm(basic, data=train)\n",
    "\n",
    "# calculating the out-of-sample MSE\n",
    "trainregbasic <- predict(regbasic, newdata=test)\n",
    "y_test <- log(test$wage)\n",
    "MSE_test1 <- sum((y_test - trainregbasic)^2) / length(y_test)\n",
    "R2_test1 <- 1 - MSE_test1 / var(y_test)\n",
    "\n",
    "cat(\n",
    "  \"Test MSE for the basic model: \", MSE_test1\n",
    "  , \"\\nTest R2 for the basic model: \", R2_test1\n",
    "  )\n",
    "\n"
   ]
  },
  {
   "cell_type": "markdown",
   "metadata": {
    "id": "ucmA4ilpA68j",
    "papermill": {
     "duration": 0.044297,
     "end_time": "2021-07-23T15:00:07.414091",
     "exception": false,
     "start_time": "2021-07-23T15:00:07.369794",
     "status": "completed"
    },
    "tags": []
   },
   "source": [
    "In the basic model, the $MSE_{test}$ is quite close to the $MSE_{sample}$."
   ]
  },
  {
   "cell_type": "code",
   "execution_count": 12,
   "metadata": {
    "colab": {
     "base_uri": "https://localhost:8080/"
    },
    "executionInfo": {
     "elapsed": 10,
     "status": "ok",
     "timestamp": 1658246014520,
     "user": {
      "displayName": "Jhon Kevin Flores Rojas",
      "userId": "10267608749788811245"
     },
     "user_tz": 300
    },
    "id": "Q-D5NosRA68k",
    "outputId": "1c98687c-c1f9-4f71-8b1c-1ec8169ce0b8",
    "papermill": {
     "duration": 0.167862,
     "end_time": "2021-07-23T15:00:07.606696",
     "exception": false,
     "start_time": "2021-07-23T15:00:07.438834",
     "status": "completed"
    },
    "tags": [],
    "vscode": {
     "languageId": "r"
    }
   },
   "outputs": [
    {
     "name": "stdout",
     "output_type": "stream",
     "text": [
      "Test MSE for the flexible model:  0.2277139 \n",
      "Test R2 for the flexible model:  0.2235902"
     ]
    }
   ],
   "source": [
    "# flexible model\n",
    "# estimating the parameters\n",
    "options(warn=-1) # ignore warnings \n",
    "regflex <- lm(flex, data=train)\n",
    "\n",
    "# calculating the out-of-sample MSE\n",
    "trainregflex<- predict(regflex, newdata=test)\n",
    "y_test <- log(test$wage)\n",
    "MSE_test2 <- sum((y_test - trainregflex)^2) / length(y_test)\n",
    "R2_test2 <- 1- MSE_test2/var(y_test)\n",
    "\n",
    "cat(\n",
    "  \"Test MSE for the flexible model: \", MSE_test2\n",
    "  , \"\\nTest R2 for the flexible model: \", R2_test2\n",
    "  )"
   ]
  },
  {
   "cell_type": "markdown",
   "metadata": {
    "id": "eUHasIRsA68k",
    "papermill": {
     "duration": 0.036787,
     "end_time": "2021-07-23T15:00:07.724721",
     "exception": false,
     "start_time": "2021-07-23T15:00:07.687934",
     "status": "completed"
    },
    "tags": []
   },
   "source": [
    "In the flexible model too, the discrepancy between the $MSE_{test}$ and the $MSE_{sample}$ is not large."
   ]
  },
  {
   "cell_type": "markdown",
   "metadata": {
    "id": "f8wcKyadA68k",
    "papermill": {
     "duration": 0.024374,
     "end_time": "2021-07-23T15:00:07.773814",
     "exception": false,
     "start_time": "2021-07-23T15:00:07.749440",
     "status": "completed"
    },
    "tags": []
   },
   "source": [
    "It is worth noticing that the $MSE_{test}$ varies across different data splits. Hence, it is a good idea to average the out-of-sample MSE over different data splits to get valid results.\n",
    "\n",
    "Nevertheless, we observe that, based on the out-of-sample $MSE$, the basic model using ols regression performs **about as well (or slightly better)** than the flexible model. \n",
    "\n",
    "Next, let us use lasso regression in the flexible model instead of ols regression. The out-of-sample $MSE$ on the test sample can be computed for any black-box prediction method, so we also compare the performance of lasso regression in the flexible model to ols regression."
   ]
  },
  {
   "cell_type": "code",
   "execution_count": 13,
   "metadata": {
    "colab": {
     "base_uri": "https://localhost:8080/"
    },
    "executionInfo": {
     "elapsed": 299,
     "status": "ok",
     "timestamp": 1658246096682,
     "user": {
      "displayName": "Jhon Kevin Flores Rojas",
      "userId": "10267608749788811245"
     },
     "user_tz": 300
    },
    "id": "JKdhSw9QA68k",
    "outputId": "510b65b3-82d6-4e95-8029-59934ab1283b",
    "papermill": {
     "duration": 1.824065,
     "end_time": "2021-07-23T15:00:09.622004",
     "exception": false,
     "start_time": "2021-07-23T15:00:07.797939",
     "status": "completed"
    },
    "tags": [],
    "vscode": {
     "languageId": "r"
    }
   },
   "outputs": [
    {
     "name": "stdout",
     "output_type": "stream",
     "text": [
      "Test MSE for the lasso on flexible model:  0.2321006 \n",
      "Test R2 for the lasso flexible model:  0.2086333"
     ]
    }
   ],
   "source": [
    "# flexible model using lasso\n",
    "library(hdm) # a library for high-dimensional metrics\n",
    "reglasso <- rlasso(flex, data=train, post=FALSE) # estimating the parameters\n",
    "\n",
    "# calculating the out-of-sample MSE\n",
    "trainreglasso<- predict(reglasso, newdata=test)\n",
    "MSE_lasso <- sum((y_test - trainreglasso)^2) / length(y_test)\n",
    "R2_lasso<- 1 - MSE_lasso / var(y_test)\n",
    "\n",
    "cat(\n",
    "  \"Test MSE for the lasso on flexible model: \", MSE_lasso, \n",
    "  \"\\nTest R2 for the lasso flexible model: \", R2_lasso\n",
    "  )"
   ]
  },
  {
   "cell_type": "markdown",
   "metadata": {
    "id": "7KxRMf1xA68l",
    "papermill": {
     "duration": 0.047069,
     "end_time": "2021-07-23T15:00:09.716244",
     "exception": false,
     "start_time": "2021-07-23T15:00:09.669175",
     "status": "completed"
    },
    "tags": []
   },
   "source": [
    "Finally, let us summarize the results:"
   ]
  },
  {
   "cell_type": "code",
   "execution_count": 14,
   "metadata": {
    "colab": {
     "base_uri": "https://localhost:8080/",
     "height": 192
    },
    "executionInfo": {
     "elapsed": 30,
     "status": "ok",
     "timestamp": 1658246229082,
     "user": {
      "displayName": "Jhon Kevin Flores Rojas",
      "userId": "10267608749788811245"
     },
     "user_tz": 300
    },
    "id": "wgkwqqiCA68l",
    "outputId": "b628ed32-8ed2-4d40-c48f-641f634f143b",
    "papermill": {
     "duration": 0.059033,
     "end_time": "2021-07-23T15:00:09.800894",
     "exception": false,
     "start_time": "2021-07-23T15:00:09.741861",
     "status": "completed"
    },
    "tags": [],
    "vscode": {
     "languageId": "r"
    }
   },
   "outputs": [
    {
     "data": {
      "text/html": [
       "<table class=\"dataframe\">\n",
       "<caption>A tibble: 3 × 3</caption>\n",
       "<thead>\n",
       "\t<tr><th scope=col>Model</th><th scope=col>MSE test</th><th scope=col>R2_test</th></tr>\n",
       "\t<tr><th scope=col>&lt;chr&gt;</th><th scope=col>&lt;dbl&gt;</th><th scope=col>&lt;dbl&gt;</th></tr>\n",
       "</thead>\n",
       "<tbody>\n",
       "\t<tr><td>Basic reg       </td><td>0.2253461</td><td>0.2316631</td></tr>\n",
       "\t<tr><td>Flexible reg    </td><td>0.2277139</td><td>0.2235902</td></tr>\n",
       "\t<tr><td>Lasso Regression</td><td>0.2321006</td><td>0.2086333</td></tr>\n",
       "</tbody>\n",
       "</table>\n"
      ],
      "text/latex": [
       "A tibble: 3 × 3\n",
       "\\begin{tabular}{lll}\n",
       " Model & MSE test & R2\\_test\\\\\n",
       " <chr> & <dbl> & <dbl>\\\\\n",
       "\\hline\n",
       "\t Basic reg        & 0.2253461 & 0.2316631\\\\\n",
       "\t Flexible reg     & 0.2277139 & 0.2235902\\\\\n",
       "\t Lasso Regression & 0.2321006 & 0.2086333\\\\\n",
       "\\end{tabular}\n"
      ],
      "text/markdown": [
       "\n",
       "A tibble: 3 × 3\n",
       "\n",
       "| Model &lt;chr&gt; | MSE test &lt;dbl&gt; | R2_test &lt;dbl&gt; |\n",
       "|---|---|---|\n",
       "| Basic reg        | 0.2253461 | 0.2316631 |\n",
       "| Flexible reg     | 0.2277139 | 0.2235902 |\n",
       "| Lasso Regression | 0.2321006 | 0.2086333 |\n",
       "\n"
      ],
      "text/plain": [
       "  Model            MSE test  R2_test  \n",
       "1 Basic reg        0.2253461 0.2316631\n",
       "2 Flexible reg     0.2277139 0.2235902\n",
       "3 Lasso Regression 0.2321006 0.2086333"
      ]
     },
     "metadata": {},
     "output_type": "display_data"
    }
   ],
   "source": [
    "# Output the comparison table\n",
    "\n",
    "tibble(\n",
    "  \"Model\" = c(\"Basic reg\", \"Flexible reg\", \"Lasso Regression\")\n",
    "  , \"MSE test\" = c(MSE_test1, MSE_test2, MSE_lasso)\n",
    "  , \"R2_test\" = c(R2_test1, R2_test2, R2_lasso)\n",
    ")\n"
   ]
  }
 ],
 "metadata": {
  "colab": {
   "collapsed_sections": [],
   "name": "02_ols-and-lasso-for-wage-prediction.ipynb",
   "provenance": []
  },
  "jupytext": {
   "formats": "ipynb,auto:percent,Rmd"
  },
  "kernelspec": {
   "display_name": "R",
   "language": "R",
   "name": "ir"
  },
  "language_info": {
   "codemirror_mode": "r",
   "file_extension": ".r",
   "mimetype": "text/x-r-source",
   "name": "R",
   "pygments_lexer": "r",
   "version": "4.2.1"
  },
  "papermill": {
   "default_parameters": {},
   "duration": 14.54918,
   "end_time": "2021-07-23T15:00:10.002798",
   "environment_variables": {},
   "exception": null,
   "input_path": "__notebook__.ipynb",
   "output_path": "__notebook__.ipynb",
   "parameters": {},
   "start_time": "2021-07-23T14:59:55.453618",
   "version": "2.2.2"
  }
 },
 "nbformat": 4,
 "nbformat_minor": 4
}
