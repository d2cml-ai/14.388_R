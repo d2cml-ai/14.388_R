{
 "cells": [
  {
   "cell_type": "markdown",
   "metadata": {
    "id": "Kt0MAxWPgpIh",
    "papermill": {
     "duration": 0.006255,
     "end_time": "2021-07-23T15:44:20.390614",
     "exception": false,
     "start_time": "2021-07-23T15:44:20.384359",
     "status": "completed"
    },
    "tags": []
   },
   "source": [
    "# DML inference using NN for gun ownership"
   ]
  },
  {
   "cell_type": "markdown",
   "metadata": {
    "id": "nt5EHQeegpIk",
    "papermill": {
     "duration": 0.00697,
     "end_time": "2021-07-23T15:44:20.404271",
     "exception": false,
     "start_time": "2021-07-23T15:44:20.397301",
     "status": "completed"
    },
    "tags": []
   },
   "source": [
    "In this lab, we estimate the effect of gun ownership on the homicide rate using a neural network."
   ]
  },
  {
   "cell_type": "code",
   "execution_count": 2,
   "metadata": {
    "colab": {
     "base_uri": "https://localhost:8080/"
    },
    "execution": {
     "iopub.execute_input": "2021-07-23T15:44:20.448109Z",
     "iopub.status.busy": "2021-07-23T15:44:20.445619Z",
     "iopub.status.idle": "2021-07-23T15:44:21.749828Z",
     "shell.execute_reply": "2021-07-23T15:44:21.748337Z"
    },
    "executionInfo": {
     "elapsed": 158504,
     "status": "ok",
     "timestamp": 1658252382252,
     "user": {
      "displayName": "Jhon Kevin Flores Rojas",
      "userId": "10267608749788811245"
     },
     "user_tz": 300
    },
    "id": "I3YELxZUgpIl",
    "outputId": "2d5582b0-e3aa-4439-95c4-74936a5624a7",
    "papermill": {
     "duration": 1.339145,
     "end_time": "2021-07-23T15:44:21.750036",
     "exception": false,
     "start_time": "2021-07-23T15:44:20.410891",
     "status": "completed"
    },
    "tags": [],
    "vscode": {
     "languageId": "r"
    }
   },
   "outputs": [
    {
     "name": "stderr",
     "output_type": "stream",
     "text": [
      "also installing the dependency ‘BiocManager’\n",
      "\n",
      "\n",
      "\n",
      "  These packages will be installed:\n",
      "\n",
      "  'keras', 'lfe'\n",
      "\n",
      "  It may take some time.\n",
      "\n",
      "also installing the dependencies ‘Rcpp’, ‘RcppTOML’, ‘here’, ‘png’, ‘config’, ‘tfautograph’, ‘zoo’, ‘reticulate’, ‘tensorflow’, ‘tfruns’, ‘zeallot’, ‘Formula’, ‘xtable’, ‘sandwich’\n",
      "\n",
      "\n",
      "Warning message in system(\"timedatectl\", intern = TRUE):\n",
      "“running command 'timedatectl' had status 1”\n"
     ]
    }
   ],
   "source": [
    "install.packages(\"librarian\", quiet = T)\n",
    "librarian::shelf(\n",
    "  keras, \n",
    "  lfe, \n",
    "  tidyverse,\n",
    "  tensorflow,\n",
    "  quiet = T\n",
    ")"
   ]
  },
  {
   "cell_type": "markdown",
   "metadata": {
    "id": "SW7IbVHmgpIp",
    "papermill": {
     "duration": 0.007697,
     "end_time": "2021-07-23T15:44:21.765659",
     "exception": false,
     "start_time": "2021-07-23T15:44:21.757962",
     "status": "completed"
    },
    "tags": []
   },
   "source": [
    "First, we need to load and preprocess the data."
   ]
  },
  {
   "cell_type": "code",
   "execution_count": 3,
   "metadata": {
    "colab": {
     "base_uri": "https://localhost:8080/"
    },
    "execution": {
     "iopub.execute_input": "2021-07-23T15:44:21.889175Z",
     "iopub.status.busy": "2021-07-23T15:44:21.782978Z",
     "iopub.status.idle": "2021-07-23T15:44:50.097481Z",
     "shell.execute_reply": "2021-07-23T15:44:50.096227Z"
    },
    "executionInfo": {
     "elapsed": 35029,
     "status": "ok",
     "timestamp": 1658252418393,
     "user": {
      "displayName": "Jhon Kevin Flores Rojas",
      "userId": "10267608749788811245"
     },
     "user_tz": 300
    },
    "id": "nr834YtkgpIq",
    "outputId": "c24689f7-0a48-4c2c-ce69-c389f0dd9a44",
    "papermill": {
     "duration": 28.325243,
     "end_time": "2021-07-23T15:44:50.097680",
     "exception": false,
     "start_time": "2021-07-23T15:44:21.772437",
     "status": "completed"
    },
    "tags": [],
    "vscode": {
     "languageId": "r"
    }
   },
   "outputs": [
    {
     "name": "stderr",
     "output_type": "stream",
     "text": [
      "\u001b[1m\u001b[22mNew names:\n",
      "\u001b[36m•\u001b[39m `` -> `...1`\n"
     ]
    }
   ],
   "source": [
    "# read in dataset\n",
    "data <- read_csv(\"https://raw.githubusercontent.com/d2cml-ai/14.388_R/main/Data/gun_clean.csv\", show_col_types = F) \n",
    "\n",
    "\n",
    "################## Find Variable Names from the Dataset ###################\n",
    "\n",
    "varlist <- function (df=NULL,type=c(\"numeric\",\"factor\",\"character\"), pattern=\"\", exclude=NULL) {\n",
    "  vars <- character(0)\n",
    "  if (any(type %in% \"numeric\")) {\n",
    "    vars <- c(vars,names(df)[sapply(df,is.numeric)])\n",
    "  }\n",
    "  if (any(type %in% \"factor\")) {\n",
    "    vars <- c(vars,names(df)[sapply(df,is.factor)])\n",
    "  }  \n",
    "  if (any(type %in% \"character\")) {\n",
    "    vars <- c(vars,names(df)[sapply(df,is.character)])\n",
    "  }  \n",
    "  vars[(!vars %in% exclude) & grepl(vars,pattern=pattern)]\n",
    "}\n",
    "\n",
    "########################### Create Variables ##############################\n",
    "\n",
    "# dummy variables for year and county fixed effects\n",
    "fixed  <- grep(\"X_Jfips\", names(data), value=TRUE, fixed=TRUE)\n",
    "year   <- varlist(data, pattern=\"X_Tyear\")\n",
    "\n",
    "# census control variables\n",
    "census     <- NULL\n",
    "census_var <- c(\"^AGE\", \"^BN\", \"^BP\", \"^BZ\", \"^ED\", \"^EL\",\"^HI\", \"^HS\", \"^INC\", \"^LF\", \"^LN\", \"^PI\", \"^PO\", \"^PP\", \"^PV\", \"^SPR\", \"^VS\")\n",
    "\n",
    "for(i in 1:length(census_var)){\n",
    "  census  <- append(census, varlist(data, pattern=census_var[i]))\n",
    "}\n",
    "\n",
    "############################### Variables #################################\n",
    "\n",
    "# treatment variable\n",
    "d     <- \"logfssl\"\n",
    "\n",
    "# outcome variable\n",
    "y     <- \"logghomr\"\n",
    "\n",
    "# other control variables\n",
    "X1    <- c(\"logrobr\", \"logburg\", \"burg_missing\", \"robrate_missing\")\n",
    "X2    <- c(\"newblack\", \"newfhh\", \"newmove\", \"newdens\", \"newmal\")\n",
    "\n",
    "######################  Partial-out Fixed Effects #########################\n",
    "\n",
    "# new dataset for partialled-out variables\n",
    "rdata <- as.data.frame(data$CountyCode) \n",
    "colnames(rdata) <- \"CountyCode\"\n",
    "\n",
    "# variables to partial-out\n",
    "varlist <- c(y, d,X1, X2, census)\n",
    "\n",
    "# partial out year and county fixed effects from variables in varlist\n",
    "for(i in 1:length(varlist)){\n",
    "  form <- as.formula(paste(varlist[i], \"~\", paste(paste(year,collapse=\"+\"),  paste(fixed,collapse=\"+\"), sep=\"+\")))\n",
    "  rdata[, varlist[i]] <- lm(form, data)$residuals\n",
    "}"
   ]
  },
  {
   "cell_type": "markdown",
   "metadata": {
    "id": "kx6qabuUgpIv",
    "papermill": {
     "duration": 0.007124,
     "end_time": "2021-07-23T15:44:50.112901",
     "exception": false,
     "start_time": "2021-07-23T15:44:50.105777",
     "status": "completed"
    },
    "tags": []
   },
   "source": [
    "## DML for neural nets\n"
   ]
  },
  {
   "cell_type": "markdown",
   "metadata": {
    "id": "szRcujAngpIw",
    "papermill": {
     "duration": 0.007402,
     "end_time": "2021-07-23T15:44:50.127705",
     "exception": false,
     "start_time": "2021-07-23T15:44:50.120303",
     "status": "completed"
    },
    "tags": []
   },
   "source": [
    "The following algorithm consumes $Y$,$D$ and $Z$, and learns the residuals $\\tilde{Y}$ and $\\tilde{D}$ via a neural network, where the residuals are obtained by cross-validation (cross-fitting). Then, it prints the estimated coefficient $\\beta$ and the clustered standard error from the final OLS regression."
   ]
  },
  {
   "cell_type": "code",
   "execution_count": 4,
   "metadata": {
    "execution": {
     "iopub.execute_input": "2021-07-23T15:44:50.147658Z",
     "iopub.status.busy": "2021-07-23T15:44:50.145978Z",
     "iopub.status.idle": "2021-07-23T15:44:50.157608Z",
     "shell.execute_reply": "2021-07-23T15:44:50.156400Z"
    },
    "executionInfo": {
     "elapsed": 19,
     "status": "ok",
     "timestamp": 1658252418398,
     "user": {
      "displayName": "Jhon Kevin Flores Rojas",
      "userId": "10267608749788811245"
     },
     "user_tz": 300
    },
    "id": "ZlrBRfTMgpIy",
    "papermill": {
     "duration": 0.022579,
     "end_time": "2021-07-23T15:44:50.157723",
     "exception": false,
     "start_time": "2021-07-23T15:44:50.135144",
     "status": "completed"
    },
    "tags": [],
    "vscode": {
     "languageId": "r"
    }
   },
   "outputs": [],
   "source": [
    "DML2.for.NN <- function(z, d, y, nfold=2, clu, num_epochs, batch_size) {\n",
    "  nobs <- nrow(z) # number of observations\n",
    "  foldid <- rep.int(1:nfold,times = ceiling(nobs/nfold))[sample.int(nobs)] # define folds indices\n",
    "  I <- split(1:nobs, foldid)  # split observation indices into folds  \n",
    "  ytil <- dtil <- rep(NA, nobs)\n",
    "  cat(\"fold: \")\n",
    "  for(b in 1:length(I)){\n",
    "  # normalize the data\n",
    "  mean <- apply(z[-I[[b]],], 2, mean)\n",
    "  std <- apply(z[-I[[b]],], 2, sd)\n",
    "  z[-I[[b]],] <- scale(z[-I[[b]],], center = mean, scale = std)\n",
    "  z[I[[b]],] <- scale(z[I[[b]],], center = mean, scale = std)\n",
    "  # building the model with 3 layers, the ReLU activation function, mse loss and rmsprop optimizer                  \n",
    "  build_model <- function(){\n",
    "  model <- keras_model_sequential() %>% \n",
    "    layer_dense(units = 16, activation = \"relu\", \n",
    "                input_shape = dim(z[-I[[b]],][2]))%>% \n",
    "    layer_dense(units = 16, activation = \"relu\") %>% \n",
    "    layer_dense(units = 1) \n",
    "  \n",
    "    model %>% compile(\n",
    "    optimizer = \"rmsprop\", \n",
    "    loss = \"mse\", \n",
    "    metrics = c(\"mae\")\n",
    "    )  \n",
    "   }\n",
    "  model.Y <- build_model()\n",
    "  model.D <- build_model()                       \n",
    "  # fitting the model                   \n",
    "  model.D %>% fit(z[-I[[b]],], d[-I[[b]]],\n",
    "                    epochs = num_epochs, batch_size = batch_size, verbose = 0)                       \n",
    "  model.Y %>% fit(z[-I[[b]],], y[-I[[b]]],\n",
    "                    epochs = num_epochs, batch_size = batch_size, verbose = 0)\n",
    "  dhat <- model.D %>% predict(z[I[[b]],])\n",
    "  yhat <- model.Y %>% predict(z[I[[b]],])   \n",
    "  dtil[I[[b]]] <- (d[I[[b]]] - dhat) # record residual for the left-out fold\n",
    "  ytil[I[[b]]] <- (y[I[[b]]] - yhat) # record residial for the left-out fold                  \n",
    "  cat(b,\" \")\n",
    "        }\n",
    "  #rfit <- lm(ytil ~ dtil) # estimate the main parameter by regressing one residual on the other\n",
    "  data <- data.frame(cbind(ytil, dtil, as.matrix(clu)))\n",
    "  rfit <- felm(ytil ~ dtil|0|0|CountyCode,data=data)\n",
    "  coef.est <- coef(rfit)[2] # extract the coefficient\n",
    "  #HC <- vcovHC(rfit)\n",
    "  se    <- summary(rfit,robust=T)$coefficients[2,2] # record robust standard error by county\n",
    "  cat(sprintf(\"\\ncoef (se) = %g (%g)\\n\", coef.est , se)) # print the output\n",
    "  return( list(coef.est =coef.est , se=se, dtil=dtil, ytil=ytil, rfit=rfit) ) # save the output and residuals \n",
    "}"
   ]
  },
  {
   "cell_type": "markdown",
   "metadata": {
    "id": "HZBquEVTgpI1",
    "papermill": {
     "duration": 0.006625,
     "end_time": "2021-07-23T15:44:50.170736",
     "exception": false,
     "start_time": "2021-07-23T15:44:50.164111",
     "status": "completed"
    },
    "tags": []
   },
   "source": [
    "## Estimating the effect with DML for neural nets"
   ]
  },
  {
   "cell_type": "code",
   "execution_count": 5,
   "metadata": {
    "execution": {
     "iopub.execute_input": "2021-07-23T15:44:50.188331Z",
     "iopub.status.busy": "2021-07-23T15:44:50.186972Z",
     "iopub.status.idle": "2021-07-23T15:44:50.367481Z",
     "shell.execute_reply": "2021-07-23T15:44:50.366113Z"
    },
    "executionInfo": {
     "elapsed": 359,
     "status": "ok",
     "timestamp": 1658252418742,
     "user": {
      "displayName": "Jhon Kevin Flores Rojas",
      "userId": "10267608749788811245"
     },
     "user_tz": 300
    },
    "id": "jgHRpv6HgpI3",
    "papermill": {
     "duration": 0.189775,
     "end_time": "2021-07-23T15:44:50.367628",
     "exception": false,
     "start_time": "2021-07-23T15:44:50.177853",
     "status": "completed"
    },
    "tags": [],
    "vscode": {
     "languageId": "r"
    }
   },
   "outputs": [],
   "source": [
    "# treatment variable\n",
    "D <- rdata[which(colnames(rdata) == d)]\n",
    "# outcome variable\n",
    "Y <- rdata[which(colnames(rdata) == y)]\n",
    "# construct matrix Z\n",
    "Z <- rdata[which(colnames(rdata) %in% c(X1,X2,census))]\n",
    "\n",
    "# inputs\n",
    "y_nn <- as.matrix(Y)\n",
    "d_nn <- as.matrix(D)\n",
    "z_nn <- as.matrix(Z)\n",
    "clu <- rdata[which(colnames(rdata) == \"CountyCode\")]"
   ]
  },
  {
   "cell_type": "code",
   "execution_count": 6,
   "metadata": {
    "colab": {
     "base_uri": "https://localhost:8080/"
    },
    "execution": {
     "iopub.execute_input": "2021-07-23T15:44:50.386230Z",
     "iopub.status.busy": "2021-07-23T15:44:50.384669Z",
     "iopub.status.idle": "2021-07-23T15:47:24.835856Z",
     "shell.execute_reply": "2021-07-23T15:47:24.836621Z"
    },
    "executionInfo": {
     "elapsed": 150529,
     "status": "ok",
     "timestamp": 1658252569267,
     "user": {
      "displayName": "Jhon Kevin Flores Rojas",
      "userId": "10267608749788811245"
     },
     "user_tz": 300
    },
    "id": "1CzsrvTDgpI5",
    "outputId": "7702bd19-ac74-4df6-c5c4-fa86bebf7d6d",
    "papermill": {
     "duration": 154.462083,
     "end_time": "2021-07-23T15:47:24.837018",
     "exception": false,
     "start_time": "2021-07-23T15:44:50.374935",
     "status": "completed"
    },
    "tags": [],
    "vscode": {
     "languageId": "r"
    }
   },
   "outputs": [
    {
     "name": "stdout",
     "output_type": "stream",
     "text": [
      "fold: "
     ]
    },
    {
     "name": "stderr",
     "output_type": "stream",
     "text": [
      "Loaded Tensorflow version 2.8.2\n",
      "\n"
     ]
    },
    {
     "name": "stdout",
     "output_type": "stream",
     "text": [
      "1  2  \n",
      "coef (se) = 0.351552 (0.180514)\n"
     ]
    }
   ],
   "source": [
    "# DML with a NN\n",
    "set.seed(123)\n",
    "DML2.nn = DML2.for.NN(z_nn, d_nn, y_nn, nfold=2, clu, 100, 10)"
   ]
  }
 ],
 "metadata": {
  "colab": {
   "collapsed_sections": [],
   "name": "20_dml-inference-using-nn-for-gun-ownership.ipynb",
   "provenance": []
  },
  "kernelspec": {
   "display_name": "R",
   "language": "R",
   "name": "ir"
  },
  "language_info": {
   "codemirror_mode": "r",
   "file_extension": ".r",
   "mimetype": "text/x-r-source",
   "name": "R",
   "pygments_lexer": "r",
   "version": "4.2.1"
  },
  "papermill": {
   "default_parameters": {},
   "duration": 188.752293,
   "end_time": "2021-07-23T15:47:26.353553",
   "environment_variables": {},
   "exception": null,
   "input_path": "__notebook__.ipynb",
   "output_path": "__notebook__.ipynb",
   "parameters": {},
   "start_time": "2021-07-23T15:44:17.601260",
   "version": "2.2.2"
  }
 },
 "nbformat": 4,
 "nbformat_minor": 4
}
