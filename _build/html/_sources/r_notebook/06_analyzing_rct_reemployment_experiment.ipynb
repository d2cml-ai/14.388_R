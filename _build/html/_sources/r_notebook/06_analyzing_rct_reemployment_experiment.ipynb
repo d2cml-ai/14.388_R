{
 "cells": [
  {
   "cell_type": "markdown",
   "metadata": {
    "id": "1kpEw9mWSs1r",
    "papermill": {
     "duration": 0.013538,
     "end_time": "2021-02-20T13:42:41.189745",
     "exception": false,
     "start_time": "2021-02-20T13:42:41.176207",
     "status": "completed"
    },
    "tags": []
   },
   "source": [
    "# Analyzing RCT reemployment experiment"
   ]
  },
  {
   "cell_type": "markdown",
   "metadata": {
    "id": "OQ-RtFc8Ss1v",
    "papermill": {
     "duration": 0.011347,
     "end_time": "2021-02-20T13:42:41.213041",
     "exception": false,
     "start_time": "2021-02-20T13:42:41.201694",
     "status": "completed"
    },
    "tags": []
   },
   "source": [
    "## Data\n",
    "\n",
    "In this lab, we analyze the Pennsylvania re-employment bonus experiment, which was previously studied in \"Sequential testing of duration data: the case of the Pennsylvania ‘reemployment bonus’ experiment\" (Bilias, 2000), among others. These experiments were conducted in the 1980s by the U.S. Department of Labor to test the incentive effects of alternative compensation schemes for unemployment insurance (UI). In these experiments, UI claimants were randomly assigned either to a control group or one of five treatment groups. Actually, there are six treatment groups in the experiments. Here we focus on treatment group 4, but feel free to explore other treatment groups. In the control group the current rules of the UI applied. Individuals in the treatment groups were offered a cash bonus if they found a job within some pre-specified period of time (qualification period), provided that the job was retained for a specified duration. The treatments differed in the level of the bonus, the length of the qualification period, and whether the bonus was declining over time in the qualification period; see http://qed.econ.queensu.ca/jae/2000-v15.6/bilias/readme.b.txt for further details on data. \n",
    "  "
   ]
  },
  {
   "cell_type": "code",
   "execution_count": 1,
   "metadata": {
    "colab": {
     "base_uri": "https://localhost:8080/"
    },
    "executionInfo": {
     "elapsed": 199203,
     "status": "ok",
     "timestamp": 1658248988918,
     "user": {
      "displayName": "Jhon Kevin Flores Rojas",
      "userId": "10267608749788811245"
     },
     "user_tz": 300
    },
    "id": "je-KaCGzSs1x",
    "outputId": "9649405e-7ebf-4afe-be27-a84725951555",
    "papermill": {
     "duration": 0.279482,
     "end_time": "2021-02-20T13:42:41.503829",
     "exception": false,
     "start_time": "2021-02-20T13:42:41.224347",
     "status": "completed"
    },
    "tags": [],
    "vscode": {
     "languageId": "r"
    }
   },
   "outputs": [],
   "source": [
    "# install.packages(\"librarian\", quiet = T)\n",
    "librarian::shelf(tidyverse, lmtest, sandwich, broom, hdm, quiet = T)\n",
    "## loading the data\n",
    "Penn <- as_tibble(read.table(\"https://github.com/d2cml-ai/14.388_r/raw/main/Data/penn_jae.dat\", header=T ))\n",
    "n <- dim(Penn)[1]\n",
    "p_1 <- dim(Penn)[2]\n",
    "Penn <- filter(Penn, tg == 4 | tg == 0)# subset(Penn, tg==4 | tg==0)\n",
    "attach(Penn)"
   ]
  },
  {
   "cell_type": "code",
   "execution_count": 2,
   "metadata": {
    "colab": {
     "base_uri": "https://localhost:8080/",
     "height": 52
    },
    "executionInfo": {
     "elapsed": 10,
     "status": "ok",
     "timestamp": 1658248471602,
     "user": {
      "displayName": "Jhon Kevin Flores Rojas",
      "userId": "10267608749788811245"
     },
     "user_tz": 300
    },
    "id": "0gznj3oySs13",
    "outputId": "694b48b3-0db9-4233-b584-0d848825a14c",
    "papermill": {
     "duration": 0.065266,
     "end_time": "2021-02-20T13:42:41.580972",
     "exception": false,
     "start_time": "2021-02-20T13:42:41.515706",
     "status": "completed"
    },
    "tags": [],
    "vscode": {
     "languageId": "r"
    }
   },
   "outputs": [
    {
     "data": {
      "text/plain": [
       "   Mode   FALSE    TRUE \n",
       "logical    3354    1745 "
      ]
     },
     "metadata": {},
     "output_type": "display_data"
    }
   ],
   "source": [
    "T4 <- (Penn$tg==4)\n",
    "summary(T4)"
   ]
  },
  {
   "cell_type": "code",
   "execution_count": 3,
   "metadata": {
    "id": "5lGjPugNSs15",
    "outputId": "c8dc6df2-8813-41d7-8735-1eda900af2e5",
    "papermill": {
     "duration": 0.053285,
     "end_time": "2021-02-20T13:42:41.646704",
     "exception": false,
     "start_time": "2021-02-20T13:42:41.593419",
     "status": "completed"
    },
    "tags": [],
    "vscode": {
     "languageId": "r"
    }
   },
   "outputs": [
    {
     "name": "stdout",
     "output_type": "stream",
     "text": [
      "Rows: 5,099\n",
      "Columns: 23\n",
      "$ abdt       \u001b[3m\u001b[90m<int>\u001b[39m\u001b[23m 10824, 10824, 10747, 10607, 10831, 10845, 10831, 10859, 105…\n",
      "$ tg         \u001b[3m\u001b[90m<int>\u001b[39m\u001b[23m 0, 0, 0, 4, 0, 0, 0, 0, 0, 0, 0, 4, 0, 0, 4, 0, 0, 0, 0, 0,…\n",
      "$ inuidur1   \u001b[3m\u001b[90m<int>\u001b[39m\u001b[23m 18, 1, 27, 9, 27, 27, 9, 27, 15, 28, 12, 22, 18, 1, 7, 18, …\n",
      "$ inuidur2   \u001b[3m\u001b[90m<int>\u001b[39m\u001b[23m 18, 1, 27, 9, 27, 27, 9, 27, 15, 11, 12, 22, 18, 1, 7, 18, …\n",
      "$ female     \u001b[3m\u001b[90m<int>\u001b[39m\u001b[23m 0, 0, 0, 0, 0, 1, 1, 1, 1, 1, 1, 1, 1, 1, 1, 0, 0, 0, 0, 0,…\n",
      "$ black      \u001b[3m\u001b[90m<int>\u001b[39m\u001b[23m 0, 0, 0, 0, 0, 0, 0, 0, 0, 0, 0, 0, 0, 0, 0, 0, 0, 0, 0, 1,…\n",
      "$ hispanic   \u001b[3m\u001b[90m<int>\u001b[39m\u001b[23m 0, 0, 0, 0, 0, 0, 0, 0, 0, 0, 0, 1, 0, 0, 0, 0, 0, 0, 0, 0,…\n",
      "$ othrace    \u001b[3m\u001b[90m<int>\u001b[39m\u001b[23m 0, 0, 0, 0, 0, 0, 0, 0, 0, 0, 0, 0, 0, 0, 0, 0, 0, 0, 0, 0,…\n",
      "$ dep        \u001b[3m\u001b[90m<int>\u001b[39m\u001b[23m 2, 0, 0, 0, 1, 0, 1, 1, 0, 0, 2, 2, 0, 2, 0, 0, 2, 0, 0, 0,…\n",
      "$ q1         \u001b[3m\u001b[90m<int>\u001b[39m\u001b[23m 0, 0, 0, 0, 0, 0, 0, 0, 0, 0, 0, 0, 0, 0, 0, 0, 0, 0, 0, 0,…\n",
      "$ q2         \u001b[3m\u001b[90m<int>\u001b[39m\u001b[23m 0, 0, 0, 0, 0, 0, 0, 0, 1, 0, 0, 1, 0, 1, 0, 0, 1, 0, 0, 0,…\n",
      "$ q3         \u001b[3m\u001b[90m<int>\u001b[39m\u001b[23m 0, 0, 0, 1, 0, 0, 0, 0, 0, 1, 0, 0, 0, 0, 1, 0, 0, 1, 0, 0,…\n",
      "$ q4         \u001b[3m\u001b[90m<int>\u001b[39m\u001b[23m 0, 0, 1, 0, 0, 0, 0, 0, 0, 0, 1, 0, 0, 0, 0, 0, 0, 0, 0, 1,…\n",
      "$ q5         \u001b[3m\u001b[90m<int>\u001b[39m\u001b[23m 1, 1, 0, 0, 1, 1, 1, 0, 0, 0, 0, 0, 1, 0, 0, 0, 0, 0, 1, 0,…\n",
      "$ q6         \u001b[3m\u001b[90m<int>\u001b[39m\u001b[23m 0, 0, 0, 0, 0, 0, 0, 1, 0, 0, 0, 0, 0, 0, 0, 1, 0, 0, 0, 0,…\n",
      "$ recall     \u001b[3m\u001b[90m<int>\u001b[39m\u001b[23m 0, 0, 0, 0, 0, 0, 0, 0, 0, 0, 1, 0, 0, 0, 0, 0, 0, 0, 0, 0,…\n",
      "$ agelt35    \u001b[3m\u001b[90m<int>\u001b[39m\u001b[23m 0, 0, 0, 1, 0, 0, 0, 0, 0, 0, 1, 1, 0, 0, 0, 0, 0, 0, 0, 0,…\n",
      "$ agegt54    \u001b[3m\u001b[90m<int>\u001b[39m\u001b[23m 0, 0, 0, 0, 1, 1, 1, 0, 0, 1, 0, 0, 1, 0, 0, 0, 0, 1, 0, 0,…\n",
      "$ durable    \u001b[3m\u001b[90m<int>\u001b[39m\u001b[23m 0, 0, 0, 0, 1, 0, 0, 0, 0, 0, 0, 0, 0, 0, 0, 1, 0, 0, 0, 0,…\n",
      "$ nondurable \u001b[3m\u001b[90m<int>\u001b[39m\u001b[23m 0, 0, 0, 0, 0, 0, 0, 0, 0, 0, 0, 0, 0, 0, 0, 0, 0, 0, 1, 0,…\n",
      "$ lusd       \u001b[3m\u001b[90m<int>\u001b[39m\u001b[23m 0, 1, 1, 0, 1, 1, 1, 1, 1, 1, 0, 0, 0, 0, 1, 1, 1, 1, 1, 0,…\n",
      "$ husd       \u001b[3m\u001b[90m<int>\u001b[39m\u001b[23m 1, 0, 0, 0, 0, 0, 0, 0, 0, 0, 0, 0, 0, 0, 0, 0, 0, 0, 0, 0,…\n",
      "$ muld       \u001b[3m\u001b[90m<int>\u001b[39m\u001b[23m 0, 0, 0, 1, 0, 0, 0, 0, 0, 0, 1, 1, 1, 1, 0, 0, 0, 0, 0, 1,…\n"
     ]
    }
   ],
   "source": [
    "glimpse(Penn)"
   ]
  },
  {
   "cell_type": "markdown",
   "metadata": {
    "id": "b_rqv2AfSs17",
    "papermill": {
     "duration": 0.012846,
     "end_time": "2021-02-20T13:42:41.672662",
     "exception": false,
     "start_time": "2021-02-20T13:42:41.659816",
     "status": "completed"
    },
    "tags": []
   },
   "source": [
    "### Model \n",
    "To evaluate the impact of the treatments on unemployment duration, we consider the linear regression model:\n",
    "\n",
    "$$\n",
    "Y =  D \\beta_1 + W'\\beta_2 + \\varepsilon, \\quad E \\varepsilon (D,W')' = 0,\n",
    "$$\n",
    "\n",
    "where $Y$ is  the  log of duration of unemployment, $D$ is a treatment  indicators,  and $W$ is a set of controls including age group dummies, gender, race, number of dependents, quarter of the experiment, location within the state, existence of recall expectations, and type of occupation.   Here $\\beta_1$ is the ATE, if the RCT assumptions hold rigorously.\n",
    "\n",
    "\n",
    "We also consider interactive regression model:\n",
    "\n",
    "$$\n",
    "Y =  D \\alpha_1 + D W' \\alpha_2 + W'\\beta_2 + \\varepsilon, \\quad E \\varepsilon (D,W', DW')' = 0,\n",
    "$$\n",
    "\n",
    "where $W$'s are demeaned (apart from the intercept), so that $\\alpha_1$ is the ATE, if the RCT assumptions hold rigorously."
   ]
  },
  {
   "cell_type": "markdown",
   "metadata": {
    "id": "hk5qOj8rSs19",
    "papermill": {
     "duration": 0.012735,
     "end_time": "2021-02-20T13:42:41.698676",
     "exception": false,
     "start_time": "2021-02-20T13:42:41.685941",
     "status": "completed"
    },
    "tags": []
   },
   "source": [
    "Under RCT, the projection coefficient $\\beta_1$ has\n",
    "the interpretation of the causal effect of the treatment on\n",
    "the average outcome. We thus refer to $\\beta_1$ as the average\n",
    "treatment effect (ATE). Note that the covariates, here are\n",
    "independent of the treatment $D$, so we can identify $\\beta_1$ by\n",
    "just linear regression of $Y$ on $D$, without adding covariates.\n",
    "However we do add covariates in an effort to improve the\n",
    "precision of our estimates of the average treatment effect."
   ]
  },
  {
   "cell_type": "markdown",
   "metadata": {
    "id": "PVHrgpjfSs1_",
    "papermill": {
     "duration": 0.012728,
     "end_time": "2021-02-20T13:42:41.724182",
     "exception": false,
     "start_time": "2021-02-20T13:42:41.711454",
     "status": "completed"
    },
    "tags": []
   },
   "source": [
    "### Analysis\n",
    "\n",
    "We consider \n",
    "\n",
    "*  classical 2-sample approach, no adjustment (CL)\n",
    "*  classical linear regression adjustment (CRA)\n",
    "*  interactive regression adjusment (IRA)\n",
    "\n",
    "and carry out robust inference using the *estimatr* R packages. "
   ]
  },
  {
   "cell_type": "markdown",
   "metadata": {
    "id": "JE2fuMtNSs2C",
    "papermill": {
     "duration": 0.01276,
     "end_time": "2021-02-20T13:42:41.749736",
     "exception": false,
     "start_time": "2021-02-20T13:42:41.736976",
     "status": "completed"
    },
    "tags": []
   },
   "source": [
    "## Carry out covariate balance check"
   ]
  },
  {
   "cell_type": "markdown",
   "metadata": {
    "id": "Rkh0oST3Ss2E",
    "papermill": {
     "duration": 0.013486,
     "end_time": "2021-02-20T13:42:41.776684",
     "exception": false,
     "start_time": "2021-02-20T13:42:41.763198",
     "status": "completed"
    },
    "tags": []
   },
   "source": [
    "This is done using \"lm_robust\" command which unlike \"lm\" in the base command automatically does the correct Eicher-Huber-White standard errors, instead othe classical non-robus formula based on the homoscdedasticity command."
   ]
  },
  {
   "cell_type": "code",
   "execution_count": 4,
   "metadata": {
    "colab": {
     "base_uri": "https://localhost:8080/",
     "height": 1000
    },
    "executionInfo": {
     "elapsed": 23,
     "status": "ok",
     "timestamp": 1658248571515,
     "user": {
      "displayName": "Jhon Kevin Flores Rojas",
      "userId": "10267608749788811245"
     },
     "user_tz": 300
    },
    "id": "JjZGSs9sSs2G",
    "outputId": "9c2d8712-efec-4951-c061-15dfe7bd5579",
    "papermill": {
     "duration": 0.428084,
     "end_time": "2021-02-20T13:42:42.217973",
     "exception": false,
     "start_time": "2021-02-20T13:42:41.789889",
     "status": "completed"
    },
    "tags": [],
    "vscode": {
     "languageId": "r"
    }
   },
   "outputs": [
    {
     "data": {
      "text/plain": [
       "\n",
       "t test of coefficients:\n",
       "\n",
       "                        Estimate  Std. Error t value  Pr(>|t|)    \n",
       "(Intercept)           0.32145725  0.16125607  1.9935 0.0462656 *  \n",
       "female                0.10423328  0.13624779  0.7650 0.4442914    \n",
       "black                 0.07164803  0.08288534  0.8644 0.3873969    \n",
       "othrace               0.02801517  0.40496815  0.0692 0.9448502    \n",
       "factor(dep)1         -0.07363340  0.20094637 -0.3664 0.7140574    \n",
       "factor(dep)2         -0.10854072  0.15754307 -0.6890 0.4908810    \n",
       "q2                   -0.02667937  0.16255836 -0.1641 0.8696419    \n",
       "q3                   -0.00567387  0.16218178 -0.0350 0.9720934    \n",
       "q4                    0.04334425  0.16233956  0.2670 0.7894821    \n",
       "q5                    0.09386458  0.16157184  0.5809 0.5613028    \n",
       "q6                   -0.22156423  0.15984049 -1.3862 0.1657604    \n",
       "agelt35              -0.10923976  0.13323486 -0.8199 0.4123101    \n",
       "agegt54              -0.43668630  0.13581268 -3.2154 0.0013111 ** \n",
       "durable              -0.12500967  0.17083793 -0.7317 0.4643590    \n",
       "lusd                  0.11428653  0.06824019  1.6748 0.0940422 .  \n",
       "husd                  0.09467997  0.07364116  1.2857 0.1986096    \n",
       "female:black          0.08886596  0.04381635  2.0281 0.0425983 *  \n",
       "female:othrace       -0.41350947  0.16481280 -2.5090 0.0121400 *  \n",
       "female:factor(dep)1   0.05547519  0.04647943  1.1935 0.2327135    \n",
       "female:factor(dep)2   0.04544801  0.04053454  1.1212 0.2622494    \n",
       "female:q2            -0.18880964  0.13587953 -1.3895 0.1647314    \n",
       "female:q3            -0.16526367  0.13565839 -1.2182 0.2231926    \n",
       "female:q4            -0.17632875  0.13530942 -1.3032 0.1925829    \n",
       "female:q5            -0.20321654  0.13480991 -1.5074 0.1317636    \n",
       "female:q6            -0.04271603  0.14234389 -0.3001 0.7641207    \n",
       "female:agelt35        0.07342181  0.03004676  2.4436 0.0145765 *  \n",
       "female:agegt54        0.02612867  0.05090915  0.5132 0.6078053    \n",
       "female:durable        0.01975687  0.04372711  0.4518 0.6514168    \n",
       "female:lusd           0.00206955  0.03395251  0.0610 0.9513982    \n",
       "female:husd           0.01178851  0.03747209  0.3146 0.7530827    \n",
       "black:factor(dep)1   -0.11726334  0.06797874 -1.7250 0.0845893 .  \n",
       "black:factor(dep)2   -0.02222434  0.06342353 -0.3504 0.7260446    \n",
       "black:q2             -0.03349395  0.08989631 -0.3726 0.7094737    \n",
       "black:q3             -0.19656696  0.08506268 -2.3108 0.0208818 *  \n",
       "black:q4             -0.12493576  0.08604499 -1.4520 0.1465694    \n",
       "black:q5             -0.20988793  0.08398490 -2.4991 0.0124822 *  \n",
       "black:agelt35         0.06226414  0.04512447  1.3798 0.1677004    \n",
       "black:agegt54         0.05126323  0.08453009  0.6064 0.5442439    \n",
       "black:durable         0.10475086  0.06615415  1.5834 0.1133854    \n",
       "black:lusd           -0.02103874  0.05600033 -0.3757 0.7071637    \n",
       "black:husd            0.24964245  0.16874707  1.4794 0.1390996    \n",
       "othrace:factor(dep)1 -0.85807661  0.33077992 -2.5941 0.0095115 ** \n",
       "othrace:factor(dep)2  0.24153715  0.13330391  1.8119 0.0700573 .  \n",
       "othrace:q2            0.43717264  0.34672729  1.2609 0.2074202    \n",
       "othrace:q3           -0.37343006  0.37701782 -0.9905 0.3219856    \n",
       "othrace:q4            0.41589086  0.32950089  1.2622 0.2069414    \n",
       "othrace:q5            0.00605385  0.31112921  0.0195 0.9844768    \n",
       "othrace:agelt35       0.31647921  0.18343682  1.7253 0.0845395 .  \n",
       "othrace:agegt54       0.30916352  0.15913988  1.9427 0.0521066 .  \n",
       "othrace:durable      -0.19077665  0.13757582 -1.3867 0.1655946    \n",
       "othrace:lusd         -0.09108976  0.20264053 -0.4495 0.6530804    \n",
       "othrace:husd          0.00516356  0.20312636  0.0254 0.9797206    \n",
       "factor(dep)1:q2       0.16575553  0.20084375  0.8253 0.4092430    \n",
       "factor(dep)2:q2       0.08749363  0.15663627  0.5586 0.5764745    \n",
       "factor(dep)1:q3       0.12098515  0.19967547  0.6059 0.5446028    \n",
       "factor(dep)2:q3       0.13964196  0.15680429  0.8905 0.3732138    \n",
       "factor(dep)1:q4       0.08476950  0.19909174  0.4258 0.6702857    \n",
       "factor(dep)2:q4       0.09099807  0.15685510  0.5801 0.5618457    \n",
       "factor(dep)1:q5       0.11045395  0.19829410  0.5570 0.5775381    \n",
       "factor(dep)2:q5       0.09599502  0.15542385  0.6176 0.5368449    \n",
       "factor(dep)1:q6       0.10069661  0.20903291  0.4817 0.6300216    \n",
       "factor(dep)2:q6       0.04840278  0.16392190  0.2953 0.7677926    \n",
       "factor(dep)1:agelt35 -0.07372986  0.04856221 -1.5183 0.1290132    \n",
       "factor(dep)2:agelt35 -0.02438958  0.03750210 -0.6504 0.5154946    \n",
       "factor(dep)1:agegt54 -0.08058890  0.06829342 -1.1800 0.2380409    \n",
       "factor(dep)2:agegt54  0.02804903  0.12779824  0.2195 0.8262859    \n",
       "factor(dep)1:durable -0.06027564  0.05959803 -1.0114 0.3118885    \n",
       "factor(dep)2:durable  0.12466452  0.05025495  2.4806 0.0131473 *  \n",
       "factor(dep)1:lusd     0.05896976  0.05246189  1.1240 0.2610461    \n",
       "factor(dep)2:lusd     0.05157515  0.04708540  1.0954 0.2734147    \n",
       "factor(dep)1:husd    -0.04332567  0.05587546 -0.7754 0.4381417    \n",
       "factor(dep)2:husd    -0.08820323  0.04775494 -1.8470 0.0648067 .  \n",
       "q2:agelt35            0.12754085  0.13321346  0.9574 0.3384031    \n",
       "q2:agegt54            0.52955745  0.13686983  3.8691 0.0001106 ***\n",
       "q2:durable            0.12611989  0.16953217  0.7439 0.4569544    \n",
       "q2:lusd              -0.07617774  0.07121471 -1.0697 0.2848100    \n",
       "q2:husd              -0.01882666  0.07542000 -0.2496 0.8028882    \n",
       "q3:agelt35            0.13059171  0.13296592  0.9821 0.3260764    \n",
       "q3:agegt54            0.47820240  0.13404885  3.5674 0.0003640 ***\n",
       "q3:durable            0.05420566  0.16940199  0.3200 0.7489950    \n",
       "q3:lusd              -0.05379374  0.06990174 -0.7696 0.4415960    \n",
       "q3:husd              -0.06007985  0.07486872 -0.8025 0.4223197    \n",
       "q4:agelt35            0.13100899  0.13279101  0.9866 0.3238962    \n",
       "q4:agegt54            0.54033014  0.13143961  4.1109 4.005e-05 ***\n",
       "q4:durable            0.09625171  0.16983764  0.5667 0.5709246    \n",
       "q4:lusd              -0.10342038  0.07052957 -1.4663 0.1426184    \n",
       "q4:husd              -0.17191877  0.07455451 -2.3059 0.0211543 *  \n",
       "q5:agelt35            0.07077473  0.13203088  0.5360 0.5919501    \n",
       "q5:agegt54            0.44377887  0.13056413  3.3989 0.0006818 ***\n",
       "q5:durable            0.07466571  0.16765628  0.4453 0.6560862    \n",
       "q5:lusd              -0.07611869  0.07005218 -1.0866 0.2772661    \n",
       "q5:husd              -0.16162391  0.07301750 -2.2135 0.0269085 *  \n",
       "q6:agelt35            0.17030213  0.13886226  1.2264 0.2201021    \n",
       "q6:agegt54            0.56552338  0.15041890  3.7597 0.0001721 ***\n",
       "q6:durable            0.25578701  0.17834228  1.4342 0.1515642    \n",
       "agelt35:durable       0.00948986  0.04062983  0.2336 0.8153294    \n",
       "agelt35:lusd         -0.02586155  0.03541632 -0.7302 0.4652926    \n",
       "agelt35:husd          0.03548765  0.03973732  0.8931 0.3718702    \n",
       "agegt54:durable      -0.06231416  0.06390387 -0.9751 0.3295462    \n",
       "agegt54:lusd         -0.03662895  0.05793021 -0.6323 0.5272235    \n",
       "agegt54:husd         -0.07421790  0.06125689 -1.2116 0.2257288    \n",
       "durable:lusd         -0.05517360  0.04342256 -1.2706 0.2039228    \n",
       "durable:husd         -0.00016918  0.05273588 -0.0032 0.9974404    \n",
       "---\n",
       "Signif. codes:  0 '***' 0.001 '**' 0.01 '*' 0.05 '.' 0.1 ' ' 1\n"
      ]
     },
     "metadata": {},
     "output_type": "display_data"
    }
   ],
   "source": [
    "\n",
    "m <- lm(T4 ~ (female + black + othrace + factor(dep) + q2 +q3 + q4 +\n",
    "        q5 + q6 + agelt35 + agegt54 + durable + lusd + husd)^2, data = Penn)\n",
    "coeftest(m, vcov = vcovHC(m, type=\"HC1\"))\n"
   ]
  },
  {
   "cell_type": "markdown",
   "metadata": {
    "id": "PfNsEHmdSs2H",
    "papermill": {
     "duration": 0.02549,
     "end_time": "2021-02-20T13:42:42.269256",
     "exception": false,
     "start_time": "2021-02-20T13:42:42.243766",
     "status": "completed"
    },
    "tags": []
   },
   "source": [
    "We see that that even though this is a randomized experiment, balance conditions are failed."
   ]
  },
  {
   "cell_type": "markdown",
   "metadata": {
    "id": "hSlhvyfxSs2J",
    "papermill": {
     "duration": 0.021046,
     "end_time": "2021-02-20T13:42:42.315674",
     "exception": false,
     "start_time": "2021-02-20T13:42:42.294628",
     "status": "completed"
    },
    "tags": []
   },
   "source": [
    "## Model Specification"
   ]
  },
  {
   "cell_type": "code",
   "execution_count": 5,
   "metadata": {
    "colab": {
     "base_uri": "https://localhost:8080/",
     "height": 1000
    },
    "executionInfo": {
     "elapsed": 383,
     "status": "ok",
     "timestamp": 1658248689517,
     "user": {
      "displayName": "Jhon Kevin Flores Rojas",
      "userId": "10267608749788811245"
     },
     "user_tz": 300
    },
    "id": "jlZRMF1iSs2K",
    "outputId": "b51ff676-1fc3-4954-b185-dac1c7e9b551",
    "papermill": {
     "duration": 0.350081,
     "end_time": "2021-02-20T13:42:42.680497",
     "exception": false,
     "start_time": "2021-02-20T13:42:42.330416",
     "status": "completed"
    },
    "tags": [],
    "vscode": {
     "languageId": "r"
    }
   },
   "outputs": [
    {
     "data": {
      "text/html": [
       "<table class=\"dataframe\">\n",
       "<caption>A tibble: 2 × 5</caption>\n",
       "<thead>\n",
       "\t<tr><th scope=col>term</th><th scope=col>estimate</th><th scope=col>std.error</th><th scope=col>statistic</th><th scope=col>p.value</th></tr>\n",
       "\t<tr><th scope=col>&lt;chr&gt;</th><th scope=col>&lt;dbl&gt;</th><th scope=col>&lt;dbl&gt;</th><th scope=col>&lt;dbl&gt;</th><th scope=col>&lt;dbl&gt;</th></tr>\n",
       "</thead>\n",
       "<tbody>\n",
       "\t<tr><td>(Intercept)</td><td> 2.05682971</td><td>0.02095476</td><td>98.155713</td><td>0.00000000</td></tr>\n",
       "\t<tr><td>T4TRUE     </td><td>-0.08545541</td><td>0.03585569</td><td>-2.383315</td><td>0.01719391</td></tr>\n",
       "</tbody>\n",
       "</table>\n"
      ],
      "text/latex": [
       "A tibble: 2 × 5\n",
       "\\begin{tabular}{lllll}\n",
       " term & estimate & std.error & statistic & p.value\\\\\n",
       " <chr> & <dbl> & <dbl> & <dbl> & <dbl>\\\\\n",
       "\\hline\n",
       "\t (Intercept) &  2.05682971 & 0.02095476 & 98.155713 & 0.00000000\\\\\n",
       "\t T4TRUE      & -0.08545541 & 0.03585569 & -2.383315 & 0.01719391\\\\\n",
       "\\end{tabular}\n"
      ],
      "text/markdown": [
       "\n",
       "A tibble: 2 × 5\n",
       "\n",
       "| term &lt;chr&gt; | estimate &lt;dbl&gt; | std.error &lt;dbl&gt; | statistic &lt;dbl&gt; | p.value &lt;dbl&gt; |\n",
       "|---|---|---|---|---|\n",
       "| (Intercept) |  2.05682971 | 0.02095476 | 98.155713 | 0.00000000 |\n",
       "| T4TRUE      | -0.08545541 | 0.03585569 | -2.383315 | 0.01719391 |\n",
       "\n"
      ],
      "text/plain": [
       "  term        estimate    std.error  statistic p.value   \n",
       "1 (Intercept)  2.05682971 0.02095476 98.155713 0.00000000\n",
       "2 T4TRUE      -0.08545541 0.03585569 -2.383315 0.01719391"
      ]
     },
     "metadata": {},
     "output_type": "display_data"
    },
    {
     "data": {
      "text/html": [
       "<table class=\"dataframe\">\n",
       "<caption>A tibble: 104 × 5</caption>\n",
       "<thead>\n",
       "\t<tr><th scope=col>term</th><th scope=col>estimate</th><th scope=col>std.error</th><th scope=col>statistic</th><th scope=col>p.value</th></tr>\n",
       "\t<tr><th scope=col>&lt;chr&gt;</th><th scope=col>&lt;dbl&gt;</th><th scope=col>&lt;dbl&gt;</th><th scope=col>&lt;dbl&gt;</th><th scope=col>&lt;dbl&gt;</th></tr>\n",
       "</thead>\n",
       "<tbody>\n",
       "\t<tr><td>(Intercept)        </td><td> 2.63308058</td><td>0.36809947</td><td> 7.1531767</td><td>9.706770e-13</td></tr>\n",
       "\t<tr><td>T4TRUE             </td><td>-0.07968012</td><td>0.03559092</td><td>-2.2387766</td><td>2.521432e-02</td></tr>\n",
       "\t<tr><td>female             </td><td>-0.11460926</td><td>0.31639042</td><td>-0.3622400</td><td>7.171880e-01</td></tr>\n",
       "\t<tr><td>black              </td><td>-0.89902649</td><td>0.24024626</td><td>-3.7421040</td><td>1.845347e-04</td></tr>\n",
       "\t<tr><td>othrace            </td><td>-2.62692161</td><td>0.45415507</td><td>-5.7841953</td><td>7.729399e-09</td></tr>\n",
       "\t<tr><td>factor(dep)1       </td><td>-0.71969778</td><td>0.58121824</td><td>-1.2382574</td><td>2.156788e-01</td></tr>\n",
       "\t<tr><td>factor(dep)2       </td><td>-0.04055836</td><td>0.35983953</td><td>-0.1127124</td><td>9.102631e-01</td></tr>\n",
       "\t<tr><td>q2                 </td><td>-0.15966999</td><td>0.37043166</td><td>-0.4310376</td><td>6.664596e-01</td></tr>\n",
       "\t<tr><td>q3                 </td><td>-0.53989061</td><td>0.37007942</td><td>-1.4588507</td><td>1.446691e-01</td></tr>\n",
       "\t<tr><td>q4                 </td><td>-0.43335396</td><td>0.37119426</td><td>-1.1674587</td><td>2.430809e-01</td></tr>\n",
       "\t<tr><td>q5                 </td><td>-0.34524113</td><td>0.36886953</td><td>-0.9359438</td><td>3.493474e-01</td></tr>\n",
       "\t<tr><td>q6                 </td><td>-0.49367729</td><td>0.37119655</td><td>-1.3299620</td><td>1.835915e-01</td></tr>\n",
       "\t<tr><td>agelt35            </td><td>-0.62586241</td><td>0.30753420</td><td>-2.0350986</td><td>4.189365e-02</td></tr>\n",
       "\t<tr><td>agegt54            </td><td>-0.36137313</td><td>0.71234128</td><td>-0.5073034</td><td>6.119644e-01</td></tr>\n",
       "\t<tr><td>durable            </td><td>-0.27922898</td><td>0.49151635</td><td>-0.5680970</td><td>5.699946e-01</td></tr>\n",
       "\t<tr><td>lusd               </td><td>-0.22287017</td><td>0.18725950</td><td>-1.1901675</td><td>2.340371e-01</td></tr>\n",
       "\t<tr><td>husd               </td><td>-0.17018519</td><td>0.20097701</td><td>-0.8467894</td><td>3.971531e-01</td></tr>\n",
       "\t<tr><td>female:black       </td><td>-0.15495072</td><td>0.12190711</td><td>-1.2710557</td><td>2.037680e-01</td></tr>\n",
       "\t<tr><td>female:othrace     </td><td> 0.31020732</td><td>0.42359960</td><td> 0.7323126</td><td>4.640122e-01</td></tr>\n",
       "\t<tr><td>female:factor(dep)1</td><td>-0.02787782</td><td>0.11750120</td><td>-0.2372556</td><td>8.124682e-01</td></tr>\n",
       "\t<tr><td>female:factor(dep)2</td><td> 0.14815022</td><td>0.10289219</td><td> 1.4398587</td><td>1.499700e-01</td></tr>\n",
       "\t<tr><td>female:q2          </td><td>-0.08741017</td><td>0.31593476</td><td>-0.2766716</td><td>7.820437e-01</td></tr>\n",
       "\t<tr><td>female:q3          </td><td> 0.20487663</td><td>0.31575477</td><td> 0.6488473</td><td>5.164669e-01</td></tr>\n",
       "\t<tr><td>female:q4          </td><td> 0.27319290</td><td>0.31552433</td><td> 0.8658378</td><td>3.866207e-01</td></tr>\n",
       "\t<tr><td>female:q5          </td><td> 0.06114805</td><td>0.31475173</td><td> 0.1942739</td><td>8.459693e-01</td></tr>\n",
       "\t<tr><td>female:q6          </td><td> 0.28721990</td><td>0.33836991</td><td> 0.8488341</td><td>3.960143e-01</td></tr>\n",
       "\t<tr><td>female:agelt35     </td><td> 0.12638618</td><td>0.07712465</td><td> 1.6387261</td><td>1.013333e-01</td></tr>\n",
       "\t<tr><td>female:agegt54     </td><td> 0.03996642</td><td>0.12730239</td><td> 0.3139487</td><td>7.535731e-01</td></tr>\n",
       "\t<tr><td>female:durable     </td><td> 0.06800195</td><td>0.10982362</td><td> 0.6191924</td><td>5.358179e-01</td></tr>\n",
       "\t<tr><td>female:lusd        </td><td> 0.08374007</td><td>0.08494090</td><td> 0.9858627</td><td>3.242482e-01</td></tr>\n",
       "\t<tr><td>⋮</td><td>⋮</td><td>⋮</td><td>⋮</td><td>⋮</td></tr>\n",
       "\t<tr><td>q2:agegt54     </td><td> 0.67121854</td><td>0.70879486</td><td> 0.9469856</td><td>0.34369192</td></tr>\n",
       "\t<tr><td>q2:durable     </td><td>-0.10641283</td><td>0.48764157</td><td>-0.2182194</td><td>0.82726711</td></tr>\n",
       "\t<tr><td>q2:lusd        </td><td>-0.04279247</td><td>0.18957620</td><td>-0.2257270</td><td>0.82142298</td></tr>\n",
       "\t<tr><td>q2:husd        </td><td>-0.04166835</td><td>0.19687813</td><td>-0.2116454</td><td>0.83239231</td></tr>\n",
       "\t<tr><td>q3:agelt35     </td><td> 0.45449799</td><td>0.30738644</td><td> 1.4785883</td><td>0.13931345</td></tr>\n",
       "\t<tr><td>q3:agegt54     </td><td> 0.86600818</td><td>0.70915532</td><td> 1.2211827</td><td>0.22207451</td></tr>\n",
       "\t<tr><td>q3:durable     </td><td> 0.24499851</td><td>0.48719509</td><td> 0.5028756</td><td>0.61507392</td></tr>\n",
       "\t<tr><td>q3:lusd        </td><td> 0.08586741</td><td>0.18721407</td><td> 0.4586589</td><td>0.64649906</td></tr>\n",
       "\t<tr><td>q3:husd        </td><td> 0.17030374</td><td>0.19683494</td><td> 0.8652109</td><td>0.38696460</td></tr>\n",
       "\t<tr><td>q4:agelt35     </td><td> 0.38822344</td><td>0.30732383</td><td> 1.2632390</td><td>0.20656227</td></tr>\n",
       "\t<tr><td>q4:agegt54     </td><td> 0.55533438</td><td>0.70744223</td><td> 0.7849890</td><td>0.43249724</td></tr>\n",
       "\t<tr><td>q4:durable     </td><td> 0.21733822</td><td>0.49110821</td><td> 0.4425465</td><td>0.65811295</td></tr>\n",
       "\t<tr><td>q4:lusd        </td><td>-0.09500584</td><td>0.18830290</td><td>-0.5045373</td><td>0.61390608</td></tr>\n",
       "\t<tr><td>q4:husd        </td><td>-0.12060827</td><td>0.19915192</td><td>-0.6056094</td><td>0.54480168</td></tr>\n",
       "\t<tr><td>q5:agelt35     </td><td> 0.27795870</td><td>0.30602492</td><td> 0.9082878</td><td>0.36377001</td></tr>\n",
       "\t<tr><td>q5:agegt54     </td><td> 0.45145164</td><td>0.70619808</td><td> 0.6392706</td><td>0.52267625</td></tr>\n",
       "\t<tr><td>q5:durable     </td><td> 0.28812900</td><td>0.48721766</td><td> 0.5913764</td><td>0.55429504</td></tr>\n",
       "\t<tr><td>q5:lusd        </td><td>-0.10402235</td><td>0.18908115</td><td>-0.5501466</td><td>0.58224345</td></tr>\n",
       "\t<tr><td>q5:husd        </td><td>-0.15233600</td><td>0.19691991</td><td>-0.7735937</td><td>0.43920770</td></tr>\n",
       "\t<tr><td>q6:agelt35     </td><td> 0.33811077</td><td>0.33272643</td><td> 1.0161825</td><td>0.30959171</td></tr>\n",
       "\t<tr><td>q6:agegt54     </td><td> 0.94934693</td><td>0.72897660</td><td> 1.3023010</td><td>0.19287356</td></tr>\n",
       "\t<tr><td>q6:durable     </td><td> 0.40916723</td><td>0.50818373</td><td> 0.8051561</td><td>0.42076793</td></tr>\n",
       "\t<tr><td>agelt35:durable</td><td> 0.02527879</td><td>0.10150649</td><td> 0.2490362</td><td>0.80334302</td></tr>\n",
       "\t<tr><td>agelt35:lusd   </td><td>-0.06527572</td><td>0.08831815</td><td>-0.7390975</td><td>0.45988254</td></tr>\n",
       "\t<tr><td>agelt35:husd   </td><td> 0.05771190</td><td>0.10184206</td><td> 0.5666803</td><td>0.57095684</td></tr>\n",
       "\t<tr><td>agegt54:durable</td><td> 0.03198905</td><td>0.16583044</td><td> 0.1929022</td><td>0.84704343</td></tr>\n",
       "\t<tr><td>agegt54:lusd   </td><td>-0.14816240</td><td>0.13744208</td><td>-1.0779988</td><td>0.28108634</td></tr>\n",
       "\t<tr><td>agegt54:husd   </td><td>-0.30154665</td><td>0.15375360</td><td>-1.9612331</td><td>0.04990731</td></tr>\n",
       "\t<tr><td>durable:lusd   </td><td> 0.11578319</td><td>0.11005470</td><td> 1.0520513</td><td>0.29282689</td></tr>\n",
       "\t<tr><td>durable:husd   </td><td> 0.23764114</td><td>0.12901037</td><td> 1.8420313</td><td>0.06552981</td></tr>\n",
       "</tbody>\n",
       "</table>\n"
      ],
      "text/latex": [
       "A tibble: 104 × 5\n",
       "\\begin{tabular}{lllll}\n",
       " term & estimate & std.error & statistic & p.value\\\\\n",
       " <chr> & <dbl> & <dbl> & <dbl> & <dbl>\\\\\n",
       "\\hline\n",
       "\t (Intercept)         &  2.63308058 & 0.36809947 &  7.1531767 & 9.706770e-13\\\\\n",
       "\t T4TRUE              & -0.07968012 & 0.03559092 & -2.2387766 & 2.521432e-02\\\\\n",
       "\t female              & -0.11460926 & 0.31639042 & -0.3622400 & 7.171880e-01\\\\\n",
       "\t black               & -0.89902649 & 0.24024626 & -3.7421040 & 1.845347e-04\\\\\n",
       "\t othrace             & -2.62692161 & 0.45415507 & -5.7841953 & 7.729399e-09\\\\\n",
       "\t factor(dep)1        & -0.71969778 & 0.58121824 & -1.2382574 & 2.156788e-01\\\\\n",
       "\t factor(dep)2        & -0.04055836 & 0.35983953 & -0.1127124 & 9.102631e-01\\\\\n",
       "\t q2                  & -0.15966999 & 0.37043166 & -0.4310376 & 6.664596e-01\\\\\n",
       "\t q3                  & -0.53989061 & 0.37007942 & -1.4588507 & 1.446691e-01\\\\\n",
       "\t q4                  & -0.43335396 & 0.37119426 & -1.1674587 & 2.430809e-01\\\\\n",
       "\t q5                  & -0.34524113 & 0.36886953 & -0.9359438 & 3.493474e-01\\\\\n",
       "\t q6                  & -0.49367729 & 0.37119655 & -1.3299620 & 1.835915e-01\\\\\n",
       "\t agelt35             & -0.62586241 & 0.30753420 & -2.0350986 & 4.189365e-02\\\\\n",
       "\t agegt54             & -0.36137313 & 0.71234128 & -0.5073034 & 6.119644e-01\\\\\n",
       "\t durable             & -0.27922898 & 0.49151635 & -0.5680970 & 5.699946e-01\\\\\n",
       "\t lusd                & -0.22287017 & 0.18725950 & -1.1901675 & 2.340371e-01\\\\\n",
       "\t husd                & -0.17018519 & 0.20097701 & -0.8467894 & 3.971531e-01\\\\\n",
       "\t female:black        & -0.15495072 & 0.12190711 & -1.2710557 & 2.037680e-01\\\\\n",
       "\t female:othrace      &  0.31020732 & 0.42359960 &  0.7323126 & 4.640122e-01\\\\\n",
       "\t female:factor(dep)1 & -0.02787782 & 0.11750120 & -0.2372556 & 8.124682e-01\\\\\n",
       "\t female:factor(dep)2 &  0.14815022 & 0.10289219 &  1.4398587 & 1.499700e-01\\\\\n",
       "\t female:q2           & -0.08741017 & 0.31593476 & -0.2766716 & 7.820437e-01\\\\\n",
       "\t female:q3           &  0.20487663 & 0.31575477 &  0.6488473 & 5.164669e-01\\\\\n",
       "\t female:q4           &  0.27319290 & 0.31552433 &  0.8658378 & 3.866207e-01\\\\\n",
       "\t female:q5           &  0.06114805 & 0.31475173 &  0.1942739 & 8.459693e-01\\\\\n",
       "\t female:q6           &  0.28721990 & 0.33836991 &  0.8488341 & 3.960143e-01\\\\\n",
       "\t female:agelt35      &  0.12638618 & 0.07712465 &  1.6387261 & 1.013333e-01\\\\\n",
       "\t female:agegt54      &  0.03996642 & 0.12730239 &  0.3139487 & 7.535731e-01\\\\\n",
       "\t female:durable      &  0.06800195 & 0.10982362 &  0.6191924 & 5.358179e-01\\\\\n",
       "\t female:lusd         &  0.08374007 & 0.08494090 &  0.9858627 & 3.242482e-01\\\\\n",
       "\t ⋮ & ⋮ & ⋮ & ⋮ & ⋮\\\\\n",
       "\t q2:agegt54      &  0.67121854 & 0.70879486 &  0.9469856 & 0.34369192\\\\\n",
       "\t q2:durable      & -0.10641283 & 0.48764157 & -0.2182194 & 0.82726711\\\\\n",
       "\t q2:lusd         & -0.04279247 & 0.18957620 & -0.2257270 & 0.82142298\\\\\n",
       "\t q2:husd         & -0.04166835 & 0.19687813 & -0.2116454 & 0.83239231\\\\\n",
       "\t q3:agelt35      &  0.45449799 & 0.30738644 &  1.4785883 & 0.13931345\\\\\n",
       "\t q3:agegt54      &  0.86600818 & 0.70915532 &  1.2211827 & 0.22207451\\\\\n",
       "\t q3:durable      &  0.24499851 & 0.48719509 &  0.5028756 & 0.61507392\\\\\n",
       "\t q3:lusd         &  0.08586741 & 0.18721407 &  0.4586589 & 0.64649906\\\\\n",
       "\t q3:husd         &  0.17030374 & 0.19683494 &  0.8652109 & 0.38696460\\\\\n",
       "\t q4:agelt35      &  0.38822344 & 0.30732383 &  1.2632390 & 0.20656227\\\\\n",
       "\t q4:agegt54      &  0.55533438 & 0.70744223 &  0.7849890 & 0.43249724\\\\\n",
       "\t q4:durable      &  0.21733822 & 0.49110821 &  0.4425465 & 0.65811295\\\\\n",
       "\t q4:lusd         & -0.09500584 & 0.18830290 & -0.5045373 & 0.61390608\\\\\n",
       "\t q4:husd         & -0.12060827 & 0.19915192 & -0.6056094 & 0.54480168\\\\\n",
       "\t q5:agelt35      &  0.27795870 & 0.30602492 &  0.9082878 & 0.36377001\\\\\n",
       "\t q5:agegt54      &  0.45145164 & 0.70619808 &  0.6392706 & 0.52267625\\\\\n",
       "\t q5:durable      &  0.28812900 & 0.48721766 &  0.5913764 & 0.55429504\\\\\n",
       "\t q5:lusd         & -0.10402235 & 0.18908115 & -0.5501466 & 0.58224345\\\\\n",
       "\t q5:husd         & -0.15233600 & 0.19691991 & -0.7735937 & 0.43920770\\\\\n",
       "\t q6:agelt35      &  0.33811077 & 0.33272643 &  1.0161825 & 0.30959171\\\\\n",
       "\t q6:agegt54      &  0.94934693 & 0.72897660 &  1.3023010 & 0.19287356\\\\\n",
       "\t q6:durable      &  0.40916723 & 0.50818373 &  0.8051561 & 0.42076793\\\\\n",
       "\t agelt35:durable &  0.02527879 & 0.10150649 &  0.2490362 & 0.80334302\\\\\n",
       "\t agelt35:lusd    & -0.06527572 & 0.08831815 & -0.7390975 & 0.45988254\\\\\n",
       "\t agelt35:husd    &  0.05771190 & 0.10184206 &  0.5666803 & 0.57095684\\\\\n",
       "\t agegt54:durable &  0.03198905 & 0.16583044 &  0.1929022 & 0.84704343\\\\\n",
       "\t agegt54:lusd    & -0.14816240 & 0.13744208 & -1.0779988 & 0.28108634\\\\\n",
       "\t agegt54:husd    & -0.30154665 & 0.15375360 & -1.9612331 & 0.04990731\\\\\n",
       "\t durable:lusd    &  0.11578319 & 0.11005470 &  1.0520513 & 0.29282689\\\\\n",
       "\t durable:husd    &  0.23764114 & 0.12901037 &  1.8420313 & 0.06552981\\\\\n",
       "\\end{tabular}\n"
      ],
      "text/markdown": [
       "\n",
       "A tibble: 104 × 5\n",
       "\n",
       "| term &lt;chr&gt; | estimate &lt;dbl&gt; | std.error &lt;dbl&gt; | statistic &lt;dbl&gt; | p.value &lt;dbl&gt; |\n",
       "|---|---|---|---|---|\n",
       "| (Intercept)         |  2.63308058 | 0.36809947 |  7.1531767 | 9.706770e-13 |\n",
       "| T4TRUE              | -0.07968012 | 0.03559092 | -2.2387766 | 2.521432e-02 |\n",
       "| female              | -0.11460926 | 0.31639042 | -0.3622400 | 7.171880e-01 |\n",
       "| black               | -0.89902649 | 0.24024626 | -3.7421040 | 1.845347e-04 |\n",
       "| othrace             | -2.62692161 | 0.45415507 | -5.7841953 | 7.729399e-09 |\n",
       "| factor(dep)1        | -0.71969778 | 0.58121824 | -1.2382574 | 2.156788e-01 |\n",
       "| factor(dep)2        | -0.04055836 | 0.35983953 | -0.1127124 | 9.102631e-01 |\n",
       "| q2                  | -0.15966999 | 0.37043166 | -0.4310376 | 6.664596e-01 |\n",
       "| q3                  | -0.53989061 | 0.37007942 | -1.4588507 | 1.446691e-01 |\n",
       "| q4                  | -0.43335396 | 0.37119426 | -1.1674587 | 2.430809e-01 |\n",
       "| q5                  | -0.34524113 | 0.36886953 | -0.9359438 | 3.493474e-01 |\n",
       "| q6                  | -0.49367729 | 0.37119655 | -1.3299620 | 1.835915e-01 |\n",
       "| agelt35             | -0.62586241 | 0.30753420 | -2.0350986 | 4.189365e-02 |\n",
       "| agegt54             | -0.36137313 | 0.71234128 | -0.5073034 | 6.119644e-01 |\n",
       "| durable             | -0.27922898 | 0.49151635 | -0.5680970 | 5.699946e-01 |\n",
       "| lusd                | -0.22287017 | 0.18725950 | -1.1901675 | 2.340371e-01 |\n",
       "| husd                | -0.17018519 | 0.20097701 | -0.8467894 | 3.971531e-01 |\n",
       "| female:black        | -0.15495072 | 0.12190711 | -1.2710557 | 2.037680e-01 |\n",
       "| female:othrace      |  0.31020732 | 0.42359960 |  0.7323126 | 4.640122e-01 |\n",
       "| female:factor(dep)1 | -0.02787782 | 0.11750120 | -0.2372556 | 8.124682e-01 |\n",
       "| female:factor(dep)2 |  0.14815022 | 0.10289219 |  1.4398587 | 1.499700e-01 |\n",
       "| female:q2           | -0.08741017 | 0.31593476 | -0.2766716 | 7.820437e-01 |\n",
       "| female:q3           |  0.20487663 | 0.31575477 |  0.6488473 | 5.164669e-01 |\n",
       "| female:q4           |  0.27319290 | 0.31552433 |  0.8658378 | 3.866207e-01 |\n",
       "| female:q5           |  0.06114805 | 0.31475173 |  0.1942739 | 8.459693e-01 |\n",
       "| female:q6           |  0.28721990 | 0.33836991 |  0.8488341 | 3.960143e-01 |\n",
       "| female:agelt35      |  0.12638618 | 0.07712465 |  1.6387261 | 1.013333e-01 |\n",
       "| female:agegt54      |  0.03996642 | 0.12730239 |  0.3139487 | 7.535731e-01 |\n",
       "| female:durable      |  0.06800195 | 0.10982362 |  0.6191924 | 5.358179e-01 |\n",
       "| female:lusd         |  0.08374007 | 0.08494090 |  0.9858627 | 3.242482e-01 |\n",
       "| ⋮ | ⋮ | ⋮ | ⋮ | ⋮ |\n",
       "| q2:agegt54      |  0.67121854 | 0.70879486 |  0.9469856 | 0.34369192 |\n",
       "| q2:durable      | -0.10641283 | 0.48764157 | -0.2182194 | 0.82726711 |\n",
       "| q2:lusd         | -0.04279247 | 0.18957620 | -0.2257270 | 0.82142298 |\n",
       "| q2:husd         | -0.04166835 | 0.19687813 | -0.2116454 | 0.83239231 |\n",
       "| q3:agelt35      |  0.45449799 | 0.30738644 |  1.4785883 | 0.13931345 |\n",
       "| q3:agegt54      |  0.86600818 | 0.70915532 |  1.2211827 | 0.22207451 |\n",
       "| q3:durable      |  0.24499851 | 0.48719509 |  0.5028756 | 0.61507392 |\n",
       "| q3:lusd         |  0.08586741 | 0.18721407 |  0.4586589 | 0.64649906 |\n",
       "| q3:husd         |  0.17030374 | 0.19683494 |  0.8652109 | 0.38696460 |\n",
       "| q4:agelt35      |  0.38822344 | 0.30732383 |  1.2632390 | 0.20656227 |\n",
       "| q4:agegt54      |  0.55533438 | 0.70744223 |  0.7849890 | 0.43249724 |\n",
       "| q4:durable      |  0.21733822 | 0.49110821 |  0.4425465 | 0.65811295 |\n",
       "| q4:lusd         | -0.09500584 | 0.18830290 | -0.5045373 | 0.61390608 |\n",
       "| q4:husd         | -0.12060827 | 0.19915192 | -0.6056094 | 0.54480168 |\n",
       "| q5:agelt35      |  0.27795870 | 0.30602492 |  0.9082878 | 0.36377001 |\n",
       "| q5:agegt54      |  0.45145164 | 0.70619808 |  0.6392706 | 0.52267625 |\n",
       "| q5:durable      |  0.28812900 | 0.48721766 |  0.5913764 | 0.55429504 |\n",
       "| q5:lusd         | -0.10402235 | 0.18908115 | -0.5501466 | 0.58224345 |\n",
       "| q5:husd         | -0.15233600 | 0.19691991 | -0.7735937 | 0.43920770 |\n",
       "| q6:agelt35      |  0.33811077 | 0.33272643 |  1.0161825 | 0.30959171 |\n",
       "| q6:agegt54      |  0.94934693 | 0.72897660 |  1.3023010 | 0.19287356 |\n",
       "| q6:durable      |  0.40916723 | 0.50818373 |  0.8051561 | 0.42076793 |\n",
       "| agelt35:durable |  0.02527879 | 0.10150649 |  0.2490362 | 0.80334302 |\n",
       "| agelt35:lusd    | -0.06527572 | 0.08831815 | -0.7390975 | 0.45988254 |\n",
       "| agelt35:husd    |  0.05771190 | 0.10184206 |  0.5666803 | 0.57095684 |\n",
       "| agegt54:durable |  0.03198905 | 0.16583044 |  0.1929022 | 0.84704343 |\n",
       "| agegt54:lusd    | -0.14816240 | 0.13744208 | -1.0779988 | 0.28108634 |\n",
       "| agegt54:husd    | -0.30154665 | 0.15375360 | -1.9612331 | 0.04990731 |\n",
       "| durable:lusd    |  0.11578319 | 0.11005470 |  1.0520513 | 0.29282689 |\n",
       "| durable:husd    |  0.23764114 | 0.12901037 |  1.8420313 | 0.06552981 |\n",
       "\n"
      ],
      "text/plain": [
       "    term                estimate    std.error  statistic  p.value     \n",
       "1   (Intercept)          2.63308058 0.36809947  7.1531767 9.706770e-13\n",
       "2   T4TRUE              -0.07968012 0.03559092 -2.2387766 2.521432e-02\n",
       "3   female              -0.11460926 0.31639042 -0.3622400 7.171880e-01\n",
       "4   black               -0.89902649 0.24024626 -3.7421040 1.845347e-04\n",
       "5   othrace             -2.62692161 0.45415507 -5.7841953 7.729399e-09\n",
       "6   factor(dep)1        -0.71969778 0.58121824 -1.2382574 2.156788e-01\n",
       "7   factor(dep)2        -0.04055836 0.35983953 -0.1127124 9.102631e-01\n",
       "8   q2                  -0.15966999 0.37043166 -0.4310376 6.664596e-01\n",
       "9   q3                  -0.53989061 0.37007942 -1.4588507 1.446691e-01\n",
       "10  q4                  -0.43335396 0.37119426 -1.1674587 2.430809e-01\n",
       "11  q5                  -0.34524113 0.36886953 -0.9359438 3.493474e-01\n",
       "12  q6                  -0.49367729 0.37119655 -1.3299620 1.835915e-01\n",
       "13  agelt35             -0.62586241 0.30753420 -2.0350986 4.189365e-02\n",
       "14  agegt54             -0.36137313 0.71234128 -0.5073034 6.119644e-01\n",
       "15  durable             -0.27922898 0.49151635 -0.5680970 5.699946e-01\n",
       "16  lusd                -0.22287017 0.18725950 -1.1901675 2.340371e-01\n",
       "17  husd                -0.17018519 0.20097701 -0.8467894 3.971531e-01\n",
       "18  female:black        -0.15495072 0.12190711 -1.2710557 2.037680e-01\n",
       "19  female:othrace       0.31020732 0.42359960  0.7323126 4.640122e-01\n",
       "20  female:factor(dep)1 -0.02787782 0.11750120 -0.2372556 8.124682e-01\n",
       "21  female:factor(dep)2  0.14815022 0.10289219  1.4398587 1.499700e-01\n",
       "22  female:q2           -0.08741017 0.31593476 -0.2766716 7.820437e-01\n",
       "23  female:q3            0.20487663 0.31575477  0.6488473 5.164669e-01\n",
       "24  female:q4            0.27319290 0.31552433  0.8658378 3.866207e-01\n",
       "25  female:q5            0.06114805 0.31475173  0.1942739 8.459693e-01\n",
       "26  female:q6            0.28721990 0.33836991  0.8488341 3.960143e-01\n",
       "27  female:agelt35       0.12638618 0.07712465  1.6387261 1.013333e-01\n",
       "28  female:agegt54       0.03996642 0.12730239  0.3139487 7.535731e-01\n",
       "29  female:durable       0.06800195 0.10982362  0.6191924 5.358179e-01\n",
       "30  female:lusd          0.08374007 0.08494090  0.9858627 3.242482e-01\n",
       "⋮   ⋮                   ⋮           ⋮          ⋮          ⋮           \n",
       "75  q2:agegt54           0.67121854 0.70879486  0.9469856 0.34369192  \n",
       "76  q2:durable          -0.10641283 0.48764157 -0.2182194 0.82726711  \n",
       "77  q2:lusd             -0.04279247 0.18957620 -0.2257270 0.82142298  \n",
       "78  q2:husd             -0.04166835 0.19687813 -0.2116454 0.83239231  \n",
       "79  q3:agelt35           0.45449799 0.30738644  1.4785883 0.13931345  \n",
       "80  q3:agegt54           0.86600818 0.70915532  1.2211827 0.22207451  \n",
       "81  q3:durable           0.24499851 0.48719509  0.5028756 0.61507392  \n",
       "82  q3:lusd              0.08586741 0.18721407  0.4586589 0.64649906  \n",
       "83  q3:husd              0.17030374 0.19683494  0.8652109 0.38696460  \n",
       "84  q4:agelt35           0.38822344 0.30732383  1.2632390 0.20656227  \n",
       "85  q4:agegt54           0.55533438 0.70744223  0.7849890 0.43249724  \n",
       "86  q4:durable           0.21733822 0.49110821  0.4425465 0.65811295  \n",
       "87  q4:lusd             -0.09500584 0.18830290 -0.5045373 0.61390608  \n",
       "88  q4:husd             -0.12060827 0.19915192 -0.6056094 0.54480168  \n",
       "89  q5:agelt35           0.27795870 0.30602492  0.9082878 0.36377001  \n",
       "90  q5:agegt54           0.45145164 0.70619808  0.6392706 0.52267625  \n",
       "91  q5:durable           0.28812900 0.48721766  0.5913764 0.55429504  \n",
       "92  q5:lusd             -0.10402235 0.18908115 -0.5501466 0.58224345  \n",
       "93  q5:husd             -0.15233600 0.19691991 -0.7735937 0.43920770  \n",
       "94  q6:agelt35           0.33811077 0.33272643  1.0161825 0.30959171  \n",
       "95  q6:agegt54           0.94934693 0.72897660  1.3023010 0.19287356  \n",
       "96  q6:durable           0.40916723 0.50818373  0.8051561 0.42076793  \n",
       "97  agelt35:durable      0.02527879 0.10150649  0.2490362 0.80334302  \n",
       "98  agelt35:lusd        -0.06527572 0.08831815 -0.7390975 0.45988254  \n",
       "99  agelt35:husd         0.05771190 0.10184206  0.5666803 0.57095684  \n",
       "100 agegt54:durable      0.03198905 0.16583044  0.1929022 0.84704343  \n",
       "101 agegt54:lusd        -0.14816240 0.13744208 -1.0779988 0.28108634  \n",
       "102 agegt54:husd        -0.30154665 0.15375360 -1.9612331 0.04990731  \n",
       "103 durable:lusd         0.11578319 0.11005470  1.0520513 0.29282689  \n",
       "104 durable:husd         0.23764114 0.12901037  1.8420313 0.06552981  "
      ]
     },
     "metadata": {},
     "output_type": "display_data"
    }
   ],
   "source": [
    "# model specifications\n",
    "\n",
    "\n",
    "# no adjustment (2-sample approach)\n",
    "formula_cl <- log(inuidur1) ~ T4\n",
    "\n",
    "# adding controls\n",
    "formula_cra <- log(inuidur1) ~ T4 + (female + black + othrace + factor(dep) +\n",
    "              q2 + q3 + q4 + q5 + q6 + agelt35 +agegt54 + durable +lusd + husd )^2\n",
    "# Omitted dummies: q1, nondurable, muld\n",
    "\n",
    "\n",
    "ols.cl <- lm(formula_cl, data = Penn)\n",
    "ols.cra <- lm(formula_cra, data = Penn)\n",
    "\n",
    "\n",
    "ols.cl = coeftest(ols.cl, vcov = vcovHC(ols.cl, type=\"HC1\"))\n",
    "ols.cra = coeftest(ols.cra, vcov = vcovHC(ols.cra, type=\"HC1\"))\n",
    "\n",
    "tidy(ols.cl)\n",
    "tidy(ols.cra)"
   ]
  },
  {
   "cell_type": "markdown",
   "metadata": {
    "id": "61Q06qMXSs2M",
    "papermill": {
     "duration": 0.02768,
     "end_time": "2021-02-20T13:42:42.735966",
     "exception": false,
     "start_time": "2021-02-20T13:42:42.708286",
     "status": "completed"
    },
    "tags": []
   },
   "source": [
    "The interactive specificaiton corresponds to the approach introduced in Lin (2013)."
   ]
  },
  {
   "cell_type": "code",
   "execution_count": 6,
   "metadata": {
    "colab": {
     "base_uri": "https://localhost:8080/",
     "height": 1000
    },
    "executionInfo": {
     "elapsed": 794,
     "status": "ok",
     "timestamp": 1658249136674,
     "user": {
      "displayName": "Jhon Kevin Flores Rojas",
      "userId": "10267608749788811245"
     },
     "user_tz": 300
    },
    "id": "C7WRvWlnSs2N",
    "outputId": "2630a9a2-6813-4ba0-ed6c-ebe0c6366e15",
    "papermill": {
     "duration": 0.898452,
     "end_time": "2021-02-20T13:42:43.662684",
     "exception": false,
     "start_time": "2021-02-20T13:42:42.764232",
     "status": "completed"
    },
    "tags": [],
    "vscode": {
     "languageId": "r"
    }
   },
   "outputs": [
    {
     "data": {
      "text/html": [
       "<style>\n",
       ".list-inline {list-style: none; margin:0; padding: 0}\n",
       ".list-inline>li {display: inline-block}\n",
       ".list-inline>li:not(:last-child)::after {content: \"\\00b7\"; padding: 0 .5ex}\n",
       "</style>\n",
       "<ol class=list-inline><li>5099</li><li>119</li></ol>\n"
      ],
      "text/latex": [
       "\\begin{enumerate*}\n",
       "\\item 5099\n",
       "\\item 119\n",
       "\\end{enumerate*}\n"
      ],
      "text/markdown": [
       "1. 5099\n",
       "2. 119\n",
       "\n",
       "\n"
      ],
      "text/plain": [
       "[1] 5099  119"
      ]
     },
     "metadata": {},
     "output_type": "display_data"
    },
    {
     "data": {
      "text/html": [
       "<table class=\"dataframe\">\n",
       "<caption>A tibble: 203 × 5</caption>\n",
       "<thead>\n",
       "\t<tr><th scope=col>term</th><th scope=col>estimate</th><th scope=col>std.error</th><th scope=col>statistic</th><th scope=col>p.value</th></tr>\n",
       "\t<tr><th scope=col>&lt;chr&gt;</th><th scope=col>&lt;dbl&gt;</th><th scope=col>&lt;dbl&gt;</th><th scope=col>&lt;dbl&gt;</th><th scope=col>&lt;dbl&gt;</th></tr>\n",
       "</thead>\n",
       "<tbody>\n",
       "\t<tr><td>(Intercept)         </td><td> 2.05761308</td><td>0.02077237</td><td>99.05527109</td><td>0.000000e+00</td></tr>\n",
       "\t<tr><td>T4TRUE              </td><td>-0.07550055</td><td>0.03560489</td><td>-2.12051040</td><td>3.401317e-02</td></tr>\n",
       "\t<tr><td>Xfemale             </td><td>-0.66628233</td><td>0.40902136</td><td>-1.62896709</td><td>1.033843e-01</td></tr>\n",
       "\t<tr><td>Xblack              </td><td>-0.86348620</td><td>0.29766982</td><td>-2.90081876</td><td>3.738472e-03</td></tr>\n",
       "\t<tr><td>Xothrace            </td><td>-3.81768810</td><td>0.93891012</td><td>-4.06608473</td><td>4.856015e-05</td></tr>\n",
       "\t<tr><td>Xfactor(dep)1       </td><td> 0.03592643</td><td>0.64926578</td><td> 0.05533393</td><td>9.558747e-01</td></tr>\n",
       "\t<tr><td>Xfactor(dep)2       </td><td> 0.21175557</td><td>0.45232670</td><td> 0.46814740</td><td>6.397000e-01</td></tr>\n",
       "\t<tr><td>Xq2                 </td><td>-0.25464364</td><td>0.45645285</td><td>-0.55787502</td><td>5.769552e-01</td></tr>\n",
       "\t<tr><td>Xq3                 </td><td>-0.62123263</td><td>0.45607674</td><td>-1.36212303</td><td>1.732217e-01</td></tr>\n",
       "\t<tr><td>Xq4                 </td><td>-0.47992691</td><td>0.45723626</td><td>-1.04962565</td><td>2.939421e-01</td></tr>\n",
       "\t<tr><td>Xq5                 </td><td>-0.37186746</td><td>0.45499834</td><td>-0.81729410</td><td>4.138001e-01</td></tr>\n",
       "\t<tr><td>Xq6                 </td><td>-0.67704739</td><td>0.45325585</td><td>-1.49374218</td><td>1.353075e-01</td></tr>\n",
       "\t<tr><td>Xagelt35            </td><td>-0.67770538</td><td>0.41036858</td><td>-1.65145534</td><td>9.870976e-02</td></tr>\n",
       "\t<tr><td>Xagegt54            </td><td>-0.30410918</td><td>0.70232279</td><td>-0.43300486</td><td>6.650303e-01</td></tr>\n",
       "\t<tr><td>Xdurable            </td><td>-0.83800816</td><td>0.59780754</td><td>-1.40180260</td><td>1.610376e-01</td></tr>\n",
       "\t<tr><td>Xlusd               </td><td>-0.09948902</td><td>0.22848318</td><td>-0.43543258</td><td>6.632677e-01</td></tr>\n",
       "\t<tr><td>Xhusd               </td><td>-0.06264193</td><td>0.23548601</td><td>-0.26601127</td><td>7.902417e-01</td></tr>\n",
       "\t<tr><td>Xfemale:black       </td><td>-0.21547992</td><td>0.15087950</td><td>-1.42815910</td><td>1.533099e-01</td></tr>\n",
       "\t<tr><td>Xfemale:othrace     </td><td> 0.59943867</td><td>0.56394269</td><td> 1.06294252</td><td>2.878604e-01</td></tr>\n",
       "\t<tr><td>Xfemale:factor(dep)1</td><td>-0.17342448</td><td>0.14222988</td><td>-1.21932523</td><td>2.227795e-01</td></tr>\n",
       "\t<tr><td>Xfemale:factor(dep)2</td><td> 0.21664171</td><td>0.12664550</td><td> 1.71061508</td><td>8.721554e-02</td></tr>\n",
       "\t<tr><td>Xfemale:q2          </td><td> 0.39188855</td><td>0.40767215</td><td> 0.96128361</td><td>3.364571e-01</td></tr>\n",
       "\t<tr><td>Xfemale:q3          </td><td> 0.68503908</td><td>0.40733779</td><td> 1.68174697</td><td>9.268169e-02</td></tr>\n",
       "\t<tr><td>Xfemale:q4          </td><td> 0.72136790</td><td>0.40714421</td><td> 1.77177491</td><td>7.649412e-02</td></tr>\n",
       "\t<tr><td>Xfemale:q5          </td><td> 0.56577628</td><td>0.40577292</td><td> 1.39431748</td><td>1.632850e-01</td></tr>\n",
       "\t<tr><td>Xfemale:q6          </td><td> 0.90816973</td><td>0.43147278</td><td> 2.10481349</td><td>3.535838e-02</td></tr>\n",
       "\t<tr><td>Xfemale:agelt35     </td><td> 0.17007540</td><td>0.09529775</td><td> 1.78467387</td><td>7.437613e-02</td></tr>\n",
       "\t<tr><td>Xfemale:agegt54     </td><td> 0.23575096</td><td>0.16051680</td><td> 1.46869959</td><td>1.419785e-01</td></tr>\n",
       "\t<tr><td>Xfemale:durable     </td><td> 0.09741318</td><td>0.13795391</td><td> 0.70612846</td><td>4.801419e-01</td></tr>\n",
       "\t<tr><td>Xfemale:lusd        </td><td> 0.07200772</td><td>0.10678103</td><td> 0.67434937</td><td>5.001211e-01</td></tr>\n",
       "\t<tr><td>⋮</td><td>⋮</td><td>⋮</td><td>⋮</td><td>⋮</td></tr>\n",
       "\t<tr><td>T4TRUE:Xq2:agelt35     </td><td>-0.301665476</td><td>0.6517732</td><td>-0.462838087</td><td>0.64350100</td></tr>\n",
       "\t<tr><td>T4TRUE:Xq2:agegt54     </td><td> 0.114639342</td><td>0.5672954</td><td> 0.202080509</td><td>0.83986218</td></tr>\n",
       "\t<tr><td>T4TRUE:Xq2:durable     </td><td>-0.516827505</td><td>0.7780445</td><td>-0.664264703</td><td>0.50655219</td></tr>\n",
       "\t<tr><td>T4TRUE:Xq2:lusd        </td><td> 0.165773320</td><td>0.4309371</td><td> 0.384680981</td><td>0.70049050</td></tr>\n",
       "\t<tr><td>T4TRUE:Xq2:husd        </td><td> 0.532257575</td><td>0.4617869</td><td> 1.152604360</td><td>0.24912908</td></tr>\n",
       "\t<tr><td>T4TRUE:Xq3:agelt35     </td><td>-0.225663605</td><td>0.6520806</td><td>-0.346067031</td><td>0.72930721</td></tr>\n",
       "\t<tr><td>T4TRUE:Xq3:agegt54     </td><td>-0.193722861</td><td>0.5659725</td><td>-0.342283187</td><td>0.73215248</td></tr>\n",
       "\t<tr><td>T4TRUE:Xq3:durable     </td><td>-0.849033377</td><td>0.7822032</td><td>-1.085438330</td><td>0.27778100</td></tr>\n",
       "\t<tr><td>T4TRUE:Xq3:lusd        </td><td> 0.314719307</td><td>0.4225769</td><td> 0.744762296</td><td>0.45645118</td></tr>\n",
       "\t<tr><td>T4TRUE:Xq3:husd        </td><td> 0.311301439</td><td>0.4634820</td><td> 0.671658129</td><td>0.50183305</td></tr>\n",
       "\t<tr><td>T4TRUE:Xq4:agelt35     </td><td>-0.134792991</td><td>0.6512222</td><td>-0.206984641</td><td>0.83603046</td></tr>\n",
       "\t<tr><td>T4TRUE:Xq4:agegt54     </td><td> 0.352913656</td><td>0.5502729</td><td> 0.641342975</td><td>0.52132989</td></tr>\n",
       "\t<tr><td>T4TRUE:Xq4:durable     </td><td>-0.628083141</td><td>0.7948229</td><td>-0.790217764</td><td>0.42943888</td></tr>\n",
       "\t<tr><td>T4TRUE:Xq4:lusd        </td><td> 0.302349224</td><td>0.4223630</td><td> 0.715851553</td><td>0.47411715</td></tr>\n",
       "\t<tr><td>T4TRUE:Xq4:husd        </td><td> 0.302876538</td><td>0.4690497</td><td> 0.645723827</td><td>0.51848849</td></tr>\n",
       "\t<tr><td>T4TRUE:Xq5:agelt35     </td><td> 0.096951649</td><td>0.6493474</td><td> 0.149306284</td><td>0.88131811</td></tr>\n",
       "\t<tr><td>T4TRUE:Xq5:agegt54     </td><td> 0.482271378</td><td>0.5557568</td><td> 0.867774136</td><td>0.38556052</td></tr>\n",
       "\t<tr><td>T4TRUE:Xq5:durable     </td><td>-1.239607497</td><td>0.7855332</td><td>-1.578045962</td><td>0.11461965</td></tr>\n",
       "\t<tr><td>T4TRUE:Xq5:lusd        </td><td> 0.615845077</td><td>0.4260090</td><td> 1.445615158</td><td>0.14834918</td></tr>\n",
       "\t<tr><td>T4TRUE:Xq5:husd        </td><td> 0.294625460</td><td>0.4633891</td><td> 0.635805799</td><td>0.52493272</td></tr>\n",
       "\t<tr><td>T4TRUE:Xq6:agelt35     </td><td>-0.001044032</td><td>0.7295168</td><td>-0.001431128</td><td>0.99885818</td></tr>\n",
       "\t<tr><td>T4TRUE:Xq6:durable     </td><td>-1.365249811</td><td>0.8496439</td><td>-1.606849354</td><td>0.10815190</td></tr>\n",
       "\t<tr><td>T4TRUE:Xagelt35:durable</td><td> 0.143948477</td><td>0.2229223</td><td> 0.645733914</td><td>0.51848195</td></tr>\n",
       "\t<tr><td>T4TRUE:Xagelt35:lusd   </td><td>-0.013860069</td><td>0.1899414</td><td>-0.072970247</td><td>0.94183277</td></tr>\n",
       "\t<tr><td>T4TRUE:Xagelt35:husd   </td><td> 0.029405619</td><td>0.2174912</td><td> 0.135203718</td><td>0.89245637</td></tr>\n",
       "\t<tr><td>T4TRUE:Xagegt54:durable</td><td> 0.544931584</td><td>0.3430590</td><td> 1.588448479</td><td>0.11224953</td></tr>\n",
       "\t<tr><td>T4TRUE:Xagegt54:lusd   </td><td>-0.579361484</td><td>0.2877536</td><td>-2.013394456</td><td>0.04412777</td></tr>\n",
       "\t<tr><td>T4TRUE:Xagegt54:husd   </td><td> 0.191048615</td><td>0.3277012</td><td> 0.582996413</td><td>0.55992257</td></tr>\n",
       "\t<tr><td>T4TRUE:Xdurable:lusd   </td><td>-0.374439530</td><td>0.2400369</td><td>-1.559924845</td><td>0.11884227</td></tr>\n",
       "\t<tr><td>T4TRUE:Xdurable:husd   </td><td>-0.338109614</td><td>0.2774443</td><td>-1.218657845</td><td>0.22303280</td></tr>\n",
       "</tbody>\n",
       "</table>\n"
      ],
      "text/latex": [
       "A tibble: 203 × 5\n",
       "\\begin{tabular}{lllll}\n",
       " term & estimate & std.error & statistic & p.value\\\\\n",
       " <chr> & <dbl> & <dbl> & <dbl> & <dbl>\\\\\n",
       "\\hline\n",
       "\t (Intercept)          &  2.05761308 & 0.02077237 & 99.05527109 & 0.000000e+00\\\\\n",
       "\t T4TRUE               & -0.07550055 & 0.03560489 & -2.12051040 & 3.401317e-02\\\\\n",
       "\t Xfemale              & -0.66628233 & 0.40902136 & -1.62896709 & 1.033843e-01\\\\\n",
       "\t Xblack               & -0.86348620 & 0.29766982 & -2.90081876 & 3.738472e-03\\\\\n",
       "\t Xothrace             & -3.81768810 & 0.93891012 & -4.06608473 & 4.856015e-05\\\\\n",
       "\t Xfactor(dep)1        &  0.03592643 & 0.64926578 &  0.05533393 & 9.558747e-01\\\\\n",
       "\t Xfactor(dep)2        &  0.21175557 & 0.45232670 &  0.46814740 & 6.397000e-01\\\\\n",
       "\t Xq2                  & -0.25464364 & 0.45645285 & -0.55787502 & 5.769552e-01\\\\\n",
       "\t Xq3                  & -0.62123263 & 0.45607674 & -1.36212303 & 1.732217e-01\\\\\n",
       "\t Xq4                  & -0.47992691 & 0.45723626 & -1.04962565 & 2.939421e-01\\\\\n",
       "\t Xq5                  & -0.37186746 & 0.45499834 & -0.81729410 & 4.138001e-01\\\\\n",
       "\t Xq6                  & -0.67704739 & 0.45325585 & -1.49374218 & 1.353075e-01\\\\\n",
       "\t Xagelt35             & -0.67770538 & 0.41036858 & -1.65145534 & 9.870976e-02\\\\\n",
       "\t Xagegt54             & -0.30410918 & 0.70232279 & -0.43300486 & 6.650303e-01\\\\\n",
       "\t Xdurable             & -0.83800816 & 0.59780754 & -1.40180260 & 1.610376e-01\\\\\n",
       "\t Xlusd                & -0.09948902 & 0.22848318 & -0.43543258 & 6.632677e-01\\\\\n",
       "\t Xhusd                & -0.06264193 & 0.23548601 & -0.26601127 & 7.902417e-01\\\\\n",
       "\t Xfemale:black        & -0.21547992 & 0.15087950 & -1.42815910 & 1.533099e-01\\\\\n",
       "\t Xfemale:othrace      &  0.59943867 & 0.56394269 &  1.06294252 & 2.878604e-01\\\\\n",
       "\t Xfemale:factor(dep)1 & -0.17342448 & 0.14222988 & -1.21932523 & 2.227795e-01\\\\\n",
       "\t Xfemale:factor(dep)2 &  0.21664171 & 0.12664550 &  1.71061508 & 8.721554e-02\\\\\n",
       "\t Xfemale:q2           &  0.39188855 & 0.40767215 &  0.96128361 & 3.364571e-01\\\\\n",
       "\t Xfemale:q3           &  0.68503908 & 0.40733779 &  1.68174697 & 9.268169e-02\\\\\n",
       "\t Xfemale:q4           &  0.72136790 & 0.40714421 &  1.77177491 & 7.649412e-02\\\\\n",
       "\t Xfemale:q5           &  0.56577628 & 0.40577292 &  1.39431748 & 1.632850e-01\\\\\n",
       "\t Xfemale:q6           &  0.90816973 & 0.43147278 &  2.10481349 & 3.535838e-02\\\\\n",
       "\t Xfemale:agelt35      &  0.17007540 & 0.09529775 &  1.78467387 & 7.437613e-02\\\\\n",
       "\t Xfemale:agegt54      &  0.23575096 & 0.16051680 &  1.46869959 & 1.419785e-01\\\\\n",
       "\t Xfemale:durable      &  0.09741318 & 0.13795391 &  0.70612846 & 4.801419e-01\\\\\n",
       "\t Xfemale:lusd         &  0.07200772 & 0.10678103 &  0.67434937 & 5.001211e-01\\\\\n",
       "\t ⋮ & ⋮ & ⋮ & ⋮ & ⋮\\\\\n",
       "\t T4TRUE:Xq2:agelt35      & -0.301665476 & 0.6517732 & -0.462838087 & 0.64350100\\\\\n",
       "\t T4TRUE:Xq2:agegt54      &  0.114639342 & 0.5672954 &  0.202080509 & 0.83986218\\\\\n",
       "\t T4TRUE:Xq2:durable      & -0.516827505 & 0.7780445 & -0.664264703 & 0.50655219\\\\\n",
       "\t T4TRUE:Xq2:lusd         &  0.165773320 & 0.4309371 &  0.384680981 & 0.70049050\\\\\n",
       "\t T4TRUE:Xq2:husd         &  0.532257575 & 0.4617869 &  1.152604360 & 0.24912908\\\\\n",
       "\t T4TRUE:Xq3:agelt35      & -0.225663605 & 0.6520806 & -0.346067031 & 0.72930721\\\\\n",
       "\t T4TRUE:Xq3:agegt54      & -0.193722861 & 0.5659725 & -0.342283187 & 0.73215248\\\\\n",
       "\t T4TRUE:Xq3:durable      & -0.849033377 & 0.7822032 & -1.085438330 & 0.27778100\\\\\n",
       "\t T4TRUE:Xq3:lusd         &  0.314719307 & 0.4225769 &  0.744762296 & 0.45645118\\\\\n",
       "\t T4TRUE:Xq3:husd         &  0.311301439 & 0.4634820 &  0.671658129 & 0.50183305\\\\\n",
       "\t T4TRUE:Xq4:agelt35      & -0.134792991 & 0.6512222 & -0.206984641 & 0.83603046\\\\\n",
       "\t T4TRUE:Xq4:agegt54      &  0.352913656 & 0.5502729 &  0.641342975 & 0.52132989\\\\\n",
       "\t T4TRUE:Xq4:durable      & -0.628083141 & 0.7948229 & -0.790217764 & 0.42943888\\\\\n",
       "\t T4TRUE:Xq4:lusd         &  0.302349224 & 0.4223630 &  0.715851553 & 0.47411715\\\\\n",
       "\t T4TRUE:Xq4:husd         &  0.302876538 & 0.4690497 &  0.645723827 & 0.51848849\\\\\n",
       "\t T4TRUE:Xq5:agelt35      &  0.096951649 & 0.6493474 &  0.149306284 & 0.88131811\\\\\n",
       "\t T4TRUE:Xq5:agegt54      &  0.482271378 & 0.5557568 &  0.867774136 & 0.38556052\\\\\n",
       "\t T4TRUE:Xq5:durable      & -1.239607497 & 0.7855332 & -1.578045962 & 0.11461965\\\\\n",
       "\t T4TRUE:Xq5:lusd         &  0.615845077 & 0.4260090 &  1.445615158 & 0.14834918\\\\\n",
       "\t T4TRUE:Xq5:husd         &  0.294625460 & 0.4633891 &  0.635805799 & 0.52493272\\\\\n",
       "\t T4TRUE:Xq6:agelt35      & -0.001044032 & 0.7295168 & -0.001431128 & 0.99885818\\\\\n",
       "\t T4TRUE:Xq6:durable      & -1.365249811 & 0.8496439 & -1.606849354 & 0.10815190\\\\\n",
       "\t T4TRUE:Xagelt35:durable &  0.143948477 & 0.2229223 &  0.645733914 & 0.51848195\\\\\n",
       "\t T4TRUE:Xagelt35:lusd    & -0.013860069 & 0.1899414 & -0.072970247 & 0.94183277\\\\\n",
       "\t T4TRUE:Xagelt35:husd    &  0.029405619 & 0.2174912 &  0.135203718 & 0.89245637\\\\\n",
       "\t T4TRUE:Xagegt54:durable &  0.544931584 & 0.3430590 &  1.588448479 & 0.11224953\\\\\n",
       "\t T4TRUE:Xagegt54:lusd    & -0.579361484 & 0.2877536 & -2.013394456 & 0.04412777\\\\\n",
       "\t T4TRUE:Xagegt54:husd    &  0.191048615 & 0.3277012 &  0.582996413 & 0.55992257\\\\\n",
       "\t T4TRUE:Xdurable:lusd    & -0.374439530 & 0.2400369 & -1.559924845 & 0.11884227\\\\\n",
       "\t T4TRUE:Xdurable:husd    & -0.338109614 & 0.2774443 & -1.218657845 & 0.22303280\\\\\n",
       "\\end{tabular}\n"
      ],
      "text/markdown": [
       "\n",
       "A tibble: 203 × 5\n",
       "\n",
       "| term &lt;chr&gt; | estimate &lt;dbl&gt; | std.error &lt;dbl&gt; | statistic &lt;dbl&gt; | p.value &lt;dbl&gt; |\n",
       "|---|---|---|---|---|\n",
       "| (Intercept)          |  2.05761308 | 0.02077237 | 99.05527109 | 0.000000e+00 |\n",
       "| T4TRUE               | -0.07550055 | 0.03560489 | -2.12051040 | 3.401317e-02 |\n",
       "| Xfemale              | -0.66628233 | 0.40902136 | -1.62896709 | 1.033843e-01 |\n",
       "| Xblack               | -0.86348620 | 0.29766982 | -2.90081876 | 3.738472e-03 |\n",
       "| Xothrace             | -3.81768810 | 0.93891012 | -4.06608473 | 4.856015e-05 |\n",
       "| Xfactor(dep)1        |  0.03592643 | 0.64926578 |  0.05533393 | 9.558747e-01 |\n",
       "| Xfactor(dep)2        |  0.21175557 | 0.45232670 |  0.46814740 | 6.397000e-01 |\n",
       "| Xq2                  | -0.25464364 | 0.45645285 | -0.55787502 | 5.769552e-01 |\n",
       "| Xq3                  | -0.62123263 | 0.45607674 | -1.36212303 | 1.732217e-01 |\n",
       "| Xq4                  | -0.47992691 | 0.45723626 | -1.04962565 | 2.939421e-01 |\n",
       "| Xq5                  | -0.37186746 | 0.45499834 | -0.81729410 | 4.138001e-01 |\n",
       "| Xq6                  | -0.67704739 | 0.45325585 | -1.49374218 | 1.353075e-01 |\n",
       "| Xagelt35             | -0.67770538 | 0.41036858 | -1.65145534 | 9.870976e-02 |\n",
       "| Xagegt54             | -0.30410918 | 0.70232279 | -0.43300486 | 6.650303e-01 |\n",
       "| Xdurable             | -0.83800816 | 0.59780754 | -1.40180260 | 1.610376e-01 |\n",
       "| Xlusd                | -0.09948902 | 0.22848318 | -0.43543258 | 6.632677e-01 |\n",
       "| Xhusd                | -0.06264193 | 0.23548601 | -0.26601127 | 7.902417e-01 |\n",
       "| Xfemale:black        | -0.21547992 | 0.15087950 | -1.42815910 | 1.533099e-01 |\n",
       "| Xfemale:othrace      |  0.59943867 | 0.56394269 |  1.06294252 | 2.878604e-01 |\n",
       "| Xfemale:factor(dep)1 | -0.17342448 | 0.14222988 | -1.21932523 | 2.227795e-01 |\n",
       "| Xfemale:factor(dep)2 |  0.21664171 | 0.12664550 |  1.71061508 | 8.721554e-02 |\n",
       "| Xfemale:q2           |  0.39188855 | 0.40767215 |  0.96128361 | 3.364571e-01 |\n",
       "| Xfemale:q3           |  0.68503908 | 0.40733779 |  1.68174697 | 9.268169e-02 |\n",
       "| Xfemale:q4           |  0.72136790 | 0.40714421 |  1.77177491 | 7.649412e-02 |\n",
       "| Xfemale:q5           |  0.56577628 | 0.40577292 |  1.39431748 | 1.632850e-01 |\n",
       "| Xfemale:q6           |  0.90816973 | 0.43147278 |  2.10481349 | 3.535838e-02 |\n",
       "| Xfemale:agelt35      |  0.17007540 | 0.09529775 |  1.78467387 | 7.437613e-02 |\n",
       "| Xfemale:agegt54      |  0.23575096 | 0.16051680 |  1.46869959 | 1.419785e-01 |\n",
       "| Xfemale:durable      |  0.09741318 | 0.13795391 |  0.70612846 | 4.801419e-01 |\n",
       "| Xfemale:lusd         |  0.07200772 | 0.10678103 |  0.67434937 | 5.001211e-01 |\n",
       "| ⋮ | ⋮ | ⋮ | ⋮ | ⋮ |\n",
       "| T4TRUE:Xq2:agelt35      | -0.301665476 | 0.6517732 | -0.462838087 | 0.64350100 |\n",
       "| T4TRUE:Xq2:agegt54      |  0.114639342 | 0.5672954 |  0.202080509 | 0.83986218 |\n",
       "| T4TRUE:Xq2:durable      | -0.516827505 | 0.7780445 | -0.664264703 | 0.50655219 |\n",
       "| T4TRUE:Xq2:lusd         |  0.165773320 | 0.4309371 |  0.384680981 | 0.70049050 |\n",
       "| T4TRUE:Xq2:husd         |  0.532257575 | 0.4617869 |  1.152604360 | 0.24912908 |\n",
       "| T4TRUE:Xq3:agelt35      | -0.225663605 | 0.6520806 | -0.346067031 | 0.72930721 |\n",
       "| T4TRUE:Xq3:agegt54      | -0.193722861 | 0.5659725 | -0.342283187 | 0.73215248 |\n",
       "| T4TRUE:Xq3:durable      | -0.849033377 | 0.7822032 | -1.085438330 | 0.27778100 |\n",
       "| T4TRUE:Xq3:lusd         |  0.314719307 | 0.4225769 |  0.744762296 | 0.45645118 |\n",
       "| T4TRUE:Xq3:husd         |  0.311301439 | 0.4634820 |  0.671658129 | 0.50183305 |\n",
       "| T4TRUE:Xq4:agelt35      | -0.134792991 | 0.6512222 | -0.206984641 | 0.83603046 |\n",
       "| T4TRUE:Xq4:agegt54      |  0.352913656 | 0.5502729 |  0.641342975 | 0.52132989 |\n",
       "| T4TRUE:Xq4:durable      | -0.628083141 | 0.7948229 | -0.790217764 | 0.42943888 |\n",
       "| T4TRUE:Xq4:lusd         |  0.302349224 | 0.4223630 |  0.715851553 | 0.47411715 |\n",
       "| T4TRUE:Xq4:husd         |  0.302876538 | 0.4690497 |  0.645723827 | 0.51848849 |\n",
       "| T4TRUE:Xq5:agelt35      |  0.096951649 | 0.6493474 |  0.149306284 | 0.88131811 |\n",
       "| T4TRUE:Xq5:agegt54      |  0.482271378 | 0.5557568 |  0.867774136 | 0.38556052 |\n",
       "| T4TRUE:Xq5:durable      | -1.239607497 | 0.7855332 | -1.578045962 | 0.11461965 |\n",
       "| T4TRUE:Xq5:lusd         |  0.615845077 | 0.4260090 |  1.445615158 | 0.14834918 |\n",
       "| T4TRUE:Xq5:husd         |  0.294625460 | 0.4633891 |  0.635805799 | 0.52493272 |\n",
       "| T4TRUE:Xq6:agelt35      | -0.001044032 | 0.7295168 | -0.001431128 | 0.99885818 |\n",
       "| T4TRUE:Xq6:durable      | -1.365249811 | 0.8496439 | -1.606849354 | 0.10815190 |\n",
       "| T4TRUE:Xagelt35:durable |  0.143948477 | 0.2229223 |  0.645733914 | 0.51848195 |\n",
       "| T4TRUE:Xagelt35:lusd    | -0.013860069 | 0.1899414 | -0.072970247 | 0.94183277 |\n",
       "| T4TRUE:Xagelt35:husd    |  0.029405619 | 0.2174912 |  0.135203718 | 0.89245637 |\n",
       "| T4TRUE:Xagegt54:durable |  0.544931584 | 0.3430590 |  1.588448479 | 0.11224953 |\n",
       "| T4TRUE:Xagegt54:lusd    | -0.579361484 | 0.2877536 | -2.013394456 | 0.04412777 |\n",
       "| T4TRUE:Xagegt54:husd    |  0.191048615 | 0.3277012 |  0.582996413 | 0.55992257 |\n",
       "| T4TRUE:Xdurable:lusd    | -0.374439530 | 0.2400369 | -1.559924845 | 0.11884227 |\n",
       "| T4TRUE:Xdurable:husd    | -0.338109614 | 0.2774443 | -1.218657845 | 0.22303280 |\n",
       "\n"
      ],
      "text/plain": [
       "    term                    estimate     std.error  statistic    p.value     \n",
       "1   (Intercept)              2.05761308  0.02077237 99.05527109  0.000000e+00\n",
       "2   T4TRUE                  -0.07550055  0.03560489 -2.12051040  3.401317e-02\n",
       "3   Xfemale                 -0.66628233  0.40902136 -1.62896709  1.033843e-01\n",
       "4   Xblack                  -0.86348620  0.29766982 -2.90081876  3.738472e-03\n",
       "5   Xothrace                -3.81768810  0.93891012 -4.06608473  4.856015e-05\n",
       "6   Xfactor(dep)1            0.03592643  0.64926578  0.05533393  9.558747e-01\n",
       "7   Xfactor(dep)2            0.21175557  0.45232670  0.46814740  6.397000e-01\n",
       "8   Xq2                     -0.25464364  0.45645285 -0.55787502  5.769552e-01\n",
       "9   Xq3                     -0.62123263  0.45607674 -1.36212303  1.732217e-01\n",
       "10  Xq4                     -0.47992691  0.45723626 -1.04962565  2.939421e-01\n",
       "11  Xq5                     -0.37186746  0.45499834 -0.81729410  4.138001e-01\n",
       "12  Xq6                     -0.67704739  0.45325585 -1.49374218  1.353075e-01\n",
       "13  Xagelt35                -0.67770538  0.41036858 -1.65145534  9.870976e-02\n",
       "14  Xagegt54                -0.30410918  0.70232279 -0.43300486  6.650303e-01\n",
       "15  Xdurable                -0.83800816  0.59780754 -1.40180260  1.610376e-01\n",
       "16  Xlusd                   -0.09948902  0.22848318 -0.43543258  6.632677e-01\n",
       "17  Xhusd                   -0.06264193  0.23548601 -0.26601127  7.902417e-01\n",
       "18  Xfemale:black           -0.21547992  0.15087950 -1.42815910  1.533099e-01\n",
       "19  Xfemale:othrace          0.59943867  0.56394269  1.06294252  2.878604e-01\n",
       "20  Xfemale:factor(dep)1    -0.17342448  0.14222988 -1.21932523  2.227795e-01\n",
       "21  Xfemale:factor(dep)2     0.21664171  0.12664550  1.71061508  8.721554e-02\n",
       "22  Xfemale:q2               0.39188855  0.40767215  0.96128361  3.364571e-01\n",
       "23  Xfemale:q3               0.68503908  0.40733779  1.68174697  9.268169e-02\n",
       "24  Xfemale:q4               0.72136790  0.40714421  1.77177491  7.649412e-02\n",
       "25  Xfemale:q5               0.56577628  0.40577292  1.39431748  1.632850e-01\n",
       "26  Xfemale:q6               0.90816973  0.43147278  2.10481349  3.535838e-02\n",
       "27  Xfemale:agelt35          0.17007540  0.09529775  1.78467387  7.437613e-02\n",
       "28  Xfemale:agegt54          0.23575096  0.16051680  1.46869959  1.419785e-01\n",
       "29  Xfemale:durable          0.09741318  0.13795391  0.70612846  4.801419e-01\n",
       "30  Xfemale:lusd             0.07200772  0.10678103  0.67434937  5.001211e-01\n",
       "⋮   ⋮                       ⋮            ⋮          ⋮            ⋮           \n",
       "174 T4TRUE:Xq2:agelt35      -0.301665476 0.6517732  -0.462838087 0.64350100  \n",
       "175 T4TRUE:Xq2:agegt54       0.114639342 0.5672954   0.202080509 0.83986218  \n",
       "176 T4TRUE:Xq2:durable      -0.516827505 0.7780445  -0.664264703 0.50655219  \n",
       "177 T4TRUE:Xq2:lusd          0.165773320 0.4309371   0.384680981 0.70049050  \n",
       "178 T4TRUE:Xq2:husd          0.532257575 0.4617869   1.152604360 0.24912908  \n",
       "179 T4TRUE:Xq3:agelt35      -0.225663605 0.6520806  -0.346067031 0.72930721  \n",
       "180 T4TRUE:Xq3:agegt54      -0.193722861 0.5659725  -0.342283187 0.73215248  \n",
       "181 T4TRUE:Xq3:durable      -0.849033377 0.7822032  -1.085438330 0.27778100  \n",
       "182 T4TRUE:Xq3:lusd          0.314719307 0.4225769   0.744762296 0.45645118  \n",
       "183 T4TRUE:Xq3:husd          0.311301439 0.4634820   0.671658129 0.50183305  \n",
       "184 T4TRUE:Xq4:agelt35      -0.134792991 0.6512222  -0.206984641 0.83603046  \n",
       "185 T4TRUE:Xq4:agegt54       0.352913656 0.5502729   0.641342975 0.52132989  \n",
       "186 T4TRUE:Xq4:durable      -0.628083141 0.7948229  -0.790217764 0.42943888  \n",
       "187 T4TRUE:Xq4:lusd          0.302349224 0.4223630   0.715851553 0.47411715  \n",
       "188 T4TRUE:Xq4:husd          0.302876538 0.4690497   0.645723827 0.51848849  \n",
       "189 T4TRUE:Xq5:agelt35       0.096951649 0.6493474   0.149306284 0.88131811  \n",
       "190 T4TRUE:Xq5:agegt54       0.482271378 0.5557568   0.867774136 0.38556052  \n",
       "191 T4TRUE:Xq5:durable      -1.239607497 0.7855332  -1.578045962 0.11461965  \n",
       "192 T4TRUE:Xq5:lusd          0.615845077 0.4260090   1.445615158 0.14834918  \n",
       "193 T4TRUE:Xq5:husd          0.294625460 0.4633891   0.635805799 0.52493272  \n",
       "194 T4TRUE:Xq6:agelt35      -0.001044032 0.7295168  -0.001431128 0.99885818  \n",
       "195 T4TRUE:Xq6:durable      -1.365249811 0.8496439  -1.606849354 0.10815190  \n",
       "196 T4TRUE:Xagelt35:durable  0.143948477 0.2229223   0.645733914 0.51848195  \n",
       "197 T4TRUE:Xagelt35:lusd    -0.013860069 0.1899414  -0.072970247 0.94183277  \n",
       "198 T4TRUE:Xagelt35:husd     0.029405619 0.2174912   0.135203718 0.89245637  \n",
       "199 T4TRUE:Xagegt54:durable  0.544931584 0.3430590   1.588448479 0.11224953  \n",
       "200 T4TRUE:Xagegt54:lusd    -0.579361484 0.2877536  -2.013394456 0.04412777  \n",
       "201 T4TRUE:Xagegt54:husd     0.191048615 0.3277012   0.582996413 0.55992257  \n",
       "202 T4TRUE:Xdurable:lusd    -0.374439530 0.2400369  -1.559924845 0.11884227  \n",
       "203 T4TRUE:Xdurable:husd    -0.338109614 0.2774443  -1.218657845 0.22303280  "
      ]
     },
     "metadata": {},
     "output_type": "display_data"
    }
   ],
   "source": [
    "\n",
    "#interactive regression model;\n",
    "\n",
    "X = model.matrix ( ~ (female + black + othrace + factor(dep) + \n",
    "                      q2 + q3 + q4 + q5 + q6 + agelt35 + agegt54 + durable + lusd + husd)^2)[,-1]\n",
    "\n",
    "dim(X)\n",
    "\n",
    "demean<- function(x){ x - mean(x)}\n",
    "\n",
    "X = apply(X, 2, demean)\n",
    "\n",
    "ols_ira = lm(log(inuidur1) ~ T4*X) \n",
    "ols_ira= coeftest(ols_ira, vcov = vcovHC(ols_ira, type=\"HC1\"))\n",
    "tidy(ols_ira)"
   ]
  },
  {
   "cell_type": "markdown",
   "metadata": {
    "id": "8TPFxrXlSs2P",
    "papermill": {
     "duration": 0.030243,
     "end_time": "2021-02-20T13:42:43.724231",
     "exception": false,
     "start_time": "2021-02-20T13:42:43.693988",
     "status": "completed"
    },
    "tags": []
   },
   "source": [
    "Next we try out partialling out with lasso"
   ]
  },
  {
   "cell_type": "code",
   "execution_count": 7,
   "metadata": {
    "colab": {
     "base_uri": "https://localhost:8080/"
    },
    "executionInfo": {
     "elapsed": 1113,
     "status": "ok",
     "timestamp": 1658249098754,
     "user": {
      "displayName": "Jhon Kevin Flores Rojas",
      "userId": "10267608749788811245"
     },
     "user_tz": 300
    },
    "id": "GZnJewG2Ss2Q",
    "outputId": "baad28b7-d883-47ef-a37a-4244a590c96a",
    "papermill": {
     "duration": 1.29547,
     "end_time": "2021-02-20T13:42:45.045172",
     "exception": false,
     "start_time": "2021-02-20T13:42:43.749702",
     "status": "completed"
    },
    "tags": [],
    "vscode": {
     "languageId": "r"
    }
   },
   "outputs": [
    {
     "name": "stdout",
     "output_type": "stream",
     "text": [
      "[1] \"Estimates and significance testing of the effect of target variables\"\n",
      "   Estimate. Std. Error t value Pr(>|t|)  \n",
      "T4  -0.07889    0.03555  -2.219   0.0265 *\n",
      "---\n",
      "Signif. codes:  0 '***' 0.001 '**' 0.01 '*' 0.05 '.' 0.1 ' ' 1\n",
      "\n",
      "\n"
     ]
    }
   ],
   "source": [
    "# library(hdm)\n",
    "\n",
    "T4 = demean(T4)\n",
    "\n",
    "DX = model.matrix(~T4 * X)[ ,-1]\n",
    "\n",
    "rlasso.ira = summary(rlassoEffects(DX, log(inuidur1), index = 1))\n",
    "\n",
    "print(rlasso.ira)"
   ]
  },
  {
   "cell_type": "markdown",
   "metadata": {
    "id": "Z2JjDwu9Ss2R",
    "papermill": {
     "duration": 0.030965,
     "end_time": "2021-02-20T13:42:45.107753",
     "exception": false,
     "start_time": "2021-02-20T13:42:45.076788",
     "status": "completed"
    },
    "tags": []
   },
   "source": [
    "## Results"
   ]
  },
  {
   "cell_type": "code",
   "execution_count": 12,
   "metadata": {
    "colab": {
     "base_uri": "https://localhost:8080/",
     "height": 173
    },
    "executionInfo": {
     "elapsed": 26,
     "status": "ok",
     "timestamp": 1658248991107,
     "user": {
      "displayName": "Jhon Kevin Flores Rojas",
      "userId": "10267608749788811245"
     },
     "user_tz": 300
    },
    "id": "lI-XvOTxSs2S",
    "outputId": "7d8d518a-67e4-4043-e9b0-3bc131318d83",
    "papermill": {
     "duration": 0.045792,
     "end_time": "2021-02-20T13:42:45.171860",
     "exception": false,
     "start_time": "2021-02-20T13:42:45.126068",
     "status": "completed"
    },
    "tags": [],
    "vscode": {
     "languageId": "r"
    }
   },
   "outputs": [
    {
     "data": {
      "text/html": [
       "-0.0755005494164947"
      ],
      "text/latex": [
       "-0.0755005494164947"
      ],
      "text/markdown": [
       "-0.0755005494164947"
      ],
      "text/plain": [
       "[1] -0.07550055"
      ]
     },
     "metadata": {},
     "output_type": "display_data"
    }
   ],
   "source": [
    "# glimpse(ols_ira)\n",
    "ols_ira[2,1]"
   ]
  },
  {
   "cell_type": "code",
   "execution_count": 16,
   "metadata": {
    "colab": {
     "base_uri": "https://localhost:8080/",
     "height": 129
    },
    "executionInfo": {
     "elapsed": 11,
     "status": "ok",
     "timestamp": 1658249015889,
     "user": {
      "displayName": "Jhon Kevin Flores Rojas",
      "userId": "10267608749788811245"
     },
     "user_tz": 300
    },
    "id": "2gOzlQ7iSs2S",
    "outputId": "f46404af-de7b-4dbb-e880-6c8f96373c7c",
    "papermill": {
     "duration": 0.113372,
     "end_time": "2021-02-20T13:42:45.304786",
     "exception": false,
     "start_time": "2021-02-20T13:42:45.191414",
     "status": "completed"
    },
    "tags": [],
    "vscode": {
     "languageId": "r"
    }
   },
   "outputs": [
    {
     "data": {
      "text/html": [
       "<table class=\"dataframe\">\n",
       "<caption>A matrix: 2 × 4 of type dbl</caption>\n",
       "<thead>\n",
       "\t<tr><th></th><th scope=col>CL</th><th scope=col>CRA</th><th scope=col>IRA</th><th scope=col>IRA w Lasso</th></tr>\n",
       "</thead>\n",
       "<tbody>\n",
       "\t<tr><th scope=row>estimate</th><td>-0.08545541</td><td>-0.07968012</td><td>-0.07550055</td><td>-0.07888608</td></tr>\n",
       "\t<tr><th scope=row>standard error</th><td> 0.03585569</td><td> 0.03559092</td><td> 0.03560489</td><td> 0.03555130</td></tr>\n",
       "</tbody>\n",
       "</table>\n"
      ],
      "text/latex": [
       "A matrix: 2 × 4 of type dbl\n",
       "\\begin{tabular}{r|llll}\n",
       "  & CL & CRA & IRA & IRA w Lasso\\\\\n",
       "\\hline\n",
       "\testimate & -0.08545541 & -0.07968012 & -0.07550055 & -0.07888608\\\\\n",
       "\tstandard error &  0.03585569 &  0.03559092 &  0.03560489 &  0.03555130\\\\\n",
       "\\end{tabular}\n"
      ],
      "text/markdown": [
       "\n",
       "A matrix: 2 × 4 of type dbl\n",
       "\n",
       "| <!--/--> | CL | CRA | IRA | IRA w Lasso |\n",
       "|---|---|---|---|---|\n",
       "| estimate | -0.08545541 | -0.07968012 | -0.07550055 | -0.07888608 |\n",
       "| standard error |  0.03585569 |  0.03559092 |  0.03560489 |  0.03555130 |\n",
       "\n"
      ],
      "text/plain": [
       "               CL          CRA         IRA         IRA w Lasso\n",
       "estimate       -0.08545541 -0.07968012 -0.07550055 -0.07888608\n",
       "standard error  0.03585569  0.03559092  0.03560489  0.03555130"
      ]
     },
     "metadata": {},
     "output_type": "display_data"
    }
   ],
   "source": [
    "# library(xtable)\n",
    "table<- matrix(0, 2, 4)\n",
    "table[1,1]<-  ols.cl[2,1]\n",
    "table[1,2]<-  ols.cra[2,1]\n",
    "table[1,3]<-  ols_ira[2,1]\n",
    "table[1,4]<-  rlasso.ira[[1]][1]\n",
    "\n",
    "table[2,1]<-  ols.cl[2,2]\n",
    "table[2,2]<-  ols.cra[2,2]\n",
    "table[2,3]<-  ols_ira[2,2]\n",
    "table[2,4]<-  rlasso.ira[[1]][2]\n",
    "\n",
    "\n",
    "colnames(table)<- c(\"CL\",\"CRA\",\"IRA\", \"IRA w Lasso\")\n",
    "rownames(table)<- c(\"estimate\", \"standard error\")\n",
    "# tab<- xtable(table, digits=5)\n",
    "table\n"
   ]
  },
  {
   "cell_type": "markdown",
   "metadata": {
    "id": "0ZAEWf0DSs2T",
    "papermill": {
     "duration": 0.019862,
     "end_time": "2021-02-20T13:42:45.344887",
     "exception": false,
     "start_time": "2021-02-20T13:42:45.325025",
     "status": "completed"
    },
    "tags": []
   },
   "source": [
    "Treatment group 4 experiences an average decrease of about $7.8\\%$ in the length of unemployment spell.\n",
    "\n",
    "\n",
    "Observe that regression estimators delivers estimates that are slighly more efficient (lower standard errors) than the simple 2 mean estimator, but essentially all methods have very similar standard errors. From IRA results we also see that there is not any statistically detectable heterogeneity.  We also see the regression estimators offer slightly lower estimates -- these difference occur perhaps to due minor imbalance in the treatment allocation, which the regression estimators try to correct.\n",
    "\n",
    "\n"
   ]
  }
 ],
 "metadata": {
  "colab": {
   "name": "06_analyzing-rct-reemployment-experiment.ipynb",
   "provenance": []
  },
  "jupytext": {
   "formats": "ipynb,auto:light"
  },
  "kernelspec": {
   "display_name": "R",
   "language": "R",
   "name": "ir"
  },
  "language_info": {
   "codemirror_mode": "r",
   "file_extension": ".r",
   "mimetype": "text/x-r-source",
   "name": "R",
   "pygments_lexer": "r",
   "version": "4.2.1"
  },
  "papermill": {
   "default_parameters": {},
   "duration": 7.178818,
   "end_time": "2021-02-20T13:42:45.473549",
   "environment_variables": {},
   "exception": null,
   "input_path": "__notebook__.ipynb",
   "output_path": "__notebook__.ipynb",
   "parameters": {},
   "start_time": "2021-02-20T13:42:38.294731",
   "version": "2.2.2"
  }
 },
 "nbformat": 4,
 "nbformat_minor": 4
}
