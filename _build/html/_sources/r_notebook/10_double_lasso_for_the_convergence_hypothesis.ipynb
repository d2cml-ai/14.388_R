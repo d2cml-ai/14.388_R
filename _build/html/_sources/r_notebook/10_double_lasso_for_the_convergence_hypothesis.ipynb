{
 "cells": [
  {
   "cell_type": "markdown",
   "metadata": {
    "id": "gWF_OAF2Z4_G",
    "papermill": {
     "duration": 0.013819,
     "end_time": "2021-07-23T14:56:49.404777",
     "exception": false,
     "start_time": "2021-07-23T14:56:49.390958",
     "status": "completed"
    },
    "tags": []
   },
   "source": [
    "# Double Lasso for the convergence hypothesis"
   ]
  },
  {
   "cell_type": "markdown",
   "metadata": {
    "id": "r_szLUikZ4_J",
    "papermill": {
     "duration": 0.013887,
     "end_time": "2021-07-23T14:56:49.432663",
     "exception": false,
     "start_time": "2021-07-23T14:56:49.418776",
     "status": "completed"
    },
    "tags": []
   },
   "source": [
    "## Introduction"
   ]
  },
  {
   "cell_type": "markdown",
   "metadata": {
    "id": "NXCLRegzZ4_L",
    "papermill": {
     "duration": 0.013835,
     "end_time": "2021-07-23T14:56:49.460435",
     "exception": false,
     "start_time": "2021-07-23T14:56:49.446600",
     "status": "completed"
    },
    "tags": []
   },
   "source": [
    "We provide an additional empirical example of partialling-out with Lasso to estimate the regression coefficient $\\beta_1$ in the high-dimensional linear regression model:\n",
    "\n",
    "$$\n",
    "Y = \\beta_1 D +  \\beta_2'W + \\epsilon.\n",
    "$$\n",
    "  \n",
    "Specifically, we are interested in how the rates  at which economies of different countries grow ($Y$) are related to the initial wealth levels in each country ($D$) controlling for country's institutional, educational, and other similar characteristics ($W$).\n",
    "  \n",
    "The relationship is captured by $\\beta_1$, the *speed of convergence/divergence*, which measures the speed at which poor countries catch up $(\\beta_1< 0)$ or fall behind $(\\beta_1> 0)$ rich countries, after controlling for $W$. Our inference question here is: do poor countries grow faster than rich countries, controlling for educational and other characteristics? In other words, is the speed of convergence negative: $ \\beta_1 <0?$ This is the Convergence Hypothesis predicted by the Solow Growth Model. This is a structural economic model. Under some strong assumptions that we won't state here, the predictive exercise we are doing here can be given a causal interpretation.\n"
   ]
  },
  {
   "cell_type": "markdown",
   "metadata": {
    "id": "qkOhRurTZ4_O",
    "papermill": {
     "duration": 0.0142,
     "end_time": "2021-07-23T14:56:49.488498",
     "exception": false,
     "start_time": "2021-07-23T14:56:49.474298",
     "status": "completed"
    },
    "tags": []
   },
   "source": [
    "The outcome $Y$ is the realized annual growth rate of a country's wealth  (Gross Domestic Product per capita). The target regressor ($D$) is the initial level of the country's wealth. The target parameter $\\beta_1$ is the speed of convergence, which measures the speed at which poor countries catch up with rich countries. The controls ($W$) include measures of education levels, quality of institutions, trade openness, and political stability in the country."
   ]
  },
  {
   "cell_type": "markdown",
   "metadata": {
    "id": "dLuuDBznZ4_R",
    "papermill": {
     "duration": 0.014102,
     "end_time": "2021-07-23T14:56:49.516541",
     "exception": false,
     "start_time": "2021-07-23T14:56:49.502439",
     "status": "completed"
    },
    "tags": []
   },
   "source": [
    "## Data analysis\n"
   ]
  },
  {
   "cell_type": "markdown",
   "metadata": {
    "id": "4WkV5ipwZ4_S",
    "papermill": {
     "duration": 0.013919,
     "end_time": "2021-07-23T14:56:49.544407",
     "exception": false,
     "start_time": "2021-07-23T14:56:49.530488",
     "status": "completed"
    },
    "tags": []
   },
   "source": [
    "We consider the data set GrowthData which is included in the package *hdm*. First, let us load the data set to get familiar with the data."
   ]
  },
  {
   "cell_type": "code",
   "execution_count": 1,
   "metadata": {
    "execution": {
     "iopub.execute_input": "2021-07-23T14:56:49.606672Z",
     "iopub.status.busy": "2021-07-23T14:56:49.604530Z",
     "iopub.status.idle": "2021-07-23T14:56:49.800306Z",
     "shell.execute_reply": "2021-07-23T14:56:49.798986Z"
    },
    "executionInfo": {
     "elapsed": 2448,
     "status": "ok",
     "timestamp": 1658250416520,
     "user": {
      "displayName": "Jhon Kevin Flores Rojas",
      "userId": "10267608749788811245"
     },
     "user_tz": 300
    },
    "id": "9KQJu0RnZ4_T",
    "papermill": {
     "duration": 0.241973,
     "end_time": "2021-07-23T14:56:49.800536",
     "exception": false,
     "start_time": "2021-07-23T14:56:49.558563",
     "status": "completed"
    },
    "tags": [],
    "vscode": {
     "languageId": "r"
    }
   },
   "outputs": [],
   "source": [
    "install.packages(\"librarian\", quiet = T)\n",
    "librarian::shelf(hdm, quiet = T)\n",
    "# library(hdm) # package of ``high dimensional models (hdm)\" estimators \n",
    "growth <- GrowthData\n",
    "attach(growth)"
   ]
  },
  {
   "cell_type": "markdown",
   "metadata": {
    "id": "5jTyE5U6Z4_X",
    "papermill": {
     "duration": 0.014756,
     "end_time": "2021-07-23T14:56:49.830758",
     "exception": false,
     "start_time": "2021-07-23T14:56:49.816002",
     "status": "completed"
    },
    "tags": []
   },
   "source": [
    "We determine the dimensions of our data set."
   ]
  },
  {
   "cell_type": "code",
   "execution_count": 2,
   "metadata": {
    "colab": {
     "base_uri": "https://localhost:8080/",
     "height": 34
    },
    "execution": {
     "iopub.execute_input": "2021-07-23T14:56:49.894400Z",
     "iopub.status.busy": "2021-07-23T14:56:49.865481Z",
     "iopub.status.idle": "2021-07-23T14:56:49.908178Z",
     "shell.execute_reply": "2021-07-23T14:56:49.906892Z"
    },
    "executionInfo": {
     "elapsed": 29,
     "status": "ok",
     "timestamp": 1658250416521,
     "user": {
      "displayName": "Jhon Kevin Flores Rojas",
      "userId": "10267608749788811245"
     },
     "user_tz": 300
    },
    "id": "mqGIACZhZ4_b",
    "outputId": "ec7de940-8793-431f-aed9-213876b81a82",
    "papermill": {
     "duration": 0.061643,
     "end_time": "2021-07-23T14:56:49.908348",
     "exception": false,
     "start_time": "2021-07-23T14:56:49.846705",
     "status": "completed"
    },
    "tags": [],
    "vscode": {
     "languageId": "r"
    }
   },
   "outputs": [
    {
     "data": {
      "text/html": [
       "<style>\n",
       ".list-inline {list-style: none; margin:0; padding: 0}\n",
       ".list-inline>li {display: inline-block}\n",
       ".list-inline>li:not(:last-child)::after {content: \"\\00b7\"; padding: 0 .5ex}\n",
       "</style>\n",
       "<ol class=list-inline><li>90</li><li>63</li></ol>\n"
      ],
      "text/latex": [
       "\\begin{enumerate*}\n",
       "\\item 90\n",
       "\\item 63\n",
       "\\end{enumerate*}\n"
      ],
      "text/markdown": [
       "1. 90\n",
       "2. 63\n",
       "\n",
       "\n"
      ],
      "text/plain": [
       "[1] 90 63"
      ]
     },
     "metadata": {},
     "output_type": "display_data"
    }
   ],
   "source": [
    "dim(growth)"
   ]
  },
  {
   "cell_type": "markdown",
   "metadata": {
    "id": "NLtloWW_Z4_d",
    "papermill": {
     "duration": 0.015832,
     "end_time": "2021-07-23T14:56:49.939915",
     "exception": false,
     "start_time": "2021-07-23T14:56:49.924083",
     "status": "completed"
    },
    "tags": []
   },
   "source": [
    "The sample contains $90$ countries and $63$ controls. Thus $p \\approx 60$, $n=90$ and $p/n$ is not small. We expect the least squares method to provide a poor estimate of $\\beta_1$.  We expect the method based on partialling-out with Lasso to provide a high quality estimate of $\\beta_1$."
   ]
  },
  {
   "cell_type": "markdown",
   "metadata": {
    "id": "cm6IJ1qrZ4_f",
    "papermill": {
     "duration": 0.015866,
     "end_time": "2021-07-23T14:56:49.971824",
     "exception": false,
     "start_time": "2021-07-23T14:56:49.955958",
     "status": "completed"
    },
    "tags": []
   },
   "source": [
    "To check this hypothesis, we analyze the relationship between the country's growth rate $Y$ and the country's other characteristics by running a linear regression in the first step."
   ]
  },
  {
   "cell_type": "code",
   "execution_count": 3,
   "metadata": {
    "execution": {
     "iopub.execute_input": "2021-07-23T14:56:50.013341Z",
     "iopub.status.busy": "2021-07-23T14:56:50.007726Z",
     "iopub.status.idle": "2021-07-23T14:56:50.035082Z",
     "shell.execute_reply": "2021-07-23T14:56:50.033649Z"
    },
    "executionInfo": {
     "elapsed": 25,
     "status": "ok",
     "timestamp": 1658250416522,
     "user": {
      "displayName": "Jhon Kevin Flores Rojas",
      "userId": "10267608749788811245"
     },
     "user_tz": 300
    },
    "id": "jra4YXubZ4_g",
    "papermill": {
     "duration": 0.047258,
     "end_time": "2021-07-23T14:56:50.035429",
     "exception": false,
     "start_time": "2021-07-23T14:56:49.988171",
     "status": "completed"
    },
    "tags": [],
    "vscode": {
     "languageId": "r"
    }
   },
   "outputs": [],
   "source": [
    "reg.ols <- lm(Outcome~.-1,data=growth)"
   ]
  },
  {
   "cell_type": "markdown",
   "metadata": {
    "id": "lkhdyEXIZ4_i",
    "papermill": {
     "duration": 0.016228,
     "end_time": "2021-07-23T14:56:50.068120",
     "exception": false,
     "start_time": "2021-07-23T14:56:50.051892",
     "status": "completed"
    },
    "tags": []
   },
   "source": [
    "We determine the regression coefficient $\\beta_1$ of the target regressor *gdpsh465* (initial wealth level, $D$), its 95% confidence interval and the standard error."
   ]
  },
  {
   "cell_type": "code",
   "execution_count": 4,
   "metadata": {
    "execution": {
     "iopub.execute_input": "2021-07-23T14:56:50.106026Z",
     "iopub.status.busy": "2021-07-23T14:56:50.104799Z",
     "iopub.status.idle": "2021-07-23T14:56:50.161823Z",
     "shell.execute_reply": "2021-07-23T14:56:50.159527Z"
    },
    "executionInfo": {
     "elapsed": 23,
     "status": "ok",
     "timestamp": 1658250416522,
     "user": {
      "displayName": "Jhon Kevin Flores Rojas",
      "userId": "10267608749788811245"
     },
     "user_tz": 300
    },
    "id": "4lVkVjN1Z4_j",
    "papermill": {
     "duration": 0.077315,
     "end_time": "2021-07-23T14:56:50.162063",
     "exception": false,
     "start_time": "2021-07-23T14:56:50.084748",
     "status": "completed"
    },
    "tags": [],
    "vscode": {
     "languageId": "r"
    }
   },
   "outputs": [],
   "source": [
    "est_ols <- summary(reg.ols)$coef[\"gdpsh465\",1]\n",
    "# output: estimated regression coefficient corresponding to the target regressor\n",
    "\n",
    "std_ols <- summary(reg.ols)$coef[\"gdpsh465\",2]\n",
    "# output: std. error\n",
    "\n",
    "ci_ols <- confint(reg.ols)[2,]\n",
    "# output: 95% confidence interval\n",
    "\n",
    "results_ols <- as.data.frame(cbind(est_ols,std_ols,ci_ols[1],ci_ols[2]))\n",
    "colnames(results_ols) <-c(\"estimator\",\"standard error\", \"lower bound CI\", \"upper bound CI\")\n",
    "rownames(results_ols) <-c(\"OLS\")"
   ]
  },
  {
   "cell_type": "code",
   "execution_count": 5,
   "metadata": {
    "colab": {
     "base_uri": "https://localhost:8080/",
     "height": 98
    },
    "execution": {
     "iopub.execute_input": "2021-07-23T14:56:50.224015Z",
     "iopub.status.busy": "2021-07-23T14:56:50.221780Z",
     "iopub.status.idle": "2021-07-23T14:56:50.298242Z",
     "shell.execute_reply": "2021-07-23T14:56:50.296182Z"
    },
    "executionInfo": {
     "elapsed": 608,
     "status": "ok",
     "timestamp": 1658250417110,
     "user": {
      "displayName": "Jhon Kevin Flores Rojas",
      "userId": "10267608749788811245"
     },
     "user_tz": 300
    },
    "id": "S8BRE0kPZ4_p",
    "outputId": "af74adaf-5bf8-4f2c-abc3-881e72747530",
    "papermill": {
     "duration": 0.109052,
     "end_time": "2021-07-23T14:56:50.298416",
     "exception": false,
     "start_time": "2021-07-23T14:56:50.189364",
     "status": "completed"
    },
    "tags": [],
    "vscode": {
     "languageId": "r"
    }
   },
   "outputs": [
    {
     "data": {
      "text/html": [
       "<table class=\"dataframe\">\n",
       "<caption>A matrix: 1 × 4 of type dbl</caption>\n",
       "<thead>\n",
       "\t<tr><th></th><th scope=col>estimator</th><th scope=col>standard error</th><th scope=col>lower bound CI</th><th scope=col>upper bound CI</th></tr>\n",
       "</thead>\n",
       "<tbody>\n",
       "\t<tr><th scope=row>OLS</th><td>-0.009377989</td><td>0.02988773</td><td>-0.07060022</td><td>0.05184424</td></tr>\n",
       "</tbody>\n",
       "</table>\n"
      ],
      "text/latex": [
       "A matrix: 1 × 4 of type dbl\n",
       "\\begin{tabular}{r|llll}\n",
       "  & estimator & standard error & lower bound CI & upper bound CI\\\\\n",
       "\\hline\n",
       "\tOLS & -0.009377989 & 0.02988773 & -0.07060022 & 0.05184424\\\\\n",
       "\\end{tabular}\n"
      ],
      "text/markdown": [
       "\n",
       "A matrix: 1 × 4 of type dbl\n",
       "\n",
       "| <!--/--> | estimator | standard error | lower bound CI | upper bound CI |\n",
       "|---|---|---|---|---|\n",
       "| OLS | -0.009377989 | 0.02988773 | -0.07060022 | 0.05184424 |\n",
       "\n"
      ],
      "text/plain": [
       "    estimator    standard error lower bound CI upper bound CI\n",
       "OLS -0.009377989 0.02988773     -0.07060022    0.05184424    "
      ]
     },
     "metadata": {},
     "output_type": "display_data"
    }
   ],
   "source": [
    "table <- matrix(0, 1, 4)\n",
    "table[1,1:4]   <- c(est_ols,std_ols,ci_ols[1],ci_ols[2])\n",
    "colnames(table) <-c(\"estimator\",\"standard error\", \"lower bound CI\", \"upper bound CI\")\n",
    "rownames(table) <-c(\"OLS\")\n",
    "table"
   ]
  },
  {
   "cell_type": "markdown",
   "metadata": {
    "id": "VPmQ593XZ4_q",
    "papermill": {
     "duration": 0.016223,
     "end_time": "2021-07-23T14:56:50.363060",
     "exception": false,
     "start_time": "2021-07-23T14:56:50.346837",
     "status": "completed"
    },
    "tags": []
   },
   "source": [
    "As expected, least squares provides a rather noisy estimate of the speed of convergence, and does not allow us to answer the question about the convergence hypothesis as the confidence interval includes zero."
   ]
  },
  {
   "cell_type": "markdown",
   "metadata": {
    "id": "C_b-SHE3Z4_q",
    "papermill": {
     "duration": 0.015859,
     "end_time": "2021-07-23T14:56:50.394977",
     "exception": false,
     "start_time": "2021-07-23T14:56:50.379118",
     "status": "completed"
    },
    "tags": []
   },
   "source": [
    "In contrast, we can use the partialling-out approach based on lasso regression (\"Double Lasso\")."
   ]
  },
  {
   "cell_type": "code",
   "execution_count": 6,
   "metadata": {
    "colab": {
     "base_uri": "https://localhost:8080/",
     "height": 98
    },
    "execution": {
     "iopub.execute_input": "2021-07-23T14:56:50.432184Z",
     "iopub.status.busy": "2021-07-23T14:56:50.430820Z",
     "iopub.status.idle": "2021-07-23T14:56:50.814526Z",
     "shell.execute_reply": "2021-07-23T14:56:50.812590Z"
    },
    "executionInfo": {
     "elapsed": 18,
     "status": "ok",
     "timestamp": 1658250417112,
     "user": {
      "displayName": "Jhon Kevin Flores Rojas",
      "userId": "10267608749788811245"
     },
     "user_tz": 300
    },
    "id": "PCdRcUqJZ4_r",
    "outputId": "145c63d5-8667-428c-f12e-815b0ec429ae",
    "papermill": {
     "duration": 0.403815,
     "end_time": "2021-07-23T14:56:50.814688",
     "exception": false,
     "start_time": "2021-07-23T14:56:50.410873",
     "status": "completed"
    },
    "tags": [],
    "vscode": {
     "languageId": "r"
    }
   },
   "outputs": [
    {
     "data": {
      "text/html": [
       "<table class=\"dataframe\">\n",
       "<caption>A matrix: 1 × 4 of type dbl</caption>\n",
       "<thead>\n",
       "\t<tr><th></th><th scope=col>estimator</th><th scope=col>standard error</th><th scope=col>lower bound CI</th><th scope=col>upper bound CI</th></tr>\n",
       "</thead>\n",
       "<tbody>\n",
       "\t<tr><th scope=row>Double Lasso</th><td>-0.04981147</td><td>0.01393636</td><td>-0.07750705</td><td>-0.02211588</td></tr>\n",
       "</tbody>\n",
       "</table>\n"
      ],
      "text/latex": [
       "A matrix: 1 × 4 of type dbl\n",
       "\\begin{tabular}{r|llll}\n",
       "  & estimator & standard error & lower bound CI & upper bound CI\\\\\n",
       "\\hline\n",
       "\tDouble Lasso & -0.04981147 & 0.01393636 & -0.07750705 & -0.02211588\\\\\n",
       "\\end{tabular}\n"
      ],
      "text/markdown": [
       "\n",
       "A matrix: 1 × 4 of type dbl\n",
       "\n",
       "| <!--/--> | estimator | standard error | lower bound CI | upper bound CI |\n",
       "|---|---|---|---|---|\n",
       "| Double Lasso | -0.04981147 | 0.01393636 | -0.07750705 | -0.02211588 |\n",
       "\n"
      ],
      "text/plain": [
       "             estimator   standard error lower bound CI upper bound CI\n",
       "Double Lasso -0.04981147 0.01393636     -0.07750705    -0.02211588   "
      ]
     },
     "metadata": {},
     "output_type": "display_data"
    }
   ],
   "source": [
    "Y <- growth[, 1, drop = F] # output variable\n",
    "W <- as.matrix(growth)[, -c(1, 2,3)] # controls\n",
    "D <- growth[, 3, drop = F] # target regressor\n",
    "r.Y <- rlasso(x=W,y=Y)$res # creates the \"residual\" output variable\n",
    "r.D <- rlasso(x=W,y=D)$res # creates the \"residual\" target regressor\n",
    "partial.lasso <- lm(r.Y ~ r.D)\n",
    "est_lasso <- partial.lasso$coef[2]\n",
    "std_lasso <- summary(partial.lasso)$coef[2,2]\n",
    "ci_lasso <- confint(partial.lasso)[2,]\n",
    "\n",
    "table <- matrix(0, 1, 4)\n",
    "table[1,1:4]   <- c(est_lasso,std_lasso,ci_lasso[1],ci_lasso[2])\n",
    "colnames(table) <-c(\"estimator\",\"standard error\", \"lower bound CI\", \"upper bound CI\")\n",
    "rownames(table) <-c(\"Double Lasso\")\n",
    "table"
   ]
  },
  {
   "cell_type": "markdown",
   "metadata": {
    "id": "nziVPDIcZ4_r",
    "papermill": {
     "duration": 0.016735,
     "end_time": "2021-07-23T14:56:50.882602",
     "exception": false,
     "start_time": "2021-07-23T14:56:50.865867",
     "status": "completed"
    },
    "tags": []
   },
   "source": [
    "Lasso provides a more precise estimate (lower standard error). The Lasso based\n",
    "point estimate is  about $5\\%$ and the $95\\%$ confidence interval for the\n",
    "(annual) rate of convergence is $7.8\\%$ to $2.2\\%$. This empirical\n",
    "evidence does support the convergence hypothesis."
   ]
  },
  {
   "cell_type": "markdown",
   "metadata": {
    "id": "Vz_83bC-Z4_s",
    "papermill": {
     "duration": 0.016808,
     "end_time": "2021-07-23T14:56:50.916220",
     "exception": false,
     "start_time": "2021-07-23T14:56:50.899412",
     "status": "completed"
    },
    "tags": []
   },
   "source": [
    "Note: Alternatively, one could also use the *rlassoEffect* funtion from the *hdm* package that directly applies the partialling-out approach."
   ]
  },
  {
   "cell_type": "code",
   "execution_count": 7,
   "metadata": {
    "colab": {
     "base_uri": "https://localhost:8080/",
     "height": 121
    },
    "execution": {
     "iopub.execute_input": "2021-07-23T14:56:50.956238Z",
     "iopub.status.busy": "2021-07-23T14:56:50.954546Z",
     "iopub.status.idle": "2021-07-23T14:56:51.246182Z",
     "shell.execute_reply": "2021-07-23T14:56:51.244404Z"
    },
    "executionInfo": {
     "elapsed": 496,
     "status": "ok",
     "timestamp": 1658250417592,
     "user": {
      "displayName": "Jhon Kevin Flores Rojas",
      "userId": "10267608749788811245"
     },
     "user_tz": 300
    },
    "id": "7LcsHFkyZ4_s",
    "outputId": "f5e25f05-80c3-428f-9769-041e00d5713d",
    "papermill": {
     "duration": 0.31294,
     "end_time": "2021-07-23T14:56:51.246366",
     "exception": false,
     "start_time": "2021-07-23T14:56:50.933426",
     "status": "completed"
    },
    "tags": [],
    "vscode": {
     "languageId": "r"
    }
   },
   "outputs": [
    {
     "data": {
      "text/plain": [
       "\n",
       "Call:\n",
       "rlassoEffect(x = W, y = Y, d = D, method = \"partialling out\")\n",
       "\n",
       "Coefficients:\n",
       "[1]  -0.04981\n"
      ]
     },
     "metadata": {},
     "output_type": "display_data"
    }
   ],
   "source": [
    "lasso.effect = rlassoEffect(x = W, y = Y, d = D, method = \"partialling out\")\n",
    "lasso.effect"
   ]
  },
  {
   "cell_type": "markdown",
   "metadata": {
    "id": "eXeDsXVBZ4_s",
    "papermill": {
     "duration": 0.019246,
     "end_time": "2021-07-23T14:56:51.285117",
     "exception": false,
     "start_time": "2021-07-23T14:56:51.265871",
     "status": "completed"
    },
    "tags": []
   },
   "source": [
    "## Summary\n"
   ]
  },
  {
   "cell_type": "markdown",
   "metadata": {
    "id": "ChpgvseUZ4_t",
    "papermill": {
     "duration": 0.019095,
     "end_time": "2021-07-23T14:56:51.323721",
     "exception": false,
     "start_time": "2021-07-23T14:56:51.304626",
     "status": "completed"
    },
    "tags": []
   },
   "source": [
    "Finally, let us have a look at the results."
   ]
  },
  {
   "cell_type": "code",
   "execution_count": 8,
   "metadata": {
    "colab": {
     "base_uri": "https://localhost:8080/",
     "height": 129
    },
    "execution": {
     "iopub.execute_input": "2021-07-23T14:56:51.364240Z",
     "iopub.status.busy": "2021-07-23T14:56:51.362516Z",
     "iopub.status.idle": "2021-07-23T14:56:51.391221Z",
     "shell.execute_reply": "2021-07-23T14:56:51.389921Z"
    },
    "executionInfo": {
     "elapsed": 27,
     "status": "ok",
     "timestamp": 1658250417594,
     "user": {
      "displayName": "Jhon Kevin Flores Rojas",
      "userId": "10267608749788811245"
     },
     "user_tz": 300
    },
    "id": "UBDKWXN0Z4_u",
    "outputId": "f4fb5d2e-920e-4a23-f3f5-1906fe6c82a3",
    "papermill": {
     "duration": 0.0504,
     "end_time": "2021-07-23T14:56:51.391387",
     "exception": false,
     "start_time": "2021-07-23T14:56:51.340987",
     "status": "completed"
    },
    "tags": [],
    "vscode": {
     "languageId": "r"
    }
   },
   "outputs": [
    {
     "data": {
      "text/html": [
       "<table class=\"dataframe\">\n",
       "<caption>A matrix: 2 × 4 of type dbl</caption>\n",
       "<thead>\n",
       "\t<tr><th></th><th scope=col>estimator</th><th scope=col>standard error</th><th scope=col>lower bound CI</th><th scope=col>upper bound CI</th></tr>\n",
       "</thead>\n",
       "<tbody>\n",
       "\t<tr><th scope=row>OLS</th><td>-0.009377989</td><td>0.02988773</td><td>-0.07060022</td><td> 0.05184424</td></tr>\n",
       "\t<tr><th scope=row>Double Lasso</th><td>-0.049811465</td><td>0.01393636</td><td>-0.07750705</td><td>-0.02211588</td></tr>\n",
       "</tbody>\n",
       "</table>\n"
      ],
      "text/latex": [
       "A matrix: 2 × 4 of type dbl\n",
       "\\begin{tabular}{r|llll}\n",
       "  & estimator & standard error & lower bound CI & upper bound CI\\\\\n",
       "\\hline\n",
       "\tOLS & -0.009377989 & 0.02988773 & -0.07060022 &  0.05184424\\\\\n",
       "\tDouble Lasso & -0.049811465 & 0.01393636 & -0.07750705 & -0.02211588\\\\\n",
       "\\end{tabular}\n"
      ],
      "text/markdown": [
       "\n",
       "A matrix: 2 × 4 of type dbl\n",
       "\n",
       "| <!--/--> | estimator | standard error | lower bound CI | upper bound CI |\n",
       "|---|---|---|---|---|\n",
       "| OLS | -0.009377989 | 0.02988773 | -0.07060022 |  0.05184424 |\n",
       "| Double Lasso | -0.049811465 | 0.01393636 | -0.07750705 | -0.02211588 |\n",
       "\n"
      ],
      "text/plain": [
       "             estimator    standard error lower bound CI upper bound CI\n",
       "OLS          -0.009377989 0.02988773     -0.07060022     0.05184424   \n",
       "Double Lasso -0.049811465 0.01393636     -0.07750705    -0.02211588   "
      ]
     },
     "metadata": {},
     "output_type": "display_data"
    }
   ],
   "source": [
    "table <- matrix(0, 2, 4)\n",
    "table[1,1:4]   <- c(est_ols,std_ols,ci_ols[1],ci_ols[2])\n",
    "table[2,1:4]   <- c(est_lasso,std_lasso,ci_lasso[1],ci_lasso[2])\n",
    "colnames(table) <-c(\"estimator\",\"standard error\", \"lower bound CI\", \"upper bound CI\")\n",
    "rownames(table) <-c(\"OLS\",\"Double Lasso\")\n",
    "table"
   ]
  },
  {
   "cell_type": "markdown",
   "metadata": {
    "id": "i4xQfPpyZ4_u",
    "papermill": {
     "duration": 0.018814,
     "end_time": "2021-07-23T14:56:51.429665",
     "exception": false,
     "start_time": "2021-07-23T14:56:51.410851",
     "status": "completed"
    },
    "tags": []
   },
   "source": [
    "The least square method provides a rather noisy estimate of the speed of convergence. We cannot answer the question of whether poor countries grow faster than rich countries. The least square method does not work when the ratio $p/n$ is large.\n",
    "\n",
    "In sharp contrast, partialling-out via Lasso provides a more precise estimate. The Lasso-based point estimate is $-5\\%$ and the $95\\%$ confidence interval for the (annual) rate of convergence $[-7.8\\%,-2.2\\%]$ only includes negative numbers. This empirical evidence does support the convergence hypothesis.\n"
   ]
  }
 ],
 "metadata": {
  "colab": {
   "collapsed_sections": [],
   "name": "10_double-lasso-for-the-convergence-hypothesis.ipynb",
   "provenance": []
  },
  "jupytext": {
   "formats": "ipynb,R:light"
  },
  "kernelspec": {
   "display_name": "R",
   "language": "R",
   "name": "ir"
  },
  "language_info": {
   "codemirror_mode": "r",
   "file_extension": ".r",
   "mimetype": "text/x-r-source",
   "name": "R",
   "pygments_lexer": "r",
   "version": "4.2.1"
  },
  "papermill": {
   "default_parameters": {},
   "duration": 5.391798,
   "end_time": "2021-07-23T14:56:51.590767",
   "environment_variables": {},
   "exception": null,
   "input_path": "__notebook__.ipynb",
   "output_path": "__notebook__.ipynb",
   "parameters": {},
   "start_time": "2021-07-23T14:56:46.198969",
   "version": "2.2.2"
  }
 },
 "nbformat": 4,
 "nbformat_minor": 4
}
