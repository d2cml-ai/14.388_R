{
  "cells": [
    {
      "cell_type": "markdown",
      "metadata": {
        "id": "Pu8G7w-rMwH7",
        "papermill": {
          "duration": 0.020213,
          "end_time": "2021-07-23T17:22:15.464098",
          "exception": false,
          "start_time": "2021-07-23T17:22:15.443885",
          "status": "completed"
        },
        "tags": []
      },
      "source": [
        "# OLS and lasso for gender wage gap inference"
      ]
    },
    {
      "cell_type": "markdown",
      "metadata": {
        "id": "prKA3iWxMwH_",
        "papermill": {
          "duration": 0.020386,
          "end_time": "2021-07-23T17:22:15.504582",
          "exception": false,
          "start_time": "2021-07-23T17:22:15.484196",
          "status": "completed"
        },
        "tags": []
      },
      "source": [
        "In the previous lab, we analyzed data from the March Supplement of the U.S. Current Population Survey (2015) and answered the question of how to use job-relevant characteristics, such as education and experience, to best predict wages. Now, we focus on the following inference question:\n",
        "\n",
        "What is the difference in predicted wages between men and women with the same job-relevant characteristics?\n",
        "\n",
        "Thus, we analyze if there is a difference in the payment of men and women (*gender wage gap*). The gender wage gap may partly reflect *discrimination* against women in the labor market or may partly reflect a *selection effect*, namely that women are relatively more likely to take on occupations that pay somewhat less (for example, school teaching)."
      ]
    },
    {
      "cell_type": "markdown",
      "metadata": {
        "id": "H7afClrtMwIB",
        "papermill": {
          "duration": 0.020169,
          "end_time": "2021-07-23T17:22:15.544765",
          "exception": false,
          "start_time": "2021-07-23T17:22:15.524596",
          "status": "completed"
        },
        "tags": []
      },
      "source": [
        "To investigate the gender wage gap, we consider the following log-linear regression model\n",
        "\n",
        "$$\n",
        "\\begin{align}\n",
        "\\log(Y) &= \\beta'X + \\epsilon\\\\\n",
        "&= \\beta_1 D  + \\beta_2' W + \\epsilon,\n",
        "\\end{align}\n",
        "$$\n",
        "\n",
        "where $Y$ is hourly wage, $D$ is the indicator of being female ($1$ if female and $0$ otherwise) and the\n",
        "$W$'s are a vector of worker characteristics explaining variation in wages. Considering transformed wages by the logarithm, we are analyzing the relative difference in the payment of men and women."
      ]
    },
    {
      "cell_type": "markdown",
      "metadata": {
        "id": "hOjuKTDUMwID",
        "papermill": {
          "duration": 0.020135,
          "end_time": "2021-07-23T17:22:15.585065",
          "exception": false,
          "start_time": "2021-07-23T17:22:15.564930",
          "status": "completed"
        },
        "tags": []
      },
      "source": [
        "## Data analysis"
      ]
    },
    {
      "cell_type": "markdown",
      "metadata": {
        "id": "-M5WO64gMwIF",
        "papermill": {
          "duration": 0.020078,
          "end_time": "2021-07-23T17:22:15.625256",
          "exception": false,
          "start_time": "2021-07-23T17:22:15.605178",
          "status": "completed"
        },
        "tags": []
      },
      "source": [
        "We consider the same subsample of the U.S. Current Population Survey (2015) as in the previous lab. Let us load the data set."
      ]
    },
    {
      "cell_type": "code",
      "execution_count": 1,
      "metadata": {
        "colab": {
          "base_uri": "https://localhost:8080/",
          "height": 69
        },
        "execution": {
          "iopub.execute_input": "2021-07-23T17:22:15.698909Z",
          "iopub.status.busy": "2021-07-23T17:22:15.696914Z",
          "iopub.status.idle": "2021-07-23T17:22:15.863414Z",
          "shell.execute_reply": "2021-07-23T17:22:15.861806Z"
        },
        "id": "_KSN9dzWMwIH",
        "outputId": "95ab04e1-52d1-4054-e6bf-968a9f52d9a4",
        "papermill": {
          "duration": 0.217179,
          "end_time": "2021-07-23T17:22:15.863633",
          "exception": false,
          "start_time": "2021-07-23T17:22:15.646454",
          "status": "completed"
        },
        "tags": [],
        "vscode": {
          "languageId": "r"
        }
      },
      "outputs": [
        {
          "name": "stderr",
          "output_type": "stream",
          "text": [
            "Warning message in system(\"timedatectl\", intern = TRUE):\n",
            "“running command 'timedatectl' had status 1”\n"
          ]
        },
        {
          "data": {
            "text/html": [
              "<style>\n",
              ".list-inline {list-style: none; margin:0; padding: 0}\n",
              ".list-inline>li {display: inline-block}\n",
              ".list-inline>li:not(:last-child)::after {content: \"\\00b7\"; padding: 0 .5ex}\n",
              "</style>\n",
              "<ol class=list-inline><li>5150</li><li>21</li></ol>\n"
            ],
            "text/latex": [
              "\\begin{enumerate*}\n",
              "\\item 5150\n",
              "\\item 21\n",
              "\\end{enumerate*}\n"
            ],
            "text/markdown": [
              "1. 5150\n",
              "2. 21\n",
              "\n",
              "\n"
            ],
            "text/plain": [
              "[1] 5150   21"
            ]
          },
          "metadata": {},
          "output_type": "display_data"
        }
      ],
      "source": [
        "install.packages(\"librarian\", quiet = T)\n",
        "librarian::shelf(tidyverse, sandwich, hdm, quiet = T)\n",
        "data <- read_csv(\"https://github.com/d2cml-ai/14.388_R/raw/main/Data/wage2015_subsample_inference.csv\"\n",
        "        , show_col_types = F)\n",
        "dim(data)\n",
        "attach(data)"
      ]
    },
    {
      "cell_type": "markdown",
      "metadata": {
        "id": "2sWSDWdsMwIK",
        "papermill": {
          "duration": 0.02058,
          "end_time": "2021-07-23T17:22:15.905641",
          "exception": false,
          "start_time": "2021-07-23T17:22:15.885061",
          "status": "completed"
        },
        "tags": []
      },
      "source": [
        "To start our (causal) analysis, we compare the sample means given gender:"
      ]
    },
    {
      "cell_type": "code",
      "execution_count": 2,
      "metadata": {
        "colab": {
          "base_uri": "https://localhost:8080/",
          "height": 443
        },
        "execution": {
          "iopub.execute_input": "2021-07-23T17:22:15.981249Z",
          "iopub.status.busy": "2021-07-23T17:22:15.951350Z",
          "iopub.status.idle": "2021-07-23T17:22:16.060995Z",
          "shell.execute_reply": "2021-07-23T17:22:16.059721Z"
        },
        "id": "LnHPGfnvMwIN",
        "lines_to_next_cell": 2,
        "outputId": "497b0258-a11d-4be1-c3f7-fdbf08c79463",
        "papermill": {
          "duration": 0.134878,
          "end_time": "2021-07-23T17:22:16.061154",
          "exception": false,
          "start_time": "2021-07-23T17:22:15.926276",
          "status": "completed"
        },
        "tags": [],
        "vscode": {
          "languageId": "r"
        }
      },
      "outputs": [
        {
          "data": {
            "text/html": [
              "<table class=\"dataframe\">\n",
              "<caption>A tibble: 11 × 4</caption>\n",
              "<thead>\n",
              "\t<tr><th scope=col>Variable</th><th scope=col>Male</th><th scope=col>Female</th><th scope=col>All</th></tr>\n",
              "\t<tr><th scope=col>&lt;chr&gt;</th><th scope=col>&lt;dbl&gt;</th><th scope=col>&lt;dbl&gt;</th><th scope=col>&lt;dbl&gt;</th></tr>\n",
              "</thead>\n",
              "<tbody>\n",
              "\t<tr><td>Log Wage             </td><td> 2.98782963</td><td> 2.94948490</td><td> 2.97078670</td></tr>\n",
              "\t<tr><td>Less then High School</td><td> 0.03180706</td><td> 0.01266929</td><td> 0.02330097</td></tr>\n",
              "\t<tr><td>High School Graduate </td><td> 0.29430269</td><td> 0.18086501</td><td> 0.24388350</td></tr>\n",
              "\t<tr><td>Some College         </td><td> 0.27333100</td><td> 0.28396680</td><td> 0.27805825</td></tr>\n",
              "\t<tr><td>College Graduate     </td><td> 0.29395316</td><td> 0.34731324</td><td> 0.31766990</td></tr>\n",
              "\t<tr><td>Advanced Degree      </td><td> 0.10660608</td><td> 0.17518567</td><td> 0.13708738</td></tr>\n",
              "\t<tr><td>Northeast            </td><td> 0.22195037</td><td> 0.23503713</td><td> 0.22776699</td></tr>\n",
              "\t<tr><td>Midwest              </td><td> 0.25900035</td><td> 0.26037571</td><td> 0.25961165</td></tr>\n",
              "\t<tr><td>South                </td><td> 0.29814750</td><td> 0.29445173</td><td> 0.29650485</td></tr>\n",
              "\t<tr><td>West                 </td><td> 0.22090178</td><td> 0.21013543</td><td> 0.21611650</td></tr>\n",
              "\t<tr><td>Experience           </td><td>13.78399161</td><td>13.73132372</td><td>13.76058252</td></tr>\n",
              "</tbody>\n",
              "</table>\n"
            ],
            "text/latex": [
              "A tibble: 11 × 4\n",
              "\\begin{tabular}{llll}\n",
              " Variable & Male & Female & All\\\\\n",
              " <chr> & <dbl> & <dbl> & <dbl>\\\\\n",
              "\\hline\n",
              "\t Log Wage              &  2.98782963 &  2.94948490 &  2.97078670\\\\\n",
              "\t Less then High School &  0.03180706 &  0.01266929 &  0.02330097\\\\\n",
              "\t High School Graduate  &  0.29430269 &  0.18086501 &  0.24388350\\\\\n",
              "\t Some College          &  0.27333100 &  0.28396680 &  0.27805825\\\\\n",
              "\t College Graduate      &  0.29395316 &  0.34731324 &  0.31766990\\\\\n",
              "\t Advanced Degree       &  0.10660608 &  0.17518567 &  0.13708738\\\\\n",
              "\t Northeast             &  0.22195037 &  0.23503713 &  0.22776699\\\\\n",
              "\t Midwest               &  0.25900035 &  0.26037571 &  0.25961165\\\\\n",
              "\t South                 &  0.29814750 &  0.29445173 &  0.29650485\\\\\n",
              "\t West                  &  0.22090178 &  0.21013543 &  0.21611650\\\\\n",
              "\t Experience            & 13.78399161 & 13.73132372 & 13.76058252\\\\\n",
              "\\end{tabular}\n"
            ],
            "text/markdown": [
              "\n",
              "A tibble: 11 × 4\n",
              "\n",
              "| Variable &lt;chr&gt; | Male &lt;dbl&gt; | Female &lt;dbl&gt; | All &lt;dbl&gt; |\n",
              "|---|---|---|---|\n",
              "| Log Wage              |  2.98782963 |  2.94948490 |  2.97078670 |\n",
              "| Less then High School |  0.03180706 |  0.01266929 |  0.02330097 |\n",
              "| High School Graduate  |  0.29430269 |  0.18086501 |  0.24388350 |\n",
              "| Some College          |  0.27333100 |  0.28396680 |  0.27805825 |\n",
              "| College Graduate      |  0.29395316 |  0.34731324 |  0.31766990 |\n",
              "| Advanced Degree       |  0.10660608 |  0.17518567 |  0.13708738 |\n",
              "| Northeast             |  0.22195037 |  0.23503713 |  0.22776699 |\n",
              "| Midwest               |  0.25900035 |  0.26037571 |  0.25961165 |\n",
              "| South                 |  0.29814750 |  0.29445173 |  0.29650485 |\n",
              "| West                  |  0.22090178 |  0.21013543 |  0.21611650 |\n",
              "| Experience            | 13.78399161 | 13.73132372 | 13.76058252 |\n",
              "\n"
            ],
            "text/plain": [
              "   Variable              Male        Female      All        \n",
              "1  Log Wage               2.98782963  2.94948490  2.97078670\n",
              "2  Less then High School  0.03180706  0.01266929  0.02330097\n",
              "3  High School Graduate   0.29430269  0.18086501  0.24388350\n",
              "4  Some College           0.27333100  0.28396680  0.27805825\n",
              "5  College Graduate       0.29395316  0.34731324  0.31766990\n",
              "6  Advanced Degree        0.10660608  0.17518567  0.13708738\n",
              "7  Northeast              0.22195037  0.23503713  0.22776699\n",
              "8  Midwest                0.25900035  0.26037571  0.25961165\n",
              "9  South                  0.29814750  0.29445173  0.29650485\n",
              "10 West                   0.22090178  0.21013543  0.21611650\n",
              "11 Experience            13.78399161 13.73132372 13.76058252"
            ]
          },
          "metadata": {},
          "output_type": "display_data"
        }
      ],
      "source": [
        "variables <- c(\"lwage\",\"sex\",\"shs\",\"hsg\",\"scl\",\"clg\",\"ad\",\"ne\",\"mw\",\"so\",\"we\",\"exp1\")\n",
        "\n",
        "Z <- data |> select(all_of(variables))\n",
        "\n",
        "data_female <- data |> filter(sex == 1)\n",
        "data_male <- data |> filter(sex == 0)\n",
        "\n",
        "Z_mean = Z |>\n",
        "  mutate(sex = 3) |> # ALL \n",
        "  bind_rows(Z) |> # Sex\n",
        "  group_by(sex) |>\n",
        "  summarise(across(where(is.numeric), mean)) |>\n",
        "  ungroup() |>\n",
        "  mutate(sex = case_when(sex == 1 ~ \"Female\", sex == 0 ~ \"Male\", T ~ \"All\"))\n",
        "\n",
        "colnames(Z_mean) <- c(\"Sex\",\"Log Wage\",\"Less then High School\",\"High School Graduate\",\"Some College\",\"College Graduate\",\"Advanced Degree\", \"Northeast\",\"Midwest\",\"South\",\"West\",\"Experience\")\n",
        "Z_mean |>\n",
        "  pivot_longer(!Sex, names_to = \"Variable\") |>\n",
        "  pivot_wider(names_from = Sex, values_from = value)"
      ]
    },
    {
      "cell_type": "markdown",
      "metadata": {
        "id": "3FARY1cNMwIV",
        "papermill": {
          "duration": 0.022396,
          "end_time": "2021-07-23T17:22:16.220133",
          "exception": false,
          "start_time": "2021-07-23T17:22:16.197737",
          "status": "completed"
        },
        "tags": []
      },
      "source": [
        "In particular, the table above shows that the difference in average *logwage* between men and women is equal to $0.038$"
      ]
    },
    {
      "cell_type": "code",
      "execution_count": 3,
      "metadata": {
        "colab": {
          "base_uri": "https://localhost:8080/",
          "height": 34
        },
        "execution": {
          "iopub.execute_input": "2021-07-23T17:22:16.269800Z",
          "iopub.status.busy": "2021-07-23T17:22:16.268520Z",
          "iopub.status.idle": "2021-07-23T17:22:16.283524Z",
          "shell.execute_reply": "2021-07-23T17:22:16.282266Z"
        },
        "id": "-NRIz5ecMwIW",
        "outputId": "50fdaf51-ae7f-4853-8c42-1a9baf6d8f80",
        "papermill": {
          "duration": 0.041243,
          "end_time": "2021-07-23T17:22:16.283723",
          "exception": false,
          "start_time": "2021-07-23T17:22:16.242480",
          "status": "completed"
        },
        "tags": [],
        "vscode": {
          "languageId": "r"
        }
      },
      "outputs": [
        {
          "data": {
            "text/html": [
              "-0.0383447336744154"
            ],
            "text/latex": [
              "-0.0383447336744154"
            ],
            "text/markdown": [
              "-0.0383447336744154"
            ],
            "text/plain": [
              "[1] -0.03834473"
            ]
          },
          "metadata": {},
          "output_type": "display_data"
        }
      ],
      "source": [
        "mean(data_female$lwage)-mean(data_male$lwage)"
      ]
    },
    {
      "cell_type": "markdown",
      "metadata": {
        "id": "EgZdi1ChMwIY",
        "papermill": {
          "duration": 0.023086,
          "end_time": "2021-07-23T17:22:16.329991",
          "exception": false,
          "start_time": "2021-07-23T17:22:16.306905",
          "status": "completed"
        },
        "tags": []
      },
      "source": [
        "Thus, the unconditional gender wage gap is about $3,8$\\% for the group of never married workers (women get paid less on average in our sample). We also observe that never married working women are relatively more educated than working men and have lower working experience."
      ]
    },
    {
      "cell_type": "markdown",
      "metadata": {
        "id": "VAZwxtkFMwIZ",
        "papermill": {
          "duration": 0.022571,
          "end_time": "2021-07-23T17:22:16.375146",
          "exception": false,
          "start_time": "2021-07-23T17:22:16.352575",
          "status": "completed"
        },
        "tags": []
      },
      "source": [
        "This unconditional (predictive) effect of gender equals the coefficient $\\beta$ in the univariate ols regression of $Y$ on $D$:\n",
        "\n",
        "$$\n",
        "\\begin{align}\n",
        "\\log(Y) &=\\beta D + \\epsilon.\n",
        "\\end{align}\n",
        "$$"
      ]
    },
    {
      "cell_type": "markdown",
      "metadata": {
        "id": "qHcYy0AjMwIa",
        "papermill": {
          "duration": 0.022819,
          "end_time": "2021-07-23T17:22:16.420492",
          "exception": false,
          "start_time": "2021-07-23T17:22:16.397673",
          "status": "completed"
        },
        "tags": []
      },
      "source": [
        "We verify this by running an ols regression in R."
      ]
    },
    {
      "cell_type": "code",
      "execution_count": 4,
      "metadata": {
        "colab": {
          "base_uri": "https://localhost:8080/"
        },
        "execution": {
          "iopub.execute_input": "2021-07-23T17:22:16.472618Z",
          "iopub.status.busy": "2021-07-23T17:22:16.472048Z",
          "iopub.status.idle": "2021-07-23T17:22:16.666527Z",
          "shell.execute_reply": "2021-07-23T17:22:16.665075Z"
        },
        "id": "4_MaxlFwMwIb",
        "lines_to_next_cell": 2,
        "outputId": "2dd97afa-f842-4f35-aeee-b1a81e10a10a",
        "papermill": {
          "duration": 0.223618,
          "end_time": "2021-07-23T17:22:16.666688",
          "exception": false,
          "start_time": "2021-07-23T17:22:16.443070",
          "status": "completed"
        },
        "tags": [],
        "vscode": {
          "languageId": "r"
        }
      },
      "outputs": [
        {
          "name": "stdout",
          "output_type": "stream",
          "text": [
            "The estimated coefficient on the dummy for gender is -0.03834473 \n",
            "and the corresponding robust standard error is 0.01590194"
          ]
        }
      ],
      "source": [
        "nocontrol_fit <- lm(lwage ~ sex, data = Z)\n",
        "nocontrol_est <- summary(nocontrol_fit)$coef[\"sex\",1]\n",
        "HCV_coefs <- vcovHC(nocontrol_fit, type = 'HC'); # HC - \"heteroskedasticity cosistent\"\n",
        "nocontrol_se <- sqrt(diag(HCV_coefs))[2] # Estimated std errors\n",
        "\n",
        "# print unconditional effect of gender and the corresponding standard error\n",
        "cat (\"The estimated coefficient on the dummy for gender is\",nocontrol_est,\"\\nand the corresponding robust standard error is\", nocontrol_se) "
      ]
    },
    {
      "cell_type": "markdown",
      "metadata": {
        "id": "42Zuove7MwId",
        "papermill": {
          "duration": 0.022927,
          "end_time": "2021-07-23T17:22:16.712621",
          "exception": false,
          "start_time": "2021-07-23T17:22:16.689694",
          "status": "completed"
        },
        "tags": []
      },
      "source": [
        "Note that the standard error is computed with the *R* package *sandwich* to be robust to heteroskedasticity. \n"
      ]
    },
    {
      "cell_type": "markdown",
      "metadata": {
        "id": "BTfWoWBqMwIf",
        "papermill": {
          "duration": 0.022895,
          "end_time": "2021-07-23T17:22:16.758457",
          "exception": false,
          "start_time": "2021-07-23T17:22:16.735562",
          "status": "completed"
        },
        "tags": []
      },
      "source": [
        "Next, we run an ols regression of $Y$ on $(D,W)$ to control for the effect of covariates summarized in $W$:\n",
        "\n",
        "$$\n",
        "\\begin{align}\n",
        "\\log(Y) &=\\beta_1 D  + \\beta_2' W + \\epsilon.\n",
        "\\end{align}\n",
        "$$\n",
        "\n",
        "Here, we are considering the flexible model from the previous lab. Hence, $W$ controls for experience, education, region, and occupation and industry indicators plus transformations and two-way interactions."
      ]
    },
    {
      "cell_type": "markdown",
      "metadata": {
        "id": "iTdhTarNMwIh",
        "papermill": {
          "duration": 0.022969,
          "end_time": "2021-07-23T17:22:16.804223",
          "exception": false,
          "start_time": "2021-07-23T17:22:16.781254",
          "status": "completed"
        },
        "tags": []
      },
      "source": [
        "Let us run the ols regression with controls."
      ]
    },
    {
      "cell_type": "code",
      "execution_count": 5,
      "metadata": {
        "colab": {
          "base_uri": "https://localhost:8080/",
          "height": 1000
        },
        "execution": {
          "iopub.execute_input": "2021-07-23T17:22:16.855199Z",
          "iopub.status.busy": "2021-07-23T17:22:16.853800Z",
          "iopub.status.idle": "2021-07-23T17:22:17.566403Z",
          "shell.execute_reply": "2021-07-23T17:22:17.564210Z"
        },
        "id": "1pIET_W_MwIh",
        "outputId": "8bcec3a1-add9-4888-b7e5-eeb71ae98890",
        "papermill": {
          "duration": 0.739685,
          "end_time": "2021-07-23T17:22:17.566675",
          "exception": false,
          "start_time": "2021-07-23T17:22:16.826990",
          "status": "completed"
        },
        "tags": [],
        "vscode": {
          "languageId": "r"
        }
      },
      "outputs": [
        {
          "data": {
            "text/plain": [
              "\n",
              "Call:\n",
              "lm(formula = flex, data = data)\n",
              "\n",
              "Residuals:\n",
              "    Min      1Q  Median      3Q     Max \n",
              "-2.1282 -0.3065 -0.0151  0.2945  3.5341 \n",
              "\n",
              "Coefficients:\n",
              "              Estimate Std. Error t value Pr(>|t|)    \n",
              "(Intercept)  3.5459818  0.1293099  27.422  < 2e-16 ***\n",
              "sex         -0.1024693  0.0146380  -7.000 2.89e-12 ***\n",
              "exp1         0.0395328  0.0481220   0.822  0.41139    \n",
              "exp2        -0.0470984  0.5325375  -0.088  0.92953    \n",
              "exp3        -0.0771429  0.2154298  -0.358  0.72029    \n",
              "exp4         0.0192883  0.0284494   0.678  0.49781    \n",
              "shs         -0.6909668  0.8988057  -0.769  0.44207    \n",
              "hsg         -0.5816131  0.1944598  -2.991  0.00279 ** \n",
              "scl         -0.3297645  0.1234560  -2.671  0.00758 ** \n",
              "clg         -0.0873795  0.0668027  -1.308  0.19092    \n",
              "occ2        -0.0266617  0.0050951  -5.233 1.74e-07 ***\n",
              "ind2        -0.0161333  0.0062181  -2.595  0.00950 ** \n",
              "mw           0.1079623  0.0834048   1.294  0.19557    \n",
              "so           0.0385942  0.0747084   0.517  0.60546    \n",
              "we          -0.0035042  0.0854161  -0.041  0.96728    \n",
              "exp1:shs    -0.0727104  0.1901283  -0.382  0.70216    \n",
              "exp1:hsg    -0.0250250  0.0546885  -0.458  0.64727    \n",
              "exp1:scl    -0.0609705  0.0417514  -1.460  0.14426    \n",
              "exp1:clg    -0.0380453  0.0300321  -1.267  0.20528    \n",
              "exp1:occ2    0.0031061  0.0017876   1.738  0.08234 .  \n",
              "exp1:ind2    0.0004029  0.0020728   0.194  0.84590    \n",
              "exp1:mw     -0.0270885  0.0301189  -0.899  0.36849    \n",
              "exp1:so     -0.0078718  0.0265858  -0.296  0.76717    \n",
              "exp1:we     -0.0024977  0.0305114  -0.082  0.93476    \n",
              "exp2:shs     0.9029215  1.3741164   0.657  0.51115    \n",
              "exp2:hsg     0.1877001  0.5146826   0.365  0.71536    \n",
              "exp2:scl     0.5113091  0.4400572   1.162  0.24532    \n",
              "exp2:clg     0.2030427  0.3705629   0.548  0.58376    \n",
              "exp2:occ2   -0.0343464  0.0186214  -1.844  0.06517 .  \n",
              "exp2:ind2   -0.0059163  0.0210536  -0.281  0.77871    \n",
              "exp2:mw      0.2042858  0.3188136   0.641  0.52170    \n",
              "exp2:so      0.0495460  0.2765429   0.179  0.85782    \n",
              "exp2:we      0.1190125  0.3228731   0.369  0.71244    \n",
              "exp3:shs    -0.3393592  0.4077661  -0.832  0.40531    \n",
              "exp3:hsg    -0.0373823  0.1921295  -0.195  0.84574    \n",
              "exp3:scl    -0.1409625  0.1751678  -0.805  0.42101    \n",
              "exp3:clg    -0.0065430  0.1607228  -0.041  0.96753    \n",
              "exp3:occ2    0.0141678  0.0071314   1.987  0.04701 *  \n",
              "exp3:ind2    0.0042756  0.0079665   0.537  0.59150    \n",
              "exp3:mw     -0.0669346  0.1233227  -0.543  0.58732    \n",
              "exp3:so     -0.0212880  0.1047326  -0.203  0.83894    \n",
              "exp3:we     -0.0616049  0.1249834  -0.493  0.62210    \n",
              "exp4:shs     0.0390455  0.0426584   0.915  0.36007    \n",
              "exp4:hsg     0.0016746  0.0243824   0.069  0.94525    \n",
              "exp4:scl     0.0121324  0.0230861   0.526  0.59924    \n",
              "exp4:clg    -0.0068572  0.0222925  -0.308  0.75840    \n",
              "exp4:occ2   -0.0019077  0.0008949  -2.132  0.03308 *  \n",
              "exp4:ind2   -0.0008135  0.0009948  -0.818  0.41355    \n",
              "exp4:mw      0.0069432  0.0155866   0.445  0.65601    \n",
              "exp4:so      0.0031201  0.0129355   0.241  0.80941    \n",
              "exp4:we      0.0080471  0.0158007   0.509  0.61057    \n",
              "---\n",
              "Signif. codes:  0 ‘***’ 0.001 ‘**’ 0.01 ‘*’ 0.05 ‘.’ 0.1 ‘ ’ 1\n",
              "\n",
              "Residual standard error: 0.498 on 5099 degrees of freedom\n",
              "Multiple R-squared:  0.2452,\tAdjusted R-squared:  0.2378 \n",
              "F-statistic: 33.14 on 50 and 5099 DF,  p-value: < 2.2e-16\n"
            ]
          },
          "metadata": {},
          "output_type": "display_data"
        },
        {
          "name": "stdout",
          "output_type": "stream",
          "text": [
            "Coefficient for OLS with controls -0.1024693"
          ]
        }
      ],
      "source": [
        "# ols regression with controls\n",
        "\n",
        "flex <- lwage ~ sex + (exp1 + exp2 + exp3 + exp4) * (shs + hsg + scl + clg+ occ2 + ind2 + mw + so + we)\n",
        "\n",
        "#   Note that ()*() operation in formula objects in R creates a formula of the sort:\n",
        "#  (exp1+exp2+exp3+exp4)+ (shs+hsg+scl+clg+occ2+ind2+mw+so+we) + (exp1+exp2+exp3+exp4)*(shs+hsg+scl+clg+occ2+ind2+mw+so+we)\n",
        "#  This is not intuitive at all, but that's what it does.\n",
        "\n",
        "control_fit <- lm(flex, data = data)\n",
        "control_est <- summary(control_fit)$coef[2,1]\n",
        "\n",
        "summary(control_fit)\n",
        "\n",
        "cat(\"Coefficient for OLS with controls\", control_est)\n",
        "\n",
        "HCV_coefs <- vcovHC(control_fit, type = 'HC');\n",
        "control_se <- sqrt(diag(HCV_coefs))[2] # Estimated std errors"
      ]
    },
    {
      "cell_type": "markdown",
      "metadata": {
        "id": "ZjBAmOnVMwIi",
        "papermill": {
          "duration": 0.042476,
          "end_time": "2021-07-23T17:22:17.651507",
          "exception": false,
          "start_time": "2021-07-23T17:22:17.609031",
          "status": "completed"
        },
        "tags": []
      },
      "source": [
        "The estimated regression coefficient $\\beta_1\\approx-0.0696$ measures how our linear prediction of wage changes if we set the gender variable $D$ from 0 to 1, holding the controls $W$ fixed.\n",
        "We can call this the *predictive effect* (PE), as it measures the impact of a variable on the prediction we make. Overall, we see that the unconditional wage gap of size $4$\\% for women increases to about $7$\\% after controlling for worker characteristics.  \n"
      ]
    },
    {
      "cell_type": "markdown",
      "metadata": {
        "id": "mUxE3yyZMwIj",
        "papermill": {
          "duration": 0.024455,
          "end_time": "2021-07-23T17:22:17.709268",
          "exception": false,
          "start_time": "2021-07-23T17:22:17.684813",
          "status": "completed"
        },
        "tags": []
      },
      "source": [
        "Next, we use the Frisch-Waugh-Lovell (FWL) theorem from lecture, partialling-out the linear effect of the controls via ols."
      ]
    },
    {
      "cell_type": "code",
      "execution_count": 6,
      "metadata": {
        "colab": {
          "base_uri": "https://localhost:8080/",
          "height": 52
        },
        "execution": {
          "iopub.execute_input": "2021-07-23T17:22:17.763017Z",
          "iopub.status.busy": "2021-07-23T17:22:17.761828Z",
          "iopub.status.idle": "2021-07-23T17:22:18.185975Z",
          "shell.execute_reply": "2021-07-23T17:22:18.184635Z"
        },
        "id": "JbOX8fvnMwIj",
        "outputId": "343bb681-8434-4c5a-9e04-42042db9f562",
        "papermill": {
          "duration": 0.452525,
          "end_time": "2021-07-23T17:22:18.186141",
          "exception": false,
          "start_time": "2021-07-23T17:22:17.733616",
          "status": "completed"
        },
        "tags": [],
        "vscode": {
          "languageId": "r"
        }
      },
      "outputs": [
        {
          "name": "stdout",
          "output_type": "stream",
          "text": [
            "Coefficient for D via partialling-out -0.1024693"
          ]
        },
        {
          "data": {
            "text/html": [
              "<style>\n",
              ".dl-inline {width: auto; margin:0; padding: 0}\n",
              ".dl-inline>dt, .dl-inline>dd {float: none; width: auto; display: inline-block}\n",
              ".dl-inline>dt::after {content: \":\\0020\"; padding-right: .5ex}\n",
              ".dl-inline>dt:not(:first-of-type) {padding-left: .5ex}\n",
              "</style><dl class=dl-inline><dt>2.5 %</dt><dd>-0.131029157306723</dd><dt>97.5 %</dt><dd>-0.0739094617947904</dd></dl>\n"
            ],
            "text/latex": [
              "\\begin{description*}\n",
              "\\item[2.5 \\textbackslash{}\\%] -0.131029157306723\n",
              "\\item[97.5 \\textbackslash{}\\%] -0.0739094617947904\n",
              "\\end{description*}\n"
            ],
            "text/markdown": [
              "2.5 %\n",
              ":   -0.13102915730672397.5 %\n",
              ":   -0.0739094617947904\n",
              "\n"
            ],
            "text/plain": [
              "      2.5 %      97.5 % \n",
              "-0.13102916 -0.07390946 "
            ]
          },
          "metadata": {},
          "output_type": "display_data"
        }
      ],
      "source": [
        "# Partialling-out using ols\n",
        "\n",
        "# models\n",
        "flex_y <- lwage ~ (exp1 + exp2 + exp3 + exp4) * (shs + hsg + scl +clg + occ2+ ind2 + mw + so + we) # model for Y\n",
        "flex_d <- sex ~ (exp1 + exp2 + exp3 + exp4)*(shs + hsg + scl + clg + occ2 + ind2 + mw + so + we) # model for D\n",
        "\n",
        "# partialling-out the linear effect of W from Y\n",
        "t_Y <- lm(flex_y, data=data)$res\n",
        "# partialling-out the linear effect of W from D\n",
        "t_D <- lm(flex_d, data=data)$res\n",
        "\n",
        "# regression of Y on D after partialling-out the effect of W\n",
        "partial_fit <- lm(t_Y ~ t_D)\n",
        "partial_est <- summary(partial_fit)$coef[2,1]\n",
        "\n",
        "cat(\"Coefficient for D via partialling-out\", partial_est)\n",
        "\n",
        "# standard error\n",
        "HCV_coefs <- vcovHC(partial_fit, type = 'HC')\n",
        "partial_se <- sqrt(diag(HCV_coefs))[2]\n",
        "\n",
        "# confidence interval\n",
        "confint(partial_fit)[2,]"
      ]
    },
    {
      "cell_type": "markdown",
      "metadata": {
        "id": "BR-yFc-nMwIk",
        "papermill": {
          "duration": 0.025395,
          "end_time": "2021-07-23T17:22:18.237151",
          "exception": false,
          "start_time": "2021-07-23T17:22:18.211756",
          "status": "completed"
        },
        "tags": []
      },
      "source": [
        "Again, the estimated coefficient measures the linear predictive effect (PE) of $D$ on $Y$ after taking out the linear effect of $W$ on both of these variables. This coefficient is numerically equivalent to the estimated coefficient from the ols regression with controls, confirming the FWL theorem."
      ]
    },
    {
      "cell_type": "markdown",
      "metadata": {
        "id": "MWeE4CLFMwIl",
        "papermill": {
          "duration": 0.025176,
          "end_time": "2021-07-23T17:22:18.287548",
          "exception": false,
          "start_time": "2021-07-23T17:22:18.262372",
          "status": "completed"
        },
        "tags": []
      },
      "source": [
        "We know that the partialling-out approach works well when the dimension of $W$ is low\n",
        "in relation to the sample size $n$. When the dimension of $W$ is relatively high, we need to use variable selection\n",
        "or penalization for regularization purposes. \n",
        "\n",
        "In the following, we illustrate the partialling-out approach using lasso instead of ols. "
      ]
    },
    {
      "cell_type": "code",
      "execution_count": 7,
      "metadata": {
        "colab": {
          "base_uri": "https://localhost:8080/"
        },
        "execution": {
          "iopub.execute_input": "2021-07-23T17:22:18.343728Z",
          "iopub.status.busy": "2021-07-23T17:22:18.342443Z",
          "iopub.status.idle": "2021-07-23T17:22:22.156764Z",
          "shell.execute_reply": "2021-07-23T17:22:22.154461Z"
        },
        "id": "KSvS6XHzMwIl",
        "outputId": "50d974c8-8d85-4676-947f-fb35e98d123e",
        "papermill": {
          "duration": 3.843995,
          "end_time": "2021-07-23T17:22:22.157097",
          "exception": false,
          "start_time": "2021-07-23T17:22:18.313102",
          "status": "completed"
        },
        "tags": [],
        "vscode": {
          "languageId": "r"
        }
      },
      "outputs": [
        {
          "name": "stdout",
          "output_type": "stream",
          "text": [
            "Coefficient for D via partialling-out using lasso -0.1036713"
          ]
        }
      ],
      "source": [
        "# Partialling-out using lasso\n",
        "\n",
        "library(hdm)\n",
        "\n",
        "# models\n",
        "flex_y <- lwage ~ (exp1 + exp2 + exp3 + exp4) * (shs + hsg + scl + clg + occ2 + ind2 + mw + so + we) # model for Y\n",
        "flex_d <- sex ~ (exp1 + exp2 + exp3 + exp4) * (shs + hsg + scl + clg + occ2 + ind2 + mw + so + we) # model for D\n",
        "\n",
        "# partialling-out the linear effect of W from Y\n",
        "t_Y <- rlasso(flex_y, data = data)$res\n",
        "# partialling-out the linear effect of W from D\n",
        "t_D <- rlasso(flex_d, data = data)$res\n",
        "\n",
        "# regression of Y on D after partialling-out the effect of W\n",
        "partial_lasso_fit <- lm(t_Y ~ t_D)\n",
        "partial_lasso_est <- summary(partial_lasso_fit)$coef[2,1]\n",
        "\n",
        "cat(\"Coefficient for D via partialling-out using lasso\", partial_lasso_est)\n",
        "\n",
        "# standard error\n",
        "HCV_coefs <- vcovHC(partial_lasso_fit, type = 'HC')\n",
        "partial_lasso_se <- sqrt(diag(HCV_coefs))[2]"
      ]
    },
    {
      "cell_type": "markdown",
      "metadata": {
        "id": "LpAlAVOkMwIm",
        "papermill": {
          "duration": 0.02575,
          "end_time": "2021-07-23T17:22:22.221274",
          "exception": false,
          "start_time": "2021-07-23T17:22:22.195524",
          "status": "completed"
        },
        "tags": []
      },
      "source": [
        "Using lasso for partialling-out here provides similar results as using ols."
      ]
    },
    {
      "cell_type": "markdown",
      "metadata": {
        "id": "gcovT0ClMwIm",
        "papermill": {
          "duration": 0.025615,
          "end_time": "2021-07-23T17:22:22.272750",
          "exception": false,
          "start_time": "2021-07-23T17:22:22.247135",
          "status": "completed"
        },
        "tags": []
      },
      "source": [
        "Next, we summarize the results."
      ]
    },
    {
      "cell_type": "code",
      "execution_count": 8,
      "metadata": {
        "colab": {
          "base_uri": "https://localhost:8080/",
          "height": 192
        },
        "execution": {
          "iopub.execute_input": "2021-07-23T17:22:22.329545Z",
          "iopub.status.busy": "2021-07-23T17:22:22.328927Z",
          "iopub.status.idle": "2021-07-23T17:22:22.366203Z",
          "shell.execute_reply": "2021-07-23T17:22:22.364881Z"
        },
        "id": "0wG1Ll_8MwIm",
        "outputId": "b5bf40c0-ad60-4b08-b084-ce5fdd877c25",
        "papermill": {
          "duration": 0.06789,
          "end_time": "2021-07-23T17:22:22.366357",
          "exception": false,
          "start_time": "2021-07-23T17:22:22.298467",
          "status": "completed"
        },
        "tags": [],
        "vscode": {
          "languageId": "r"
        }
      },
      "outputs": [
        {
          "data": {
            "text/html": [
              "<table class=\"dataframe\">\n",
              "<caption>A matrix: 4 × 2 of type dbl</caption>\n",
              "<thead>\n",
              "\t<tr><th></th><th scope=col>Estimate</th><th scope=col>Std. Error</th></tr>\n",
              "</thead>\n",
              "<tbody>\n",
              "\t<tr><th scope=row>Without controls</th><td>-0.03834473</td><td>0.01590194</td></tr>\n",
              "\t<tr><th scope=row>full reg</th><td>-0.10246931</td><td>0.01458860</td></tr>\n",
              "\t<tr><th scope=row>partial reg</th><td>-0.10246931</td><td>0.01458860</td></tr>\n",
              "\t<tr><th scope=row>partial reg via lasso</th><td>-0.10367131</td><td>0.01475760</td></tr>\n",
              "</tbody>\n",
              "</table>\n"
            ],
            "text/latex": [
              "A matrix: 4 × 2 of type dbl\n",
              "\\begin{tabular}{r|ll}\n",
              "  & Estimate & Std. Error\\\\\n",
              "\\hline\n",
              "\tWithout controls & -0.03834473 & 0.01590194\\\\\n",
              "\tfull reg & -0.10246931 & 0.01458860\\\\\n",
              "\tpartial reg & -0.10246931 & 0.01458860\\\\\n",
              "\tpartial reg via lasso & -0.10367131 & 0.01475760\\\\\n",
              "\\end{tabular}\n"
            ],
            "text/markdown": [
              "\n",
              "A matrix: 4 × 2 of type dbl\n",
              "\n",
              "| <!--/--> | Estimate | Std. Error |\n",
              "|---|---|---|\n",
              "| Without controls | -0.03834473 | 0.01590194 |\n",
              "| full reg | -0.10246931 | 0.01458860 |\n",
              "| partial reg | -0.10246931 | 0.01458860 |\n",
              "| partial reg via lasso | -0.10367131 | 0.01475760 |\n",
              "\n"
            ],
            "text/plain": [
              "                      Estimate    Std. Error\n",
              "Without controls      -0.03834473 0.01590194\n",
              "full reg              -0.10246931 0.01458860\n",
              "partial reg           -0.10246931 0.01458860\n",
              "partial reg via lasso -0.10367131 0.01475760"
            ]
          },
          "metadata": {},
          "output_type": "display_data"
        }
      ],
      "source": [
        "table<- matrix(0, 4, 2)\n",
        "table[1,1]<- nocontrol_est  \n",
        "table[1,2]<- nocontrol_se   \n",
        "table[2,1]<- control_est\n",
        "table[2,2]<- control_se    \n",
        "table[3,1]<- partial_est  \n",
        "table[3,2]<- partial_se  \n",
        "table[4,1]<-  partial_lasso_est\n",
        "table[4,2]<- partial_lasso_se \n",
        "colnames(table)<- c(\"Estimate\",\"Std. Error\")\n",
        "rownames(table)<- c(\"Without controls\", \"full reg\", \"partial reg\", \"partial reg via lasso\")\t\n",
        "table"
      ]
    },
    {
      "cell_type": "markdown",
      "metadata": {
        "id": "7kGZNiEkMwIo",
        "papermill": {
          "duration": 0.026853,
          "end_time": "2021-07-23T17:22:22.555315",
          "exception": false,
          "start_time": "2021-07-23T17:22:22.528462",
          "status": "completed"
        },
        "tags": []
      },
      "source": [
        "It it worth noticing that controlling for worker characteristics increases the gender wage gap from less than 4\\% to 7\\%. The controls we used in our analysis include 5 educational attainment indicators (less than high school graduates, high school graduates, some college, college graduate, and advanced degree), 4 region indicators (midwest, south, west, and northeast);  a quartic term (first, second, third, and fourth power) in experience and 22 occupation and 23 industry indicators.\n",
        "\n",
        "Keep in mind that the predictive effect (PE) does not only measures discrimination (causal effect of being female), it also may reflect\n",
        "selection effects of unobserved differences in covariates between men and women in our sample.\n"
      ]
    },
    {
      "cell_type": "markdown",
      "metadata": {
        "id": "5Y7SjOefMwIp",
        "papermill": {
          "duration": 0.026869,
          "end_time": "2021-07-23T17:22:22.609105",
          "exception": false,
          "start_time": "2021-07-23T17:22:22.582236",
          "status": "completed"
        },
        "tags": []
      },
      "source": [
        "Next we try an \"extra\" flexible model, where we take interactions of all controls, giving us about 1000 controls."
      ]
    },
    {
      "cell_type": "code",
      "execution_count": 9,
      "metadata": {
        "colab": {
          "base_uri": "https://localhost:8080/",
          "height": 1000
        },
        "execution": {
          "iopub.execute_input": "2021-07-23T17:22:22.669618Z",
          "iopub.status.busy": "2021-07-23T17:22:22.667872Z",
          "iopub.status.idle": "2021-07-23T17:22:30.406569Z",
          "shell.execute_reply": "2021-07-23T17:22:30.404869Z"
        },
        "id": "0W8701PZMwIp",
        "outputId": "089d1533-7cb2-4f06-9104-2cc195fcca2c",
        "papermill": {
          "duration": 7.77093,
          "end_time": "2021-07-23T17:22:30.406802",
          "exception": false,
          "start_time": "2021-07-23T17:22:22.635872",
          "status": "completed"
        },
        "tags": [],
        "vscode": {
          "languageId": "r"
        }
      },
      "outputs": [
        {
          "data": {
            "text/plain": [
              "\n",
              "Call:\n",
              "lm(formula = extraflex, data = data)\n",
              "\n",
              "Residuals:\n",
              "    Min      1Q  Median      3Q     Max \n",
              "-2.1158 -0.3041 -0.0173  0.2893  3.5892 \n",
              "\n",
              "Coefficients: (12 not defined because of singularities)\n",
              "              Estimate Std. Error t value Pr(>|t|)    \n",
              "(Intercept)  3.6297982  0.1552865  23.375  < 2e-16 ***\n",
              "sex         -0.0967413  0.0146627  -6.598 4.60e-11 ***\n",
              "exp1         0.0094395  0.0613320   0.154  0.87769    \n",
              "exp2         0.7798590  1.3068326   0.597  0.55070    \n",
              "exp3        -0.9937088  1.5435940  -0.644  0.51976    \n",
              "exp4         0.5284032  0.9687560   0.545  0.58547    \n",
              "shs          0.4280438  1.0441100   0.410  0.68185    \n",
              "hsg         -0.5051460  0.2742205  -1.842  0.06552 .  \n",
              "scl         -0.2951033  0.1897037  -1.556  0.11987    \n",
              "clg         -0.1203554  0.1176922  -1.023  0.30653    \n",
              "occ2        -0.0331114  0.0071125  -4.655 3.32e-06 ***\n",
              "ind2        -0.0203271  0.0076790  -2.647  0.00814 ** \n",
              "mw           0.1000058  0.1185443   0.844  0.39892    \n",
              "so           0.0590348  0.1071524   0.551  0.58170    \n",
              "we           0.1070730  0.1173880   0.912  0.36174    \n",
              "exp1:exp2           NA         NA      NA       NA    \n",
              "exp1:exp3           NA         NA      NA       NA    \n",
              "exp1:exp4   -0.0154773  0.0324014  -0.478  0.63290    \n",
              "exp1:shs    -0.3655660  0.2241355  -1.631  0.10295    \n",
              "exp1:hsg    -0.0872036  0.0723121  -1.206  0.22790    \n",
              "exp1:scl    -0.0877190  0.0528018  -1.661  0.09672 .  \n",
              "exp1:clg    -0.0448492  0.0319558  -1.403  0.16054    \n",
              "exp1:occ2    0.0017415  0.0018413   0.946  0.34431    \n",
              "exp1:ind2    0.0006614  0.0021592   0.306  0.75937    \n",
              "exp1:mw     -0.0177427  0.0315136  -0.563  0.57345    \n",
              "exp1:so      0.0068205  0.0278941   0.245  0.80684    \n",
              "exp1:we     -0.0106886  0.0315461  -0.339  0.73476    \n",
              "exp2:exp3           NA         NA      NA       NA    \n",
              "exp2:exp4    0.0253399  0.0549125   0.461  0.64449    \n",
              "exp2:shs     3.2517652  1.7043879   1.908  0.05646 .  \n",
              "exp2:hsg     0.8260811  0.6758047   1.222  0.22163    \n",
              "exp2:scl     0.8244532  0.5379554   1.533  0.12544    \n",
              "exp2:clg     0.3103536  0.3859653   0.804  0.42138    \n",
              "exp2:occ2   -0.0256483  0.0189029  -1.357  0.17489    \n",
              "exp2:ind2   -0.0064101  0.0215917  -0.297  0.76657    \n",
              "exp2:mw      0.1118794  0.3277397   0.341  0.73284    \n",
              "exp2:so     -0.0296200  0.2863447  -0.103  0.91762    \n",
              "exp2:we      0.1610522  0.3289716   0.490  0.62446    \n",
              "exp3:exp4   -0.0017785  0.0037133  -0.479  0.63199    \n",
              "exp3:shs    -1.0955552  0.5316414  -2.061  0.03938 *  \n",
              "exp3:hsg    -0.2845745  0.2478395  -1.148  0.25093    \n",
              "exp3:scl    -0.2716782  0.2082679  -1.304  0.19213    \n",
              "exp3:clg    -0.0575082  0.1656527  -0.347  0.72848    \n",
              "exp3:occ2    0.0121038  0.0071930   1.683  0.09249 .  \n",
              "exp3:ind2    0.0039878  0.0081100   0.492  0.62294    \n",
              "exp3:mw     -0.0323487  0.1257788  -0.257  0.79704    \n",
              "exp3:so     -0.0089914  0.1081201  -0.083  0.93373    \n",
              "exp3:we     -0.0692433  0.1265415  -0.547  0.58427    \n",
              "exp4:shs     0.1229824  0.0581239   2.116  0.03440 *  \n",
              "exp4:hsg     0.0332181  0.0308733   1.076  0.28200    \n",
              "exp4:scl     0.0296681  0.0269001   1.103  0.27012    \n",
              "exp4:clg     0.0004832  0.0228505   0.021  0.98313    \n",
              "exp4:occ2   -0.0017545  0.0008997  -1.950  0.05122 .  \n",
              "exp4:ind2   -0.0007445  0.0010089  -0.738  0.46057    \n",
              "exp4:mw      0.0025865  0.0158330   0.163  0.87024    \n",
              "exp4:so      0.0031431  0.0133641   0.235  0.81407    \n",
              "exp4:we      0.0083434  0.0159458   0.523  0.60083    \n",
              "shs:hsg             NA         NA      NA       NA    \n",
              "shs:scl             NA         NA      NA       NA    \n",
              "shs:clg             NA         NA      NA       NA    \n",
              "shs:occ2     0.0117950  0.0108832   1.084  0.27851    \n",
              "shs:ind2    -0.0060826  0.0097555  -0.624  0.53298    \n",
              "shs:mw      -0.0553633  0.1711424  -0.323  0.74634    \n",
              "shs:so      -0.0917162  0.1595041  -0.575  0.56531    \n",
              "shs:we       0.3294645  0.1718442   1.917  0.05527 .  \n",
              "hsg:scl             NA         NA      NA       NA    \n",
              "hsg:clg             NA         NA      NA       NA    \n",
              "hsg:occ2     0.0160702  0.0048987   3.280  0.00104 ** \n",
              "hsg:ind2     0.0010522  0.0055110   0.191  0.84859    \n",
              "hsg:mw      -0.1136003  0.0795354  -1.428  0.15327    \n",
              "hsg:so      -0.1896137  0.0734389  -2.582  0.00985 ** \n",
              "hsg:we      -0.0144124  0.0782891  -0.184  0.85395    \n",
              "scl:clg             NA         NA      NA       NA    \n",
              "scl:occ2     0.0063711  0.0046063   1.383  0.16668    \n",
              "scl:ind2     0.0019307  0.0053230   0.363  0.71683    \n",
              "scl:mw      -0.0835733  0.0750574  -1.113  0.26556    \n",
              "scl:so      -0.1016680  0.0690405  -1.473  0.14093    \n",
              "scl:we       0.0625579  0.0741913   0.843  0.39916    \n",
              "clg:occ2     0.0033082  0.0044378   0.745  0.45603    \n",
              "clg:ind2     0.0049356  0.0050629   0.975  0.32969    \n",
              "clg:mw      -0.0442317  0.0692762  -0.638  0.52319    \n",
              "clg:so      -0.0777453  0.0613241  -1.268  0.20494    \n",
              "clg:we      -0.0332471  0.0667061  -0.498  0.61822    \n",
              "occ2:ind2    0.0002593  0.0002069   1.254  0.21006    \n",
              "occ2:mw      0.0072283  0.0034031   2.124  0.03372 *  \n",
              "occ2:so      0.0007315  0.0032890   0.222  0.82402    \n",
              "occ2:we      0.0009160  0.0035135   0.261  0.79434    \n",
              "ind2:mw     -0.0029011  0.0038057  -0.762  0.44592    \n",
              "ind2:so      0.0003376  0.0036861   0.092  0.92704    \n",
              "ind2:we     -0.0065410  0.0039548  -1.654  0.09820 .  \n",
              "mw:so               NA         NA      NA       NA    \n",
              "mw:we               NA         NA      NA       NA    \n",
              "so:we               NA         NA      NA       NA    \n",
              "---\n",
              "Signif. codes:  0 ‘***’ 0.001 ‘**’ 0.01 ‘*’ 0.05 ‘.’ 0.1 ‘ ’ 1\n",
              "\n",
              "Residual standard error: 0.4962 on 5069 degrees of freedom\n",
              "Multiple R-squared:  0.2551,\tAdjusted R-squared:  0.2433 \n",
              "F-statistic:  21.7 on 80 and 5069 DF,  p-value: < 2.2e-16\n"
            ]
          },
          "metadata": {},
          "output_type": "display_data"
        },
        {
          "name": "stdout",
          "output_type": "stream",
          "text": [
            "Number of Extra-Flex Controls 92 \n",
            "Coefficient for OLS with extra flex controls -0.09674132"
          ]
        }
      ],
      "source": [
        "# extra flexible model\n",
        "\n",
        "extraflex <- lwage ~ sex + (exp1 + exp2 + exp3 + exp4 + shs + hsg + scl + clg + occ2 + ind2 + mw + so + we)^2\n",
        "\n",
        "control_fit <- lm(extraflex, data=data)\n",
        "summary(control_fit)\n",
        "control_est <- summary(control_fit)$coef[2,1]\n",
        "\n",
        "cat(\"Number of Extra-Flex Controls\", length(control_fit$coef) - 1, \"\\n\")\n",
        "\n",
        "cat(\"Coefficient for OLS with extra flex controls\", control_est)\n",
        "\n",
        "HCV_coefs <- vcovHC(control_fit, type = 'HC');\n",
        "\n",
        "n = length(wage); p =length(control_fit$coef);\n",
        "\n",
        "control_se <- sqrt(diag(HCV_coefs))[2] * sqrt( n / (n - p)) # Estimated std errors\n",
        "\n",
        "# This is a crude adjustment for the effect of dimensionality on OLS standard errors, \n",
        "# motivated by Cattaneo, Jannson, and Newey (2018). For a more correct approach, we \n",
        "# would implement the approach of Cattaneo, Jannson, and Newey (2018)'s procedure."
      ]
    },
    {
      "cell_type": "code",
      "execution_count": 10,
      "metadata": {
        "colab": {
          "base_uri": "https://localhost:8080/"
        },
        "execution": {
          "iopub.execute_input": "2021-07-23T17:22:30.511111Z",
          "iopub.status.busy": "2021-07-23T17:22:30.509830Z",
          "iopub.status.idle": "2021-07-23T17:23:07.064847Z",
          "shell.execute_reply": "2021-07-23T17:23:07.065250Z"
        },
        "id": "-EPFY0ORMwIq",
        "outputId": "08fabaa8-4daf-45e9-a2f7-d393ed84ab81",
        "papermill": {
          "duration": 36.610348,
          "end_time": "2021-07-23T17:23:07.065417",
          "exception": false,
          "start_time": "2021-07-23T17:22:30.455069",
          "status": "completed"
        },
        "tags": [],
        "vscode": {
          "languageId": "r"
        }
      },
      "outputs": [
        {
          "name": "stdout",
          "output_type": "stream",
          "text": [
            "Coefficient for D via partialling-out using lasso -0.09916518"
          ]
        }
      ],
      "source": [
        "library(hdm)\n",
        "\n",
        "# models\n",
        "extraflex_y <- lwage ~ (exp1 + exp2 + exp3 + exp4 + shs + hsg + scl + clg + occ2 + ind2 + mw + so + we)^2 # model for Y\n",
        "extraflex_d <- sex ~ (exp1 + exp2 + exp3 + exp4 + shs + hsg + scl + clg + occ2 + ind2 + mw + so + we)^2 # model for D\n",
        "\n",
        "# partialling-out the linear effect of W from Y\n",
        "t_Y <- rlasso(extraflex_y, data=data)$res\n",
        "# partialling-out the linear effect of W from D\n",
        "t_D <- rlasso(extraflex_d, data=data)$res\n",
        "\n",
        "# regression of Y on D after partialling-out the effect of W\n",
        "partial_lasso_fit <- lm(t_Y~t_D)\n",
        "partial_lasso_est <- summary(partial_lasso_fit)$coef[2,1]\n",
        "\n",
        "cat(\"Coefficient for D via partialling-out using lasso\", partial_lasso_est)\n",
        "\n",
        "# standard error\n",
        "HCV_coefs <- vcovHC(partial_lasso_fit, type = 'HC')\n",
        "partial_lasso_se <- sqrt(diag(HCV_coefs))[2]"
      ]
    },
    {
      "cell_type": "code",
      "execution_count": 11,
      "metadata": {
        "colab": {
          "base_uri": "https://localhost:8080/",
          "height": 129
        },
        "id": "xUd5MFmUMwIq",
        "outputId": "b2aba0a2-e4c9-4b02-9a4f-5b576931e8d7",
        "papermill": {
          "duration": 0.070217,
          "end_time": "2021-07-23T17:23:07.164557",
          "exception": false,
          "start_time": "2021-07-23T17:23:07.094340",
          "status": "completed"
        },
        "tags": [],
        "vscode": {
          "languageId": "r"
        }
      },
      "outputs": [
        {
          "data": {
            "text/html": [
              "<table class=\"dataframe\">\n",
              "<caption>A matrix: 2 × 2 of type dbl</caption>\n",
              "<thead>\n",
              "\t<tr><th></th><th scope=col>Estimate</th><th scope=col>Std. Error</th></tr>\n",
              "</thead>\n",
              "<tbody>\n",
              "\t<tr><th scope=row>full reg</th><td>-0.09674132</td><td>0.01476431</td></tr>\n",
              "\t<tr><th scope=row>partial reg via lasso</th><td>-0.09916518</td><td>0.01481612</td></tr>\n",
              "</tbody>\n",
              "</table>\n"
            ],
            "text/latex": [
              "A matrix: 2 × 2 of type dbl\n",
              "\\begin{tabular}{r|ll}\n",
              "  & Estimate & Std. Error\\\\\n",
              "\\hline\n",
              "\tfull reg & -0.09674132 & 0.01476431\\\\\n",
              "\tpartial reg via lasso & -0.09916518 & 0.01481612\\\\\n",
              "\\end{tabular}\n"
            ],
            "text/markdown": [
              "\n",
              "A matrix: 2 × 2 of type dbl\n",
              "\n",
              "| <!--/--> | Estimate | Std. Error |\n",
              "|---|---|---|\n",
              "| full reg | -0.09674132 | 0.01476431 |\n",
              "| partial reg via lasso | -0.09916518 | 0.01481612 |\n",
              "\n"
            ],
            "text/plain": [
              "                      Estimate    Std. Error\n",
              "full reg              -0.09674132 0.01476431\n",
              "partial reg via lasso -0.09916518 0.01481612"
            ]
          },
          "metadata": {},
          "output_type": "display_data"
        }
      ],
      "source": [
        "table<- matrix(0, 2, 2)\n",
        "table[1,1]<- control_est\n",
        "table[1,2]<- control_se    \n",
        "table[2,1]<-  partial_lasso_est\n",
        "table[2,2]<- partial_lasso_se \n",
        "colnames(table)<- c(\"Estimate\",\"Std. Error\")\n",
        "rownames(table)<- c(\"full reg\",\"partial reg via lasso\")\t\n",
        "table"
      ]
    },
    {
      "cell_type": "markdown",
      "metadata": {
        "id": "aAvz7GutMwIq",
        "papermill": {
          "duration": 0.031482,
          "end_time": "2021-07-23T17:23:07.224795",
          "exception": false,
          "start_time": "2021-07-23T17:23:07.193313",
          "status": "completed"
        },
        "tags": []
      },
      "source": [
        "In this case p/n = 20%, that is $p/n$ is no longer small and we start seeing the differences between\n",
        "unregularized partialling out and regularized partialling out with lasso (double lasso).  The results based on \n",
        "double lasso have rigorous guarantees in this non-small p/n regime under approximate sparsity. The results based on OLS still\n",
        "have guarantees in p/n< 1 regime under assumptions laid out in Cattaneo, Newey, and Jansson (2018), without approximate\n",
        "sparsity, although other regularity conditions are needed.\n"
      ]
    }
  ],
  "metadata": {
    "colab": {
      "collapsed_sections": [],
      "name": "03_ols-and-lasso-for-gender-wage-gap-inference.ipynb",
      "provenance": []
    },
    "jupytext": {
      "formats": "ipynb,R:light"
    },
    "kernelspec": {
      "display_name": "R",
      "language": "R",
      "name": "ir"
    },
    "language_info": {
      "codemirror_mode": "r",
      "file_extension": ".r",
      "mimetype": "text/x-r-source",
      "name": "R",
      "pygments_lexer": "r",
      "version": "4.2.1"
    },
    "papermill": {
      "default_parameters": {},
      "duration": 55.233702,
      "end_time": "2021-07-23T17:23:07.429525",
      "environment_variables": {},
      "exception": null,
      "input_path": "__notebook__.ipynb",
      "output_path": "__notebook__.ipynb",
      "parameters": {},
      "start_time": "2021-07-23T17:22:12.195823",
      "version": "2.2.2"
    }
  },
  "nbformat": 4,
  "nbformat_minor": 0
}
