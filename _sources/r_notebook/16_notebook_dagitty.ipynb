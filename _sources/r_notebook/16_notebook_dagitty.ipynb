{
 "cells": [
  {
   "cell_type": "markdown",
   "metadata": {
    "id": "64xbvrLBeBgQ",
    "papermill": {
     "duration": 0.016127,
     "end_time": "2021-03-23T20:00:44.268199",
     "exception": false,
     "start_time": "2021-03-23T20:00:44.252072",
     "status": "completed"
    },
    "tags": []
   },
   "source": [
    "# Notebook-DAGitty\n"
   ]
  },
  {
   "cell_type": "code",
   "execution_count": null,
   "metadata": {
    "_execution_state": "idle",
    "_uuid": "051d70d956493feee0c6d64651c6a088724dca2a",
    "colab": {
     "base_uri": "https://localhost:8080/"
    },
    "execution": {
     "iopub.execute_input": "2021-03-23T20:00:44.329173Z",
     "iopub.status.busy": "2021-03-23T20:00:44.327312Z",
     "iopub.status.idle": "2021-03-23T20:01:14.096306Z",
     "shell.execute_reply": "2021-03-23T20:01:14.095132Z"
    },
    "executionInfo": {
     "elapsed": 12913,
     "status": "ok",
     "timestamp": 1658252175125,
     "user": {
      "displayName": "Jhon Kevin Flores Rojas",
      "userId": "10267608749788811245"
     },
     "user_tz": 300
    },
    "id": "r6xj75leeBgY",
    "outputId": "0e192dcc-d441-431e-fa94-222c21527c15",
    "papermill": {
     "duration": 29.813743,
     "end_time": "2021-03-23T20:01:14.096635",
     "exception": false,
     "start_time": "2021-03-23T20:00:44.282892",
     "status": "completed"
    },
    "tags": [],
    "vscode": {
     "languageId": "r"
    }
   },
   "outputs": [],
   "source": [
    "install.packages(\"dagitty\")\n",
    "install.packages(\"ggdag\")\n",
    "library(dagitty)\n",
    "library(ggdag)"
   ]
  },
  {
   "cell_type": "markdown",
   "metadata": {
    "id": "-HwIzXfmeBgm",
    "papermill": {
     "duration": 0.019562,
     "end_time": "2021-03-23T20:01:14.135443",
     "exception": false,
     "start_time": "2021-03-23T20:01:14.115881",
     "status": "completed"
    },
    "tags": []
   },
   "source": [
    "## Graph Generation and Plotting "
   ]
  },
  {
   "cell_type": "markdown",
   "metadata": {
    "id": "6N1qwcbceBgo",
    "papermill": {
     "duration": 0.016935,
     "end_time": "2021-03-23T20:01:14.168961",
     "exception": false,
     "start_time": "2021-03-23T20:01:14.152026",
     "status": "completed"
    },
    "tags": []
   },
   "source": [
    "The following DAG is due to Judea Pearl"
   ]
  },
  {
   "cell_type": "code",
   "execution_count": 11,
   "metadata": {
    "colab": {
     "base_uri": "https://localhost:8080/",
     "height": 97
    },
    "execution": {
     "iopub.execute_input": "2021-03-23T20:01:14.235372Z",
     "iopub.status.busy": "2021-03-23T20:01:14.205802Z",
     "iopub.status.idle": "2021-03-23T20:01:15.272836Z",
     "shell.execute_reply": "2021-03-23T20:01:15.272304Z"
    },
    "executionInfo": {
     "elapsed": 497,
     "status": "error",
     "timestamp": 1658252094673,
     "user": {
      "displayName": "Jhon Kevin Flores Rojas",
      "userId": "10267608749788811245"
     },
     "user_tz": 300
    },
    "id": "WgLcR2OieBgq",
    "outputId": "d06099ca-8a41-44c2-8521-97145616c035",
    "papermill": {
     "duration": 1.087289,
     "end_time": "2021-03-23T20:01:15.272991",
     "exception": false,
     "start_time": "2021-03-23T20:01:14.185702",
     "status": "completed"
    },
    "tags": [],
    "vscode": {
     "languageId": "r"
    }
   },
   "outputs": [
    {
     "ename": "ERROR",
     "evalue": "ignored",
     "output_type": "error",
     "traceback": [
      "Error in ggdag(G): could not find function \"ggdag\"\nTraceback:\n"
     ]
    }
   ],
   "source": [
    "#generate a couple of DAGs and plot them\n",
    "\n",
    "G = dagitty('dag{\n",
    "Z1 [pos=\"-2,-1.5\"]\n",
    "X1 [pos=\"-2,0\"]\n",
    "Z2 [pos=\"1.5,-1.5\"]\n",
    "X3 [pos=\"1.5, 0\"]\n",
    "Y [outcome,pos=\"1.5,1.5\"]\n",
    "D [exposure,pos=\"-2,1.5\"]\n",
    "M [mediator, pos=\"0,1.5\"]\n",
    "X2 [pos=\"0,0\"]\n",
    "Z1 -> X1\n",
    "X1 -> D\n",
    "Z1 -> X2\n",
    "Z2 -> X3\n",
    "X3 -> Y\n",
    "Z2 -> X2\n",
    "D -> Y\n",
    "X2 -> Y\n",
    "X2 -> D\n",
    "M->Y\n",
    "D->M\n",
    "}')\n",
    "\n",
    "\n",
    "ggdag(G)+  theme_dag()"
   ]
  },
  {
   "cell_type": "markdown",
   "metadata": {
    "id": "4DSjpQWReBgt",
    "papermill": {
     "duration": 0.017889,
     "end_time": "2021-03-23T20:01:15.310039",
     "exception": false,
     "start_time": "2021-03-23T20:01:15.292150",
     "status": "completed"
    },
    "tags": []
   },
   "source": [
    "Report Relatives of X2"
   ]
  },
  {
   "cell_type": "code",
   "execution_count": null,
   "metadata": {
    "execution": {
     "iopub.execute_input": "2021-03-23T20:01:15.351412Z",
     "iopub.status.busy": "2021-03-23T20:01:15.349827Z",
     "iopub.status.idle": "2021-03-23T20:01:15.400709Z",
     "shell.execute_reply": "2021-03-23T20:01:15.399520Z"
    },
    "executionInfo": {
     "elapsed": 8343,
     "status": "aborted",
     "timestamp": 1658251931955,
     "user": {
      "displayName": "Jhon Kevin Flores Rojas",
      "userId": "10267608749788811245"
     },
     "user_tz": 300
    },
    "id": "yLa8D8wkeBgv",
    "papermill": {
     "duration": 0.07305,
     "end_time": "2021-03-23T20:01:15.400861",
     "exception": false,
     "start_time": "2021-03-23T20:01:15.327811",
     "status": "completed"
    },
    "tags": [],
    "vscode": {
     "languageId": "r"
    }
   },
   "outputs": [],
   "source": [
    "print(parents(G, \"X2\"))\n",
    "print(children(G, \"X2\"))\n",
    "print(ancestors(G, \"X2\"))\n",
    "print(descendants(G, \"X2\"))"
   ]
  },
  {
   "cell_type": "markdown",
   "metadata": {
    "id": "PMnqkZyceBgx",
    "papermill": {
     "duration": 0.019171,
     "end_time": "2021-03-23T20:01:15.439605",
     "exception": false,
     "start_time": "2021-03-23T20:01:15.420434",
     "status": "completed"
    },
    "tags": []
   },
   "source": [
    "Find Paths Between D and Y\n",
    "\n"
   ]
  },
  {
   "cell_type": "code",
   "execution_count": null,
   "metadata": {
    "execution": {
     "iopub.execute_input": "2021-03-23T20:01:15.485471Z",
     "iopub.status.busy": "2021-03-23T20:01:15.484099Z",
     "iopub.status.idle": "2021-03-23T20:01:15.548283Z",
     "shell.execute_reply": "2021-03-23T20:01:15.547018Z"
    },
    "executionInfo": {
     "elapsed": 8339,
     "status": "aborted",
     "timestamp": 1658251931955,
     "user": {
      "displayName": "Jhon Kevin Flores Rojas",
      "userId": "10267608749788811245"
     },
     "user_tz": 300
    },
    "id": "nCb8HFlpeBgy",
    "papermill": {
     "duration": 0.088653,
     "end_time": "2021-03-23T20:01:15.548445",
     "exception": false,
     "start_time": "2021-03-23T20:01:15.459792",
     "status": "completed"
    },
    "tags": [],
    "vscode": {
     "languageId": "r"
    }
   },
   "outputs": [],
   "source": [
    "paths(G, \"D\", \"Y\")"
   ]
  },
  {
   "cell_type": "markdown",
   "metadata": {
    "id": "XdJtUJA4eBgz",
    "papermill": {
     "duration": 0.020042,
     "end_time": "2021-03-23T20:01:15.590055",
     "exception": false,
     "start_time": "2021-03-23T20:01:15.570013",
     "status": "completed"
    },
    "tags": []
   },
   "source": [
    "List All Testable Implications of the Model"
   ]
  },
  {
   "cell_type": "code",
   "execution_count": null,
   "metadata": {
    "execution": {
     "iopub.execute_input": "2021-03-23T20:01:15.635907Z",
     "iopub.status.busy": "2021-03-23T20:01:15.634378Z",
     "iopub.status.idle": "2021-03-23T20:01:15.689091Z",
     "shell.execute_reply": "2021-03-23T20:01:15.688484Z"
    },
    "executionInfo": {
     "elapsed": 8336,
     "status": "aborted",
     "timestamp": 1658251931956,
     "user": {
      "displayName": "Jhon Kevin Flores Rojas",
      "userId": "10267608749788811245"
     },
     "user_tz": 300
    },
    "id": "7G2SyV8UeBg1",
    "papermill": {
     "duration": 0.078982,
     "end_time": "2021-03-23T20:01:15.689227",
     "exception": false,
     "start_time": "2021-03-23T20:01:15.610245",
     "status": "completed"
    },
    "tags": [],
    "vscode": {
     "languageId": "r"
    }
   },
   "outputs": [],
   "source": [
    "print( impliedConditionalIndependencies(G) )"
   ]
  },
  {
   "cell_type": "markdown",
   "metadata": {
    "id": "3rH48c8AeBg3",
    "papermill": {
     "duration": 0.022026,
     "end_time": "2021-03-23T20:01:15.733010",
     "exception": false,
     "start_time": "2021-03-23T20:01:15.710984",
     "status": "completed"
    },
    "tags": []
   },
   "source": [
    "Identification by Backdoor: List minimal adjustment sets to identify causal effecs $D \\to Y$"
   ]
  },
  {
   "cell_type": "code",
   "execution_count": null,
   "metadata": {
    "execution": {
     "iopub.execute_input": "2021-03-23T20:01:15.783204Z",
     "iopub.status.busy": "2021-03-23T20:01:15.781477Z",
     "iopub.status.idle": "2021-03-23T20:01:15.822672Z",
     "shell.execute_reply": "2021-03-23T20:01:15.820940Z"
    },
    "executionInfo": {
     "elapsed": 8336,
     "status": "aborted",
     "timestamp": 1658251931959,
     "user": {
      "displayName": "Jhon Kevin Flores Rojas",
      "userId": "10267608749788811245"
     },
     "user_tz": 300
    },
    "id": "jzEXxz3JeBg3",
    "papermill": {
     "duration": 0.06772,
     "end_time": "2021-03-23T20:01:15.822837",
     "exception": false,
     "start_time": "2021-03-23T20:01:15.755117",
     "status": "completed"
    },
    "tags": [],
    "vscode": {
     "languageId": "r"
    }
   },
   "outputs": [],
   "source": [
    "print( adjustmentSets( G, \"D\", \"Y\" ) )"
   ]
  },
  {
   "cell_type": "markdown",
   "metadata": {
    "id": "i7SozJ77eBg4",
    "papermill": {
     "duration": 0.021844,
     "end_time": "2021-03-23T20:01:15.866470",
     "exception": false,
     "start_time": "2021-03-23T20:01:15.844626",
     "status": "completed"
    },
    "tags": []
   },
   "source": [
    "Identification via SWIG and D-separation"
   ]
  },
  {
   "cell_type": "code",
   "execution_count": null,
   "metadata": {
    "execution": {
     "iopub.execute_input": "2021-03-23T20:01:15.915131Z",
     "iopub.status.busy": "2021-03-23T20:01:15.913846Z",
     "iopub.status.idle": "2021-03-23T20:01:16.289213Z",
     "shell.execute_reply": "2021-03-23T20:01:16.288681Z"
    },
    "executionInfo": {
     "elapsed": 8340,
     "status": "aborted",
     "timestamp": 1658251931965,
     "user": {
      "displayName": "Jhon Kevin Flores Rojas",
      "userId": "10267608749788811245"
     },
     "user_tz": 300
    },
    "id": "s01a8ifUeBg5",
    "papermill": {
     "duration": 0.401164,
     "end_time": "2021-03-23T20:01:16.289342",
     "exception": false,
     "start_time": "2021-03-23T20:01:15.888178",
     "status": "completed"
    },
    "tags": [],
    "vscode": {
     "languageId": "r"
    }
   },
   "outputs": [],
   "source": [
    "SWIG = dagitty('dag{\n",
    "Z1 [pos=\"-2,-1.5\"]\n",
    "X1 [pos=\"-2,0\"]\n",
    "Z2 [pos=\"1.5,-1.5\"]\n",
    "X3 [pos=\"1.5, 0\"]\n",
    "Yd [outcome,pos=\"1.5,1.5\"]\n",
    "D [exposure,pos=\"-2,1.5\"]\n",
    "d [pos=\"-1, 1.5\"]\n",
    "Md [mediator, pos=\"0,1.5\"]\n",
    "X2 [pos=\"0,0\"]\n",
    "Z1 -> X1\n",
    "X1 -> D\n",
    "Z1 -> X2\n",
    "Z2 -> X3\n",
    "X3 -> Yd\n",
    "Z2 -> X2\n",
    "X2 -> Yd\n",
    "X2 -> D\n",
    "X3-> Yd\n",
    "Md-> Yd\n",
    "d-> Md\n",
    "}')\n",
    "\n",
    "ggdag(SWIG)+  theme_dag()\n"
   ]
  },
  {
   "cell_type": "markdown",
   "metadata": {
    "id": "eC0OwieveBg6",
    "papermill": {
     "duration": 0.022959,
     "end_time": "2021-03-23T20:01:16.335873",
     "exception": false,
     "start_time": "2021-03-23T20:01:16.312914",
     "status": "completed"
    },
    "tags": []
   },
   "source": [
    "Deduce Conditional Exogeneity or Ignorability by D-separation\n"
   ]
  },
  {
   "cell_type": "code",
   "execution_count": null,
   "metadata": {
    "execution": {
     "iopub.execute_input": "2021-03-23T20:01:16.387691Z",
     "iopub.status.busy": "2021-03-23T20:01:16.386272Z",
     "iopub.status.idle": "2021-03-23T20:01:16.437150Z",
     "shell.execute_reply": "2021-03-23T20:01:16.435072Z"
    },
    "executionInfo": {
     "elapsed": 8338,
     "status": "aborted",
     "timestamp": 1658251931967,
     "user": {
      "displayName": "Jhon Kevin Flores Rojas",
      "userId": "10267608749788811245"
     },
     "user_tz": 300
    },
    "id": "yBdiK2g2eBg6",
    "papermill": {
     "duration": 0.078242,
     "end_time": "2021-03-23T20:01:16.437314",
     "exception": false,
     "start_time": "2021-03-23T20:01:16.359072",
     "status": "completed"
    },
    "tags": [],
    "vscode": {
     "languageId": "r"
    }
   },
   "outputs": [],
   "source": [
    "print( impliedConditionalIndependencies(SWIG)[5:8] )\n"
   ]
  },
  {
   "cell_type": "markdown",
   "metadata": {
    "id": "FZ-epEiqeBg7",
    "papermill": {
     "duration": 0.02359,
     "end_time": "2021-03-23T20:01:16.484480",
     "exception": false,
     "start_time": "2021-03-23T20:01:16.460890",
     "status": "completed"
    },
    "tags": []
   },
   "source": [
    "This coincides with the backdoor criterion for this graph."
   ]
  },
  {
   "cell_type": "markdown",
   "metadata": {
    "id": "PPjvugP_eBg8",
    "papermill": {
     "duration": 0.024341,
     "end_time": "2021-03-23T20:01:16.532418",
     "exception": false,
     "start_time": "2021-03-23T20:01:16.508077",
     "status": "completed"
    },
    "tags": []
   },
   "source": [
    "Print All Average Effects Identifiable by Conditioning"
   ]
  },
  {
   "cell_type": "code",
   "execution_count": null,
   "metadata": {
    "execution": {
     "iopub.execute_input": "2021-03-23T20:01:16.587126Z",
     "iopub.status.busy": "2021-03-23T20:01:16.585678Z",
     "iopub.status.idle": "2021-03-23T20:01:16.833308Z",
     "shell.execute_reply": "2021-03-23T20:01:16.831929Z"
    },
    "executionInfo": {
     "elapsed": 8334,
     "status": "aborted",
     "timestamp": 1658251931968,
     "user": {
      "displayName": "Jhon Kevin Flores Rojas",
      "userId": "10267608749788811245"
     },
     "user_tz": 300
    },
    "id": "VFaBQ5U8eBg8",
    "papermill": {
     "duration": 0.276963,
     "end_time": "2021-03-23T20:01:16.833583",
     "exception": false,
     "start_time": "2021-03-23T20:01:16.556620",
     "status": "completed"
    },
    "tags": [],
    "vscode": {
     "languageId": "r"
    }
   },
   "outputs": [],
   "source": [
    "for( n in names(G) ){\n",
    "    for( m in children(G,n) ){\n",
    "        a <- adjustmentSets( G, n, m )\n",
    "        if( length(a) > 0 ){\n",
    "            cat(\"The effect \",n,\"->\",m,\n",
    "                \" is identifiable by controlling for:\\n\",sep=\"\")\n",
    "            print( a, prefix=\" * \" )\n",
    "        }\n",
    "    }\n",
    "}"
   ]
  },
  {
   "cell_type": "markdown",
   "metadata": {
    "id": "WHvWN-XSeBg8",
    "papermill": {
     "duration": 0.023994,
     "end_time": "2021-03-23T20:01:16.884314",
     "exception": false,
     "start_time": "2021-03-23T20:01:16.860320",
     "status": "completed"
    },
    "tags": []
   },
   "source": [
    "Equivalence Classes"
   ]
  },
  {
   "cell_type": "code",
   "execution_count": null,
   "metadata": {
    "execution": {
     "iopub.execute_input": "2021-03-23T20:01:16.938151Z",
     "iopub.status.busy": "2021-03-23T20:01:16.936490Z",
     "iopub.status.idle": "2021-03-23T20:01:17.037205Z",
     "shell.execute_reply": "2021-03-23T20:01:17.036039Z"
    },
    "executionInfo": {
     "elapsed": 8329,
     "status": "aborted",
     "timestamp": 1658251931968,
     "user": {
      "displayName": "Jhon Kevin Flores Rojas",
      "userId": "10267608749788811245"
     },
     "user_tz": 300
    },
    "id": "weOlpboKeBg9",
    "papermill": {
     "duration": 0.12902,
     "end_time": "2021-03-23T20:01:17.037348",
     "exception": false,
     "start_time": "2021-03-23T20:01:16.908328",
     "status": "completed"
    },
    "tags": [],
    "vscode": {
     "languageId": "r"
    }
   },
   "outputs": [],
   "source": [
    "P=equivalenceClass(G)\n",
    "plot(P)\n",
    "#equivalentDAGs(G,10)"
   ]
  },
  {
   "cell_type": "markdown",
   "metadata": {
    "id": "wMzzYVrpeBg9",
    "papermill": {
     "duration": 0.025971,
     "end_time": "2021-03-23T20:01:17.089682",
     "exception": false,
     "start_time": "2021-03-23T20:01:17.063711",
     "status": "completed"
    },
    "tags": []
   },
   "source": [
    "Next Consider the elemntary Triangular Model:\n",
    "\n",
    "$$\n",
    "D \\to Y, \\quad X \\to (D,Y).\n",
    "$$\n",
    "\n",
    "This model has not testable implications and is Markov-equivalent to any other DAG difined on names $(X, D, Y)$."
   ]
  },
  {
   "cell_type": "code",
   "execution_count": null,
   "metadata": {
    "execution": {
     "iopub.execute_input": "2021-03-23T20:01:17.148877Z",
     "iopub.status.busy": "2021-03-23T20:01:17.147109Z",
     "iopub.status.idle": "2021-03-23T20:01:17.651217Z",
     "shell.execute_reply": "2021-03-23T20:01:17.650122Z"
    },
    "executionInfo": {
     "elapsed": 8326,
     "status": "aborted",
     "timestamp": 1658251931969,
     "user": {
      "displayName": "Jhon Kevin Flores Rojas",
      "userId": "10267608749788811245"
     },
     "user_tz": 300
    },
    "id": "xIoZRWg7eBg_",
    "papermill": {
     "duration": 0.534599,
     "end_time": "2021-03-23T20:01:17.651356",
     "exception": false,
     "start_time": "2021-03-23T20:01:17.116757",
     "status": "completed"
    },
    "tags": [],
    "vscode": {
     "languageId": "r"
    }
   },
   "outputs": [],
   "source": [
    "G3<- dagitty('dag{\n",
    "D -> Y\n",
    "X -> D\n",
    "X -> Y\n",
    "}\n",
    "')\n",
    "\n",
    "ggdag(G3)+  theme_dag()\n",
    "\n",
    "print(impliedConditionalIndependencies(G3))\n",
    "\n"
   ]
  },
  {
   "cell_type": "code",
   "execution_count": null,
   "metadata": {
    "execution": {
     "iopub.execute_input": "2021-03-23T20:01:17.710660Z",
     "iopub.status.busy": "2021-03-23T20:01:17.709587Z",
     "iopub.status.idle": "2021-03-23T20:01:17.838089Z",
     "shell.execute_reply": "2021-03-23T20:01:17.837388Z"
    },
    "executionInfo": {
     "elapsed": 8325,
     "status": "aborted",
     "timestamp": 1658251931971,
     "user": {
      "displayName": "Jhon Kevin Flores Rojas",
      "userId": "10267608749788811245"
     },
     "user_tz": 300
    },
    "id": "Mg5FFyDCeBhA",
    "papermill": {
     "duration": 0.159885,
     "end_time": "2021-03-23T20:01:17.838324",
     "exception": false,
     "start_time": "2021-03-23T20:01:17.678439",
     "status": "completed"
    },
    "tags": [],
    "vscode": {
     "languageId": "r"
    }
   },
   "outputs": [],
   "source": [
    "P=equivalenceClass(G3)\n",
    "plot(P)\n",
    "equivalentDAGs(G3,10)\n",
    "\n"
   ]
  },
  {
   "cell_type": "markdown",
   "metadata": {
    "id": "64imZCl9eBhA",
    "papermill": {
     "duration": 0.029565,
     "end_time": "2021-03-23T20:01:17.897959",
     "exception": false,
     "start_time": "2021-03-23T20:01:17.868394",
     "status": "completed"
    },
    "tags": []
   },
   "source": [
    "## Example of Testing DAG Validity\n",
    "\n",
    "Next we simulate the data from a Linear SEM associated to DAG G, and perform a test of conditional independence restrictions, exploting linearity. \n",
    "\n",
    "\n",
    "There are many other options for nonlinear models and discrete categorical variabales. Type help(localTests). "
   ]
  },
  {
   "cell_type": "code",
   "execution_count": null,
   "metadata": {
    "execution": {
     "iopub.execute_input": "2021-03-23T20:01:17.962231Z",
     "iopub.status.busy": "2021-03-23T20:01:17.961061Z",
     "iopub.status.idle": "2021-03-23T20:01:18.159190Z",
     "shell.execute_reply": "2021-03-23T20:01:18.156637Z"
    },
    "executionInfo": {
     "elapsed": 8324,
     "status": "aborted",
     "timestamp": 1658251931972,
     "user": {
      "displayName": "Jhon Kevin Flores Rojas",
      "userId": "10267608749788811245"
     },
     "user_tz": 300
    },
    "id": "p9Si-rb8eBhB",
    "papermill": {
     "duration": 0.231975,
     "end_time": "2021-03-23T20:01:18.159373",
     "exception": false,
     "start_time": "2021-03-23T20:01:17.927398",
     "status": "completed"
    },
    "tags": [],
    "vscode": {
     "languageId": "r"
    }
   },
   "outputs": [],
   "source": [
    "set.seed(1)\n",
    "x <- simulateSEM(G)\n",
    "head(x)\n",
    "#cov(x)\n",
    "localTests(G, data = x, type = c(\"cis\"))\n",
    "\n"
   ]
  },
  {
   "cell_type": "markdown",
   "metadata": {
    "id": "clx6dwzWeBhB",
    "papermill": {
     "duration": 0.035006,
     "end_time": "2021-03-23T20:01:18.227478",
     "exception": false,
     "start_time": "2021-03-23T20:01:18.192472",
     "status": "completed"
    },
    "tags": []
   },
   "source": [
    "Next we replaced $D$ by $\\bar D$ generated differently:\n",
    "\n",
    "$$\n",
    "\\bar D= (D + Y)/2\n",
    "$$\n",
    "\n",
    "So basically $\\bar D$ is an average of $D$ and $Y$ generated by $D$.  We then test if the resulting collection of random variables satisifes conditional indepdendence restrictions, exploiting linearity.  We end up rejectiong these restrictions and thefore the validity of this model for the data generated in this way.  This makes sense, because the new data no longer obeys the previous DAG structure.\n",
    "\n"
   ]
  },
  {
   "cell_type": "code",
   "execution_count": null,
   "metadata": {
    "execution": {
     "iopub.execute_input": "2021-03-23T20:01:18.298690Z",
     "iopub.status.busy": "2021-03-23T20:01:18.296632Z",
     "iopub.status.idle": "2021-03-23T20:01:18.372871Z",
     "shell.execute_reply": "2021-03-23T20:01:18.371545Z"
    },
    "executionInfo": {
     "elapsed": 8322,
     "status": "aborted",
     "timestamp": 1658251931973,
     "user": {
      "displayName": "Jhon Kevin Flores Rojas",
      "userId": "10267608749788811245"
     },
     "user_tz": 300
    },
    "id": "ASHdiyT0eBhB",
    "papermill": {
     "duration": 0.113142,
     "end_time": "2021-03-23T20:01:18.373034",
     "exception": false,
     "start_time": "2021-03-23T20:01:18.259892",
     "status": "completed"
    },
    "tags": [],
    "vscode": {
     "languageId": "r"
    }
   },
   "outputs": [],
   "source": [
    "x.R = x\n",
    "x.R$D = (x$D+ x$Y)/2\n",
    "\n",
    "localTests(G, data = x.R, type = c(\"cis\"))\n",
    "\n"
   ]
  }
 ],
 "metadata": {
  "colab": {
   "collapsed_sections": [],
   "name": "17_notebook-dagitty.ipynb",
   "provenance": []
  },
  "kernelspec": {
   "display_name": "R",
   "language": "R",
   "name": "ir"
  },
  "language_info": {
   "codemirror_mode": "r",
   "file_extension": ".r",
   "mimetype": "text/x-r-source",
   "name": "R",
   "pygments_lexer": "r",
   "version": "4.2.1"
  },
  "papermill": {
   "default_parameters": {},
   "duration": 37.733589,
   "end_time": "2021-03-23T20:01:18.516130",
   "environment_variables": {},
   "exception": null,
   "input_path": "__notebook__.ipynb",
   "output_path": "__notebook__.ipynb",
   "parameters": {},
   "start_time": "2021-03-23T20:00:40.782541",
   "version": "2.2.2"
  }
 },
 "nbformat": 4,
 "nbformat_minor": 4
}
