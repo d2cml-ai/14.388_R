{
 "cells": [
  {
   "cell_type": "markdown",
   "metadata": {
    "id": "7k0kDBA0jxva",
    "papermill": {
     "duration": 0.011558,
     "end_time": "2021-04-20T21:06:30.038601",
     "exception": false,
     "start_time": "2021-04-20T21:06:30.027043",
     "status": "completed"
    },
    "tags": []
   },
   "source": [
    "# Debiased ML for Partially Linear Model in R\n"
   ]
  },
  {
   "cell_type": "code",
   "execution_count": 1,
   "metadata": {
    "_execution_state": "idle",
    "_uuid": "051d70d956493feee0c6d64651c6a088724dca2a",
    "colab": {
     "base_uri": "https://localhost:8080/"
    },
    "execution": {
     "iopub.execute_input": "2021-04-20T21:06:30.088435Z",
     "iopub.status.busy": "2021-04-20T21:06:30.086566Z",
     "iopub.status.idle": "2021-04-20T21:06:55.456113Z",
     "shell.execute_reply": "2021-04-20T21:06:55.454477Z"
    },
    "executionInfo": {
     "elapsed": 484408,
     "status": "ok",
     "timestamp": 1658253230515,
     "user": {
      "displayName": "Jhon Kevin Flores Rojas",
      "userId": "10267608749788811245"
     },
     "user_tz": 300
    },
    "id": "ov4DhZQ5jxve",
    "outputId": "0afc2305-7cbb-4043-ae2a-614a832b12ab",
    "papermill": {
     "duration": 25.408317,
     "end_time": "2021-04-20T21:06:55.456487",
     "exception": false,
     "start_time": "2021-04-20T21:06:30.048170",
     "status": "completed"
    },
    "tags": [],
    "vscode": {
     "languageId": "r"
    }
   },
   "outputs": [
    {
     "name": "stderr",
     "output_type": "stream",
     "text": [
      "Installing package into ‘/usr/local/lib/R/site-library’\n",
      "(as ‘lib’ is unspecified)\n",
      "\n",
      "also installing the dependencies ‘Rcpp’, ‘V8’\n",
      "\n",
      "\n",
      "Installing package into ‘/usr/local/lib/R/site-library’\n",
      "(as ‘lib’ is unspecified)\n",
      "\n",
      "also installing the dependencies ‘tweenr’, ‘polyclip’, ‘RcppEigen’, ‘gridExtra’, ‘RcppArmadillo’, ‘ggforce’, ‘viridis’, ‘graphlayouts’, ‘ggraph’, ‘ggrepel’, ‘igraph’, ‘tidygraph’\n",
      "\n",
      "\n",
      "\n",
      "Attaching package: ‘ggdag’\n",
      "\n",
      "\n",
      "The following object is masked from ‘package:stats’:\n",
      "\n",
      "    filter\n",
      "\n",
      "\n"
     ]
    }
   ],
   "source": [
    "#install and load package\n",
    "\n",
    "install.packages(\"dagitty\")\n",
    "install.packages(\"ggdag\")\n",
    "library(dagitty)\n",
    "library(ggdag)\n"
   ]
  },
  {
   "cell_type": "markdown",
   "metadata": {
    "id": "yWRX9X1bjxvi",
    "papermill": {
     "duration": 0.010708,
     "end_time": "2021-04-20T21:06:55.479480",
     "exception": false,
     "start_time": "2021-04-20T21:06:55.468772",
     "status": "completed"
    },
    "tags": []
   },
   "source": [
    "Graphs for 401(K) Analsyis\n"
   ]
  },
  {
   "cell_type": "markdown",
   "metadata": {
    "id": "9BxAOxwijxvk",
    "papermill": {
     "duration": 0.010554,
     "end_time": "2021-04-20T21:06:55.500684",
     "exception": false,
     "start_time": "2021-04-20T21:06:55.490130",
     "status": "completed"
    },
    "tags": []
   },
   "source": [
    "Here we have\n",
    "  - $Y$ -- net financial assets;\n",
    "  - $X$ -- worker characteristics (income, family size, other retirement plans; see lecture notes for details);\n",
    "  - $F$ -- latent (unobserved) firm characteristics\n",
    "  - $D$ -- 401(K) eligibility, deterimined by $F$ and $X$"
   ]
  },
  {
   "cell_type": "markdown",
   "metadata": {
    "id": "iOKA0iIjjxvm",
    "papermill": {
     "duration": 0.010886,
     "end_time": "2021-04-20T21:06:55.522231",
     "exception": false,
     "start_time": "2021-04-20T21:06:55.511345",
     "status": "completed"
    },
    "tags": []
   },
   "source": [
    "## State one graph (where F determines X) and plot it"
   ]
  },
  {
   "cell_type": "code",
   "execution_count": 2,
   "metadata": {
    "colab": {
     "base_uri": "https://localhost:8080/",
     "height": 437
    },
    "execution": {
     "iopub.execute_input": "2021-04-20T21:06:55.576427Z",
     "iopub.status.busy": "2021-04-20T21:06:55.547730Z",
     "iopub.status.idle": "2021-04-20T21:06:56.492498Z",
     "shell.execute_reply": "2021-04-20T21:06:56.492869Z"
    },
    "executionInfo": {
     "elapsed": 1017,
     "status": "ok",
     "timestamp": 1658253231526,
     "user": {
      "displayName": "Jhon Kevin Flores Rojas",
      "userId": "10267608749788811245"
     },
     "user_tz": 300
    },
    "id": "8cFtLKE2jxvn",
    "outputId": "b0ce6ceb-b605-456c-8a20-541cb7a9b349",
    "papermill": {
     "duration": 0.960286,
     "end_time": "2021-04-20T21:06:56.493094",
     "exception": false,
     "start_time": "2021-04-20T21:06:55.532808",
     "status": "completed"
    },
    "tags": [],
    "vscode": {
     "languageId": "r"
    }
   },
   "outputs": [
    {
     "data": {
      "image/png": "[encoded data removed]",
      "text/plain": [
       "plot without title"
      ]
     },
     "metadata": {
      "image/png": {
       "height": 420,
       "width": 420
      }
     },
     "output_type": "display_data"
    }
   ],
   "source": [
    "#generate a DAGs and plot them\n",
    "\n",
    "G1 = dagitty('dag{\n",
    "Y [outcome,pos=\"4, 0\"]\n",
    "D [exposure,pos=\"0, 0\"]\n",
    "X [confounder, pos=\"2,-2\"]\n",
    "F [uobserved, pos=\"0, -1\"]\n",
    "D -> Y\n",
    "X -> D\n",
    "F -> X\n",
    "F -> D\n",
    "X -> Y}')\n",
    "\n",
    "\n",
    "ggdag(G1)+  theme_dag()"
   ]
  },
  {
   "cell_type": "markdown",
   "metadata": {
    "id": "LjODKlGQjxvp",
    "papermill": {
     "duration": 0.011939,
     "end_time": "2021-04-20T21:06:56.517753",
     "exception": false,
     "start_time": "2021-04-20T21:06:56.505814",
     "status": "completed"
    },
    "tags": []
   },
   "source": [
    "List minimal adjustment sets to identify causal effecs $D \\to Y$\n",
    "\n"
   ]
  },
  {
   "cell_type": "code",
   "execution_count": 3,
   "metadata": {
    "colab": {
     "base_uri": "https://localhost:8080/",
     "height": 34
    },
    "execution": {
     "iopub.execute_input": "2021-04-20T21:06:56.546113Z",
     "iopub.status.busy": "2021-04-20T21:06:56.544950Z",
     "iopub.status.idle": "2021-04-20T21:06:56.576357Z",
     "shell.execute_reply": "2021-04-20T21:06:56.575272Z"
    },
    "executionInfo": {
     "elapsed": 82,
     "status": "ok",
     "timestamp": 1658253231532,
     "user": {
      "displayName": "Jhon Kevin Flores Rojas",
      "userId": "10267608749788811245"
     },
     "user_tz": 300
    },
    "id": "QBDJATXpjxvq",
    "outputId": "588b7817-189c-41de-ccb1-1a60c9134a1e",
    "papermill": {
     "duration": 0.047008,
     "end_time": "2021-04-20T21:06:56.576507",
     "exception": false,
     "start_time": "2021-04-20T21:06:56.529499",
     "status": "completed"
    },
    "tags": [],
    "vscode": {
     "languageId": "r"
    }
   },
   "outputs": [
    {
     "data": {
      "text/plain": [
       "{ X }"
      ]
     },
     "metadata": {},
     "output_type": "display_data"
    }
   ],
   "source": [
    "adjustmentSets( G1, \"D\", \"Y\",effect=\"total\" ) "
   ]
  },
  {
   "cell_type": "markdown",
   "metadata": {
    "id": "oBWVHCyYjxvs",
    "papermill": {
     "duration": 0.012126,
     "end_time": "2021-04-20T21:06:56.600815",
     "exception": false,
     "start_time": "2021-04-20T21:06:56.588689",
     "status": "completed"
    },
    "tags": []
   },
   "source": [
    "What is the underlying principle? \n",
    "\n",
    "Here condition on X blocks backdoor paths from Y to D (Pearl).  Dagitty correctly finds X (and does many more correct decisions, when we consider more elaborate structures. Why do we want to consider more elaborate structures? The very empirical problem requires us to do so!"
   ]
  },
  {
   "cell_type": "markdown",
   "metadata": {
    "id": "rfTZEczJjxvu",
    "papermill": {
     "duration": 0.012073,
     "end_time": "2021-04-20T21:06:56.625022",
     "exception": false,
     "start_time": "2021-04-20T21:06:56.612949",
     "status": "completed"
    },
    "tags": []
   },
   "source": [
    "Another Graph (wherere $X$ determine $F$):"
   ]
  },
  {
   "cell_type": "code",
   "execution_count": 4,
   "metadata": {
    "colab": {
     "base_uri": "https://localhost:8080/",
     "height": 437
    },
    "execution": {
     "iopub.execute_input": "2021-04-20T21:06:56.654884Z",
     "iopub.status.busy": "2021-04-20T21:06:56.653684Z",
     "iopub.status.idle": "2021-04-20T21:06:57.016513Z",
     "shell.execute_reply": "2021-04-20T21:06:57.017098Z"
    },
    "executionInfo": {
     "elapsed": 73,
     "status": "ok",
     "timestamp": 1658253231534,
     "user": {
      "displayName": "Jhon Kevin Flores Rojas",
      "userId": "10267608749788811245"
     },
     "user_tz": 300
    },
    "id": "21M0VHwBjxvw",
    "outputId": "1dfda542-f6b4-4364-85e4-fd295a31f107",
    "papermill": {
     "duration": 0.380125,
     "end_time": "2021-04-20T21:06:57.017337",
     "exception": false,
     "start_time": "2021-04-20T21:06:56.637212",
     "status": "completed"
    },
    "tags": [],
    "vscode": {
     "languageId": "r"
    }
   },
   "outputs": [
    {
     "data": {
      "image/png": "[encoded data removed]",
      "text/plain": [
       "plot without title"
      ]
     },
     "metadata": {
      "image/png": {
       "height": 420,
       "width": 420
      }
     },
     "output_type": "display_data"
    }
   ],
   "source": [
    "#generate a couple of DAGs and plot them\n",
    "\n",
    "G2 = dagitty('dag{\n",
    "Y [outcome,pos=\"4, 0\"]\n",
    "D [exposure,pos=\"0, 0\"]\n",
    "X [confounder, pos=\"2,-2\"]\n",
    "F [uobserved, pos=\"0, -1\"]\n",
    "D -> Y\n",
    "X -> D\n",
    "X -> F\n",
    "F -> D\n",
    "X -> Y}')\n",
    "\n",
    "\n",
    "ggdag(G2)+  theme_dag()"
   ]
  },
  {
   "cell_type": "code",
   "execution_count": 5,
   "metadata": {
    "colab": {
     "base_uri": "https://localhost:8080/",
     "height": 34
    },
    "execution": {
     "iopub.execute_input": "2021-04-20T21:06:57.060217Z",
     "iopub.status.busy": "2021-04-20T21:06:57.058501Z",
     "iopub.status.idle": "2021-04-20T21:06:57.094192Z",
     "shell.execute_reply": "2021-04-20T21:06:57.092241Z"
    },
    "executionInfo": {
     "elapsed": 67,
     "status": "ok",
     "timestamp": 1658253231538,
     "user": {
      "displayName": "Jhon Kevin Flores Rojas",
      "userId": "10267608749788811245"
     },
     "user_tz": 300
    },
    "id": "PZ8NhHYDjxv2",
    "outputId": "5b64902c-317b-4120-cbde-dfc1a10a3cbc",
    "papermill": {
     "duration": 0.056051,
     "end_time": "2021-04-20T21:06:57.094387",
     "exception": false,
     "start_time": "2021-04-20T21:06:57.038336",
     "status": "completed"
    },
    "tags": [],
    "vscode": {
     "languageId": "r"
    }
   },
   "outputs": [
    {
     "data": {
      "text/plain": [
       "{ X }"
      ]
     },
     "metadata": {},
     "output_type": "display_data"
    }
   ],
   "source": [
    "adjustmentSets( G2, \"D\", \"Y\", effect=\"total\" )\n"
   ]
  },
  {
   "cell_type": "markdown",
   "metadata": {
    "id": "ikA_XqXKjxv3",
    "papermill": {
     "duration": 0.014464,
     "end_time": "2021-04-20T21:06:57.130426",
     "exception": false,
     "start_time": "2021-04-20T21:06:57.115962",
     "status": "completed"
    },
    "tags": []
   },
   "source": [
    "One more graph (encompassing previous ones), where (F, X) are jointly determined by latent factors $A$. We can allow in fact the whole triple (D, F, X) to be jointly determined by latent factors $A$."
   ]
  },
  {
   "cell_type": "markdown",
   "metadata": {
    "id": "42yjreb4jxv4",
    "papermill": {
     "duration": 0.014208,
     "end_time": "2021-04-20T21:06:57.159030",
     "exception": false,
     "start_time": "2021-04-20T21:06:57.144822",
     "status": "completed"
    },
    "tags": []
   },
   "source": [
    "This is much more realistic graph to consider."
   ]
  },
  {
   "cell_type": "code",
   "execution_count": 6,
   "metadata": {
    "colab": {
     "base_uri": "https://localhost:8080/",
     "height": 454
    },
    "execution": {
     "iopub.execute_input": "2021-04-20T21:06:57.194754Z",
     "iopub.status.busy": "2021-04-20T21:06:57.192851Z",
     "iopub.status.idle": "2021-04-20T21:06:57.567286Z",
     "shell.execute_reply": "2021-04-20T21:06:57.565727Z"
    },
    "executionInfo": {
     "elapsed": 627,
     "status": "ok",
     "timestamp": 1658253232104,
     "user": {
      "displayName": "Jhon Kevin Flores Rojas",
      "userId": "10267608749788811245"
     },
     "user_tz": 300
    },
    "id": "qTBpCilFjxv5",
    "outputId": "eef70a12-870f-452d-c115-b2e63cf629e7",
    "papermill": {
     "duration": 0.393034,
     "end_time": "2021-04-20T21:06:57.567429",
     "exception": false,
     "start_time": "2021-04-20T21:06:57.174395",
     "status": "completed"
    },
    "tags": [],
    "vscode": {
     "languageId": "r"
    }
   },
   "outputs": [
    {
     "data": {
      "text/plain": [
       "{ X }"
      ]
     },
     "metadata": {},
     "output_type": "display_data"
    },
    {
     "data": {
      "image/png": "[encoded data removed]",
      "text/plain": [
       "plot without title"
      ]
     },
     "metadata": {
      "image/png": {
       "height": 420,
       "width": 420
      }
     },
     "output_type": "display_data"
    }
   ],
   "source": [
    "G3 = dagitty('dag{\n",
    "Y [outcome,pos=\"4, 0\"]\n",
    "D [exposure,pos=\"0, 0\"]\n",
    "X [confounder, pos=\"2,-2\"]\n",
    "F [unobserved, pos=\"0, -1\"]\n",
    "A [unobserved, pos=\"-1, -1\"]\n",
    "D -> Y\n",
    "X -> D\n",
    "F -> D\n",
    "A -> F\n",
    "A -> X\n",
    "A -> D\n",
    "X -> Y}')\n",
    "\n",
    "adjustmentSets( G3, \"D\", \"Y\", effect=\"total\"  ) \n",
    "\n",
    "ggdag(G3)+  theme_dag()"
   ]
  },
  {
   "cell_type": "markdown",
   "metadata": {
    "id": "tSu3HsF0jxv6",
    "papermill": {
     "duration": 0.016255,
     "end_time": "2021-04-20T21:06:57.599705",
     "exception": false,
     "start_time": "2021-04-20T21:06:57.583450",
     "status": "completed"
    },
    "tags": []
   },
   "source": [
    "Threat to Idenitification: What if $F$ also directly affects $Y$? (Note that there are no valid adjustment sets in this case)"
   ]
  },
  {
   "cell_type": "code",
   "execution_count": 7,
   "metadata": {
    "colab": {
     "base_uri": "https://localhost:8080/",
     "height": 437
    },
    "execution": {
     "iopub.execute_input": "2021-04-20T21:06:57.637392Z",
     "iopub.status.busy": "2021-04-20T21:06:57.635609Z",
     "iopub.status.idle": "2021-04-20T21:06:58.024479Z",
     "shell.execute_reply": "2021-04-20T21:06:58.022247Z"
    },
    "executionInfo": {
     "elapsed": 622,
     "status": "ok",
     "timestamp": 1658253232723,
     "user": {
      "displayName": "Jhon Kevin Flores Rojas",
      "userId": "10267608749788811245"
     },
     "user_tz": 300
    },
    "id": "N7KW2Pc3jxv7",
    "outputId": "862d80b8-6693-43c0-de55-fd9621bc82d9",
    "papermill": {
     "duration": 0.40878,
     "end_time": "2021-04-20T21:06:58.024720",
     "exception": false,
     "start_time": "2021-04-20T21:06:57.615940",
     "status": "completed"
    },
    "tags": [],
    "vscode": {
     "languageId": "r"
    }
   },
   "outputs": [
    {
     "data": {
      "image/png": "[encoded data removed]",
      "text/plain": [
       "plot without title"
      ]
     },
     "metadata": {
      "image/png": {
       "height": 420,
       "width": 420
      }
     },
     "output_type": "display_data"
    }
   ],
   "source": [
    "G4 = dagitty('dag{\n",
    "Y [outcome,pos=\"4, 0\"]\n",
    "D [exposure,pos=\"0, 0\"]\n",
    "X [confounder, pos=\"2,-2\"]\n",
    "F [unobserved, pos=\"0, -1\"]\n",
    "A [unobserved, pos=\"-1, -1\"]\n",
    "D -> Y\n",
    "X -> D\n",
    "F -> D\n",
    "A -> F\n",
    "A -> X\n",
    "A -> D\n",
    "F -> Y\n",
    "X -> Y}')\n",
    "\n",
    "\n",
    "ggdag(G4)+  theme_dag()"
   ]
  },
  {
   "cell_type": "code",
   "execution_count": 8,
   "metadata": {
    "execution": {
     "iopub.execute_input": "2021-04-20T21:06:58.065152Z",
     "iopub.status.busy": "2021-04-20T21:06:58.063890Z",
     "iopub.status.idle": "2021-04-20T21:06:58.089473Z",
     "shell.execute_reply": "2021-04-20T21:06:58.088587Z"
    },
    "executionInfo": {
     "elapsed": 20,
     "status": "ok",
     "timestamp": 1658253232725,
     "user": {
      "displayName": "Jhon Kevin Flores Rojas",
      "userId": "10267608749788811245"
     },
     "user_tz": 300
    },
    "id": "FsmiKVJgjxv8",
    "papermill": {
     "duration": 0.046811,
     "end_time": "2021-04-20T21:06:58.089616",
     "exception": false,
     "start_time": "2021-04-20T21:06:58.042805",
     "status": "completed"
    },
    "tags": [],
    "vscode": {
     "languageId": "r"
    }
   },
   "outputs": [],
   "source": [
    "adjustmentSets( G4, \"D\", \"Y\",effect=\"total\"  )\n"
   ]
  },
  {
   "cell_type": "markdown",
   "metadata": {
    "id": "RwOdtO0Qjxv9",
    "papermill": {
     "duration": 0.017351,
     "end_time": "2021-04-20T21:06:58.124909",
     "exception": false,
     "start_time": "2021-04-20T21:06:58.107558",
     "status": "completed"
    },
    "tags": []
   },
   "source": [
    "Note that no output means that there is no valid adustment set (among observed variables)"
   ]
  },
  {
   "cell_type": "markdown",
   "metadata": {
    "id": "vXajmMJsjxv9",
    "papermill": {
     "duration": 0.017324,
     "end_time": "2021-04-20T21:06:58.159612",
     "exception": false,
     "start_time": "2021-04-20T21:06:58.142288",
     "status": "completed"
    },
    "tags": []
   },
   "source": [
    "## How can F affect Y directly? Is it reasonable?"
   ]
  },
  {
   "cell_type": "markdown",
   "metadata": {
    "id": "D6iBB1KQjxv-",
    "papermill": {
     "duration": 0.017002,
     "end_time": "2021-04-20T21:06:58.193722",
     "exception": false,
     "start_time": "2021-04-20T21:06:58.176720",
     "status": "completed"
    },
    "tags": []
   },
   "source": [
    "Introduce Match Amount $M$ (very important mediator, why mediator?). $M$ is not observed.  Luckily adjusting for $X$ still works if there is no $F \\to M$ arrow."
   ]
  },
  {
   "cell_type": "code",
   "execution_count": 9,
   "metadata": {
    "colab": {
     "base_uri": "https://localhost:8080/",
     "height": 454
    },
    "execution": {
     "iopub.execute_input": "2021-04-20T21:06:58.234225Z",
     "iopub.status.busy": "2021-04-20T21:06:58.232383Z",
     "iopub.status.idle": "2021-04-20T21:06:58.596392Z",
     "shell.execute_reply": "2021-04-20T21:06:58.594515Z"
    },
    "executionInfo": {
     "elapsed": 21,
     "status": "ok",
     "timestamp": 1658253232726,
     "user": {
      "displayName": "Jhon Kevin Flores Rojas",
      "userId": "10267608749788811245"
     },
     "user_tz": 300
    },
    "id": "m9DcPoJNjxv-",
    "outputId": "17bbbcb6-2c53-4130-ae9c-952be42ce891",
    "papermill": {
     "duration": 0.385562,
     "end_time": "2021-04-20T21:06:58.596529",
     "exception": false,
     "start_time": "2021-04-20T21:06:58.210967",
     "status": "completed"
    },
    "tags": [],
    "vscode": {
     "languageId": "r"
    }
   },
   "outputs": [
    {
     "name": "stdout",
     "output_type": "stream",
     "text": [
      "{ X }\n"
     ]
    },
    {
     "data": {
      "image/png": "[encoded data removed]",
      "text/plain": [
       "plot without title"
      ]
     },
     "metadata": {
      "image/png": {
       "height": 420,
       "width": 420
      }
     },
     "output_type": "display_data"
    }
   ],
   "source": [
    "G5 = dagitty('dag{\n",
    "Y [outcome,pos=\"4, 0\"]\n",
    "D [exposure,pos=\"0, 0\"]\n",
    "X [confounder, pos=\"2,-2\"]\n",
    "F [unobserved, pos=\"0, -1\"]\n",
    "A [unobserved, pos=\"-1, -1\"]\n",
    "M [unobserved, pos=\"2, -.5\"]\n",
    "D -> Y\n",
    "X -> D\n",
    "F -> D\n",
    "A -> F\n",
    "A -> X\n",
    "A -> D\n",
    "D -> M\n",
    "M -> Y\n",
    "X -> M\n",
    "X -> Y}')\n",
    "\n",
    "print( adjustmentSets( G5, \"D\", \"Y\",effect=\"total\"  ) )\n",
    "\n",
    "ggdag(G5)+  theme_dag()"
   ]
  },
  {
   "cell_type": "markdown",
   "metadata": {
    "id": "XvktVUQijxv_",
    "papermill": {
     "duration": 0.019066,
     "end_time": "2021-04-20T21:06:58.635211",
     "exception": false,
     "start_time": "2021-04-20T21:06:58.616145",
     "status": "completed"
    },
    "tags": []
   },
   "source": [
    "If  there is $F \\to M$ arrow, then adjusting for $X$ is not sufficient."
   ]
  },
  {
   "cell_type": "code",
   "execution_count": 10,
   "metadata": {
    "colab": {
     "base_uri": "https://localhost:8080/",
     "height": 437
    },
    "execution": {
     "iopub.execute_input": "2021-04-20T21:06:58.679151Z",
     "iopub.status.busy": "2021-04-20T21:06:58.677648Z",
     "iopub.status.idle": "2021-04-20T21:06:59.019377Z",
     "shell.execute_reply": "2021-04-20T21:06:59.018555Z"
    },
    "executionInfo": {
     "elapsed": 431,
     "status": "ok",
     "timestamp": 1658253233141,
     "user": {
      "displayName": "Jhon Kevin Flores Rojas",
      "userId": "10267608749788811245"
     },
     "user_tz": 300
    },
    "id": "Q7JwvNvVjxv_",
    "outputId": "de9e2d93-3766-49aa-e057-b01aec9933f5",
    "papermill": {
     "duration": 0.365274,
     "end_time": "2021-04-20T21:06:59.019538",
     "exception": false,
     "start_time": "2021-04-20T21:06:58.654264",
     "status": "completed"
    },
    "tags": [],
    "vscode": {
     "languageId": "r"
    }
   },
   "outputs": [
    {
     "data": {
      "image/png": "[encoded data removed]",
      "text/plain": [
       "plot without title"
      ]
     },
     "metadata": {
      "image/png": {
       "height": 420,
       "width": 420
      }
     },
     "output_type": "display_data"
    }
   ],
   "source": [
    "G6 = dagitty('dag{\n",
    "Y [outcome,pos=\"4, 0\"]\n",
    "D [exposure,pos=\"0, 0\"]\n",
    "X [confounder, pos=\"2,-2\"]\n",
    "F [unobserved, pos=\"0, -1\"]\n",
    "A [unobserved, pos=\"-1, -1\"]\n",
    "M [uobserved, pos=\"2, -.5\"]\n",
    "D -> Y\n",
    "X -> D\n",
    "F -> D\n",
    "A -> F\n",
    "A -> X\n",
    "D -> M\n",
    "F -> M\n",
    "A -> D\n",
    "M -> Y\n",
    "X -> M\n",
    "X -> Y}')\n",
    "\n",
    "print( adjustmentSets( G6, \"D\", \"Y\" ),effect=\"total\"  )\n",
    "\n",
    "ggdag(G6)+  theme_dag()"
   ]
  }
 ],
 "metadata": {
  "colab": {
   "collapsed_sections": [],
   "name": "22_identification-analysis-of-401-k-example-w-dags.ipynb",
   "provenance": []
  },
  "kernelspec": {
   "display_name": "R",
   "language": "R",
   "name": "ir"
  },
  "language_info": {
   "codemirror_mode": "r",
   "file_extension": ".r",
   "mimetype": "text/x-r-source",
   "name": "R",
   "pygments_lexer": "r",
   "version": "4.2.1"
  },
  "papermill": {
   "default_parameters": {},
   "duration": 32.278732,
   "end_time": "2021-04-20T21:06:59.193141",
   "environment_variables": {},
   "exception": null,
   "input_path": "__notebook__.ipynb",
   "output_path": "__notebook__.ipynb",
   "parameters": {},
   "start_time": "2021-04-20T21:06:26.914409",
   "version": "2.2.2"
  }
 },
 "nbformat": 4,
 "nbformat_minor": 4
}
